{
 "cells": [
  {
   "cell_type": "markdown",
   "metadata": {},
   "source": [
    "# Authors: Andrea ZANON, Hamza ZERHOUNI"
   ]
  },
  {
   "cell_type": "markdown",
   "metadata": {},
   "source": [
    "# Problems\n",
    "\n",
    "## There are still infeasibilities\n",
    "\n",
    "consider how big groups must be\n",
    "could assume that we give teams a 1 week rest period... but that's not realistic\n",
    "\n",
    "Andrea's idea:\n",
    "optimize 4 weeks at a time for all teams\n",
    "\n",
    "Hamza's improvement:\n",
    "optimize 4 weeks at a time, for 4 groups with 5 teams in each group\n",
    "first time pick random groups, from the second time solve an optimization problem to assign teams to groups under the constraint that tems that already played together cannot be on the same group\n",
    "(are we sure that we are always able to find such groups? maybe we should create them at the same time initially to make sure they exist)"
   ]
  },
  {
   "cell_type": "code",
   "execution_count": 1,
   "metadata": {},
   "outputs": [],
   "source": [
    "using DataFrames\n",
    "using JuMP, Gurobi\n",
    "using DataFrames"
   ]
  },
  {
   "cell_type": "markdown",
   "metadata": {},
   "source": [
    "# Single league that scales"
   ]
  },
  {
   "cell_type": "code",
   "execution_count": 2,
   "metadata": {},
   "outputs": [],
   "source": [
    "# number of teams\n",
    "N = 20\n",
    "\n",
    "# number of weeks\n",
    "W = N-1\n",
    "# number of days per weeks\n",
    "D = 7; # we suppose week starts on tuesday, beacause monday is actually part of the previous football week\n"
   ]
  },
  {
   "cell_type": "markdown",
   "metadata": {},
   "source": [
    "We define the matrix $C \\in R^{TxT}$, with $C_{ij} = \\frac{1}{j-i}$"
   ]
  },
  {
   "cell_type": "code",
   "execution_count": 6,
   "metadata": {},
   "outputs": [
    {
     "data": {
      "text/plain": [
       "GetC (generic function with 1 method)"
      ]
     },
     "metadata": {},
     "output_type": "display_data"
    }
   ],
   "source": [
    "function GetC()\n",
    "    C = zeros((D*W, D*W))\n",
    "\n",
    "    for t in 1:(W*D)\n",
    "        for t_ in 1:(W*D)\n",
    "            if t_ > t\n",
    "                C[t,t_] = 1/sqrt(t_ - t)\n",
    "            else\n",
    "                C[t, t_] = 99999999999\n",
    "            end\n",
    "        end\n",
    "    end\n",
    "\n",
    "    return C\n",
    "end"
   ]
  },
  {
   "cell_type": "code",
   "execution_count": 9,
   "metadata": {},
   "outputs": [],
   "source": [
    "GetC();"
   ]
  },
  {
   "cell_type": "markdown",
   "metadata": {},
   "source": [
    "Simple model, we are considering single league and making assumption that each team pla"
   ]
  },
  {
   "cell_type": "code",
   "execution_count": 10,
   "metadata": {},
   "outputs": [
    {
     "data": {
      "text/plain": [
       "calendar_week (generic function with 1 method)"
      ]
     },
     "metadata": {},
     "output_type": "display_data"
    }
   ],
   "source": [
    "function calendar_week(x,week)\n",
    "    df = DataFrame(Player=1:N, Monday=0.0, Tuesday=0.0, Wednesday=0.0, Thursday=0.0, Friday=0.0, Saturday=0.0, Sunday=0.0)\n",
    "    for i=1:N\n",
    "        for d=1:D\n",
    "            for j=1:N\n",
    "                if x[i,j,week,d] == 1.0\n",
    "                    if d+2 == 9   \n",
    "                        df[i, 2] = j\n",
    "                    else\n",
    "                        df[i,d+2] = j\n",
    "                    end\n",
    "                end\n",
    "            end\n",
    "        end\n",
    "    end\n",
    "    return df\n",
    "end"
   ]
  },
  {
   "cell_type": "code",
   "execution_count": 42,
   "metadata": {},
   "outputs": [
    {
     "data": {
      "text/plain": [
       "GamesWithinGroups (generic function with 1 method)"
      ]
     },
     "metadata": {},
     "output_type": "display_data"
    }
   ],
   "source": [
    "function GamesWithinGroups(N_in, N_end, w_in, w_end, D)\n",
    "    \n",
    "    # create model\n",
    "    model = Model(Gurobi.Optimizer)\n",
    "    \n",
    "    set_silent(model)\n",
    "\n",
    "    # get C\n",
    "    C = GetC()\n",
    "\n",
    "    # VARIABLES\n",
    "\n",
    "    # 1 if team i plays team j on day d of week w, 0 otherwise\n",
    "    @variable(model, x[i = N_in:N_end, j = N_in:N_end, w = w_in:w_end, d = 1:D], Bin)\n",
    "    @variable(model, a[i = N_in:N_end, j = N_in:N_end, w = w_in:w_end, d = 1:D], Bin)\n",
    "\n",
    "\n",
    "    # OBJECTIVE\n",
    "\n",
    "    # remember week begins on tuesday, this is why w_ goes from w+1\n",
    "    @objective(model, Min, sum(C[7 * (w-1) + d, 7 * (w) + d_]* a[i, j, w, d] for i = N_in:N_end, \n",
    "        j = N_in:N_end, k = N_in:N_end, w = w_in:(w_end-1), d = 1:D, d_ = 1:D))\n",
    "\n",
    "    # CONSTRAINTS\n",
    "\n",
    "    # linearize objective function\n",
    "    for i = N_in:N_end, j = N_in:N_end, k = N_in:N_end, w = w_in:(w_end-1), d = 1:D, d_ = 1:D\n",
    "        @constraint(model, a[i,j,w,d] <= x[i,j,w,d])\n",
    "        @constraint(model, a[i,j,w,d] <= x[i,k,w+1,d_])\n",
    "        @constraint(model, a[i,j,w,d] >= x[i,j,w,d] + x[i,k,w+1,d_] - 1)\n",
    "    end\n",
    "\n",
    "    # each team can never play itself\n",
    "    @constraint(model, [i = N_in:N_end, w = w_in:w_end, d = 1:D], x[i, i, w, d] <= 0)\n",
    "\n",
    "    # if team A plays team B, then team B plays team A\n",
    "    @constraint(model, [i = N_in:N_end, j = N_in:N_end, w = w_in:w_end, d = 1:D], x[i, j, w, d] == x[j, i, w, d])\n",
    "\n",
    "    # can't play on tuesday (day 1), wednesday (day 2), thursday (day 3)\n",
    "    @constraint(model, [i = N_in:N_end, j = N_in:N_end, w = w_in:w_end, d = 1:3], x[i, j, w, d] <= 0)\n",
    "\n",
    "    # each team plays at most one team per week\n",
    "    @constraint(model, [i = N_in:N_end, j = N_in:N_end, w = w_in:w_end], sum(x[i, j, w, d] for d = 1:D) <= 1)\n",
    "\n",
    "    # each team plays exactly N_end - N_in games\n",
    "    @constraint(model, [i = N_in:N_end], sum(x[i, j, w, d] for j = N_in:N_end, w = w_in:w_end, d = 1:D) >= N_end - N_in)\n",
    "\n",
    "    # all teams need to play each other exactly once\n",
    "    for i = N_in:N_end\n",
    "        for j = N_in:N_end\n",
    "            if i != j\n",
    "                @constraint(model, sum(x[i, j, w, d] for d = 1:D, w = w_in:w_end) == 1)\n",
    "            end\n",
    "        end\n",
    "    end\n",
    "    \n",
    "    # solve model\n",
    "    optimize!(model)\n",
    "\n",
    "    return value.(x)\n",
    "end"
   ]
  },
  {
   "cell_type": "code",
   "execution_count": 43,
   "metadata": {},
   "outputs": [
    {
     "name": "stdout",
     "output_type": "stream",
     "text": [
      "Set parameter Username\n",
      "Academic license - for non-commercial use only - expires 2023-08-17\n"
     ]
    }
   ],
   "source": [
    "X = GamesWithinGroups(1, 5, 1, 4, 7);"
   ]
  },
  {
   "cell_type": "code",
   "execution_count": null,
   "metadata": {},
   "outputs": [],
   "source": []
  },
  {
   "cell_type": "code",
   "execution_count": 23,
   "metadata": {},
   "outputs": [
    {
     "name": "stdout",
     "output_type": "stream",
     "text": [
      "Team 1 plays team 2 on day 4 of week 1\n",
      "Team 1 plays team 3 on day 7 of week 1\n",
      "Team 1 plays team 4 on day 4 of week 4\n",
      "Team 1 plays team 5 on day 4 of week 1\n",
      "Team 2 plays team 1 on day 4 of week 1\n",
      "Team 2 plays team 3 on day 7 of week 1\n",
      "Team 2 plays team 4 on day 4 of week 1\n",
      "Team 2 plays team 5 on day 5 of week 1\n",
      "Team 3 plays team 1 on day 7 of week 1\n",
      "Team 3 plays team 2 on day 7 of week 1\n",
      "Team 3 plays team 4 on day 4 of week 4\n",
      "Team 3 plays team 5 on day 4 of week 1\n",
      "Team 4 plays team 1 on day 4 of week 4\n",
      "Team 4 plays team 2 on day 4 of week 1\n",
      "Team 4 plays team 3 on day 4 of week 4\n",
      "Team 4 plays team 5 on day 4 of week 1\n",
      "Team 5 plays team 1 on day 4 of week 1\n",
      "Team 5 plays team 2 on day 5 of week 1\n",
      "Team 5 plays team 3 on day 4 of week 1\n",
      "Team 5 plays team 4 on day 4 of week 1\n"
     ]
    }
   ],
   "source": [
    "for i = 1:5\n",
    "    for j = 1:5\n",
    "        for w = 1:4\n",
    "            for d = 1:7\n",
    "                if X[i, j, w, d] == 1.0\n",
    "                    println(\"Team \", i, \" plays team \", j, \" on day \", d, \" of week \", w)\n",
    "                end\n",
    "            end\n",
    "        end\n",
    "    end\n",
    "end"
   ]
  },
  {
   "cell_type": "code",
   "execution_count": 17,
   "metadata": {},
   "outputs": [
    {
     "data": {
      "text/plain": [
       "GamesBetweenGroups (generic function with 1 method)"
      ]
     },
     "execution_count": 17,
     "metadata": {},
     "output_type": "execute_result"
    }
   ],
   "source": [
    "# pass to functions: which teams i are within that group\n",
    "function GamesBetweenGroups(i_in, i_end, j_in, j_end, w_in, w_end, D)\n",
    "\n",
    "    # define model\n",
    "    model = Model(Gurobi.Optimizer)\n",
    "\n",
    "    # get C\n",
    "    C = GetC()\n",
    "\n",
    "    # take slicing of matrix C corresponding to the initial day and end day\n",
    "    # c_in = 7 * (w_in - 1) + 1 # initial day (d = 1) of week w_in\n",
    "    # c_end = 7 * (w_end - 1) + D # end day (d = D) of week w_end\n",
    "    # C = C[c_in:c_end, c_in:c_end]\n",
    "\n",
    "    # VARIABLES\n",
    "\n",
    "    # 1 if team i plays team j on day d of week w, 0 otherwise\n",
    "    @variable(model, x[i = i_in:i_end, j = j_in:j_end, w = w_in:w_end, d = 1:D], Bin)\n",
    "    @variable(model, a[i = i_in:i_end, j = j_in:j_end, w = w_in:w_end, d = 1:D], Bin) # to linearize objective function\n",
    "\n",
    "    # OBJECTIVE\n",
    "\n",
    "    # remember week begins on tuesday, this is why w_ goes from w+1\n",
    "    @objective(model, Min, sum(C[7 * (w-1) + d, 7 * w + d_]* a[i,j,w,d] for i in i_in:i_end, \n",
    "            j = j_in:j_end, k = j_in:j_end, w = w_in:(w_end-1), d = 1:D, d_ = 1:D))\n",
    "\n",
    "    # CONSTRAINTS\n",
    "    \n",
    "    # linearize objective function\n",
    "    for i = i_in:i_end, j = j_in:j_end, k = j_in:j_end, w = w_in:(w_end-1), d = 1:D, d_ = 1:D\n",
    "        @constraint(model, a[i,j,w,d] <= x[i,j,w,d])\n",
    "        @constraint(model, a[i,j,w,d] <= x[i,k,w+1,d_])\n",
    "        @constraint(model, a[i,j,w,d] >= x[i,j,w,d] + x[i,k,w+1,d_] - 1)\n",
    "    end\n",
    "    \n",
    "    # each team from one group must play exactly once against each team in the other group\n",
    "    @constraint(model, [i = i_in:i_end, j = j_in:j_end], sum(x[i, j, w, d] for d = 1:D,w = w_in:w_end) == 1)\n",
    "\n",
    "    # no two teams i can play against the same team j\n",
    "    @constraint(model, [j = j_in:j_end, d = 1:D, w = w_in:w_end], sum(x[i, j, w, d] for i = i_in:i_end) <= 1)\n",
    "\n",
    "    # can't play on tuesday (day 1), wednesday (day 2), thursday (day 3)\n",
    "    @constraint(model, [i = i_in:i_end, j = j_in:j_end, w = w_in:w_end, d = 1:3], x[i, j, w, d] == 0)\n",
    "\n",
    "    # at least four days of rest\n",
    "    @constraint(model, [i = N_in:N_end, w = w_in:w_end], sum((7*w+d1)*x[i, j, w, d1] for j = N_in:N_end, d1 = 1:D) - sum((7*(w-1)+d2)x[i, k, w-1, d2] for k = N_in:N_end, d2 = 1:D) >= 4) # this makes it infeasible\n",
    "\n",
    "    # solve model\n",
    "    optimize!(model)\n",
    "    \n",
    "    return value.(x)\n",
    "\n",
    "end"
   ]
  },
  {
   "cell_type": "code",
   "execution_count": null,
   "metadata": {},
   "outputs": [],
   "source": [
    "X = GamesBetweenGroups(1, 5, 6, 10, 1, 5, 7)"
   ]
  }
 ],
 "metadata": {
  "kernelspec": {
   "display_name": "Julia 1.8.0",
   "language": "julia",
   "name": "julia-1.8"
  },
  "language_info": {
   "file_extension": ".jl",
   "mimetype": "application/julia",
   "name": "julia",
   "version": "1.8.0"
  }
 },
 "nbformat": 4,
 "nbformat_minor": 4
}
