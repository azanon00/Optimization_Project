{
 "cells": [
  {
   "cell_type": "markdown",
   "metadata": {},
   "source": [
    "This is the file containing the code for the different formulations in our project, chronological order (from simpler to more complex)."
   ]
  },
  {
   "cell_type": "code",
   "execution_count": 1,
   "metadata": {},
   "outputs": [],
   "source": [
    "using DataFrames, CSV, JuMP, Gurobi"
   ]
  },
  {
   "cell_type": "code",
   "execution_count": 2,
   "metadata": {},
   "outputs": [],
   "source": [
    "const GRB_ENV = Gurobi.Env(output_flag=0);"
   ]
  },
  {
   "cell_type": "markdown",
   "metadata": {},
   "source": [
    "# Parameters and functions"
   ]
  },
  {
   "cell_type": "code",
   "execution_count": 3,
   "metadata": {},
   "outputs": [],
   "source": [
    "# global variables\n",
    "\n",
    "# number of teams\n",
    "N = 20\n",
    "# number of weeks\n",
    "W = N-1\n",
    "# number of days per weeks\n",
    "D = 7;"
   ]
  },
  {
   "cell_type": "code",
   "execution_count": 4,
   "metadata": {},
   "outputs": [
    {
     "data": {
      "text/plain": [
       "GetC (generic function with 1 method)"
      ]
     },
     "execution_count": 4,
     "metadata": {},
     "output_type": "execute_result"
    }
   ],
   "source": [
    "function GetC()\n",
    "\n",
    "    W_ = 19\n",
    "\n",
    "    C = zeros((D*(W_+1), D*(W_+1)))\n",
    "\n",
    "    for t in 1:(W_*D)\n",
    "        for t_ in 1:(W_*D)\n",
    "            if t < t_\n",
    "                C[t, t_] = (t_ - t)^(-1)\n",
    "            end\n",
    "        end\n",
    "    end\n",
    "\n",
    "    return C\n",
    "end"
   ]
  },
  {
   "cell_type": "code",
   "execution_count": 5,
   "metadata": {},
   "outputs": [
    {
     "data": {
      "text/plain": [
       "calendar_week (generic function with 1 method)"
      ]
     },
     "execution_count": 5,
     "metadata": {},
     "output_type": "execute_result"
    }
   ],
   "source": [
    "function calendar_week(x,week)\n",
    "    df = DataFrame(Player=1:N, Tuesday=0.0, Wednesday=0.0, Thursday=0.0, Friday=0.0, Saturday=0.0, Sunday=0.0, Monday=0.0)\n",
    "    for i=1:N\n",
    "        for j=1:N\n",
    "            for d=1:D\n",
    "                if x[i,j,week,d] == 1.0\n",
    "                        df[i, 1+d] = j\n",
    "                end\n",
    "            end\n",
    "        end\n",
    "    end\n",
    "    return df\n",
    "end"
   ]
  },
  {
   "cell_type": "code",
   "execution_count": 15,
   "metadata": {},
   "outputs": [
    {
     "data": {
      "text/plain": [
       "ComputeObjectiveValue (generic function with 2 methods)"
      ]
     },
     "execution_count": 15,
     "metadata": {},
     "output_type": "execute_result"
    }
   ],
   "source": [
    "# compute the value of the objective function based on the calendar\n",
    "function ComputeObjectiveValue(calendar, W, N)\n",
    "\n",
    "    # define empty matrix to concatenate all the other weeks\n",
    "    m = Array{Float64}(undef, N, 0)\n",
    "    \n",
    "    # build complete calendar\n",
    "    for w in 1:W\n",
    "        week = Matrix(calendar[w])\n",
    "        m = [m week]\n",
    "    end\n",
    "\n",
    "    return ComputeObjectiveValueMatrix(m, W)\n",
    "end"
   ]
  },
  {
   "cell_type": "code",
   "execution_count": 16,
   "metadata": {},
   "outputs": [
    {
     "data": {
      "text/plain": [
       "ComputeObjectiveValue (generic function with 2 methods)"
      ]
     },
     "execution_count": 16,
     "metadata": {},
     "output_type": "execute_result"
    }
   ],
   "source": [
    "### HAMZA\n",
    "# compute the value of the objective function based on the calendar\n",
    "function ComputeObjectiveValue(calendar, W, N)\n",
    "\n",
    "    # define empty matrix to concatenate all the other weeks\n",
    "    m = Array{Float64}(undef, N, 0)\n",
    "    \n",
    "    # build complete calendar\n",
    "    for w in 1:W\n",
    "        week = Matrix(calendar[w][:,2:end])\n",
    "        m = [m week]\n",
    "    end\n",
    "\n",
    "    return ComputeObjectiveValueMatrix(m, W, N)\n",
    "end"
   ]
  },
  {
   "cell_type": "code",
   "execution_count": 17,
   "metadata": {},
   "outputs": [
    {
     "data": {
      "text/plain": [
       "ComputeObjectiveValueMatrix (generic function with 2 methods)"
      ]
     },
     "execution_count": 17,
     "metadata": {},
     "output_type": "execute_result"
    }
   ],
   "source": [
    "# compute the value of the objective function based on the calendar\n",
    "function ComputeObjectiveValueMatrix(m, W, N)\n",
    "\n",
    "    # define total cost for each team\n",
    "    team_total_cost = []\n",
    "\n",
    "    # for each team \n",
    "    for i = 1:N\n",
    "        # find index of nonzer elements, they correspond to the days in which the team plays\n",
    "        team_plays = findall(x -> x != 0, m[i, :])\n",
    "\n",
    "        # we will find W non-zero elements, since each team plays against all the other teams\n",
    "        # for i = 1:W, return GetC()[team_plays[i], team_plays[i+1]] and sum\n",
    "        append!(team_total_cost, sum([GetC()[team_plays[i], team_plays[i+1]] for i = 1:W-1]))\n",
    "    end\n",
    "\n",
    "    # total cost of the calendar\n",
    "    return sum(team_total_cost)\n",
    "end"
   ]
  },
  {
   "cell_type": "code",
   "execution_count": 18,
   "metadata": {},
   "outputs": [
    {
     "data": {
      "text/plain": [
       "GetCalendarMatrix (generic function with 2 methods)"
      ]
     },
     "execution_count": 18,
     "metadata": {},
     "output_type": "execute_result"
    }
   ],
   "source": [
    "function GetCalendarMatrix(calendar, W, N)\n",
    "\n",
    "    # define empty matrix to concatenate all the other weeks\n",
    "    m = Array{Float64}(undef, N, 0)\n",
    "    \n",
    "    # build complete calendar\n",
    "    for w in 1:W\n",
    "        week = Matrix(calendar[w])[:, 2:end] # first column is the index\n",
    "        m = [m week]\n",
    "    end\n",
    "\n",
    "    return m\n",
    "end"
   ]
  },
  {
   "cell_type": "code",
   "execution_count": 10,
   "metadata": {},
   "outputs": [
    {
     "data": {
      "text/plain": [
       "random_restart (generic function with 1 method)"
      ]
     },
     "execution_count": 10,
     "metadata": {},
     "output_type": "execute_result"
    }
   ],
   "source": [
    "function random_restart(calendar_matrix, obj_calendar, Y_old, approach)\n",
    "    \n",
    "    # randomly pick a number of weeks to reoptimize (in addition to initial week)\n",
    "    n = rand(1:4)\n",
    "\n",
    "    # randomly choose initial week\n",
    "    Win_ = rand(1:19-n)\n",
    "    Wend_ = Win_ + n\n",
    "\n",
    "    # get portion of the calendar matrix corresponding the the weeks to reoptimize\n",
    "    calendar_reoptimize = calendar_matrix[:, 7 * (Win_-1) + 1 : 7 * Wend_]\n",
    "\n",
    "    # for each team, get the list of opponents in these weeks\n",
    "    for i in 1:20\n",
    "        plays_against = [Int(element) for element in calendar_reoptimize[i, :] if element != 0]\n",
    "        # modify Y_old accordingly, putting it to 0 so that the teams can be made play again\n",
    "        for element in plays_against\n",
    "            Y_old[i, element] = 0\n",
    "        end\n",
    "    end\n",
    "\n",
    "    if approach == 3\n",
    "        # call the model\n",
    "        X_, Y_old = Optimize4WeeksAndFreeze(Y_old, Win_, Wend_)\n",
    "    elseif approach == 4\n",
    "        # call the model\n",
    "        X_, Y_old = Optimize4WeeksAndFreezeFirst(Y_old, Win_, Wend_)\n",
    "    end\n",
    "\n",
    "    # get new calendar\n",
    "    calendar_reoptimize = []\n",
    "\n",
    "    for w in Win_:Wend_\n",
    "        push!(calendar_reoptimize, calendar_week(X_, w))\n",
    "    end\n",
    "\n",
    "    calendar_reoptimize = GetCalendarMatrix(calendar_reoptimize, Wend_ - Win_ + 1)\n",
    "\n",
    "    # update calendar\n",
    "    calendar_new = calendar_matrix\n",
    "    calendar_new[:, 7 * (Win_-1) + 1 : 7 * Wend_] = calendar_reoptimize\n",
    "\n",
    "    # find objective value corresponding to new calendar\n",
    "    obj_calendar_new = ComputeObjectiveValueMatrix(calendar_new, W)\n",
    "\n",
    "    println(\"Objective value of new calendar: \", obj_calendar_new)\n",
    "\n",
    "    # if new calendar is better, update the calendar\n",
    "    if obj_calendar_new < obj_calendar\n",
    "        calendar_matrix = calendar_new\n",
    "        obj_calendar = obj_calendar_new\n",
    "    end\n",
    "\n",
    "    return calendar_matrix, obj_calendar, Y_old\n",
    "end"
   ]
  },
  {
   "cell_type": "markdown",
   "metadata": {},
   "source": [
    "# Models"
   ]
  },
  {
   "cell_type": "markdown",
   "metadata": {},
   "source": [
    "## Preliminary attempt 1: optimal formulation, show it scales with 6 teams"
   ]
  },
  {
   "cell_type": "code",
   "execution_count": 11,
   "metadata": {},
   "outputs": [
    {
     "data": {
      "text/plain": [
       "optimal_formulation (generic function with 1 method)"
      ]
     },
     "execution_count": 11,
     "metadata": {},
     "output_type": "execute_result"
    }
   ],
   "source": [
    "function optimal_formulation(N_teams, Win, Wend)\n",
    "\n",
    "    # create model\n",
    "    model = Model(() -> Gurobi.Optimizer(GRB_ENV))\n",
    "\n",
    "    # set time limit if more than 6 teams\n",
    "    if N_teams > 6\n",
    "        set_optimizer_attribute(model, \"TimeLimit\", 60)\n",
    "    end\n",
    "\n",
    "    # PARAMETERS\n",
    "    C = GetC()\n",
    "    N = N_teams # teams\n",
    "    D = 7 # days\n",
    "\n",
    "    # VARIABLES\n",
    "    @variable(model, x[i = 1:N, j = 1:N, w = Win:Wend, d = 1:D], Bin) # 1 if team i plays team j on day d of week w, 0 otherwise\n",
    "    @variable(model, a[i = 1:N, j = 1:N, k = 1:N, w = Win:Wend, d = 1:D, d_ = 1:D] >= 0) # will be pushed to be binary\n",
    "\n",
    "    # OBJECTIVE FUNCTION\n",
    "    # put penalty on having y[i,j] = 1, otherwise formulation put all of them to 1\n",
    "    @objective(model, Min, sum(C[7 * w + d, 7 * (w+1) + d_] * a[i, j, k, w, d, d_] for i in 1:N, \n",
    "        j in 1:N, k in 1:N, w in Win:Wend-1, d in 1:D, d_ in 1:D))\n",
    "\n",
    "    # CONSTRAINTS\n",
    "    # linearize objective function\n",
    "    @constraint(model, [i = 1:N, j = 1:N, k = 1:N, w = Win:Wend-1, d = 1:D, d_ = 1:D], a[i, j, k, w, d, d_] <= x[i, j, w, d])\n",
    "    @constraint(model, [i = 1:N, j = 1:N, k = 1:N, w = Win:Wend-1, d = 1:D, d_ = 1:D], a[i, j, k, w, d, d_] <= x[i, k, w+1, d])\n",
    "    @constraint(model, [i = 1:N, j = 1:N, k = 1:N, w = Win:Wend-1, d = 1:D, d_ = 1:D], a[i, j, k, w, d, d_] >= x[i, j, w, d] + x[i, k, w+1, d] - 1)\n",
    "\n",
    "    # teams can never play against themselves\n",
    "    @constraint(model, [i = 1:N, w = Win:Wend, d = 1:D], x[i, i, w, d] == 0)\n",
    "\n",
    "    # if A plays against B, then B plays against A\n",
    "    @constraint(model, [i = 1:N, j = 1:N, w = Win:Wend, d = 1:D], x[i, j, w, d] == x[j, i, w, d])\n",
    "\n",
    "    # each team can only play at most one game per week\n",
    "    @constraint(model, [i = 1:N, w = Win:Wend], sum(x[i, j, w, d] for j in 1:N, d in 1:D) <= 1)\n",
    "\n",
    "    # each team plays N - 1 games in total\n",
    "    @constraint(model, [i = 1:N], sum(x[i, j, w, d] for j in 1:N, w in Win:Wend, d in 1:D) == N - 1)\n",
    "\n",
    "    # each game is against a different team, team play against each other team at most once\n",
    "    @constraint(model, [i = 1:N, j = 1:N], sum(x[i, j, w, d] for w in Win:Wend, d in 1:D) <= 1)\n",
    "\n",
    "    # cannot plays on days 1,2,3\n",
    "    @constraint(model, [i = 1:N, j = 1:N, w = Win:Wend, d = 1:3], x[i, j, w, d] == 0)\n",
    "\n",
    "    # OPTIMIZE\n",
    "    optimize!(model)\n",
    "\n",
    "    return value.(x)\n",
    "end"
   ]
  },
  {
   "cell_type": "code",
   "execution_count": 12,
   "metadata": {},
   "outputs": [
    {
     "data": {
      "text/plain": [
       "4-dimensional DenseAxisArray{Float64,4,...} with index sets:\n",
       "    Dimension 1, Base.OneTo(6)\n",
       "    Dimension 2, Base.OneTo(6)\n",
       "    Dimension 3, 1:5\n",
       "    Dimension 4, Base.OneTo(7)\n",
       "And data, a 6×6×5×7 Array{Float64, 4}:\n",
       "[:, :, 1, 1] =\n",
       " 0.0  0.0  0.0  0.0  0.0  0.0\n",
       " 0.0  0.0  0.0  0.0  0.0  0.0\n",
       " 0.0  0.0  0.0  0.0  0.0  0.0\n",
       " 0.0  0.0  0.0  0.0  0.0  0.0\n",
       " 0.0  0.0  0.0  0.0  0.0  0.0\n",
       " 0.0  0.0  0.0  0.0  0.0  0.0\n",
       "\n",
       "[:, :, 2, 1] =\n",
       " 0.0  0.0  0.0  0.0  0.0  0.0\n",
       " 0.0  0.0  0.0  0.0  0.0  0.0\n",
       " 0.0  0.0  0.0  0.0  0.0  0.0\n",
       " 0.0  0.0  0.0  0.0  0.0  0.0\n",
       " 0.0  0.0  0.0  0.0  0.0  0.0\n",
       " 0.0  0.0  0.0  0.0  0.0  0.0\n",
       "\n",
       "[:, :, 3, 1] =\n",
       " 0.0  0.0  0.0  0.0  0.0  0.0\n",
       " 0.0  0.0  0.0  0.0  0.0  0.0\n",
       " 0.0  0.0  0.0  0.0  0.0  0.0\n",
       " 0.0  0.0  0.0  0.0  0.0  0.0\n",
       " 0.0  0.0  0.0  0.0  0.0  0.0\n",
       " 0.0  0.0  0.0  0.0  0.0  0.0\n",
       "\n",
       "[:, :, 4, 1] =\n",
       " 0.0  0.0  0.0  0.0  0.0  0.0\n",
       " 0.0  0.0  0.0  0.0  0.0  0.0\n",
       " 0.0  0.0  0.0  0.0  0.0  0.0\n",
       " 0.0  0.0  0.0  0.0  0.0  0.0\n",
       " 0.0  0.0  0.0  0.0  0.0  0.0\n",
       " 0.0  0.0  0.0  0.0  0.0  0.0\n",
       "\n",
       "[:, :, 5, 1] =\n",
       " 0.0  0.0  0.0  0.0  0.0  0.0\n",
       " 0.0  0.0  0.0  0.0  0.0  0.0\n",
       " 0.0  0.0  0.0  0.0  0.0  0.0\n",
       " 0.0  0.0  0.0  0.0  0.0  0.0\n",
       " 0.0  0.0  0.0  0.0  0.0  0.0\n",
       " 0.0  0.0  0.0  0.0  0.0  0.0\n",
       "\n",
       "[:, :, 1, 2] =\n",
       " 0.0  0.0  0.0  0.0  0.0  0.0\n",
       " 0.0  0.0  0.0  0.0  0.0  0.0\n",
       " 0.0  0.0  0.0  0.0  0.0  0.0\n",
       " 0.0  0.0  0.0  0.0  0.0  0.0\n",
       " 0.0  0.0  0.0  0.0  0.0  0.0\n",
       " 0.0  0.0  0.0  0.0  0.0  0.0\n",
       "\n",
       "[:, :, 2, 2] =\n",
       " 0.0  0.0  0.0  0.0  0.0  0.0\n",
       " 0.0  0.0  0.0  0.0  0.0  0.0\n",
       " 0.0  0.0  0.0  0.0  0.0  0.0\n",
       " 0.0  0.0  0.0  0.0  0.0  0.0\n",
       " 0.0  0.0  0.0  0.0  0.0  0.0\n",
       " 0.0  0.0  0.0  0.0  0.0  0.0\n",
       "\n",
       "[:, :, 3, 2] =\n",
       " 0.0  0.0  0.0  0.0  0.0  0.0\n",
       " 0.0  0.0  0.0  0.0  0.0  0.0\n",
       " 0.0  0.0  0.0  0.0  0.0  0.0\n",
       " 0.0  0.0  0.0  0.0  0.0  0.0\n",
       " 0.0  0.0  0.0  0.0  0.0  0.0\n",
       " 0.0  0.0  0.0  0.0  0.0  0.0\n",
       "\n",
       "[:, :, 4, 2] =\n",
       " 0.0  0.0  0.0  0.0  0.0  0.0\n",
       " 0.0  0.0  0.0  0.0  0.0  0.0\n",
       " 0.0  0.0  0.0  0.0  0.0  0.0\n",
       " 0.0  0.0  0.0  0.0  0.0  0.0\n",
       " 0.0  0.0  0.0  0.0  0.0  0.0\n",
       " 0.0  0.0  0.0  0.0  0.0  0.0\n",
       "\n",
       "[:, :, 5, 2] =\n",
       " 0.0  0.0  0.0  0.0  0.0  0.0\n",
       " 0.0  0.0  0.0  0.0  0.0  0.0\n",
       " 0.0  0.0  0.0  0.0  0.0  0.0\n",
       " 0.0  0.0  0.0  0.0  0.0  0.0\n",
       " 0.0  0.0  0.0  0.0  0.0  0.0\n",
       " 0.0  0.0  0.0  0.0  0.0  0.0\n",
       "\n",
       "[:, :, 1, 3] =\n",
       " 0.0  0.0  0.0  0.0  0.0  0.0\n",
       " 0.0  0.0  0.0  0.0  0.0  0.0\n",
       " 0.0  0.0  0.0  0.0  0.0  0.0\n",
       " 0.0  0.0  0.0  0.0  0.0  0.0\n",
       " 0.0  0.0  0.0  0.0  0.0  0.0\n",
       " 0.0  0.0  0.0  0.0  0.0  0.0\n",
       "\n",
       "[:, :, 2, 3] =\n",
       " 0.0  0.0  0.0  0.0  0.0  0.0\n",
       " 0.0  0.0  0.0  0.0  0.0  0.0\n",
       " 0.0  0.0  0.0  0.0  0.0  0.0\n",
       " 0.0  0.0  0.0  0.0  0.0  0.0\n",
       " 0.0  0.0  0.0  0.0  0.0  0.0\n",
       " 0.0  0.0  0.0  0.0  0.0  0.0\n",
       "\n",
       "[:, :, 3, 3] =\n",
       " 0.0  0.0  0.0  0.0  0.0  0.0\n",
       " 0.0  0.0  0.0  0.0  0.0  0.0\n",
       " 0.0  0.0  0.0  0.0  0.0  0.0\n",
       " 0.0  0.0  0.0  0.0  0.0  0.0\n",
       " 0.0  0.0  0.0  0.0  0.0  0.0\n",
       " 0.0  0.0  0.0  0.0  0.0  0.0\n",
       "\n",
       "[:, :, 4, 3] =\n",
       " 0.0  0.0  0.0  0.0  0.0  0.0\n",
       " 0.0  0.0  0.0  0.0  0.0  0.0\n",
       " 0.0  0.0  0.0  0.0  0.0  0.0\n",
       " 0.0  0.0  0.0  0.0  0.0  0.0\n",
       " 0.0  0.0  0.0  0.0  0.0  0.0\n",
       " 0.0  0.0  0.0  0.0  0.0  0.0\n",
       "\n",
       "[:, :, 5, 3] =\n",
       " 0.0  0.0  0.0  0.0  0.0  0.0\n",
       " 0.0  0.0  0.0  0.0  0.0  0.0\n",
       " 0.0  0.0  0.0  0.0  0.0  0.0\n",
       " 0.0  0.0  0.0  0.0  0.0  0.0\n",
       " 0.0  0.0  0.0  0.0  0.0  0.0\n",
       " 0.0  0.0  0.0  0.0  0.0  0.0\n",
       "\n",
       "[:, :, 1, 4] =\n",
       " 0.0  0.0  0.0  0.0  0.0  0.0\n",
       " 0.0  0.0  0.0  0.0  0.0  0.0\n",
       " 0.0  0.0  0.0  0.0  0.0  0.0\n",
       " 0.0  0.0  0.0  0.0  0.0  0.0\n",
       " 0.0  0.0  0.0  0.0  0.0  0.0\n",
       " 0.0  0.0  0.0  0.0  0.0  0.0\n",
       "\n",
       "[:, :, 2, 4] =\n",
       " 0.0  0.0  0.0  0.0  1.0  0.0\n",
       " 0.0  0.0  1.0  0.0  0.0  0.0\n",
       " 0.0  1.0  0.0  0.0  0.0  0.0\n",
       " 0.0  0.0  0.0  0.0  0.0  0.0\n",
       " 1.0  0.0  0.0  0.0  0.0  0.0\n",
       " 0.0  0.0  0.0  0.0  0.0  0.0\n",
       "\n",
       "[:, :, 3, 4] =\n",
       " 0.0  0.0  0.0  0.0  0.0  0.0\n",
       " 0.0  0.0  0.0  0.0  0.0  0.0\n",
       " 0.0  0.0  0.0  0.0  0.0  0.0\n",
       " 0.0  0.0  0.0  0.0  0.0  0.0\n",
       " 0.0  0.0  0.0  0.0  0.0  0.0\n",
       " 0.0  0.0  0.0  0.0  0.0  0.0\n",
       "\n",
       "[:, :, 4, 4] =\n",
       " 0.0  0.0  0.0  0.0  0.0  0.0\n",
       " 0.0  0.0  0.0  0.0  0.0  0.0\n",
       " 0.0  0.0  0.0  0.0  0.0  0.0\n",
       " 0.0  0.0  0.0  0.0  0.0  0.0\n",
       " 0.0  0.0  0.0  0.0  0.0  0.0\n",
       " 0.0  0.0  0.0  0.0  0.0  0.0\n",
       "\n",
       "[:, :, 5, 4] =\n",
       " 0.0  0.0  0.0  0.0  0.0  0.0\n",
       " 0.0  0.0  0.0  0.0  0.0  0.0\n",
       " 0.0  0.0  0.0  0.0  0.0  0.0\n",
       " 0.0  0.0  0.0  0.0  0.0  0.0\n",
       " 0.0  0.0  0.0  0.0  0.0  0.0\n",
       " 0.0  0.0  0.0  0.0  0.0  0.0\n",
       "\n",
       "[:, :, 1, 5] =\n",
       " 0.0  0.0  0.0  0.0  0.0  0.0\n",
       " 0.0  0.0  0.0  0.0  1.0  0.0\n",
       " 0.0  0.0  0.0  0.0  0.0  0.0\n",
       " 0.0  0.0  0.0  0.0  0.0  0.0\n",
       " 0.0  1.0  0.0  0.0  0.0  0.0\n",
       " 0.0  0.0  0.0  0.0  0.0  0.0\n",
       "\n",
       "[:, :, 2, 5] =\n",
       " 0.0  0.0  0.0  0.0  0.0  0.0\n",
       " 0.0  0.0  0.0  0.0  0.0  0.0\n",
       " 0.0  0.0  0.0  0.0  0.0  0.0\n",
       " 0.0  0.0  0.0  0.0  0.0  0.0\n",
       " 0.0  0.0  0.0  0.0  0.0  0.0\n",
       " 0.0  0.0  0.0  0.0  0.0  0.0\n",
       "\n",
       "[:, :, 3, 5] =\n",
       " 0.0  0.0  0.0  0.0  0.0  0.0\n",
       " 0.0  0.0  0.0  0.0  0.0  1.0\n",
       " 0.0  0.0  0.0  0.0  0.0  0.0\n",
       " 0.0  0.0  0.0  0.0  1.0  0.0\n",
       " 0.0  0.0  0.0  1.0  0.0  0.0\n",
       " 0.0  1.0  0.0  0.0  0.0  0.0\n",
       "\n",
       "[:, :, 4, 5] =\n",
       " 0.0  0.0  0.0  0.0  0.0  0.0\n",
       " 0.0  0.0  0.0  0.0  0.0  0.0\n",
       " 0.0  0.0  0.0  0.0  0.0  0.0\n",
       " 0.0  0.0  0.0  0.0  0.0  0.0\n",
       " 0.0  0.0  0.0  0.0  0.0  0.0\n",
       " 0.0  0.0  0.0  0.0  0.0  0.0\n",
       "\n",
       "[:, :, 5, 5] =\n",
       " 0.0  0.0  0.0  0.0  0.0  0.0\n",
       " 0.0  0.0  0.0  0.0  0.0  0.0\n",
       " 0.0  0.0  0.0  0.0  0.0  0.0\n",
       " 0.0  0.0  0.0  0.0  0.0  0.0\n",
       " 0.0  0.0  0.0  0.0  0.0  0.0\n",
       " 0.0  0.0  0.0  0.0  0.0  0.0\n",
       "\n",
       "[:, :, 1, 6] =\n",
       " 0.0  0.0  0.0  1.0  0.0  0.0\n",
       " 0.0  0.0  0.0  0.0  0.0  0.0\n",
       " 0.0  0.0  0.0  0.0  0.0  1.0\n",
       " 1.0  0.0  0.0  0.0  0.0  0.0\n",
       " 0.0  0.0  0.0  0.0  0.0  0.0\n",
       " 0.0  0.0  1.0  0.0  0.0  0.0\n",
       "\n",
       "[:, :, 2, 6] =\n",
       " 0.0  0.0  0.0  0.0  0.0  0.0\n",
       " 0.0  0.0  0.0  0.0  0.0  0.0\n",
       " 0.0  0.0  0.0  0.0  0.0  0.0\n",
       " 0.0  0.0  0.0  0.0  0.0  0.0\n",
       " 0.0  0.0  0.0  0.0  0.0  0.0\n",
       " 0.0  0.0  0.0  0.0  0.0  0.0\n",
       "\n",
       "[:, :, 3, 6] =\n",
       " 0.0  0.0  0.0  0.0  0.0  0.0\n",
       " 0.0  0.0  0.0  0.0  0.0  0.0\n",
       " 0.0  0.0  0.0  0.0  0.0  0.0\n",
       " 0.0  0.0  0.0  0.0  0.0  0.0\n",
       " 0.0  0.0  0.0  0.0  0.0  0.0\n",
       " 0.0  0.0  0.0  0.0  0.0  0.0\n",
       "\n",
       "[:, :, 4, 6] =\n",
       " 0.0  1.0  0.0  0.0  0.0  0.0\n",
       " 1.0  0.0  0.0  0.0  0.0  0.0\n",
       " 0.0  0.0  0.0  1.0  0.0  0.0\n",
       " 0.0  0.0  1.0  0.0  0.0  0.0\n",
       " 0.0  0.0  0.0  0.0  0.0  1.0\n",
       " 0.0  0.0  0.0  0.0  1.0  0.0\n",
       "\n",
       "[:, :, 5, 6] =\n",
       " 0.0  0.0  0.0  0.0  0.0  0.0\n",
       " 0.0  0.0  0.0  0.0  0.0  0.0\n",
       " 0.0  0.0  0.0  0.0  0.0  0.0\n",
       " 0.0  0.0  0.0  0.0  0.0  0.0\n",
       " 0.0  0.0  0.0  0.0  0.0  0.0\n",
       " 0.0  0.0  0.0  0.0  0.0  0.0\n",
       "\n",
       "[:, :, 1, 7] =\n",
       " 0.0  0.0  0.0  0.0  0.0  0.0\n",
       " 0.0  0.0  0.0  0.0  0.0  0.0\n",
       " 0.0  0.0  0.0  0.0  0.0  0.0\n",
       " 0.0  0.0  0.0  0.0  0.0  0.0\n",
       " 0.0  0.0  0.0  0.0  0.0  0.0\n",
       " 0.0  0.0  0.0  0.0  0.0  0.0\n",
       "\n",
       "[:, :, 2, 7] =\n",
       " 0.0  0.0  0.0  0.0  0.0  0.0\n",
       " 0.0  0.0  0.0  0.0  0.0  0.0\n",
       " 0.0  0.0  0.0  0.0  0.0  0.0\n",
       " 0.0  0.0  0.0  0.0  0.0  1.0\n",
       " 0.0  0.0  0.0  0.0  0.0  0.0\n",
       " 0.0  0.0  0.0  1.0  0.0  0.0\n",
       "\n",
       "[:, :, 3, 7] =\n",
       " 0.0  0.0  1.0  0.0  0.0  0.0\n",
       " 0.0  0.0  0.0  0.0  0.0  0.0\n",
       " 1.0  0.0  0.0  0.0  0.0  0.0\n",
       " 0.0  0.0  0.0  0.0  0.0  0.0\n",
       " 0.0  0.0  0.0  0.0  0.0  0.0\n",
       " 0.0  0.0  0.0  0.0  0.0  0.0\n",
       "\n",
       "[:, :, 4, 7] =\n",
       " 0.0  0.0  0.0  0.0  0.0  0.0\n",
       " 0.0  0.0  0.0  0.0  0.0  0.0\n",
       " 0.0  0.0  0.0  0.0  0.0  0.0\n",
       " 0.0  0.0  0.0  0.0  0.0  0.0\n",
       " 0.0  0.0  0.0  0.0  0.0  0.0\n",
       " 0.0  0.0  0.0  0.0  0.0  0.0\n",
       "\n",
       "[:, :, 5, 7] =\n",
       " 0.0  0.0  0.0  0.0  0.0  1.0\n",
       " 0.0  0.0  0.0  1.0  0.0  0.0\n",
       " 0.0  0.0  0.0  0.0  1.0  0.0\n",
       " 0.0  1.0  0.0  0.0  0.0  0.0\n",
       " 0.0  0.0  1.0  0.0  0.0  0.0\n",
       " 1.0  0.0  0.0  0.0  0.0  0.0"
      ]
     },
     "execution_count": 12,
     "metadata": {},
     "output_type": "execute_result"
    }
   ],
   "source": [
    "N = 6\n",
    "Win = 1\n",
    "Wend = N - 1\n",
    "X_p1 = optimal_formulation(N, Win, Wend)"
   ]
  },
  {
   "cell_type": "code",
   "execution_count": 13,
   "metadata": {},
   "outputs": [],
   "source": [
    "calendar_p1 = []\n",
    "for w in Win:Wend\n",
    "    push!(calendar_p1, calendar_week(X_p1, w))\n",
    "end"
   ]
  },
  {
   "cell_type": "code",
   "execution_count": 19,
   "metadata": {},
   "outputs": [
    {
     "data": {
      "text/plain": [
       "3.416666666666666"
      ]
     },
     "execution_count": 19,
     "metadata": {},
     "output_type": "execute_result"
    }
   ],
   "source": [
    "obj_calendar_p1 = ComputeObjectiveValue(calendar_p1, 5, 6)"
   ]
  },
  {
   "cell_type": "code",
   "execution_count": 20,
   "metadata": {},
   "outputs": [
    {
     "data": {
      "text/html": [
       "<div><div style = \"float: left;\"><span>6×8 DataFrame</span></div><div style = \"clear: both;\"></div></div><div class = \"data-frame\" style = \"overflow-x: scroll;\"><table class = \"data-frame\" style = \"margin-bottom: 6px;\"><thead><tr class = \"header\"><th class = \"rowNumber\" style = \"font-weight: bold; text-align: right;\">Row</th><th style = \"text-align: left;\">Player</th><th style = \"text-align: left;\">Tuesday</th><th style = \"text-align: left;\">Wednesday</th><th style = \"text-align: left;\">Thursday</th><th style = \"text-align: left;\">Friday</th><th style = \"text-align: left;\">Saturday</th><th style = \"text-align: left;\">Sunday</th><th style = \"text-align: left;\">Monday</th></tr><tr class = \"subheader headerLastRow\"><th class = \"rowNumber\" style = \"font-weight: bold; text-align: right;\"></th><th title = \"Int64\" style = \"text-align: left;\">Int64</th><th title = \"Float64\" style = \"text-align: left;\">Float64</th><th title = \"Float64\" style = \"text-align: left;\">Float64</th><th title = \"Float64\" style = \"text-align: left;\">Float64</th><th title = \"Float64\" style = \"text-align: left;\">Float64</th><th title = \"Float64\" style = \"text-align: left;\">Float64</th><th title = \"Float64\" style = \"text-align: left;\">Float64</th><th title = \"Float64\" style = \"text-align: left;\">Float64</th></tr></thead><tbody><tr><td class = \"rowNumber\" style = \"font-weight: bold; text-align: right;\">1</td><td style = \"text-align: right;\">1</td><td style = \"text-align: right;\">0.0</td><td style = \"text-align: right;\">0.0</td><td style = \"text-align: right;\">0.0</td><td style = \"text-align: right;\">0.0</td><td style = \"text-align: right;\">0.0</td><td style = \"text-align: right;\">4.0</td><td style = \"text-align: right;\">0.0</td></tr><tr><td class = \"rowNumber\" style = \"font-weight: bold; text-align: right;\">2</td><td style = \"text-align: right;\">2</td><td style = \"text-align: right;\">0.0</td><td style = \"text-align: right;\">0.0</td><td style = \"text-align: right;\">0.0</td><td style = \"text-align: right;\">0.0</td><td style = \"text-align: right;\">5.0</td><td style = \"text-align: right;\">0.0</td><td style = \"text-align: right;\">0.0</td></tr><tr><td class = \"rowNumber\" style = \"font-weight: bold; text-align: right;\">3</td><td style = \"text-align: right;\">3</td><td style = \"text-align: right;\">0.0</td><td style = \"text-align: right;\">0.0</td><td style = \"text-align: right;\">0.0</td><td style = \"text-align: right;\">0.0</td><td style = \"text-align: right;\">0.0</td><td style = \"text-align: right;\">6.0</td><td style = \"text-align: right;\">0.0</td></tr><tr><td class = \"rowNumber\" style = \"font-weight: bold; text-align: right;\">4</td><td style = \"text-align: right;\">4</td><td style = \"text-align: right;\">0.0</td><td style = \"text-align: right;\">0.0</td><td style = \"text-align: right;\">0.0</td><td style = \"text-align: right;\">0.0</td><td style = \"text-align: right;\">0.0</td><td style = \"text-align: right;\">1.0</td><td style = \"text-align: right;\">0.0</td></tr><tr><td class = \"rowNumber\" style = \"font-weight: bold; text-align: right;\">5</td><td style = \"text-align: right;\">5</td><td style = \"text-align: right;\">0.0</td><td style = \"text-align: right;\">0.0</td><td style = \"text-align: right;\">0.0</td><td style = \"text-align: right;\">0.0</td><td style = \"text-align: right;\">2.0</td><td style = \"text-align: right;\">0.0</td><td style = \"text-align: right;\">0.0</td></tr><tr><td class = \"rowNumber\" style = \"font-weight: bold; text-align: right;\">6</td><td style = \"text-align: right;\">6</td><td style = \"text-align: right;\">0.0</td><td style = \"text-align: right;\">0.0</td><td style = \"text-align: right;\">0.0</td><td style = \"text-align: right;\">0.0</td><td style = \"text-align: right;\">0.0</td><td style = \"text-align: right;\">3.0</td><td style = \"text-align: right;\">0.0</td></tr></tbody></table></div>"
      ],
      "text/latex": [
       "\\begin{tabular}{r|cccccccc}\n",
       "\t& Player & Tuesday & Wednesday & Thursday & Friday & Saturday & Sunday & Monday\\\\\n",
       "\t\\hline\n",
       "\t& Int64 & Float64 & Float64 & Float64 & Float64 & Float64 & Float64 & Float64\\\\\n",
       "\t\\hline\n",
       "\t1 & 1 & 0.0 & 0.0 & 0.0 & 0.0 & 0.0 & 4.0 & 0.0 \\\\\n",
       "\t2 & 2 & 0.0 & 0.0 & 0.0 & 0.0 & 5.0 & 0.0 & 0.0 \\\\\n",
       "\t3 & 3 & 0.0 & 0.0 & 0.0 & 0.0 & 0.0 & 6.0 & 0.0 \\\\\n",
       "\t4 & 4 & 0.0 & 0.0 & 0.0 & 0.0 & 0.0 & 1.0 & 0.0 \\\\\n",
       "\t5 & 5 & 0.0 & 0.0 & 0.0 & 0.0 & 2.0 & 0.0 & 0.0 \\\\\n",
       "\t6 & 6 & 0.0 & 0.0 & 0.0 & 0.0 & 0.0 & 3.0 & 0.0 \\\\\n",
       "\\end{tabular}\n"
      ],
      "text/plain": [
       "\u001b[1m6×8 DataFrame\u001b[0m\n",
       "\u001b[1m Row \u001b[0m│\u001b[1m Player \u001b[0m\u001b[1m Tuesday \u001b[0m\u001b[1m Wednesday \u001b[0m\u001b[1m Thursday \u001b[0m\u001b[1m Friday  \u001b[0m\u001b[1m Saturday \u001b[0m\u001b[1m Sunday  \u001b[0m\u001b[1m Monda\u001b[0m ⋯\n",
       "     │\u001b[90m Int64  \u001b[0m\u001b[90m Float64 \u001b[0m\u001b[90m Float64   \u001b[0m\u001b[90m Float64  \u001b[0m\u001b[90m Float64 \u001b[0m\u001b[90m Float64  \u001b[0m\u001b[90m Float64 \u001b[0m\u001b[90m Float\u001b[0m ⋯\n",
       "─────┼──────────────────────────────────────────────────────────────────────────\n",
       "   1 │      1      0.0        0.0       0.0      0.0       0.0      4.0      0 ⋯\n",
       "   2 │      2      0.0        0.0       0.0      0.0       5.0      0.0      0\n",
       "   3 │      3      0.0        0.0       0.0      0.0       0.0      6.0      0\n",
       "   4 │      4      0.0        0.0       0.0      0.0       0.0      1.0      0\n",
       "   5 │      5      0.0        0.0       0.0      0.0       2.0      0.0      0 ⋯\n",
       "   6 │      6      0.0        0.0       0.0      0.0       0.0      3.0      0\n",
       "\u001b[36m                                                                1 column omitted\u001b[0m"
      ]
     },
     "metadata": {},
     "output_type": "display_data"
    },
    {
     "data": {
      "text/html": [
       "<div><div style = \"float: left;\"><span>6×8 DataFrame</span></div><div style = \"clear: both;\"></div></div><div class = \"data-frame\" style = \"overflow-x: scroll;\"><table class = \"data-frame\" style = \"margin-bottom: 6px;\"><thead><tr class = \"header\"><th class = \"rowNumber\" style = \"font-weight: bold; text-align: right;\">Row</th><th style = \"text-align: left;\">Player</th><th style = \"text-align: left;\">Tuesday</th><th style = \"text-align: left;\">Wednesday</th><th style = \"text-align: left;\">Thursday</th><th style = \"text-align: left;\">Friday</th><th style = \"text-align: left;\">Saturday</th><th style = \"text-align: left;\">Sunday</th><th style = \"text-align: left;\">Monday</th></tr><tr class = \"subheader headerLastRow\"><th class = \"rowNumber\" style = \"font-weight: bold; text-align: right;\"></th><th title = \"Int64\" style = \"text-align: left;\">Int64</th><th title = \"Float64\" style = \"text-align: left;\">Float64</th><th title = \"Float64\" style = \"text-align: left;\">Float64</th><th title = \"Float64\" style = \"text-align: left;\">Float64</th><th title = \"Float64\" style = \"text-align: left;\">Float64</th><th title = \"Float64\" style = \"text-align: left;\">Float64</th><th title = \"Float64\" style = \"text-align: left;\">Float64</th><th title = \"Float64\" style = \"text-align: left;\">Float64</th></tr></thead><tbody><tr><td class = \"rowNumber\" style = \"font-weight: bold; text-align: right;\">1</td><td style = \"text-align: right;\">1</td><td style = \"text-align: right;\">0.0</td><td style = \"text-align: right;\">0.0</td><td style = \"text-align: right;\">0.0</td><td style = \"text-align: right;\">5.0</td><td style = \"text-align: right;\">0.0</td><td style = \"text-align: right;\">0.0</td><td style = \"text-align: right;\">0.0</td></tr><tr><td class = \"rowNumber\" style = \"font-weight: bold; text-align: right;\">2</td><td style = \"text-align: right;\">2</td><td style = \"text-align: right;\">0.0</td><td style = \"text-align: right;\">0.0</td><td style = \"text-align: right;\">0.0</td><td style = \"text-align: right;\">3.0</td><td style = \"text-align: right;\">0.0</td><td style = \"text-align: right;\">0.0</td><td style = \"text-align: right;\">0.0</td></tr><tr><td class = \"rowNumber\" style = \"font-weight: bold; text-align: right;\">3</td><td style = \"text-align: right;\">3</td><td style = \"text-align: right;\">0.0</td><td style = \"text-align: right;\">0.0</td><td style = \"text-align: right;\">0.0</td><td style = \"text-align: right;\">2.0</td><td style = \"text-align: right;\">0.0</td><td style = \"text-align: right;\">0.0</td><td style = \"text-align: right;\">0.0</td></tr><tr><td class = \"rowNumber\" style = \"font-weight: bold; text-align: right;\">4</td><td style = \"text-align: right;\">4</td><td style = \"text-align: right;\">0.0</td><td style = \"text-align: right;\">0.0</td><td style = \"text-align: right;\">0.0</td><td style = \"text-align: right;\">0.0</td><td style = \"text-align: right;\">0.0</td><td style = \"text-align: right;\">0.0</td><td style = \"text-align: right;\">6.0</td></tr><tr><td class = \"rowNumber\" style = \"font-weight: bold; text-align: right;\">5</td><td style = \"text-align: right;\">5</td><td style = \"text-align: right;\">0.0</td><td style = \"text-align: right;\">0.0</td><td style = \"text-align: right;\">0.0</td><td style = \"text-align: right;\">1.0</td><td style = \"text-align: right;\">0.0</td><td style = \"text-align: right;\">0.0</td><td style = \"text-align: right;\">0.0</td></tr><tr><td class = \"rowNumber\" style = \"font-weight: bold; text-align: right;\">6</td><td style = \"text-align: right;\">6</td><td style = \"text-align: right;\">0.0</td><td style = \"text-align: right;\">0.0</td><td style = \"text-align: right;\">0.0</td><td style = \"text-align: right;\">0.0</td><td style = \"text-align: right;\">0.0</td><td style = \"text-align: right;\">0.0</td><td style = \"text-align: right;\">4.0</td></tr></tbody></table></div>"
      ],
      "text/latex": [
       "\\begin{tabular}{r|cccccccc}\n",
       "\t& Player & Tuesday & Wednesday & Thursday & Friday & Saturday & Sunday & Monday\\\\\n",
       "\t\\hline\n",
       "\t& Int64 & Float64 & Float64 & Float64 & Float64 & Float64 & Float64 & Float64\\\\\n",
       "\t\\hline\n",
       "\t1 & 1 & 0.0 & 0.0 & 0.0 & 5.0 & 0.0 & 0.0 & 0.0 \\\\\n",
       "\t2 & 2 & 0.0 & 0.0 & 0.0 & 3.0 & 0.0 & 0.0 & 0.0 \\\\\n",
       "\t3 & 3 & 0.0 & 0.0 & 0.0 & 2.0 & 0.0 & 0.0 & 0.0 \\\\\n",
       "\t4 & 4 & 0.0 & 0.0 & 0.0 & 0.0 & 0.0 & 0.0 & 6.0 \\\\\n",
       "\t5 & 5 & 0.0 & 0.0 & 0.0 & 1.0 & 0.0 & 0.0 & 0.0 \\\\\n",
       "\t6 & 6 & 0.0 & 0.0 & 0.0 & 0.0 & 0.0 & 0.0 & 4.0 \\\\\n",
       "\\end{tabular}\n"
      ],
      "text/plain": [
       "\u001b[1m6×8 DataFrame\u001b[0m\n",
       "\u001b[1m Row \u001b[0m│\u001b[1m Player \u001b[0m\u001b[1m Tuesday \u001b[0m\u001b[1m Wednesday \u001b[0m\u001b[1m Thursday \u001b[0m\u001b[1m Friday  \u001b[0m\u001b[1m Saturday \u001b[0m\u001b[1m Sunday  \u001b[0m\u001b[1m Monda\u001b[0m ⋯\n",
       "     │\u001b[90m Int64  \u001b[0m\u001b[90m Float64 \u001b[0m\u001b[90m Float64   \u001b[0m\u001b[90m Float64  \u001b[0m\u001b[90m Float64 \u001b[0m\u001b[90m Float64  \u001b[0m\u001b[90m Float64 \u001b[0m\u001b[90m Float\u001b[0m ⋯\n",
       "─────┼──────────────────────────────────────────────────────────────────────────\n",
       "   1 │      1      0.0        0.0       0.0      5.0       0.0      0.0      0 ⋯\n",
       "   2 │      2      0.0        0.0       0.0      3.0       0.0      0.0      0\n",
       "   3 │      3      0.0        0.0       0.0      2.0       0.0      0.0      0\n",
       "   4 │      4      0.0        0.0       0.0      0.0       0.0      0.0      6\n",
       "   5 │      5      0.0        0.0       0.0      1.0       0.0      0.0      0 ⋯\n",
       "   6 │      6      0.0        0.0       0.0      0.0       0.0      0.0      4\n",
       "\u001b[36m                                                                1 column omitted\u001b[0m"
      ]
     },
     "metadata": {},
     "output_type": "display_data"
    },
    {
     "data": {
      "text/html": [
       "<div><div style = \"float: left;\"><span>6×8 DataFrame</span></div><div style = \"clear: both;\"></div></div><div class = \"data-frame\" style = \"overflow-x: scroll;\"><table class = \"data-frame\" style = \"margin-bottom: 6px;\"><thead><tr class = \"header\"><th class = \"rowNumber\" style = \"font-weight: bold; text-align: right;\">Row</th><th style = \"text-align: left;\">Player</th><th style = \"text-align: left;\">Tuesday</th><th style = \"text-align: left;\">Wednesday</th><th style = \"text-align: left;\">Thursday</th><th style = \"text-align: left;\">Friday</th><th style = \"text-align: left;\">Saturday</th><th style = \"text-align: left;\">Sunday</th><th style = \"text-align: left;\">Monday</th></tr><tr class = \"subheader headerLastRow\"><th class = \"rowNumber\" style = \"font-weight: bold; text-align: right;\"></th><th title = \"Int64\" style = \"text-align: left;\">Int64</th><th title = \"Float64\" style = \"text-align: left;\">Float64</th><th title = \"Float64\" style = \"text-align: left;\">Float64</th><th title = \"Float64\" style = \"text-align: left;\">Float64</th><th title = \"Float64\" style = \"text-align: left;\">Float64</th><th title = \"Float64\" style = \"text-align: left;\">Float64</th><th title = \"Float64\" style = \"text-align: left;\">Float64</th><th title = \"Float64\" style = \"text-align: left;\">Float64</th></tr></thead><tbody><tr><td class = \"rowNumber\" style = \"font-weight: bold; text-align: right;\">1</td><td style = \"text-align: right;\">1</td><td style = \"text-align: right;\">0.0</td><td style = \"text-align: right;\">0.0</td><td style = \"text-align: right;\">0.0</td><td style = \"text-align: right;\">0.0</td><td style = \"text-align: right;\">0.0</td><td style = \"text-align: right;\">0.0</td><td style = \"text-align: right;\">3.0</td></tr><tr><td class = \"rowNumber\" style = \"font-weight: bold; text-align: right;\">2</td><td style = \"text-align: right;\">2</td><td style = \"text-align: right;\">0.0</td><td style = \"text-align: right;\">0.0</td><td style = \"text-align: right;\">0.0</td><td style = \"text-align: right;\">0.0</td><td style = \"text-align: right;\">6.0</td><td style = \"text-align: right;\">0.0</td><td style = \"text-align: right;\">0.0</td></tr><tr><td class = \"rowNumber\" style = \"font-weight: bold; text-align: right;\">3</td><td style = \"text-align: right;\">3</td><td style = \"text-align: right;\">0.0</td><td style = \"text-align: right;\">0.0</td><td style = \"text-align: right;\">0.0</td><td style = \"text-align: right;\">0.0</td><td style = \"text-align: right;\">0.0</td><td style = \"text-align: right;\">0.0</td><td style = \"text-align: right;\">1.0</td></tr><tr><td class = \"rowNumber\" style = \"font-weight: bold; text-align: right;\">4</td><td style = \"text-align: right;\">4</td><td style = \"text-align: right;\">0.0</td><td style = \"text-align: right;\">0.0</td><td style = \"text-align: right;\">0.0</td><td style = \"text-align: right;\">0.0</td><td style = \"text-align: right;\">5.0</td><td style = \"text-align: right;\">0.0</td><td style = \"text-align: right;\">0.0</td></tr><tr><td class = \"rowNumber\" style = \"font-weight: bold; text-align: right;\">5</td><td style = \"text-align: right;\">5</td><td style = \"text-align: right;\">0.0</td><td style = \"text-align: right;\">0.0</td><td style = \"text-align: right;\">0.0</td><td style = \"text-align: right;\">0.0</td><td style = \"text-align: right;\">4.0</td><td style = \"text-align: right;\">0.0</td><td style = \"text-align: right;\">0.0</td></tr><tr><td class = \"rowNumber\" style = \"font-weight: bold; text-align: right;\">6</td><td style = \"text-align: right;\">6</td><td style = \"text-align: right;\">0.0</td><td style = \"text-align: right;\">0.0</td><td style = \"text-align: right;\">0.0</td><td style = \"text-align: right;\">0.0</td><td style = \"text-align: right;\">2.0</td><td style = \"text-align: right;\">0.0</td><td style = \"text-align: right;\">0.0</td></tr></tbody></table></div>"
      ],
      "text/latex": [
       "\\begin{tabular}{r|cccccccc}\n",
       "\t& Player & Tuesday & Wednesday & Thursday & Friday & Saturday & Sunday & Monday\\\\\n",
       "\t\\hline\n",
       "\t& Int64 & Float64 & Float64 & Float64 & Float64 & Float64 & Float64 & Float64\\\\\n",
       "\t\\hline\n",
       "\t1 & 1 & 0.0 & 0.0 & 0.0 & 0.0 & 0.0 & 0.0 & 3.0 \\\\\n",
       "\t2 & 2 & 0.0 & 0.0 & 0.0 & 0.0 & 6.0 & 0.0 & 0.0 \\\\\n",
       "\t3 & 3 & 0.0 & 0.0 & 0.0 & 0.0 & 0.0 & 0.0 & 1.0 \\\\\n",
       "\t4 & 4 & 0.0 & 0.0 & 0.0 & 0.0 & 5.0 & 0.0 & 0.0 \\\\\n",
       "\t5 & 5 & 0.0 & 0.0 & 0.0 & 0.0 & 4.0 & 0.0 & 0.0 \\\\\n",
       "\t6 & 6 & 0.0 & 0.0 & 0.0 & 0.0 & 2.0 & 0.0 & 0.0 \\\\\n",
       "\\end{tabular}\n"
      ],
      "text/plain": [
       "\u001b[1m6×8 DataFrame\u001b[0m\n",
       "\u001b[1m Row \u001b[0m│\u001b[1m Player \u001b[0m\u001b[1m Tuesday \u001b[0m\u001b[1m Wednesday \u001b[0m\u001b[1m Thursday \u001b[0m\u001b[1m Friday  \u001b[0m\u001b[1m Saturday \u001b[0m\u001b[1m Sunday  \u001b[0m\u001b[1m Monda\u001b[0m ⋯\n",
       "     │\u001b[90m Int64  \u001b[0m\u001b[90m Float64 \u001b[0m\u001b[90m Float64   \u001b[0m\u001b[90m Float64  \u001b[0m\u001b[90m Float64 \u001b[0m\u001b[90m Float64  \u001b[0m\u001b[90m Float64 \u001b[0m\u001b[90m Float\u001b[0m ⋯\n",
       "─────┼──────────────────────────────────────────────────────────────────────────\n",
       "   1 │      1      0.0        0.0       0.0      0.0       0.0      0.0      3 ⋯\n",
       "   2 │      2      0.0        0.0       0.0      0.0       6.0      0.0      0\n",
       "   3 │      3      0.0        0.0       0.0      0.0       0.0      0.0      1\n",
       "   4 │      4      0.0        0.0       0.0      0.0       5.0      0.0      0\n",
       "   5 │      5      0.0        0.0       0.0      0.0       4.0      0.0      0 ⋯\n",
       "   6 │      6      0.0        0.0       0.0      0.0       2.0      0.0      0\n",
       "\u001b[36m                                                                1 column omitted\u001b[0m"
      ]
     },
     "metadata": {},
     "output_type": "display_data"
    },
    {
     "data": {
      "text/html": [
       "<div><div style = \"float: left;\"><span>6×8 DataFrame</span></div><div style = \"clear: both;\"></div></div><div class = \"data-frame\" style = \"overflow-x: scroll;\"><table class = \"data-frame\" style = \"margin-bottom: 6px;\"><thead><tr class = \"header\"><th class = \"rowNumber\" style = \"font-weight: bold; text-align: right;\">Row</th><th style = \"text-align: left;\">Player</th><th style = \"text-align: left;\">Tuesday</th><th style = \"text-align: left;\">Wednesday</th><th style = \"text-align: left;\">Thursday</th><th style = \"text-align: left;\">Friday</th><th style = \"text-align: left;\">Saturday</th><th style = \"text-align: left;\">Sunday</th><th style = \"text-align: left;\">Monday</th></tr><tr class = \"subheader headerLastRow\"><th class = \"rowNumber\" style = \"font-weight: bold; text-align: right;\"></th><th title = \"Int64\" style = \"text-align: left;\">Int64</th><th title = \"Float64\" style = \"text-align: left;\">Float64</th><th title = \"Float64\" style = \"text-align: left;\">Float64</th><th title = \"Float64\" style = \"text-align: left;\">Float64</th><th title = \"Float64\" style = \"text-align: left;\">Float64</th><th title = \"Float64\" style = \"text-align: left;\">Float64</th><th title = \"Float64\" style = \"text-align: left;\">Float64</th><th title = \"Float64\" style = \"text-align: left;\">Float64</th></tr></thead><tbody><tr><td class = \"rowNumber\" style = \"font-weight: bold; text-align: right;\">1</td><td style = \"text-align: right;\">1</td><td style = \"text-align: right;\">0.0</td><td style = \"text-align: right;\">0.0</td><td style = \"text-align: right;\">0.0</td><td style = \"text-align: right;\">0.0</td><td style = \"text-align: right;\">0.0</td><td style = \"text-align: right;\">2.0</td><td style = \"text-align: right;\">0.0</td></tr><tr><td class = \"rowNumber\" style = \"font-weight: bold; text-align: right;\">2</td><td style = \"text-align: right;\">2</td><td style = \"text-align: right;\">0.0</td><td style = \"text-align: right;\">0.0</td><td style = \"text-align: right;\">0.0</td><td style = \"text-align: right;\">0.0</td><td style = \"text-align: right;\">0.0</td><td style = \"text-align: right;\">1.0</td><td style = \"text-align: right;\">0.0</td></tr><tr><td class = \"rowNumber\" style = \"font-weight: bold; text-align: right;\">3</td><td style = \"text-align: right;\">3</td><td style = \"text-align: right;\">0.0</td><td style = \"text-align: right;\">0.0</td><td style = \"text-align: right;\">0.0</td><td style = \"text-align: right;\">0.0</td><td style = \"text-align: right;\">0.0</td><td style = \"text-align: right;\">4.0</td><td style = \"text-align: right;\">0.0</td></tr><tr><td class = \"rowNumber\" style = \"font-weight: bold; text-align: right;\">4</td><td style = \"text-align: right;\">4</td><td style = \"text-align: right;\">0.0</td><td style = \"text-align: right;\">0.0</td><td style = \"text-align: right;\">0.0</td><td style = \"text-align: right;\">0.0</td><td style = \"text-align: right;\">0.0</td><td style = \"text-align: right;\">3.0</td><td style = \"text-align: right;\">0.0</td></tr><tr><td class = \"rowNumber\" style = \"font-weight: bold; text-align: right;\">5</td><td style = \"text-align: right;\">5</td><td style = \"text-align: right;\">0.0</td><td style = \"text-align: right;\">0.0</td><td style = \"text-align: right;\">0.0</td><td style = \"text-align: right;\">0.0</td><td style = \"text-align: right;\">0.0</td><td style = \"text-align: right;\">6.0</td><td style = \"text-align: right;\">0.0</td></tr><tr><td class = \"rowNumber\" style = \"font-weight: bold; text-align: right;\">6</td><td style = \"text-align: right;\">6</td><td style = \"text-align: right;\">0.0</td><td style = \"text-align: right;\">0.0</td><td style = \"text-align: right;\">0.0</td><td style = \"text-align: right;\">0.0</td><td style = \"text-align: right;\">0.0</td><td style = \"text-align: right;\">5.0</td><td style = \"text-align: right;\">0.0</td></tr></tbody></table></div>"
      ],
      "text/latex": [
       "\\begin{tabular}{r|cccccccc}\n",
       "\t& Player & Tuesday & Wednesday & Thursday & Friday & Saturday & Sunday & Monday\\\\\n",
       "\t\\hline\n",
       "\t& Int64 & Float64 & Float64 & Float64 & Float64 & Float64 & Float64 & Float64\\\\\n",
       "\t\\hline\n",
       "\t1 & 1 & 0.0 & 0.0 & 0.0 & 0.0 & 0.0 & 2.0 & 0.0 \\\\\n",
       "\t2 & 2 & 0.0 & 0.0 & 0.0 & 0.0 & 0.0 & 1.0 & 0.0 \\\\\n",
       "\t3 & 3 & 0.0 & 0.0 & 0.0 & 0.0 & 0.0 & 4.0 & 0.0 \\\\\n",
       "\t4 & 4 & 0.0 & 0.0 & 0.0 & 0.0 & 0.0 & 3.0 & 0.0 \\\\\n",
       "\t5 & 5 & 0.0 & 0.0 & 0.0 & 0.0 & 0.0 & 6.0 & 0.0 \\\\\n",
       "\t6 & 6 & 0.0 & 0.0 & 0.0 & 0.0 & 0.0 & 5.0 & 0.0 \\\\\n",
       "\\end{tabular}\n"
      ],
      "text/plain": [
       "\u001b[1m6×8 DataFrame\u001b[0m\n",
       "\u001b[1m Row \u001b[0m│\u001b[1m Player \u001b[0m\u001b[1m Tuesday \u001b[0m\u001b[1m Wednesday \u001b[0m\u001b[1m Thursday \u001b[0m\u001b[1m Friday  \u001b[0m\u001b[1m Saturday \u001b[0m\u001b[1m Sunday  \u001b[0m\u001b[1m Monda\u001b[0m ⋯\n",
       "     │\u001b[90m Int64  \u001b[0m\u001b[90m Float64 \u001b[0m\u001b[90m Float64   \u001b[0m\u001b[90m Float64  \u001b[0m\u001b[90m Float64 \u001b[0m\u001b[90m Float64  \u001b[0m\u001b[90m Float64 \u001b[0m\u001b[90m Float\u001b[0m ⋯\n",
       "─────┼──────────────────────────────────────────────────────────────────────────\n",
       "   1 │      1      0.0        0.0       0.0      0.0       0.0      2.0      0 ⋯\n",
       "   2 │      2      0.0        0.0       0.0      0.0       0.0      1.0      0\n",
       "   3 │      3      0.0        0.0       0.0      0.0       0.0      4.0      0\n",
       "   4 │      4      0.0        0.0       0.0      0.0       0.0      3.0      0\n",
       "   5 │      5      0.0        0.0       0.0      0.0       0.0      6.0      0 ⋯\n",
       "   6 │      6      0.0        0.0       0.0      0.0       0.0      5.0      0\n",
       "\u001b[36m                                                                1 column omitted\u001b[0m"
      ]
     },
     "metadata": {},
     "output_type": "display_data"
    },
    {
     "data": {
      "text/html": [
       "<div><div style = \"float: left;\"><span>6×8 DataFrame</span></div><div style = \"clear: both;\"></div></div><div class = \"data-frame\" style = \"overflow-x: scroll;\"><table class = \"data-frame\" style = \"margin-bottom: 6px;\"><thead><tr class = \"header\"><th class = \"rowNumber\" style = \"font-weight: bold; text-align: right;\">Row</th><th style = \"text-align: left;\">Player</th><th style = \"text-align: left;\">Tuesday</th><th style = \"text-align: left;\">Wednesday</th><th style = \"text-align: left;\">Thursday</th><th style = \"text-align: left;\">Friday</th><th style = \"text-align: left;\">Saturday</th><th style = \"text-align: left;\">Sunday</th><th style = \"text-align: left;\">Monday</th></tr><tr class = \"subheader headerLastRow\"><th class = \"rowNumber\" style = \"font-weight: bold; text-align: right;\"></th><th title = \"Int64\" style = \"text-align: left;\">Int64</th><th title = \"Float64\" style = \"text-align: left;\">Float64</th><th title = \"Float64\" style = \"text-align: left;\">Float64</th><th title = \"Float64\" style = \"text-align: left;\">Float64</th><th title = \"Float64\" style = \"text-align: left;\">Float64</th><th title = \"Float64\" style = \"text-align: left;\">Float64</th><th title = \"Float64\" style = \"text-align: left;\">Float64</th><th title = \"Float64\" style = \"text-align: left;\">Float64</th></tr></thead><tbody><tr><td class = \"rowNumber\" style = \"font-weight: bold; text-align: right;\">1</td><td style = \"text-align: right;\">1</td><td style = \"text-align: right;\">0.0</td><td style = \"text-align: right;\">0.0</td><td style = \"text-align: right;\">0.0</td><td style = \"text-align: right;\">0.0</td><td style = \"text-align: right;\">0.0</td><td style = \"text-align: right;\">0.0</td><td style = \"text-align: right;\">6.0</td></tr><tr><td class = \"rowNumber\" style = \"font-weight: bold; text-align: right;\">2</td><td style = \"text-align: right;\">2</td><td style = \"text-align: right;\">0.0</td><td style = \"text-align: right;\">0.0</td><td style = \"text-align: right;\">0.0</td><td style = \"text-align: right;\">0.0</td><td style = \"text-align: right;\">0.0</td><td style = \"text-align: right;\">0.0</td><td style = \"text-align: right;\">4.0</td></tr><tr><td class = \"rowNumber\" style = \"font-weight: bold; text-align: right;\">3</td><td style = \"text-align: right;\">3</td><td style = \"text-align: right;\">0.0</td><td style = \"text-align: right;\">0.0</td><td style = \"text-align: right;\">0.0</td><td style = \"text-align: right;\">0.0</td><td style = \"text-align: right;\">0.0</td><td style = \"text-align: right;\">0.0</td><td style = \"text-align: right;\">5.0</td></tr><tr><td class = \"rowNumber\" style = \"font-weight: bold; text-align: right;\">4</td><td style = \"text-align: right;\">4</td><td style = \"text-align: right;\">0.0</td><td style = \"text-align: right;\">0.0</td><td style = \"text-align: right;\">0.0</td><td style = \"text-align: right;\">0.0</td><td style = \"text-align: right;\">0.0</td><td style = \"text-align: right;\">0.0</td><td style = \"text-align: right;\">2.0</td></tr><tr><td class = \"rowNumber\" style = \"font-weight: bold; text-align: right;\">5</td><td style = \"text-align: right;\">5</td><td style = \"text-align: right;\">0.0</td><td style = \"text-align: right;\">0.0</td><td style = \"text-align: right;\">0.0</td><td style = \"text-align: right;\">0.0</td><td style = \"text-align: right;\">0.0</td><td style = \"text-align: right;\">0.0</td><td style = \"text-align: right;\">3.0</td></tr><tr><td class = \"rowNumber\" style = \"font-weight: bold; text-align: right;\">6</td><td style = \"text-align: right;\">6</td><td style = \"text-align: right;\">0.0</td><td style = \"text-align: right;\">0.0</td><td style = \"text-align: right;\">0.0</td><td style = \"text-align: right;\">0.0</td><td style = \"text-align: right;\">0.0</td><td style = \"text-align: right;\">0.0</td><td style = \"text-align: right;\">1.0</td></tr></tbody></table></div>"
      ],
      "text/latex": [
       "\\begin{tabular}{r|cccccccc}\n",
       "\t& Player & Tuesday & Wednesday & Thursday & Friday & Saturday & Sunday & Monday\\\\\n",
       "\t\\hline\n",
       "\t& Int64 & Float64 & Float64 & Float64 & Float64 & Float64 & Float64 & Float64\\\\\n",
       "\t\\hline\n",
       "\t1 & 1 & 0.0 & 0.0 & 0.0 & 0.0 & 0.0 & 0.0 & 6.0 \\\\\n",
       "\t2 & 2 & 0.0 & 0.0 & 0.0 & 0.0 & 0.0 & 0.0 & 4.0 \\\\\n",
       "\t3 & 3 & 0.0 & 0.0 & 0.0 & 0.0 & 0.0 & 0.0 & 5.0 \\\\\n",
       "\t4 & 4 & 0.0 & 0.0 & 0.0 & 0.0 & 0.0 & 0.0 & 2.0 \\\\\n",
       "\t5 & 5 & 0.0 & 0.0 & 0.0 & 0.0 & 0.0 & 0.0 & 3.0 \\\\\n",
       "\t6 & 6 & 0.0 & 0.0 & 0.0 & 0.0 & 0.0 & 0.0 & 1.0 \\\\\n",
       "\\end{tabular}\n"
      ],
      "text/plain": [
       "\u001b[1m6×8 DataFrame\u001b[0m\n",
       "\u001b[1m Row \u001b[0m│\u001b[1m Player \u001b[0m\u001b[1m Tuesday \u001b[0m\u001b[1m Wednesday \u001b[0m\u001b[1m Thursday \u001b[0m\u001b[1m Friday  \u001b[0m\u001b[1m Saturday \u001b[0m\u001b[1m Sunday  \u001b[0m\u001b[1m Monda\u001b[0m ⋯\n",
       "     │\u001b[90m Int64  \u001b[0m\u001b[90m Float64 \u001b[0m\u001b[90m Float64   \u001b[0m\u001b[90m Float64  \u001b[0m\u001b[90m Float64 \u001b[0m\u001b[90m Float64  \u001b[0m\u001b[90m Float64 \u001b[0m\u001b[90m Float\u001b[0m ⋯\n",
       "─────┼──────────────────────────────────────────────────────────────────────────\n",
       "   1 │      1      0.0        0.0       0.0      0.0       0.0      0.0      6 ⋯\n",
       "   2 │      2      0.0        0.0       0.0      0.0       0.0      0.0      4\n",
       "   3 │      3      0.0        0.0       0.0      0.0       0.0      0.0      5\n",
       "   4 │      4      0.0        0.0       0.0      0.0       0.0      0.0      2\n",
       "   5 │      5      0.0        0.0       0.0      0.0       0.0      0.0      3 ⋯\n",
       "   6 │      6      0.0        0.0       0.0      0.0       0.0      0.0      1\n",
       "\u001b[36m                                                                1 column omitted\u001b[0m"
      ]
     },
     "metadata": {},
     "output_type": "display_data"
    },
    {
     "ename": "LoadError",
     "evalue": "BoundsError: attempt to access 5-element Vector{Any} at index [6]",
     "output_type": "error",
     "traceback": [
      "BoundsError: attempt to access 5-element Vector{Any} at index [6]",
      "",
      "Stacktrace:",
      " [1] getindex(A::Vector{Any}, i1::Int64)",
      "   @ Base .\\array.jl:924",
      " [2] top-level scope",
      "   @ .\\In[20]:2",
      " [3] eval",
      "   @ .\\boot.jl:368 [inlined]",
      " [4] include_string(mapexpr::typeof(REPL.softscope), mod::Module, code::String, filename::String)",
      "   @ Base .\\loading.jl:1428"
     ]
    }
   ],
   "source": [
    "for w in 1:W\n",
    "    display(calendar_p1[w])\n",
    "end"
   ]
  },
  {
   "cell_type": "markdown",
   "metadata": {},
   "source": [
    "## Preliminary attempt 2: make it scale to 8 teams"
   ]
  },
  {
   "cell_type": "markdown",
   "metadata": {},
   "source": [
    "Here I want to put our other approach, where we made it scale to 8 teams"
   ]
  },
  {
   "cell_type": "markdown",
   "metadata": {},
   "source": [
    "## Approach 1: Optimize 4 weeks at a time"
   ]
  },
  {
   "cell_type": "code",
   "execution_count": 63,
   "metadata": {},
   "outputs": [
    {
     "data": {
      "text/plain": [
       "Optimize4WeeksAndFreeze (generic function with 1 method)"
      ]
     },
     "execution_count": 63,
     "metadata": {},
     "output_type": "execute_result"
    }
   ],
   "source": [
    "function Optimize4WeeksAndFreeze(Y_old, Win, Wend)\n",
    "\n",
    "    # create model\n",
    "    model = Model(() -> Gurobi.Optimizer(GRB_ENV))\n",
    "\n",
    "    # set time limit\n",
    "    set_optimizer_attribute(model, \"TimeLimit\", 600)\n",
    "\n",
    "    # dont print output\n",
    "    set_silent(model)\n",
    "\n",
    "    # PARAMETERS\n",
    "    C = GetC()\n",
    "    N = 20 # teams\n",
    "    D = 7 # days\n",
    "\n",
    "    # VARIABLES\n",
    "    @variable(model, x[i = 1:N, j = 1:N, w = Win:Wend, d = 1:D], Bin) # 1 if team i plays team j on day d of week w, 0 otherwise\n",
    "    @variable(model, a[i = 1:N, j = 1:N, k = 1:N, w = Win:Wend, d = 1:D, d_ = 1:D] >= 0) # will be pushed to be binary\n",
    "    @variable(model, y[i = 1:N, j = 1:N], Bin) # 1 if team i played team j on w, 0 otherwise\n",
    "\n",
    "    # OBJECTIVE FUNCTION\n",
    "    # put penalty on having y[i,j] = 1, otherwise formulation put all of them to 1\n",
    "    @objective(model, Min, sum(C[7 * w + d, 7 * (w+1) + d_] * a[i, j, k, w, d, d_] for i in 1:N, \n",
    "        j in 1:N, k in 1:N, w in Win:Wend-1, d in 1:D, d_ in 1:D) + sum(y[i, j] for i = 1:N, j = 1:N)) ### HAMZA: why do we add sum(y[i,j]) in the objective function\n",
    "\n",
    "    # CONSTRAINTS\n",
    "    # linearize objective function\n",
    "    @constraint(model, [i = 1:N, j = 1:N, k = 1:N, w = Win:Wend-1, d = 1:D, d_ = 1:D], a[i, j, k, w, d, d_] <= x[i, j, w, d])\n",
    "    @constraint(model, [i = 1:N, j = 1:N, k = 1:N, w = Win:Wend-1, d = 1:D, d_ = 1:D], a[i, j, k, w, d, d_] <= x[i, k, w+1, d])\n",
    "    @constraint(model, [i = 1:N, j = 1:N, k = 1:N, w = Win:Wend-1, d = 1:D, d_ = 1:D], a[i, j, k, w, d, d_] >= x[i, j, w, d] + x[i, k, w+1, d] - 1)\n",
    "\n",
    "    # teams can never play against themselves\n",
    "    @constraint(model, [i = 1:N, w = Win:Wend, d = 1:D], x[i, i, w, d] == 0)\n",
    "\n",
    "    # if A plays against B, then B plays against A\n",
    "    @constraint(model, [i = 1:N, j = 1:N, w = Win:Wend, d = 1:D], x[i, j, w, d] == x[j, i, w, d])\n",
    "\n",
    "    # each team can only play at most one game per week\n",
    "    @constraint(model, [i = 1:N, w = Win:Wend], sum(x[i, j, w, d] for j in 1:N, d in 1:D) <= 1)\n",
    "\n",
    "    # each team plays Wend - Win + 1 games in total\n",
    "    @constraint(model, [i = 1:N], sum(x[i, j, w, d] for j in 1:N, w in Win:Wend, d in 1:D) == Wend - Win + 1)\n",
    "\n",
    "    # each game is against a different team, team play against each other team at most once\n",
    "    @constraint(model, [i = 1:N, j = 1:N], sum(x[i, j, w, d] for w in Win:Wend, d in 1:D) <= 1)\n",
    "\n",
    "    # if team i plays team j, update Y\n",
    "    @constraint(model, [i = 1:N, j = 1:N], y[i, j] >= sum(x[i, j, w, d] for d in 1:D, w = Win:Wend))\n",
    "\n",
    "    # if team i played team j, team j played team i\n",
    "    @constraint(model, [i = 1:N, j = 1:N], y[i, j] == y[j, i])\n",
    "    \n",
    "    # if team i played team j in the past, then they can't play again now\n",
    "    @constraint(model, [i = 1:N, j = 1:N], sum(x[i,j,w,d] for w in Win:Wend, d in 1:D) <= 1 - Y_old[i, j])\n",
    "\n",
    "    # cannot plays on days 1,2,3\n",
    "    @constraint(model, [i = 1:N, j = 1:N, w = Win:Wend, d = 1:3], x[i, j, w, d] == 0)\n",
    "\n",
    "    # OPTIMIZE\n",
    "    optimize!(model)\n",
    "\n",
    "    # update old X, Y before returning them\n",
    "    Y_old = Y_old .+ value.(y)\n",
    "\n",
    "    return value.(x), Y_old\n",
    "\n",
    "end"
   ]
  },
  {
   "cell_type": "code",
   "execution_count": 98,
   "metadata": {},
   "outputs": [
    {
     "name": "stdout",
     "output_type": "stream",
     "text": [
      "Initial week: 1, end week: 4\n",
      "#############################################\n",
      "Initial week: 5, end week: 8\n",
      "#############################################\n",
      "Initial week: 9, end week: 12\n",
      "#############################################\n",
      "Initial week: 13, end week: 16\n",
      "#############################################\n",
      "Initial week: 17, end week: 19\n",
      "#############################################\n"
     ]
    }
   ],
   "source": [
    "Win_list = [1, 5, 9, 13, 17]\n",
    "Wend_list = [4, 8, 12, 16, 19]\n",
    "\n",
    "# first time, Y_old initialized to empty\n",
    "Y_old_1 = zeros(20, 20)   # teams never played against each other before\n",
    "\n",
    "# define calendar list, each time append the calendar week to \n",
    "calendar_1 = []\n",
    "\n",
    "for (Win, Wend) in zip(Win_list, Wend_list)\n",
    "\n",
    "    println(\"Initial week: \", Win, \", end week: \", Wend)\n",
    "    println(\"#############################################\")\n",
    "\n",
    "    # get value of X and Y\n",
    "    X_1, Y_old_1 = Optimize4WeeksAndFreeze(Y_old_1, Win, Wend)\n",
    "\n",
    "    for w in Win:Wend\n",
    "        push!(calendar_1, calendar_week(X_1, w))\n",
    "    end\n",
    "\n",
    "end"
   ]
  },
  {
   "cell_type": "code",
   "execution_count": 99,
   "metadata": {},
   "outputs": [
    {
     "name": "stdout",
     "output_type": "stream",
     "text": [
      "0.0\n",
      "380.0\n"
     ]
    }
   ],
   "source": [
    "# in this matrix all elements except the diagonal should be 1, in the diagonal they should all be 0\n",
    "println(sum([Y_old_1[i,i] for i in 1:20]))\n",
    "\n",
    "# all other elements should be 1 (400 elements in total, diagonal = 20 element is 0, sum should be 380)\n",
    "println(sum(Y_old_1))"
   ]
  },
  {
   "cell_type": "code",
   "execution_count": 108,
   "metadata": {},
   "outputs": [
    {
     "data": {
      "text/plain": [
       "55.30595238095238"
      ]
     },
     "execution_count": 108,
     "metadata": {},
     "output_type": "execute_result"
    }
   ],
   "source": [
    "obj_calendar_1 = ComputeObjectiveValue(calendar_1, W, 20)"
   ]
  },
  {
   "cell_type": "code",
   "execution_count": 101,
   "metadata": {},
   "outputs": [
    {
     "data": {
      "text/html": [
       "<div><div style = \"float: left;\"><span>20×8 DataFrame</span></div><div style = \"clear: both;\"></div></div><div class = \"data-frame\" style = \"overflow-x: scroll;\"><table class = \"data-frame\" style = \"margin-bottom: 6px;\"><thead><tr class = \"header\"><th class = \"rowNumber\" style = \"font-weight: bold; text-align: right;\">Row</th><th style = \"text-align: left;\">Player</th><th style = \"text-align: left;\">Tuesday</th><th style = \"text-align: left;\">Wednesday</th><th style = \"text-align: left;\">Thursday</th><th style = \"text-align: left;\">Friday</th><th style = \"text-align: left;\">Saturday</th><th style = \"text-align: left;\">Sunday</th><th style = \"text-align: left;\">Monday</th></tr><tr class = \"subheader headerLastRow\"><th class = \"rowNumber\" style = \"font-weight: bold; text-align: right;\"></th><th title = \"Int64\" style = \"text-align: left;\">Int64</th><th title = \"Float64\" style = \"text-align: left;\">Float64</th><th title = \"Float64\" style = \"text-align: left;\">Float64</th><th title = \"Float64\" style = \"text-align: left;\">Float64</th><th title = \"Float64\" style = \"text-align: left;\">Float64</th><th title = \"Float64\" style = \"text-align: left;\">Float64</th><th title = \"Float64\" style = \"text-align: left;\">Float64</th><th title = \"Float64\" style = \"text-align: left;\">Float64</th></tr></thead><tbody><tr><td class = \"rowNumber\" style = \"font-weight: bold; text-align: right;\">1</td><td style = \"text-align: right;\">1</td><td style = \"text-align: right;\">0.0</td><td style = \"text-align: right;\">0.0</td><td style = \"text-align: right;\">0.0</td><td style = \"text-align: right;\">0.0</td><td style = \"text-align: right;\">0.0</td><td style = \"text-align: right;\">0.0</td><td style = \"text-align: right;\">16.0</td></tr><tr><td class = \"rowNumber\" style = \"font-weight: bold; text-align: right;\">2</td><td style = \"text-align: right;\">2</td><td style = \"text-align: right;\">0.0</td><td style = \"text-align: right;\">0.0</td><td style = \"text-align: right;\">0.0</td><td style = \"text-align: right;\">0.0</td><td style = \"text-align: right;\">0.0</td><td style = \"text-align: right;\">17.0</td><td style = \"text-align: right;\">0.0</td></tr><tr><td class = \"rowNumber\" style = \"font-weight: bold; text-align: right;\">3</td><td style = \"text-align: right;\">3</td><td style = \"text-align: right;\">0.0</td><td style = \"text-align: right;\">0.0</td><td style = \"text-align: right;\">0.0</td><td style = \"text-align: right;\">0.0</td><td style = \"text-align: right;\">10.0</td><td style = \"text-align: right;\">0.0</td><td style = \"text-align: right;\">0.0</td></tr><tr><td class = \"rowNumber\" style = \"font-weight: bold; text-align: right;\">4</td><td style = \"text-align: right;\">4</td><td style = \"text-align: right;\">0.0</td><td style = \"text-align: right;\">0.0</td><td style = \"text-align: right;\">0.0</td><td style = \"text-align: right;\">0.0</td><td style = \"text-align: right;\">0.0</td><td style = \"text-align: right;\">0.0</td><td style = \"text-align: right;\">9.0</td></tr><tr><td class = \"rowNumber\" style = \"font-weight: bold; text-align: right;\">5</td><td style = \"text-align: right;\">5</td><td style = \"text-align: right;\">0.0</td><td style = \"text-align: right;\">0.0</td><td style = \"text-align: right;\">0.0</td><td style = \"text-align: right;\">0.0</td><td style = \"text-align: right;\">8.0</td><td style = \"text-align: right;\">0.0</td><td style = \"text-align: right;\">0.0</td></tr><tr><td class = \"rowNumber\" style = \"font-weight: bold; text-align: right;\">6</td><td style = \"text-align: right;\">6</td><td style = \"text-align: right;\">0.0</td><td style = \"text-align: right;\">0.0</td><td style = \"text-align: right;\">0.0</td><td style = \"text-align: right;\">14.0</td><td style = \"text-align: right;\">0.0</td><td style = \"text-align: right;\">0.0</td><td style = \"text-align: right;\">0.0</td></tr><tr><td class = \"rowNumber\" style = \"font-weight: bold; text-align: right;\">7</td><td style = \"text-align: right;\">7</td><td style = \"text-align: right;\">0.0</td><td style = \"text-align: right;\">0.0</td><td style = \"text-align: right;\">0.0</td><td style = \"text-align: right;\">13.0</td><td style = \"text-align: right;\">0.0</td><td style = \"text-align: right;\">0.0</td><td style = \"text-align: right;\">0.0</td></tr><tr><td class = \"rowNumber\" style = \"font-weight: bold; text-align: right;\">8</td><td style = \"text-align: right;\">8</td><td style = \"text-align: right;\">0.0</td><td style = \"text-align: right;\">0.0</td><td style = \"text-align: right;\">0.0</td><td style = \"text-align: right;\">0.0</td><td style = \"text-align: right;\">5.0</td><td style = \"text-align: right;\">0.0</td><td style = \"text-align: right;\">0.0</td></tr><tr><td class = \"rowNumber\" style = \"font-weight: bold; text-align: right;\">9</td><td style = \"text-align: right;\">9</td><td style = \"text-align: right;\">0.0</td><td style = \"text-align: right;\">0.0</td><td style = \"text-align: right;\">0.0</td><td style = \"text-align: right;\">0.0</td><td style = \"text-align: right;\">0.0</td><td style = \"text-align: right;\">0.0</td><td style = \"text-align: right;\">4.0</td></tr><tr><td class = \"rowNumber\" style = \"font-weight: bold; text-align: right;\">10</td><td style = \"text-align: right;\">10</td><td style = \"text-align: right;\">0.0</td><td style = \"text-align: right;\">0.0</td><td style = \"text-align: right;\">0.0</td><td style = \"text-align: right;\">0.0</td><td style = \"text-align: right;\">3.0</td><td style = \"text-align: right;\">0.0</td><td style = \"text-align: right;\">0.0</td></tr><tr><td class = \"rowNumber\" style = \"font-weight: bold; text-align: right;\">11</td><td style = \"text-align: right;\">11</td><td style = \"text-align: right;\">0.0</td><td style = \"text-align: right;\">0.0</td><td style = \"text-align: right;\">0.0</td><td style = \"text-align: right;\">0.0</td><td style = \"text-align: right;\">20.0</td><td style = \"text-align: right;\">0.0</td><td style = \"text-align: right;\">0.0</td></tr><tr><td class = \"rowNumber\" style = \"font-weight: bold; text-align: right;\">12</td><td style = \"text-align: right;\">12</td><td style = \"text-align: right;\">0.0</td><td style = \"text-align: right;\">0.0</td><td style = \"text-align: right;\">0.0</td><td style = \"text-align: right;\">0.0</td><td style = \"text-align: right;\">18.0</td><td style = \"text-align: right;\">0.0</td><td style = \"text-align: right;\">0.0</td></tr><tr><td class = \"rowNumber\" style = \"font-weight: bold; text-align: right;\">13</td><td style = \"text-align: right;\">13</td><td style = \"text-align: right;\">0.0</td><td style = \"text-align: right;\">0.0</td><td style = \"text-align: right;\">0.0</td><td style = \"text-align: right;\">7.0</td><td style = \"text-align: right;\">0.0</td><td style = \"text-align: right;\">0.0</td><td style = \"text-align: right;\">0.0</td></tr><tr><td class = \"rowNumber\" style = \"font-weight: bold; text-align: right;\">14</td><td style = \"text-align: right;\">14</td><td style = \"text-align: right;\">0.0</td><td style = \"text-align: right;\">0.0</td><td style = \"text-align: right;\">0.0</td><td style = \"text-align: right;\">6.0</td><td style = \"text-align: right;\">0.0</td><td style = \"text-align: right;\">0.0</td><td style = \"text-align: right;\">0.0</td></tr><tr><td class = \"rowNumber\" style = \"font-weight: bold; text-align: right;\">15</td><td style = \"text-align: right;\">15</td><td style = \"text-align: right;\">0.0</td><td style = \"text-align: right;\">0.0</td><td style = \"text-align: right;\">0.0</td><td style = \"text-align: right;\">0.0</td><td style = \"text-align: right;\">0.0</td><td style = \"text-align: right;\">0.0</td><td style = \"text-align: right;\">19.0</td></tr><tr><td class = \"rowNumber\" style = \"font-weight: bold; text-align: right;\">16</td><td style = \"text-align: right;\">16</td><td style = \"text-align: right;\">0.0</td><td style = \"text-align: right;\">0.0</td><td style = \"text-align: right;\">0.0</td><td style = \"text-align: right;\">0.0</td><td style = \"text-align: right;\">0.0</td><td style = \"text-align: right;\">0.0</td><td style = \"text-align: right;\">1.0</td></tr><tr><td class = \"rowNumber\" style = \"font-weight: bold; text-align: right;\">17</td><td style = \"text-align: right;\">17</td><td style = \"text-align: right;\">0.0</td><td style = \"text-align: right;\">0.0</td><td style = \"text-align: right;\">0.0</td><td style = \"text-align: right;\">0.0</td><td style = \"text-align: right;\">0.0</td><td style = \"text-align: right;\">2.0</td><td style = \"text-align: right;\">0.0</td></tr><tr><td class = \"rowNumber\" style = \"font-weight: bold; text-align: right;\">18</td><td style = \"text-align: right;\">18</td><td style = \"text-align: right;\">0.0</td><td style = \"text-align: right;\">0.0</td><td style = \"text-align: right;\">0.0</td><td style = \"text-align: right;\">0.0</td><td style = \"text-align: right;\">12.0</td><td style = \"text-align: right;\">0.0</td><td style = \"text-align: right;\">0.0</td></tr><tr><td class = \"rowNumber\" style = \"font-weight: bold; text-align: right;\">19</td><td style = \"text-align: right;\">19</td><td style = \"text-align: right;\">0.0</td><td style = \"text-align: right;\">0.0</td><td style = \"text-align: right;\">0.0</td><td style = \"text-align: right;\">0.0</td><td style = \"text-align: right;\">0.0</td><td style = \"text-align: right;\">0.0</td><td style = \"text-align: right;\">15.0</td></tr><tr><td class = \"rowNumber\" style = \"font-weight: bold; text-align: right;\">20</td><td style = \"text-align: right;\">20</td><td style = \"text-align: right;\">0.0</td><td style = \"text-align: right;\">0.0</td><td style = \"text-align: right;\">0.0</td><td style = \"text-align: right;\">0.0</td><td style = \"text-align: right;\">11.0</td><td style = \"text-align: right;\">0.0</td><td style = \"text-align: right;\">0.0</td></tr></tbody></table></div>"
      ],
      "text/latex": [
       "\\begin{tabular}{r|cccccccc}\n",
       "\t& Player & Tuesday & Wednesday & Thursday & Friday & Saturday & Sunday & Monday\\\\\n",
       "\t\\hline\n",
       "\t& Int64 & Float64 & Float64 & Float64 & Float64 & Float64 & Float64 & Float64\\\\\n",
       "\t\\hline\n",
       "\t1 & 1 & 0.0 & 0.0 & 0.0 & 0.0 & 0.0 & 0.0 & 16.0 \\\\\n",
       "\t2 & 2 & 0.0 & 0.0 & 0.0 & 0.0 & 0.0 & 17.0 & 0.0 \\\\\n",
       "\t3 & 3 & 0.0 & 0.0 & 0.0 & 0.0 & 10.0 & 0.0 & 0.0 \\\\\n",
       "\t4 & 4 & 0.0 & 0.0 & 0.0 & 0.0 & 0.0 & 0.0 & 9.0 \\\\\n",
       "\t5 & 5 & 0.0 & 0.0 & 0.0 & 0.0 & 8.0 & 0.0 & 0.0 \\\\\n",
       "\t6 & 6 & 0.0 & 0.0 & 0.0 & 14.0 & 0.0 & 0.0 & 0.0 \\\\\n",
       "\t7 & 7 & 0.0 & 0.0 & 0.0 & 13.0 & 0.0 & 0.0 & 0.0 \\\\\n",
       "\t8 & 8 & 0.0 & 0.0 & 0.0 & 0.0 & 5.0 & 0.0 & 0.0 \\\\\n",
       "\t9 & 9 & 0.0 & 0.0 & 0.0 & 0.0 & 0.0 & 0.0 & 4.0 \\\\\n",
       "\t10 & 10 & 0.0 & 0.0 & 0.0 & 0.0 & 3.0 & 0.0 & 0.0 \\\\\n",
       "\t11 & 11 & 0.0 & 0.0 & 0.0 & 0.0 & 20.0 & 0.0 & 0.0 \\\\\n",
       "\t12 & 12 & 0.0 & 0.0 & 0.0 & 0.0 & 18.0 & 0.0 & 0.0 \\\\\n",
       "\t13 & 13 & 0.0 & 0.0 & 0.0 & 7.0 & 0.0 & 0.0 & 0.0 \\\\\n",
       "\t14 & 14 & 0.0 & 0.0 & 0.0 & 6.0 & 0.0 & 0.0 & 0.0 \\\\\n",
       "\t15 & 15 & 0.0 & 0.0 & 0.0 & 0.0 & 0.0 & 0.0 & 19.0 \\\\\n",
       "\t16 & 16 & 0.0 & 0.0 & 0.0 & 0.0 & 0.0 & 0.0 & 1.0 \\\\\n",
       "\t17 & 17 & 0.0 & 0.0 & 0.0 & 0.0 & 0.0 & 2.0 & 0.0 \\\\\n",
       "\t18 & 18 & 0.0 & 0.0 & 0.0 & 0.0 & 12.0 & 0.0 & 0.0 \\\\\n",
       "\t19 & 19 & 0.0 & 0.0 & 0.0 & 0.0 & 0.0 & 0.0 & 15.0 \\\\\n",
       "\t20 & 20 & 0.0 & 0.0 & 0.0 & 0.0 & 11.0 & 0.0 & 0.0 \\\\\n",
       "\\end{tabular}\n"
      ],
      "text/plain": [
       "\u001b[1m20×8 DataFrame\u001b[0m\n",
       "\u001b[1m Row \u001b[0m│\u001b[1m Player \u001b[0m\u001b[1m Tuesday \u001b[0m\u001b[1m Wednesday \u001b[0m\u001b[1m Thursday \u001b[0m\u001b[1m Friday  \u001b[0m\u001b[1m Saturday \u001b[0m\u001b[1m Sunday  \u001b[0m\u001b[1m Monda\u001b[0m ⋯\n",
       "     │\u001b[90m Int64  \u001b[0m\u001b[90m Float64 \u001b[0m\u001b[90m Float64   \u001b[0m\u001b[90m Float64  \u001b[0m\u001b[90m Float64 \u001b[0m\u001b[90m Float64  \u001b[0m\u001b[90m Float64 \u001b[0m\u001b[90m Float\u001b[0m ⋯\n",
       "─────┼──────────────────────────────────────────────────────────────────────────\n",
       "   1 │      1      0.0        0.0       0.0      0.0       0.0      0.0     16 ⋯\n",
       "   2 │      2      0.0        0.0       0.0      0.0       0.0     17.0      0\n",
       "   3 │      3      0.0        0.0       0.0      0.0      10.0      0.0      0\n",
       "   4 │      4      0.0        0.0       0.0      0.0       0.0      0.0      9\n",
       "   5 │      5      0.0        0.0       0.0      0.0       8.0      0.0      0 ⋯\n",
       "   6 │      6      0.0        0.0       0.0     14.0       0.0      0.0      0\n",
       "   7 │      7      0.0        0.0       0.0     13.0       0.0      0.0      0\n",
       "   8 │      8      0.0        0.0       0.0      0.0       5.0      0.0      0\n",
       "   9 │      9      0.0        0.0       0.0      0.0       0.0      0.0      4 ⋯\n",
       "  10 │     10      0.0        0.0       0.0      0.0       3.0      0.0      0\n",
       "  11 │     11      0.0        0.0       0.0      0.0      20.0      0.0      0\n",
       "  12 │     12      0.0        0.0       0.0      0.0      18.0      0.0      0\n",
       "  13 │     13      0.0        0.0       0.0      7.0       0.0      0.0      0 ⋯\n",
       "  14 │     14      0.0        0.0       0.0      6.0       0.0      0.0      0\n",
       "  15 │     15      0.0        0.0       0.0      0.0       0.0      0.0     19\n",
       "  16 │     16      0.0        0.0       0.0      0.0       0.0      0.0      1\n",
       "  17 │     17      0.0        0.0       0.0      0.0       0.0      2.0      0 ⋯\n",
       "  18 │     18      0.0        0.0       0.0      0.0      12.0      0.0      0\n",
       "  19 │     19      0.0        0.0       0.0      0.0       0.0      0.0     15\n",
       "  20 │     20      0.0        0.0       0.0      0.0      11.0      0.0      0\n",
       "\u001b[36m                                                                1 column omitted\u001b[0m"
      ]
     },
     "metadata": {},
     "output_type": "display_data"
    },
    {
     "data": {
      "text/html": [
       "<div><div style = \"float: left;\"><span>20×8 DataFrame</span></div><div style = \"clear: both;\"></div></div><div class = \"data-frame\" style = \"overflow-x: scroll;\"><table class = \"data-frame\" style = \"margin-bottom: 6px;\"><thead><tr class = \"header\"><th class = \"rowNumber\" style = \"font-weight: bold; text-align: right;\">Row</th><th style = \"text-align: left;\">Player</th><th style = \"text-align: left;\">Tuesday</th><th style = \"text-align: left;\">Wednesday</th><th style = \"text-align: left;\">Thursday</th><th style = \"text-align: left;\">Friday</th><th style = \"text-align: left;\">Saturday</th><th style = \"text-align: left;\">Sunday</th><th style = \"text-align: left;\">Monday</th></tr><tr class = \"subheader headerLastRow\"><th class = \"rowNumber\" style = \"font-weight: bold; text-align: right;\"></th><th title = \"Int64\" style = \"text-align: left;\">Int64</th><th title = \"Float64\" style = \"text-align: left;\">Float64</th><th title = \"Float64\" style = \"text-align: left;\">Float64</th><th title = \"Float64\" style = \"text-align: left;\">Float64</th><th title = \"Float64\" style = \"text-align: left;\">Float64</th><th title = \"Float64\" style = \"text-align: left;\">Float64</th><th title = \"Float64\" style = \"text-align: left;\">Float64</th><th title = \"Float64\" style = \"text-align: left;\">Float64</th></tr></thead><tbody><tr><td class = \"rowNumber\" style = \"font-weight: bold; text-align: right;\">1</td><td style = \"text-align: right;\">1</td><td style = \"text-align: right;\">0.0</td><td style = \"text-align: right;\">0.0</td><td style = \"text-align: right;\">0.0</td><td style = \"text-align: right;\">0.0</td><td style = \"text-align: right;\">0.0</td><td style = \"text-align: right;\">3.0</td><td style = \"text-align: right;\">0.0</td></tr><tr><td class = \"rowNumber\" style = \"font-weight: bold; text-align: right;\">2</td><td style = \"text-align: right;\">2</td><td style = \"text-align: right;\">0.0</td><td style = \"text-align: right;\">0.0</td><td style = \"text-align: right;\">0.0</td><td style = \"text-align: right;\">0.0</td><td style = \"text-align: right;\">0.0</td><td style = \"text-align: right;\">0.0</td><td style = \"text-align: right;\">12.0</td></tr><tr><td class = \"rowNumber\" style = \"font-weight: bold; text-align: right;\">3</td><td style = \"text-align: right;\">3</td><td style = \"text-align: right;\">0.0</td><td style = \"text-align: right;\">0.0</td><td style = \"text-align: right;\">0.0</td><td style = \"text-align: right;\">0.0</td><td style = \"text-align: right;\">0.0</td><td style = \"text-align: right;\">1.0</td><td style = \"text-align: right;\">0.0</td></tr><tr><td class = \"rowNumber\" style = \"font-weight: bold; text-align: right;\">4</td><td style = \"text-align: right;\">4</td><td style = \"text-align: right;\">0.0</td><td style = \"text-align: right;\">0.0</td><td style = \"text-align: right;\">0.0</td><td style = \"text-align: right;\">11.0</td><td style = \"text-align: right;\">0.0</td><td style = \"text-align: right;\">0.0</td><td style = \"text-align: right;\">0.0</td></tr><tr><td class = \"rowNumber\" style = \"font-weight: bold; text-align: right;\">5</td><td style = \"text-align: right;\">5</td><td style = \"text-align: right;\">0.0</td><td style = \"text-align: right;\">0.0</td><td style = \"text-align: right;\">0.0</td><td style = \"text-align: right;\">0.0</td><td style = \"text-align: right;\">0.0</td><td style = \"text-align: right;\">0.0</td><td style = \"text-align: right;\">13.0</td></tr><tr><td class = \"rowNumber\" style = \"font-weight: bold; text-align: right;\">6</td><td style = \"text-align: right;\">6</td><td style = \"text-align: right;\">0.0</td><td style = \"text-align: right;\">0.0</td><td style = \"text-align: right;\">0.0</td><td style = \"text-align: right;\">0.0</td><td style = \"text-align: right;\">0.0</td><td style = \"text-align: right;\">16.0</td><td style = \"text-align: right;\">0.0</td></tr><tr><td class = \"rowNumber\" style = \"font-weight: bold; text-align: right;\">7</td><td style = \"text-align: right;\">7</td><td style = \"text-align: right;\">0.0</td><td style = \"text-align: right;\">0.0</td><td style = \"text-align: right;\">0.0</td><td style = \"text-align: right;\">0.0</td><td style = \"text-align: right;\">0.0</td><td style = \"text-align: right;\">19.0</td><td style = \"text-align: right;\">0.0</td></tr><tr><td class = \"rowNumber\" style = \"font-weight: bold; text-align: right;\">8</td><td style = \"text-align: right;\">8</td><td style = \"text-align: right;\">0.0</td><td style = \"text-align: right;\">0.0</td><td style = \"text-align: right;\">0.0</td><td style = \"text-align: right;\">17.0</td><td style = \"text-align: right;\">0.0</td><td style = \"text-align: right;\">0.0</td><td style = \"text-align: right;\">0.0</td></tr><tr><td class = \"rowNumber\" style = \"font-weight: bold; text-align: right;\">9</td><td style = \"text-align: right;\">9</td><td style = \"text-align: right;\">0.0</td><td style = \"text-align: right;\">0.0</td><td style = \"text-align: right;\">0.0</td><td style = \"text-align: right;\">0.0</td><td style = \"text-align: right;\">0.0</td><td style = \"text-align: right;\">18.0</td><td style = \"text-align: right;\">0.0</td></tr><tr><td class = \"rowNumber\" style = \"font-weight: bold; text-align: right;\">10</td><td style = \"text-align: right;\">10</td><td style = \"text-align: right;\">0.0</td><td style = \"text-align: right;\">0.0</td><td style = \"text-align: right;\">0.0</td><td style = \"text-align: right;\">0.0</td><td style = \"text-align: right;\">0.0</td><td style = \"text-align: right;\">0.0</td><td style = \"text-align: right;\">14.0</td></tr><tr><td class = \"rowNumber\" style = \"font-weight: bold; text-align: right;\">11</td><td style = \"text-align: right;\">11</td><td style = \"text-align: right;\">0.0</td><td style = \"text-align: right;\">0.0</td><td style = \"text-align: right;\">0.0</td><td style = \"text-align: right;\">4.0</td><td style = \"text-align: right;\">0.0</td><td style = \"text-align: right;\">0.0</td><td style = \"text-align: right;\">0.0</td></tr><tr><td class = \"rowNumber\" style = \"font-weight: bold; text-align: right;\">12</td><td style = \"text-align: right;\">12</td><td style = \"text-align: right;\">0.0</td><td style = \"text-align: right;\">0.0</td><td style = \"text-align: right;\">0.0</td><td style = \"text-align: right;\">0.0</td><td style = \"text-align: right;\">0.0</td><td style = \"text-align: right;\">0.0</td><td style = \"text-align: right;\">2.0</td></tr><tr><td class = \"rowNumber\" style = \"font-weight: bold; text-align: right;\">13</td><td style = \"text-align: right;\">13</td><td style = \"text-align: right;\">0.0</td><td style = \"text-align: right;\">0.0</td><td style = \"text-align: right;\">0.0</td><td style = \"text-align: right;\">0.0</td><td style = \"text-align: right;\">0.0</td><td style = \"text-align: right;\">0.0</td><td style = \"text-align: right;\">5.0</td></tr><tr><td class = \"rowNumber\" style = \"font-weight: bold; text-align: right;\">14</td><td style = \"text-align: right;\">14</td><td style = \"text-align: right;\">0.0</td><td style = \"text-align: right;\">0.0</td><td style = \"text-align: right;\">0.0</td><td style = \"text-align: right;\">0.0</td><td style = \"text-align: right;\">0.0</td><td style = \"text-align: right;\">0.0</td><td style = \"text-align: right;\">10.0</td></tr><tr><td class = \"rowNumber\" style = \"font-weight: bold; text-align: right;\">15</td><td style = \"text-align: right;\">15</td><td style = \"text-align: right;\">0.0</td><td style = \"text-align: right;\">0.0</td><td style = \"text-align: right;\">0.0</td><td style = \"text-align: right;\">0.0</td><td style = \"text-align: right;\">0.0</td><td style = \"text-align: right;\">20.0</td><td style = \"text-align: right;\">0.0</td></tr><tr><td class = \"rowNumber\" style = \"font-weight: bold; text-align: right;\">16</td><td style = \"text-align: right;\">16</td><td style = \"text-align: right;\">0.0</td><td style = \"text-align: right;\">0.0</td><td style = \"text-align: right;\">0.0</td><td style = \"text-align: right;\">0.0</td><td style = \"text-align: right;\">0.0</td><td style = \"text-align: right;\">6.0</td><td style = \"text-align: right;\">0.0</td></tr><tr><td class = \"rowNumber\" style = \"font-weight: bold; text-align: right;\">17</td><td style = \"text-align: right;\">17</td><td style = \"text-align: right;\">0.0</td><td style = \"text-align: right;\">0.0</td><td style = \"text-align: right;\">0.0</td><td style = \"text-align: right;\">8.0</td><td style = \"text-align: right;\">0.0</td><td style = \"text-align: right;\">0.0</td><td style = \"text-align: right;\">0.0</td></tr><tr><td class = \"rowNumber\" style = \"font-weight: bold; text-align: right;\">18</td><td style = \"text-align: right;\">18</td><td style = \"text-align: right;\">0.0</td><td style = \"text-align: right;\">0.0</td><td style = \"text-align: right;\">0.0</td><td style = \"text-align: right;\">0.0</td><td style = \"text-align: right;\">0.0</td><td style = \"text-align: right;\">9.0</td><td style = \"text-align: right;\">0.0</td></tr><tr><td class = \"rowNumber\" style = \"font-weight: bold; text-align: right;\">19</td><td style = \"text-align: right;\">19</td><td style = \"text-align: right;\">0.0</td><td style = \"text-align: right;\">0.0</td><td style = \"text-align: right;\">0.0</td><td style = \"text-align: right;\">0.0</td><td style = \"text-align: right;\">0.0</td><td style = \"text-align: right;\">7.0</td><td style = \"text-align: right;\">0.0</td></tr><tr><td class = \"rowNumber\" style = \"font-weight: bold; text-align: right;\">20</td><td style = \"text-align: right;\">20</td><td style = \"text-align: right;\">0.0</td><td style = \"text-align: right;\">0.0</td><td style = \"text-align: right;\">0.0</td><td style = \"text-align: right;\">0.0</td><td style = \"text-align: right;\">0.0</td><td style = \"text-align: right;\">15.0</td><td style = \"text-align: right;\">0.0</td></tr></tbody></table></div>"
      ],
      "text/latex": [
       "\\begin{tabular}{r|cccccccc}\n",
       "\t& Player & Tuesday & Wednesday & Thursday & Friday & Saturday & Sunday & Monday\\\\\n",
       "\t\\hline\n",
       "\t& Int64 & Float64 & Float64 & Float64 & Float64 & Float64 & Float64 & Float64\\\\\n",
       "\t\\hline\n",
       "\t1 & 1 & 0.0 & 0.0 & 0.0 & 0.0 & 0.0 & 3.0 & 0.0 \\\\\n",
       "\t2 & 2 & 0.0 & 0.0 & 0.0 & 0.0 & 0.0 & 0.0 & 12.0 \\\\\n",
       "\t3 & 3 & 0.0 & 0.0 & 0.0 & 0.0 & 0.0 & 1.0 & 0.0 \\\\\n",
       "\t4 & 4 & 0.0 & 0.0 & 0.0 & 11.0 & 0.0 & 0.0 & 0.0 \\\\\n",
       "\t5 & 5 & 0.0 & 0.0 & 0.0 & 0.0 & 0.0 & 0.0 & 13.0 \\\\\n",
       "\t6 & 6 & 0.0 & 0.0 & 0.0 & 0.0 & 0.0 & 16.0 & 0.0 \\\\\n",
       "\t7 & 7 & 0.0 & 0.0 & 0.0 & 0.0 & 0.0 & 19.0 & 0.0 \\\\\n",
       "\t8 & 8 & 0.0 & 0.0 & 0.0 & 17.0 & 0.0 & 0.0 & 0.0 \\\\\n",
       "\t9 & 9 & 0.0 & 0.0 & 0.0 & 0.0 & 0.0 & 18.0 & 0.0 \\\\\n",
       "\t10 & 10 & 0.0 & 0.0 & 0.0 & 0.0 & 0.0 & 0.0 & 14.0 \\\\\n",
       "\t11 & 11 & 0.0 & 0.0 & 0.0 & 4.0 & 0.0 & 0.0 & 0.0 \\\\\n",
       "\t12 & 12 & 0.0 & 0.0 & 0.0 & 0.0 & 0.0 & 0.0 & 2.0 \\\\\n",
       "\t13 & 13 & 0.0 & 0.0 & 0.0 & 0.0 & 0.0 & 0.0 & 5.0 \\\\\n",
       "\t14 & 14 & 0.0 & 0.0 & 0.0 & 0.0 & 0.0 & 0.0 & 10.0 \\\\\n",
       "\t15 & 15 & 0.0 & 0.0 & 0.0 & 0.0 & 0.0 & 20.0 & 0.0 \\\\\n",
       "\t16 & 16 & 0.0 & 0.0 & 0.0 & 0.0 & 0.0 & 6.0 & 0.0 \\\\\n",
       "\t17 & 17 & 0.0 & 0.0 & 0.0 & 8.0 & 0.0 & 0.0 & 0.0 \\\\\n",
       "\t18 & 18 & 0.0 & 0.0 & 0.0 & 0.0 & 0.0 & 9.0 & 0.0 \\\\\n",
       "\t19 & 19 & 0.0 & 0.0 & 0.0 & 0.0 & 0.0 & 7.0 & 0.0 \\\\\n",
       "\t20 & 20 & 0.0 & 0.0 & 0.0 & 0.0 & 0.0 & 15.0 & 0.0 \\\\\n",
       "\\end{tabular}\n"
      ],
      "text/plain": [
       "\u001b[1m20×8 DataFrame\u001b[0m\n",
       "\u001b[1m Row \u001b[0m│\u001b[1m Player \u001b[0m\u001b[1m Tuesday \u001b[0m\u001b[1m Wednesday \u001b[0m\u001b[1m Thursday \u001b[0m\u001b[1m Friday  \u001b[0m\u001b[1m Saturday \u001b[0m\u001b[1m Sunday  \u001b[0m\u001b[1m Monda\u001b[0m ⋯\n",
       "     │\u001b[90m Int64  \u001b[0m\u001b[90m Float64 \u001b[0m\u001b[90m Float64   \u001b[0m\u001b[90m Float64  \u001b[0m\u001b[90m Float64 \u001b[0m\u001b[90m Float64  \u001b[0m\u001b[90m Float64 \u001b[0m\u001b[90m Float\u001b[0m ⋯\n",
       "─────┼──────────────────────────────────────────────────────────────────────────\n",
       "   1 │      1      0.0        0.0       0.0      0.0       0.0      3.0      0 ⋯\n",
       "   2 │      2      0.0        0.0       0.0      0.0       0.0      0.0     12\n",
       "   3 │      3      0.0        0.0       0.0      0.0       0.0      1.0      0\n",
       "   4 │      4      0.0        0.0       0.0     11.0       0.0      0.0      0\n",
       "   5 │      5      0.0        0.0       0.0      0.0       0.0      0.0     13 ⋯\n",
       "   6 │      6      0.0        0.0       0.0      0.0       0.0     16.0      0\n",
       "   7 │      7      0.0        0.0       0.0      0.0       0.0     19.0      0\n",
       "   8 │      8      0.0        0.0       0.0     17.0       0.0      0.0      0\n",
       "   9 │      9      0.0        0.0       0.0      0.0       0.0     18.0      0 ⋯\n",
       "  10 │     10      0.0        0.0       0.0      0.0       0.0      0.0     14\n",
       "  11 │     11      0.0        0.0       0.0      4.0       0.0      0.0      0\n",
       "  12 │     12      0.0        0.0       0.0      0.0       0.0      0.0      2\n",
       "  13 │     13      0.0        0.0       0.0      0.0       0.0      0.0      5 ⋯\n",
       "  14 │     14      0.0        0.0       0.0      0.0       0.0      0.0     10\n",
       "  15 │     15      0.0        0.0       0.0      0.0       0.0     20.0      0\n",
       "  16 │     16      0.0        0.0       0.0      0.0       0.0      6.0      0\n",
       "  17 │     17      0.0        0.0       0.0      8.0       0.0      0.0      0 ⋯\n",
       "  18 │     18      0.0        0.0       0.0      0.0       0.0      9.0      0\n",
       "  19 │     19      0.0        0.0       0.0      0.0       0.0      7.0      0\n",
       "  20 │     20      0.0        0.0       0.0      0.0       0.0     15.0      0\n",
       "\u001b[36m                                                                1 column omitted\u001b[0m"
      ]
     },
     "metadata": {},
     "output_type": "display_data"
    },
    {
     "data": {
      "text/html": [
       "<div><div style = \"float: left;\"><span>20×8 DataFrame</span></div><div style = \"clear: both;\"></div></div><div class = \"data-frame\" style = \"overflow-x: scroll;\"><table class = \"data-frame\" style = \"margin-bottom: 6px;\"><thead><tr class = \"header\"><th class = \"rowNumber\" style = \"font-weight: bold; text-align: right;\">Row</th><th style = \"text-align: left;\">Player</th><th style = \"text-align: left;\">Tuesday</th><th style = \"text-align: left;\">Wednesday</th><th style = \"text-align: left;\">Thursday</th><th style = \"text-align: left;\">Friday</th><th style = \"text-align: left;\">Saturday</th><th style = \"text-align: left;\">Sunday</th><th style = \"text-align: left;\">Monday</th></tr><tr class = \"subheader headerLastRow\"><th class = \"rowNumber\" style = \"font-weight: bold; text-align: right;\"></th><th title = \"Int64\" style = \"text-align: left;\">Int64</th><th title = \"Float64\" style = \"text-align: left;\">Float64</th><th title = \"Float64\" style = \"text-align: left;\">Float64</th><th title = \"Float64\" style = \"text-align: left;\">Float64</th><th title = \"Float64\" style = \"text-align: left;\">Float64</th><th title = \"Float64\" style = \"text-align: left;\">Float64</th><th title = \"Float64\" style = \"text-align: left;\">Float64</th><th title = \"Float64\" style = \"text-align: left;\">Float64</th></tr></thead><tbody><tr><td class = \"rowNumber\" style = \"font-weight: bold; text-align: right;\">1</td><td style = \"text-align: right;\">1</td><td style = \"text-align: right;\">0.0</td><td style = \"text-align: right;\">0.0</td><td style = \"text-align: right;\">0.0</td><td style = \"text-align: right;\">0.0</td><td style = \"text-align: right;\">11.0</td><td style = \"text-align: right;\">0.0</td><td style = \"text-align: right;\">0.0</td></tr><tr><td class = \"rowNumber\" style = \"font-weight: bold; text-align: right;\">2</td><td style = \"text-align: right;\">2</td><td style = \"text-align: right;\">0.0</td><td style = \"text-align: right;\">0.0</td><td style = \"text-align: right;\">0.0</td><td style = \"text-align: right;\">0.0</td><td style = \"text-align: right;\">0.0</td><td style = \"text-align: right;\">8.0</td><td style = \"text-align: right;\">0.0</td></tr><tr><td class = \"rowNumber\" style = \"font-weight: bold; text-align: right;\">3</td><td style = \"text-align: right;\">3</td><td style = \"text-align: right;\">0.0</td><td style = \"text-align: right;\">0.0</td><td style = \"text-align: right;\">0.0</td><td style = \"text-align: right;\">0.0</td><td style = \"text-align: right;\">0.0</td><td style = \"text-align: right;\">0.0</td><td style = \"text-align: right;\">7.0</td></tr><tr><td class = \"rowNumber\" style = \"font-weight: bold; text-align: right;\">4</td><td style = \"text-align: right;\">4</td><td style = \"text-align: right;\">0.0</td><td style = \"text-align: right;\">0.0</td><td style = \"text-align: right;\">0.0</td><td style = \"text-align: right;\">0.0</td><td style = \"text-align: right;\">6.0</td><td style = \"text-align: right;\">0.0</td><td style = \"text-align: right;\">0.0</td></tr><tr><td class = \"rowNumber\" style = \"font-weight: bold; text-align: right;\">5</td><td style = \"text-align: right;\">5</td><td style = \"text-align: right;\">0.0</td><td style = \"text-align: right;\">0.0</td><td style = \"text-align: right;\">0.0</td><td style = \"text-align: right;\">0.0</td><td style = \"text-align: right;\">0.0</td><td style = \"text-align: right;\">10.0</td><td style = \"text-align: right;\">0.0</td></tr><tr><td class = \"rowNumber\" style = \"font-weight: bold; text-align: right;\">6</td><td style = \"text-align: right;\">6</td><td style = \"text-align: right;\">0.0</td><td style = \"text-align: right;\">0.0</td><td style = \"text-align: right;\">0.0</td><td style = \"text-align: right;\">0.0</td><td style = \"text-align: right;\">4.0</td><td style = \"text-align: right;\">0.0</td><td style = \"text-align: right;\">0.0</td></tr><tr><td class = \"rowNumber\" style = \"font-weight: bold; text-align: right;\">7</td><td style = \"text-align: right;\">7</td><td style = \"text-align: right;\">0.0</td><td style = \"text-align: right;\">0.0</td><td style = \"text-align: right;\">0.0</td><td style = \"text-align: right;\">0.0</td><td style = \"text-align: right;\">0.0</td><td style = \"text-align: right;\">0.0</td><td style = \"text-align: right;\">3.0</td></tr><tr><td class = \"rowNumber\" style = \"font-weight: bold; text-align: right;\">8</td><td style = \"text-align: right;\">8</td><td style = \"text-align: right;\">0.0</td><td style = \"text-align: right;\">0.0</td><td style = \"text-align: right;\">0.0</td><td style = \"text-align: right;\">0.0</td><td style = \"text-align: right;\">0.0</td><td style = \"text-align: right;\">2.0</td><td style = \"text-align: right;\">0.0</td></tr><tr><td class = \"rowNumber\" style = \"font-weight: bold; text-align: right;\">9</td><td style = \"text-align: right;\">9</td><td style = \"text-align: right;\">0.0</td><td style = \"text-align: right;\">0.0</td><td style = \"text-align: right;\">0.0</td><td style = \"text-align: right;\">0.0</td><td style = \"text-align: right;\">16.0</td><td style = \"text-align: right;\">0.0</td><td style = \"text-align: right;\">0.0</td></tr><tr><td class = \"rowNumber\" style = \"font-weight: bold; text-align: right;\">10</td><td style = \"text-align: right;\">10</td><td style = \"text-align: right;\">0.0</td><td style = \"text-align: right;\">0.0</td><td style = \"text-align: right;\">0.0</td><td style = \"text-align: right;\">0.0</td><td style = \"text-align: right;\">0.0</td><td style = \"text-align: right;\">5.0</td><td style = \"text-align: right;\">0.0</td></tr><tr><td class = \"rowNumber\" style = \"font-weight: bold; text-align: right;\">11</td><td style = \"text-align: right;\">11</td><td style = \"text-align: right;\">0.0</td><td style = \"text-align: right;\">0.0</td><td style = \"text-align: right;\">0.0</td><td style = \"text-align: right;\">0.0</td><td style = \"text-align: right;\">1.0</td><td style = \"text-align: right;\">0.0</td><td style = \"text-align: right;\">0.0</td></tr><tr><td class = \"rowNumber\" style = \"font-weight: bold; text-align: right;\">12</td><td style = \"text-align: right;\">12</td><td style = \"text-align: right;\">0.0</td><td style = \"text-align: right;\">0.0</td><td style = \"text-align: right;\">0.0</td><td style = \"text-align: right;\">14.0</td><td style = \"text-align: right;\">0.0</td><td style = \"text-align: right;\">0.0</td><td style = \"text-align: right;\">0.0</td></tr><tr><td class = \"rowNumber\" style = \"font-weight: bold; text-align: right;\">13</td><td style = \"text-align: right;\">13</td><td style = \"text-align: right;\">0.0</td><td style = \"text-align: right;\">0.0</td><td style = \"text-align: right;\">0.0</td><td style = \"text-align: right;\">0.0</td><td style = \"text-align: right;\">17.0</td><td style = \"text-align: right;\">0.0</td><td style = \"text-align: right;\">0.0</td></tr><tr><td class = \"rowNumber\" style = \"font-weight: bold; text-align: right;\">14</td><td style = \"text-align: right;\">14</td><td style = \"text-align: right;\">0.0</td><td style = \"text-align: right;\">0.0</td><td style = \"text-align: right;\">0.0</td><td style = \"text-align: right;\">12.0</td><td style = \"text-align: right;\">0.0</td><td style = \"text-align: right;\">0.0</td><td style = \"text-align: right;\">0.0</td></tr><tr><td class = \"rowNumber\" style = \"font-weight: bold; text-align: right;\">15</td><td style = \"text-align: right;\">15</td><td style = \"text-align: right;\">0.0</td><td style = \"text-align: right;\">0.0</td><td style = \"text-align: right;\">0.0</td><td style = \"text-align: right;\">18.0</td><td style = \"text-align: right;\">0.0</td><td style = \"text-align: right;\">0.0</td><td style = \"text-align: right;\">0.0</td></tr><tr><td class = \"rowNumber\" style = \"font-weight: bold; text-align: right;\">16</td><td style = \"text-align: right;\">16</td><td style = \"text-align: right;\">0.0</td><td style = \"text-align: right;\">0.0</td><td style = \"text-align: right;\">0.0</td><td style = \"text-align: right;\">0.0</td><td style = \"text-align: right;\">9.0</td><td style = \"text-align: right;\">0.0</td><td style = \"text-align: right;\">0.0</td></tr><tr><td class = \"rowNumber\" style = \"font-weight: bold; text-align: right;\">17</td><td style = \"text-align: right;\">17</td><td style = \"text-align: right;\">0.0</td><td style = \"text-align: right;\">0.0</td><td style = \"text-align: right;\">0.0</td><td style = \"text-align: right;\">0.0</td><td style = \"text-align: right;\">13.0</td><td style = \"text-align: right;\">0.0</td><td style = \"text-align: right;\">0.0</td></tr><tr><td class = \"rowNumber\" style = \"font-weight: bold; text-align: right;\">18</td><td style = \"text-align: right;\">18</td><td style = \"text-align: right;\">0.0</td><td style = \"text-align: right;\">0.0</td><td style = \"text-align: right;\">0.0</td><td style = \"text-align: right;\">15.0</td><td style = \"text-align: right;\">0.0</td><td style = \"text-align: right;\">0.0</td><td style = \"text-align: right;\">0.0</td></tr><tr><td class = \"rowNumber\" style = \"font-weight: bold; text-align: right;\">19</td><td style = \"text-align: right;\">19</td><td style = \"text-align: right;\">0.0</td><td style = \"text-align: right;\">0.0</td><td style = \"text-align: right;\">0.0</td><td style = \"text-align: right;\">0.0</td><td style = \"text-align: right;\">0.0</td><td style = \"text-align: right;\">0.0</td><td style = \"text-align: right;\">20.0</td></tr><tr><td class = \"rowNumber\" style = \"font-weight: bold; text-align: right;\">20</td><td style = \"text-align: right;\">20</td><td style = \"text-align: right;\">0.0</td><td style = \"text-align: right;\">0.0</td><td style = \"text-align: right;\">0.0</td><td style = \"text-align: right;\">0.0</td><td style = \"text-align: right;\">0.0</td><td style = \"text-align: right;\">0.0</td><td style = \"text-align: right;\">19.0</td></tr></tbody></table></div>"
      ],
      "text/latex": [
       "\\begin{tabular}{r|cccccccc}\n",
       "\t& Player & Tuesday & Wednesday & Thursday & Friday & Saturday & Sunday & Monday\\\\\n",
       "\t\\hline\n",
       "\t& Int64 & Float64 & Float64 & Float64 & Float64 & Float64 & Float64 & Float64\\\\\n",
       "\t\\hline\n",
       "\t1 & 1 & 0.0 & 0.0 & 0.0 & 0.0 & 11.0 & 0.0 & 0.0 \\\\\n",
       "\t2 & 2 & 0.0 & 0.0 & 0.0 & 0.0 & 0.0 & 8.0 & 0.0 \\\\\n",
       "\t3 & 3 & 0.0 & 0.0 & 0.0 & 0.0 & 0.0 & 0.0 & 7.0 \\\\\n",
       "\t4 & 4 & 0.0 & 0.0 & 0.0 & 0.0 & 6.0 & 0.0 & 0.0 \\\\\n",
       "\t5 & 5 & 0.0 & 0.0 & 0.0 & 0.0 & 0.0 & 10.0 & 0.0 \\\\\n",
       "\t6 & 6 & 0.0 & 0.0 & 0.0 & 0.0 & 4.0 & 0.0 & 0.0 \\\\\n",
       "\t7 & 7 & 0.0 & 0.0 & 0.0 & 0.0 & 0.0 & 0.0 & 3.0 \\\\\n",
       "\t8 & 8 & 0.0 & 0.0 & 0.0 & 0.0 & 0.0 & 2.0 & 0.0 \\\\\n",
       "\t9 & 9 & 0.0 & 0.0 & 0.0 & 0.0 & 16.0 & 0.0 & 0.0 \\\\\n",
       "\t10 & 10 & 0.0 & 0.0 & 0.0 & 0.0 & 0.0 & 5.0 & 0.0 \\\\\n",
       "\t11 & 11 & 0.0 & 0.0 & 0.0 & 0.0 & 1.0 & 0.0 & 0.0 \\\\\n",
       "\t12 & 12 & 0.0 & 0.0 & 0.0 & 14.0 & 0.0 & 0.0 & 0.0 \\\\\n",
       "\t13 & 13 & 0.0 & 0.0 & 0.0 & 0.0 & 17.0 & 0.0 & 0.0 \\\\\n",
       "\t14 & 14 & 0.0 & 0.0 & 0.0 & 12.0 & 0.0 & 0.0 & 0.0 \\\\\n",
       "\t15 & 15 & 0.0 & 0.0 & 0.0 & 18.0 & 0.0 & 0.0 & 0.0 \\\\\n",
       "\t16 & 16 & 0.0 & 0.0 & 0.0 & 0.0 & 9.0 & 0.0 & 0.0 \\\\\n",
       "\t17 & 17 & 0.0 & 0.0 & 0.0 & 0.0 & 13.0 & 0.0 & 0.0 \\\\\n",
       "\t18 & 18 & 0.0 & 0.0 & 0.0 & 15.0 & 0.0 & 0.0 & 0.0 \\\\\n",
       "\t19 & 19 & 0.0 & 0.0 & 0.0 & 0.0 & 0.0 & 0.0 & 20.0 \\\\\n",
       "\t20 & 20 & 0.0 & 0.0 & 0.0 & 0.0 & 0.0 & 0.0 & 19.0 \\\\\n",
       "\\end{tabular}\n"
      ],
      "text/plain": [
       "\u001b[1m20×8 DataFrame\u001b[0m\n",
       "\u001b[1m Row \u001b[0m│\u001b[1m Player \u001b[0m\u001b[1m Tuesday \u001b[0m\u001b[1m Wednesday \u001b[0m\u001b[1m Thursday \u001b[0m\u001b[1m Friday  \u001b[0m\u001b[1m Saturday \u001b[0m\u001b[1m Sunday  \u001b[0m\u001b[1m Monda\u001b[0m ⋯\n",
       "     │\u001b[90m Int64  \u001b[0m\u001b[90m Float64 \u001b[0m\u001b[90m Float64   \u001b[0m\u001b[90m Float64  \u001b[0m\u001b[90m Float64 \u001b[0m\u001b[90m Float64  \u001b[0m\u001b[90m Float64 \u001b[0m\u001b[90m Float\u001b[0m ⋯\n",
       "─────┼──────────────────────────────────────────────────────────────────────────\n",
       "   1 │      1      0.0        0.0       0.0      0.0      11.0      0.0      0 ⋯\n",
       "   2 │      2      0.0        0.0       0.0      0.0       0.0      8.0      0\n",
       "   3 │      3      0.0        0.0       0.0      0.0       0.0      0.0      7\n",
       "   4 │      4      0.0        0.0       0.0      0.0       6.0      0.0      0\n",
       "   5 │      5      0.0        0.0       0.0      0.0       0.0     10.0      0 ⋯\n",
       "   6 │      6      0.0        0.0       0.0      0.0       4.0      0.0      0\n",
       "   7 │      7      0.0        0.0       0.0      0.0       0.0      0.0      3\n",
       "   8 │      8      0.0        0.0       0.0      0.0       0.0      2.0      0\n",
       "   9 │      9      0.0        0.0       0.0      0.0      16.0      0.0      0 ⋯\n",
       "  10 │     10      0.0        0.0       0.0      0.0       0.0      5.0      0\n",
       "  11 │     11      0.0        0.0       0.0      0.0       1.0      0.0      0\n",
       "  12 │     12      0.0        0.0       0.0     14.0       0.0      0.0      0\n",
       "  13 │     13      0.0        0.0       0.0      0.0      17.0      0.0      0 ⋯\n",
       "  14 │     14      0.0        0.0       0.0     12.0       0.0      0.0      0\n",
       "  15 │     15      0.0        0.0       0.0     18.0       0.0      0.0      0\n",
       "  16 │     16      0.0        0.0       0.0      0.0       9.0      0.0      0\n",
       "  17 │     17      0.0        0.0       0.0      0.0      13.0      0.0      0 ⋯\n",
       "  18 │     18      0.0        0.0       0.0     15.0       0.0      0.0      0\n",
       "  19 │     19      0.0        0.0       0.0      0.0       0.0      0.0     20\n",
       "  20 │     20      0.0        0.0       0.0      0.0       0.0      0.0     19\n",
       "\u001b[36m                                                                1 column omitted\u001b[0m"
      ]
     },
     "metadata": {},
     "output_type": "display_data"
    },
    {
     "data": {
      "text/html": [
       "<div><div style = \"float: left;\"><span>20×8 DataFrame</span></div><div style = \"clear: both;\"></div></div><div class = \"data-frame\" style = \"overflow-x: scroll;\"><table class = \"data-frame\" style = \"margin-bottom: 6px;\"><thead><tr class = \"header\"><th class = \"rowNumber\" style = \"font-weight: bold; text-align: right;\">Row</th><th style = \"text-align: left;\">Player</th><th style = \"text-align: left;\">Tuesday</th><th style = \"text-align: left;\">Wednesday</th><th style = \"text-align: left;\">Thursday</th><th style = \"text-align: left;\">Friday</th><th style = \"text-align: left;\">Saturday</th><th style = \"text-align: left;\">Sunday</th><th style = \"text-align: left;\">Monday</th></tr><tr class = \"subheader headerLastRow\"><th class = \"rowNumber\" style = \"font-weight: bold; text-align: right;\"></th><th title = \"Int64\" style = \"text-align: left;\">Int64</th><th title = \"Float64\" style = \"text-align: left;\">Float64</th><th title = \"Float64\" style = \"text-align: left;\">Float64</th><th title = \"Float64\" style = \"text-align: left;\">Float64</th><th title = \"Float64\" style = \"text-align: left;\">Float64</th><th title = \"Float64\" style = \"text-align: left;\">Float64</th><th title = \"Float64\" style = \"text-align: left;\">Float64</th><th title = \"Float64\" style = \"text-align: left;\">Float64</th></tr></thead><tbody><tr><td class = \"rowNumber\" style = \"font-weight: bold; text-align: right;\">1</td><td style = \"text-align: right;\">1</td><td style = \"text-align: right;\">0.0</td><td style = \"text-align: right;\">0.0</td><td style = \"text-align: right;\">0.0</td><td style = \"text-align: right;\">0.0</td><td style = \"text-align: right;\">0.0</td><td style = \"text-align: right;\">0.0</td><td style = \"text-align: right;\">9.0</td></tr><tr><td class = \"rowNumber\" style = \"font-weight: bold; text-align: right;\">2</td><td style = \"text-align: right;\">2</td><td style = \"text-align: right;\">0.0</td><td style = \"text-align: right;\">0.0</td><td style = \"text-align: right;\">0.0</td><td style = \"text-align: right;\">11.0</td><td style = \"text-align: right;\">0.0</td><td style = \"text-align: right;\">0.0</td><td style = \"text-align: right;\">0.0</td></tr><tr><td class = \"rowNumber\" style = \"font-weight: bold; text-align: right;\">3</td><td style = \"text-align: right;\">3</td><td style = \"text-align: right;\">0.0</td><td style = \"text-align: right;\">0.0</td><td style = \"text-align: right;\">0.0</td><td style = \"text-align: right;\">8.0</td><td style = \"text-align: right;\">0.0</td><td style = \"text-align: right;\">0.0</td><td style = \"text-align: right;\">0.0</td></tr><tr><td class = \"rowNumber\" style = \"font-weight: bold; text-align: right;\">4</td><td style = \"text-align: right;\">4</td><td style = \"text-align: right;\">0.0</td><td style = \"text-align: right;\">0.0</td><td style = \"text-align: right;\">0.0</td><td style = \"text-align: right;\">0.0</td><td style = \"text-align: right;\">0.0</td><td style = \"text-align: right;\">20.0</td><td style = \"text-align: right;\">0.0</td></tr><tr><td class = \"rowNumber\" style = \"font-weight: bold; text-align: right;\">5</td><td style = \"text-align: right;\">5</td><td style = \"text-align: right;\">0.0</td><td style = \"text-align: right;\">0.0</td><td style = \"text-align: right;\">0.0</td><td style = \"text-align: right;\">19.0</td><td style = \"text-align: right;\">0.0</td><td style = \"text-align: right;\">0.0</td><td style = \"text-align: right;\">0.0</td></tr><tr><td class = \"rowNumber\" style = \"font-weight: bold; text-align: right;\">6</td><td style = \"text-align: right;\">6</td><td style = \"text-align: right;\">0.0</td><td style = \"text-align: right;\">0.0</td><td style = \"text-align: right;\">0.0</td><td style = \"text-align: right;\">0.0</td><td style = \"text-align: right;\">0.0</td><td style = \"text-align: right;\">0.0</td><td style = \"text-align: right;\">12.0</td></tr><tr><td class = \"rowNumber\" style = \"font-weight: bold; text-align: right;\">7</td><td style = \"text-align: right;\">7</td><td style = \"text-align: right;\">0.0</td><td style = \"text-align: right;\">0.0</td><td style = \"text-align: right;\">0.0</td><td style = \"text-align: right;\">0.0</td><td style = \"text-align: right;\">0.0</td><td style = \"text-align: right;\">15.0</td><td style = \"text-align: right;\">0.0</td></tr><tr><td class = \"rowNumber\" style = \"font-weight: bold; text-align: right;\">8</td><td style = \"text-align: right;\">8</td><td style = \"text-align: right;\">0.0</td><td style = \"text-align: right;\">0.0</td><td style = \"text-align: right;\">0.0</td><td style = \"text-align: right;\">3.0</td><td style = \"text-align: right;\">0.0</td><td style = \"text-align: right;\">0.0</td><td style = \"text-align: right;\">0.0</td></tr><tr><td class = \"rowNumber\" style = \"font-weight: bold; text-align: right;\">9</td><td style = \"text-align: right;\">9</td><td style = \"text-align: right;\">0.0</td><td style = \"text-align: right;\">0.0</td><td style = \"text-align: right;\">0.0</td><td style = \"text-align: right;\">0.0</td><td style = \"text-align: right;\">0.0</td><td style = \"text-align: right;\">0.0</td><td style = \"text-align: right;\">1.0</td></tr><tr><td class = \"rowNumber\" style = \"font-weight: bold; text-align: right;\">10</td><td style = \"text-align: right;\">10</td><td style = \"text-align: right;\">0.0</td><td style = \"text-align: right;\">0.0</td><td style = \"text-align: right;\">0.0</td><td style = \"text-align: right;\">13.0</td><td style = \"text-align: right;\">0.0</td><td style = \"text-align: right;\">0.0</td><td style = \"text-align: right;\">0.0</td></tr><tr><td class = \"rowNumber\" style = \"font-weight: bold; text-align: right;\">11</td><td style = \"text-align: right;\">11</td><td style = \"text-align: right;\">0.0</td><td style = \"text-align: right;\">0.0</td><td style = \"text-align: right;\">0.0</td><td style = \"text-align: right;\">2.0</td><td style = \"text-align: right;\">0.0</td><td style = \"text-align: right;\">0.0</td><td style = \"text-align: right;\">0.0</td></tr><tr><td class = \"rowNumber\" style = \"font-weight: bold; text-align: right;\">12</td><td style = \"text-align: right;\">12</td><td style = \"text-align: right;\">0.0</td><td style = \"text-align: right;\">0.0</td><td style = \"text-align: right;\">0.0</td><td style = \"text-align: right;\">0.0</td><td style = \"text-align: right;\">0.0</td><td style = \"text-align: right;\">0.0</td><td style = \"text-align: right;\">6.0</td></tr><tr><td class = \"rowNumber\" style = \"font-weight: bold; text-align: right;\">13</td><td style = \"text-align: right;\">13</td><td style = \"text-align: right;\">0.0</td><td style = \"text-align: right;\">0.0</td><td style = \"text-align: right;\">0.0</td><td style = \"text-align: right;\">10.0</td><td style = \"text-align: right;\">0.0</td><td style = \"text-align: right;\">0.0</td><td style = \"text-align: right;\">0.0</td></tr><tr><td class = \"rowNumber\" style = \"font-weight: bold; text-align: right;\">14</td><td style = \"text-align: right;\">14</td><td style = \"text-align: right;\">0.0</td><td style = \"text-align: right;\">0.0</td><td style = \"text-align: right;\">0.0</td><td style = \"text-align: right;\">0.0</td><td style = \"text-align: right;\">0.0</td><td style = \"text-align: right;\">0.0</td><td style = \"text-align: right;\">17.0</td></tr><tr><td class = \"rowNumber\" style = \"font-weight: bold; text-align: right;\">15</td><td style = \"text-align: right;\">15</td><td style = \"text-align: right;\">0.0</td><td style = \"text-align: right;\">0.0</td><td style = \"text-align: right;\">0.0</td><td style = \"text-align: right;\">0.0</td><td style = \"text-align: right;\">0.0</td><td style = \"text-align: right;\">7.0</td><td style = \"text-align: right;\">0.0</td></tr><tr><td class = \"rowNumber\" style = \"font-weight: bold; text-align: right;\">16</td><td style = \"text-align: right;\">16</td><td style = \"text-align: right;\">0.0</td><td style = \"text-align: right;\">0.0</td><td style = \"text-align: right;\">0.0</td><td style = \"text-align: right;\">0.0</td><td style = \"text-align: right;\">0.0</td><td style = \"text-align: right;\">0.0</td><td style = \"text-align: right;\">18.0</td></tr><tr><td class = \"rowNumber\" style = \"font-weight: bold; text-align: right;\">17</td><td style = \"text-align: right;\">17</td><td style = \"text-align: right;\">0.0</td><td style = \"text-align: right;\">0.0</td><td style = \"text-align: right;\">0.0</td><td style = \"text-align: right;\">0.0</td><td style = \"text-align: right;\">0.0</td><td style = \"text-align: right;\">0.0</td><td style = \"text-align: right;\">14.0</td></tr><tr><td class = \"rowNumber\" style = \"font-weight: bold; text-align: right;\">18</td><td style = \"text-align: right;\">18</td><td style = \"text-align: right;\">0.0</td><td style = \"text-align: right;\">0.0</td><td style = \"text-align: right;\">0.0</td><td style = \"text-align: right;\">0.0</td><td style = \"text-align: right;\">0.0</td><td style = \"text-align: right;\">0.0</td><td style = \"text-align: right;\">16.0</td></tr><tr><td class = \"rowNumber\" style = \"font-weight: bold; text-align: right;\">19</td><td style = \"text-align: right;\">19</td><td style = \"text-align: right;\">0.0</td><td style = \"text-align: right;\">0.0</td><td style = \"text-align: right;\">0.0</td><td style = \"text-align: right;\">5.0</td><td style = \"text-align: right;\">0.0</td><td style = \"text-align: right;\">0.0</td><td style = \"text-align: right;\">0.0</td></tr><tr><td class = \"rowNumber\" style = \"font-weight: bold; text-align: right;\">20</td><td style = \"text-align: right;\">20</td><td style = \"text-align: right;\">0.0</td><td style = \"text-align: right;\">0.0</td><td style = \"text-align: right;\">0.0</td><td style = \"text-align: right;\">0.0</td><td style = \"text-align: right;\">0.0</td><td style = \"text-align: right;\">4.0</td><td style = \"text-align: right;\">0.0</td></tr></tbody></table></div>"
      ],
      "text/latex": [
       "\\begin{tabular}{r|cccccccc}\n",
       "\t& Player & Tuesday & Wednesday & Thursday & Friday & Saturday & Sunday & Monday\\\\\n",
       "\t\\hline\n",
       "\t& Int64 & Float64 & Float64 & Float64 & Float64 & Float64 & Float64 & Float64\\\\\n",
       "\t\\hline\n",
       "\t1 & 1 & 0.0 & 0.0 & 0.0 & 0.0 & 0.0 & 0.0 & 9.0 \\\\\n",
       "\t2 & 2 & 0.0 & 0.0 & 0.0 & 11.0 & 0.0 & 0.0 & 0.0 \\\\\n",
       "\t3 & 3 & 0.0 & 0.0 & 0.0 & 8.0 & 0.0 & 0.0 & 0.0 \\\\\n",
       "\t4 & 4 & 0.0 & 0.0 & 0.0 & 0.0 & 0.0 & 20.0 & 0.0 \\\\\n",
       "\t5 & 5 & 0.0 & 0.0 & 0.0 & 19.0 & 0.0 & 0.0 & 0.0 \\\\\n",
       "\t6 & 6 & 0.0 & 0.0 & 0.0 & 0.0 & 0.0 & 0.0 & 12.0 \\\\\n",
       "\t7 & 7 & 0.0 & 0.0 & 0.0 & 0.0 & 0.0 & 15.0 & 0.0 \\\\\n",
       "\t8 & 8 & 0.0 & 0.0 & 0.0 & 3.0 & 0.0 & 0.0 & 0.0 \\\\\n",
       "\t9 & 9 & 0.0 & 0.0 & 0.0 & 0.0 & 0.0 & 0.0 & 1.0 \\\\\n",
       "\t10 & 10 & 0.0 & 0.0 & 0.0 & 13.0 & 0.0 & 0.0 & 0.0 \\\\\n",
       "\t11 & 11 & 0.0 & 0.0 & 0.0 & 2.0 & 0.0 & 0.0 & 0.0 \\\\\n",
       "\t12 & 12 & 0.0 & 0.0 & 0.0 & 0.0 & 0.0 & 0.0 & 6.0 \\\\\n",
       "\t13 & 13 & 0.0 & 0.0 & 0.0 & 10.0 & 0.0 & 0.0 & 0.0 \\\\\n",
       "\t14 & 14 & 0.0 & 0.0 & 0.0 & 0.0 & 0.0 & 0.0 & 17.0 \\\\\n",
       "\t15 & 15 & 0.0 & 0.0 & 0.0 & 0.0 & 0.0 & 7.0 & 0.0 \\\\\n",
       "\t16 & 16 & 0.0 & 0.0 & 0.0 & 0.0 & 0.0 & 0.0 & 18.0 \\\\\n",
       "\t17 & 17 & 0.0 & 0.0 & 0.0 & 0.0 & 0.0 & 0.0 & 14.0 \\\\\n",
       "\t18 & 18 & 0.0 & 0.0 & 0.0 & 0.0 & 0.0 & 0.0 & 16.0 \\\\\n",
       "\t19 & 19 & 0.0 & 0.0 & 0.0 & 5.0 & 0.0 & 0.0 & 0.0 \\\\\n",
       "\t20 & 20 & 0.0 & 0.0 & 0.0 & 0.0 & 0.0 & 4.0 & 0.0 \\\\\n",
       "\\end{tabular}\n"
      ],
      "text/plain": [
       "\u001b[1m20×8 DataFrame\u001b[0m\n",
       "\u001b[1m Row \u001b[0m│\u001b[1m Player \u001b[0m\u001b[1m Tuesday \u001b[0m\u001b[1m Wednesday \u001b[0m\u001b[1m Thursday \u001b[0m\u001b[1m Friday  \u001b[0m\u001b[1m Saturday \u001b[0m\u001b[1m Sunday  \u001b[0m\u001b[1m Monda\u001b[0m ⋯\n",
       "     │\u001b[90m Int64  \u001b[0m\u001b[90m Float64 \u001b[0m\u001b[90m Float64   \u001b[0m\u001b[90m Float64  \u001b[0m\u001b[90m Float64 \u001b[0m\u001b[90m Float64  \u001b[0m\u001b[90m Float64 \u001b[0m\u001b[90m Float\u001b[0m ⋯\n",
       "─────┼──────────────────────────────────────────────────────────────────────────\n",
       "   1 │      1      0.0        0.0       0.0      0.0       0.0      0.0      9 ⋯\n",
       "   2 │      2      0.0        0.0       0.0     11.0       0.0      0.0      0\n",
       "   3 │      3      0.0        0.0       0.0      8.0       0.0      0.0      0\n",
       "   4 │      4      0.0        0.0       0.0      0.0       0.0     20.0      0\n",
       "   5 │      5      0.0        0.0       0.0     19.0       0.0      0.0      0 ⋯\n",
       "   6 │      6      0.0        0.0       0.0      0.0       0.0      0.0     12\n",
       "   7 │      7      0.0        0.0       0.0      0.0       0.0     15.0      0\n",
       "   8 │      8      0.0        0.0       0.0      3.0       0.0      0.0      0\n",
       "   9 │      9      0.0        0.0       0.0      0.0       0.0      0.0      1 ⋯\n",
       "  10 │     10      0.0        0.0       0.0     13.0       0.0      0.0      0\n",
       "  11 │     11      0.0        0.0       0.0      2.0       0.0      0.0      0\n",
       "  12 │     12      0.0        0.0       0.0      0.0       0.0      0.0      6\n",
       "  13 │     13      0.0        0.0       0.0     10.0       0.0      0.0      0 ⋯\n",
       "  14 │     14      0.0        0.0       0.0      0.0       0.0      0.0     17\n",
       "  15 │     15      0.0        0.0       0.0      0.0       0.0      7.0      0\n",
       "  16 │     16      0.0        0.0       0.0      0.0       0.0      0.0     18\n",
       "  17 │     17      0.0        0.0       0.0      0.0       0.0      0.0     14 ⋯\n",
       "  18 │     18      0.0        0.0       0.0      0.0       0.0      0.0     16\n",
       "  19 │     19      0.0        0.0       0.0      5.0       0.0      0.0      0\n",
       "  20 │     20      0.0        0.0       0.0      0.0       0.0      4.0      0\n",
       "\u001b[36m                                                                1 column omitted\u001b[0m"
      ]
     },
     "metadata": {},
     "output_type": "display_data"
    },
    {
     "data": {
      "text/html": [
       "<div><div style = \"float: left;\"><span>20×8 DataFrame</span></div><div style = \"clear: both;\"></div></div><div class = \"data-frame\" style = \"overflow-x: scroll;\"><table class = \"data-frame\" style = \"margin-bottom: 6px;\"><thead><tr class = \"header\"><th class = \"rowNumber\" style = \"font-weight: bold; text-align: right;\">Row</th><th style = \"text-align: left;\">Player</th><th style = \"text-align: left;\">Tuesday</th><th style = \"text-align: left;\">Wednesday</th><th style = \"text-align: left;\">Thursday</th><th style = \"text-align: left;\">Friday</th><th style = \"text-align: left;\">Saturday</th><th style = \"text-align: left;\">Sunday</th><th style = \"text-align: left;\">Monday</th></tr><tr class = \"subheader headerLastRow\"><th class = \"rowNumber\" style = \"font-weight: bold; text-align: right;\"></th><th title = \"Int64\" style = \"text-align: left;\">Int64</th><th title = \"Float64\" style = \"text-align: left;\">Float64</th><th title = \"Float64\" style = \"text-align: left;\">Float64</th><th title = \"Float64\" style = \"text-align: left;\">Float64</th><th title = \"Float64\" style = \"text-align: left;\">Float64</th><th title = \"Float64\" style = \"text-align: left;\">Float64</th><th title = \"Float64\" style = \"text-align: left;\">Float64</th><th title = \"Float64\" style = \"text-align: left;\">Float64</th></tr></thead><tbody><tr><td class = \"rowNumber\" style = \"font-weight: bold; text-align: right;\">1</td><td style = \"text-align: right;\">1</td><td style = \"text-align: right;\">0.0</td><td style = \"text-align: right;\">0.0</td><td style = \"text-align: right;\">0.0</td><td style = \"text-align: right;\">0.0</td><td style = \"text-align: right;\">15.0</td><td style = \"text-align: right;\">0.0</td><td style = \"text-align: right;\">0.0</td></tr><tr><td class = \"rowNumber\" style = \"font-weight: bold; text-align: right;\">2</td><td style = \"text-align: right;\">2</td><td style = \"text-align: right;\">0.0</td><td style = \"text-align: right;\">0.0</td><td style = \"text-align: right;\">0.0</td><td style = \"text-align: right;\">0.0</td><td style = \"text-align: right;\">14.0</td><td style = \"text-align: right;\">0.0</td><td style = \"text-align: right;\">0.0</td></tr><tr><td class = \"rowNumber\" style = \"font-weight: bold; text-align: right;\">3</td><td style = \"text-align: right;\">3</td><td style = \"text-align: right;\">0.0</td><td style = \"text-align: right;\">0.0</td><td style = \"text-align: right;\">0.0</td><td style = \"text-align: right;\">6.0</td><td style = \"text-align: right;\">0.0</td><td style = \"text-align: right;\">0.0</td><td style = \"text-align: right;\">0.0</td></tr><tr><td class = \"rowNumber\" style = \"font-weight: bold; text-align: right;\">4</td><td style = \"text-align: right;\">4</td><td style = \"text-align: right;\">0.0</td><td style = \"text-align: right;\">0.0</td><td style = \"text-align: right;\">0.0</td><td style = \"text-align: right;\">19.0</td><td style = \"text-align: right;\">0.0</td><td style = \"text-align: right;\">0.0</td><td style = \"text-align: right;\">0.0</td></tr><tr><td class = \"rowNumber\" style = \"font-weight: bold; text-align: right;\">5</td><td style = \"text-align: right;\">5</td><td style = \"text-align: right;\">0.0</td><td style = \"text-align: right;\">0.0</td><td style = \"text-align: right;\">0.0</td><td style = \"text-align: right;\">0.0</td><td style = \"text-align: right;\">0.0</td><td style = \"text-align: right;\">18.0</td><td style = \"text-align: right;\">0.0</td></tr><tr><td class = \"rowNumber\" style = \"font-weight: bold; text-align: right;\">6</td><td style = \"text-align: right;\">6</td><td style = \"text-align: right;\">0.0</td><td style = \"text-align: right;\">0.0</td><td style = \"text-align: right;\">0.0</td><td style = \"text-align: right;\">3.0</td><td style = \"text-align: right;\">0.0</td><td style = \"text-align: right;\">0.0</td><td style = \"text-align: right;\">0.0</td></tr><tr><td class = \"rowNumber\" style = \"font-weight: bold; text-align: right;\">7</td><td style = \"text-align: right;\">7</td><td style = \"text-align: right;\">0.0</td><td style = \"text-align: right;\">0.0</td><td style = \"text-align: right;\">0.0</td><td style = \"text-align: right;\">9.0</td><td style = \"text-align: right;\">0.0</td><td style = \"text-align: right;\">0.0</td><td style = \"text-align: right;\">0.0</td></tr><tr><td class = \"rowNumber\" style = \"font-weight: bold; text-align: right;\">8</td><td style = \"text-align: right;\">8</td><td style = \"text-align: right;\">0.0</td><td style = \"text-align: right;\">0.0</td><td style = \"text-align: right;\">0.0</td><td style = \"text-align: right;\">20.0</td><td style = \"text-align: right;\">0.0</td><td style = \"text-align: right;\">0.0</td><td style = \"text-align: right;\">0.0</td></tr><tr><td class = \"rowNumber\" style = \"font-weight: bold; text-align: right;\">9</td><td style = \"text-align: right;\">9</td><td style = \"text-align: right;\">0.0</td><td style = \"text-align: right;\">0.0</td><td style = \"text-align: right;\">0.0</td><td style = \"text-align: right;\">7.0</td><td style = \"text-align: right;\">0.0</td><td style = \"text-align: right;\">0.0</td><td style = \"text-align: right;\">0.0</td></tr><tr><td class = \"rowNumber\" style = \"font-weight: bold; text-align: right;\">10</td><td style = \"text-align: right;\">10</td><td style = \"text-align: right;\">0.0</td><td style = \"text-align: right;\">0.0</td><td style = \"text-align: right;\">0.0</td><td style = \"text-align: right;\">0.0</td><td style = \"text-align: right;\">11.0</td><td style = \"text-align: right;\">0.0</td><td style = \"text-align: right;\">0.0</td></tr><tr><td class = \"rowNumber\" style = \"font-weight: bold; text-align: right;\">11</td><td style = \"text-align: right;\">11</td><td style = \"text-align: right;\">0.0</td><td style = \"text-align: right;\">0.0</td><td style = \"text-align: right;\">0.0</td><td style = \"text-align: right;\">0.0</td><td style = \"text-align: right;\">10.0</td><td style = \"text-align: right;\">0.0</td><td style = \"text-align: right;\">0.0</td></tr><tr><td class = \"rowNumber\" style = \"font-weight: bold; text-align: right;\">12</td><td style = \"text-align: right;\">12</td><td style = \"text-align: right;\">0.0</td><td style = \"text-align: right;\">0.0</td><td style = \"text-align: right;\">0.0</td><td style = \"text-align: right;\">0.0</td><td style = \"text-align: right;\">17.0</td><td style = \"text-align: right;\">0.0</td><td style = \"text-align: right;\">0.0</td></tr><tr><td class = \"rowNumber\" style = \"font-weight: bold; text-align: right;\">13</td><td style = \"text-align: right;\">13</td><td style = \"text-align: right;\">0.0</td><td style = \"text-align: right;\">0.0</td><td style = \"text-align: right;\">0.0</td><td style = \"text-align: right;\">0.0</td><td style = \"text-align: right;\">16.0</td><td style = \"text-align: right;\">0.0</td><td style = \"text-align: right;\">0.0</td></tr><tr><td class = \"rowNumber\" style = \"font-weight: bold; text-align: right;\">14</td><td style = \"text-align: right;\">14</td><td style = \"text-align: right;\">0.0</td><td style = \"text-align: right;\">0.0</td><td style = \"text-align: right;\">0.0</td><td style = \"text-align: right;\">0.0</td><td style = \"text-align: right;\">2.0</td><td style = \"text-align: right;\">0.0</td><td style = \"text-align: right;\">0.0</td></tr><tr><td class = \"rowNumber\" style = \"font-weight: bold; text-align: right;\">15</td><td style = \"text-align: right;\">15</td><td style = \"text-align: right;\">0.0</td><td style = \"text-align: right;\">0.0</td><td style = \"text-align: right;\">0.0</td><td style = \"text-align: right;\">0.0</td><td style = \"text-align: right;\">1.0</td><td style = \"text-align: right;\">0.0</td><td style = \"text-align: right;\">0.0</td></tr><tr><td class = \"rowNumber\" style = \"font-weight: bold; text-align: right;\">16</td><td style = \"text-align: right;\">16</td><td style = \"text-align: right;\">0.0</td><td style = \"text-align: right;\">0.0</td><td style = \"text-align: right;\">0.0</td><td style = \"text-align: right;\">0.0</td><td style = \"text-align: right;\">13.0</td><td style = \"text-align: right;\">0.0</td><td style = \"text-align: right;\">0.0</td></tr><tr><td class = \"rowNumber\" style = \"font-weight: bold; text-align: right;\">17</td><td style = \"text-align: right;\">17</td><td style = \"text-align: right;\">0.0</td><td style = \"text-align: right;\">0.0</td><td style = \"text-align: right;\">0.0</td><td style = \"text-align: right;\">0.0</td><td style = \"text-align: right;\">12.0</td><td style = \"text-align: right;\">0.0</td><td style = \"text-align: right;\">0.0</td></tr><tr><td class = \"rowNumber\" style = \"font-weight: bold; text-align: right;\">18</td><td style = \"text-align: right;\">18</td><td style = \"text-align: right;\">0.0</td><td style = \"text-align: right;\">0.0</td><td style = \"text-align: right;\">0.0</td><td style = \"text-align: right;\">0.0</td><td style = \"text-align: right;\">0.0</td><td style = \"text-align: right;\">5.0</td><td style = \"text-align: right;\">0.0</td></tr><tr><td class = \"rowNumber\" style = \"font-weight: bold; text-align: right;\">19</td><td style = \"text-align: right;\">19</td><td style = \"text-align: right;\">0.0</td><td style = \"text-align: right;\">0.0</td><td style = \"text-align: right;\">0.0</td><td style = \"text-align: right;\">4.0</td><td style = \"text-align: right;\">0.0</td><td style = \"text-align: right;\">0.0</td><td style = \"text-align: right;\">0.0</td></tr><tr><td class = \"rowNumber\" style = \"font-weight: bold; text-align: right;\">20</td><td style = \"text-align: right;\">20</td><td style = \"text-align: right;\">0.0</td><td style = \"text-align: right;\">0.0</td><td style = \"text-align: right;\">0.0</td><td style = \"text-align: right;\">8.0</td><td style = \"text-align: right;\">0.0</td><td style = \"text-align: right;\">0.0</td><td style = \"text-align: right;\">0.0</td></tr></tbody></table></div>"
      ],
      "text/latex": [
       "\\begin{tabular}{r|cccccccc}\n",
       "\t& Player & Tuesday & Wednesday & Thursday & Friday & Saturday & Sunday & Monday\\\\\n",
       "\t\\hline\n",
       "\t& Int64 & Float64 & Float64 & Float64 & Float64 & Float64 & Float64 & Float64\\\\\n",
       "\t\\hline\n",
       "\t1 & 1 & 0.0 & 0.0 & 0.0 & 0.0 & 15.0 & 0.0 & 0.0 \\\\\n",
       "\t2 & 2 & 0.0 & 0.0 & 0.0 & 0.0 & 14.0 & 0.0 & 0.0 \\\\\n",
       "\t3 & 3 & 0.0 & 0.0 & 0.0 & 6.0 & 0.0 & 0.0 & 0.0 \\\\\n",
       "\t4 & 4 & 0.0 & 0.0 & 0.0 & 19.0 & 0.0 & 0.0 & 0.0 \\\\\n",
       "\t5 & 5 & 0.0 & 0.0 & 0.0 & 0.0 & 0.0 & 18.0 & 0.0 \\\\\n",
       "\t6 & 6 & 0.0 & 0.0 & 0.0 & 3.0 & 0.0 & 0.0 & 0.0 \\\\\n",
       "\t7 & 7 & 0.0 & 0.0 & 0.0 & 9.0 & 0.0 & 0.0 & 0.0 \\\\\n",
       "\t8 & 8 & 0.0 & 0.0 & 0.0 & 20.0 & 0.0 & 0.0 & 0.0 \\\\\n",
       "\t9 & 9 & 0.0 & 0.0 & 0.0 & 7.0 & 0.0 & 0.0 & 0.0 \\\\\n",
       "\t10 & 10 & 0.0 & 0.0 & 0.0 & 0.0 & 11.0 & 0.0 & 0.0 \\\\\n",
       "\t11 & 11 & 0.0 & 0.0 & 0.0 & 0.0 & 10.0 & 0.0 & 0.0 \\\\\n",
       "\t12 & 12 & 0.0 & 0.0 & 0.0 & 0.0 & 17.0 & 0.0 & 0.0 \\\\\n",
       "\t13 & 13 & 0.0 & 0.0 & 0.0 & 0.0 & 16.0 & 0.0 & 0.0 \\\\\n",
       "\t14 & 14 & 0.0 & 0.0 & 0.0 & 0.0 & 2.0 & 0.0 & 0.0 \\\\\n",
       "\t15 & 15 & 0.0 & 0.0 & 0.0 & 0.0 & 1.0 & 0.0 & 0.0 \\\\\n",
       "\t16 & 16 & 0.0 & 0.0 & 0.0 & 0.0 & 13.0 & 0.0 & 0.0 \\\\\n",
       "\t17 & 17 & 0.0 & 0.0 & 0.0 & 0.0 & 12.0 & 0.0 & 0.0 \\\\\n",
       "\t18 & 18 & 0.0 & 0.0 & 0.0 & 0.0 & 0.0 & 5.0 & 0.0 \\\\\n",
       "\t19 & 19 & 0.0 & 0.0 & 0.0 & 4.0 & 0.0 & 0.0 & 0.0 \\\\\n",
       "\t20 & 20 & 0.0 & 0.0 & 0.0 & 8.0 & 0.0 & 0.0 & 0.0 \\\\\n",
       "\\end{tabular}\n"
      ],
      "text/plain": [
       "\u001b[1m20×8 DataFrame\u001b[0m\n",
       "\u001b[1m Row \u001b[0m│\u001b[1m Player \u001b[0m\u001b[1m Tuesday \u001b[0m\u001b[1m Wednesday \u001b[0m\u001b[1m Thursday \u001b[0m\u001b[1m Friday  \u001b[0m\u001b[1m Saturday \u001b[0m\u001b[1m Sunday  \u001b[0m\u001b[1m Monda\u001b[0m ⋯\n",
       "     │\u001b[90m Int64  \u001b[0m\u001b[90m Float64 \u001b[0m\u001b[90m Float64   \u001b[0m\u001b[90m Float64  \u001b[0m\u001b[90m Float64 \u001b[0m\u001b[90m Float64  \u001b[0m\u001b[90m Float64 \u001b[0m\u001b[90m Float\u001b[0m ⋯\n",
       "─────┼──────────────────────────────────────────────────────────────────────────\n",
       "   1 │      1      0.0        0.0       0.0      0.0      15.0      0.0      0 ⋯\n",
       "   2 │      2      0.0        0.0       0.0      0.0      14.0      0.0      0\n",
       "   3 │      3      0.0        0.0       0.0      6.0       0.0      0.0      0\n",
       "   4 │      4      0.0        0.0       0.0     19.0       0.0      0.0      0\n",
       "   5 │      5      0.0        0.0       0.0      0.0       0.0     18.0      0 ⋯\n",
       "   6 │      6      0.0        0.0       0.0      3.0       0.0      0.0      0\n",
       "   7 │      7      0.0        0.0       0.0      9.0       0.0      0.0      0\n",
       "   8 │      8      0.0        0.0       0.0     20.0       0.0      0.0      0\n",
       "   9 │      9      0.0        0.0       0.0      7.0       0.0      0.0      0 ⋯\n",
       "  10 │     10      0.0        0.0       0.0      0.0      11.0      0.0      0\n",
       "  11 │     11      0.0        0.0       0.0      0.0      10.0      0.0      0\n",
       "  12 │     12      0.0        0.0       0.0      0.0      17.0      0.0      0\n",
       "  13 │     13      0.0        0.0       0.0      0.0      16.0      0.0      0 ⋯\n",
       "  14 │     14      0.0        0.0       0.0      0.0       2.0      0.0      0\n",
       "  15 │     15      0.0        0.0       0.0      0.0       1.0      0.0      0\n",
       "  16 │     16      0.0        0.0       0.0      0.0      13.0      0.0      0\n",
       "  17 │     17      0.0        0.0       0.0      0.0      12.0      0.0      0 ⋯\n",
       "  18 │     18      0.0        0.0       0.0      0.0       0.0      5.0      0\n",
       "  19 │     19      0.0        0.0       0.0      4.0       0.0      0.0      0\n",
       "  20 │     20      0.0        0.0       0.0      8.0       0.0      0.0      0\n",
       "\u001b[36m                                                                1 column omitted\u001b[0m"
      ]
     },
     "metadata": {},
     "output_type": "display_data"
    },
    {
     "data": {
      "text/html": [
       "<div><div style = \"float: left;\"><span>20×8 DataFrame</span></div><div style = \"clear: both;\"></div></div><div class = \"data-frame\" style = \"overflow-x: scroll;\"><table class = \"data-frame\" style = \"margin-bottom: 6px;\"><thead><tr class = \"header\"><th class = \"rowNumber\" style = \"font-weight: bold; text-align: right;\">Row</th><th style = \"text-align: left;\">Player</th><th style = \"text-align: left;\">Tuesday</th><th style = \"text-align: left;\">Wednesday</th><th style = \"text-align: left;\">Thursday</th><th style = \"text-align: left;\">Friday</th><th style = \"text-align: left;\">Saturday</th><th style = \"text-align: left;\">Sunday</th><th style = \"text-align: left;\">Monday</th></tr><tr class = \"subheader headerLastRow\"><th class = \"rowNumber\" style = \"font-weight: bold; text-align: right;\"></th><th title = \"Int64\" style = \"text-align: left;\">Int64</th><th title = \"Float64\" style = \"text-align: left;\">Float64</th><th title = \"Float64\" style = \"text-align: left;\">Float64</th><th title = \"Float64\" style = \"text-align: left;\">Float64</th><th title = \"Float64\" style = \"text-align: left;\">Float64</th><th title = \"Float64\" style = \"text-align: left;\">Float64</th><th title = \"Float64\" style = \"text-align: left;\">Float64</th><th title = \"Float64\" style = \"text-align: left;\">Float64</th></tr></thead><tbody><tr><td class = \"rowNumber\" style = \"font-weight: bold; text-align: right;\">1</td><td style = \"text-align: right;\">1</td><td style = \"text-align: right;\">0.0</td><td style = \"text-align: right;\">0.0</td><td style = \"text-align: right;\">0.0</td><td style = \"text-align: right;\">0.0</td><td style = \"text-align: right;\">0.0</td><td style = \"text-align: right;\">20.0</td><td style = \"text-align: right;\">0.0</td></tr><tr><td class = \"rowNumber\" style = \"font-weight: bold; text-align: right;\">2</td><td style = \"text-align: right;\">2</td><td style = \"text-align: right;\">0.0</td><td style = \"text-align: right;\">0.0</td><td style = \"text-align: right;\">0.0</td><td style = \"text-align: right;\">18.0</td><td style = \"text-align: right;\">0.0</td><td style = \"text-align: right;\">0.0</td><td style = \"text-align: right;\">0.0</td></tr><tr><td class = \"rowNumber\" style = \"font-weight: bold; text-align: right;\">3</td><td style = \"text-align: right;\">3</td><td style = \"text-align: right;\">0.0</td><td style = \"text-align: right;\">0.0</td><td style = \"text-align: right;\">0.0</td><td style = \"text-align: right;\">0.0</td><td style = \"text-align: right;\">19.0</td><td style = \"text-align: right;\">0.0</td><td style = \"text-align: right;\">0.0</td></tr><tr><td class = \"rowNumber\" style = \"font-weight: bold; text-align: right;\">4</td><td style = \"text-align: right;\">4</td><td style = \"text-align: right;\">0.0</td><td style = \"text-align: right;\">0.0</td><td style = \"text-align: right;\">0.0</td><td style = \"text-align: right;\">0.0</td><td style = \"text-align: right;\">0.0</td><td style = \"text-align: right;\">0.0</td><td style = \"text-align: right;\">5.0</td></tr><tr><td class = \"rowNumber\" style = \"font-weight: bold; text-align: right;\">5</td><td style = \"text-align: right;\">5</td><td style = \"text-align: right;\">0.0</td><td style = \"text-align: right;\">0.0</td><td style = \"text-align: right;\">0.0</td><td style = \"text-align: right;\">0.0</td><td style = \"text-align: right;\">0.0</td><td style = \"text-align: right;\">0.0</td><td style = \"text-align: right;\">4.0</td></tr><tr><td class = \"rowNumber\" style = \"font-weight: bold; text-align: right;\">6</td><td style = \"text-align: right;\">6</td><td style = \"text-align: right;\">0.0</td><td style = \"text-align: right;\">0.0</td><td style = \"text-align: right;\">0.0</td><td style = \"text-align: right;\">0.0</td><td style = \"text-align: right;\">0.0</td><td style = \"text-align: right;\">9.0</td><td style = \"text-align: right;\">0.0</td></tr><tr><td class = \"rowNumber\" style = \"font-weight: bold; text-align: right;\">7</td><td style = \"text-align: right;\">7</td><td style = \"text-align: right;\">0.0</td><td style = \"text-align: right;\">0.0</td><td style = \"text-align: right;\">0.0</td><td style = \"text-align: right;\">0.0</td><td style = \"text-align: right;\">8.0</td><td style = \"text-align: right;\">0.0</td><td style = \"text-align: right;\">0.0</td></tr><tr><td class = \"rowNumber\" style = \"font-weight: bold; text-align: right;\">8</td><td style = \"text-align: right;\">8</td><td style = \"text-align: right;\">0.0</td><td style = \"text-align: right;\">0.0</td><td style = \"text-align: right;\">0.0</td><td style = \"text-align: right;\">0.0</td><td style = \"text-align: right;\">7.0</td><td style = \"text-align: right;\">0.0</td><td style = \"text-align: right;\">0.0</td></tr><tr><td class = \"rowNumber\" style = \"font-weight: bold; text-align: right;\">9</td><td style = \"text-align: right;\">9</td><td style = \"text-align: right;\">0.0</td><td style = \"text-align: right;\">0.0</td><td style = \"text-align: right;\">0.0</td><td style = \"text-align: right;\">0.0</td><td style = \"text-align: right;\">0.0</td><td style = \"text-align: right;\">6.0</td><td style = \"text-align: right;\">0.0</td></tr><tr><td class = \"rowNumber\" style = \"font-weight: bold; text-align: right;\">10</td><td style = \"text-align: right;\">10</td><td style = \"text-align: right;\">0.0</td><td style = \"text-align: right;\">0.0</td><td style = \"text-align: right;\">0.0</td><td style = \"text-align: right;\">15.0</td><td style = \"text-align: right;\">0.0</td><td style = \"text-align: right;\">0.0</td><td style = \"text-align: right;\">0.0</td></tr><tr><td class = \"rowNumber\" style = \"font-weight: bold; text-align: right;\">11</td><td style = \"text-align: right;\">11</td><td style = \"text-align: right;\">0.0</td><td style = \"text-align: right;\">0.0</td><td style = \"text-align: right;\">0.0</td><td style = \"text-align: right;\">14.0</td><td style = \"text-align: right;\">0.0</td><td style = \"text-align: right;\">0.0</td><td style = \"text-align: right;\">0.0</td></tr><tr><td class = \"rowNumber\" style = \"font-weight: bold; text-align: right;\">12</td><td style = \"text-align: right;\">12</td><td style = \"text-align: right;\">0.0</td><td style = \"text-align: right;\">0.0</td><td style = \"text-align: right;\">0.0</td><td style = \"text-align: right;\">13.0</td><td style = \"text-align: right;\">0.0</td><td style = \"text-align: right;\">0.0</td><td style = \"text-align: right;\">0.0</td></tr><tr><td class = \"rowNumber\" style = \"font-weight: bold; text-align: right;\">13</td><td style = \"text-align: right;\">13</td><td style = \"text-align: right;\">0.0</td><td style = \"text-align: right;\">0.0</td><td style = \"text-align: right;\">0.0</td><td style = \"text-align: right;\">12.0</td><td style = \"text-align: right;\">0.0</td><td style = \"text-align: right;\">0.0</td><td style = \"text-align: right;\">0.0</td></tr><tr><td class = \"rowNumber\" style = \"font-weight: bold; text-align: right;\">14</td><td style = \"text-align: right;\">14</td><td style = \"text-align: right;\">0.0</td><td style = \"text-align: right;\">0.0</td><td style = \"text-align: right;\">0.0</td><td style = \"text-align: right;\">11.0</td><td style = \"text-align: right;\">0.0</td><td style = \"text-align: right;\">0.0</td><td style = \"text-align: right;\">0.0</td></tr><tr><td class = \"rowNumber\" style = \"font-weight: bold; text-align: right;\">15</td><td style = \"text-align: right;\">15</td><td style = \"text-align: right;\">0.0</td><td style = \"text-align: right;\">0.0</td><td style = \"text-align: right;\">0.0</td><td style = \"text-align: right;\">10.0</td><td style = \"text-align: right;\">0.0</td><td style = \"text-align: right;\">0.0</td><td style = \"text-align: right;\">0.0</td></tr><tr><td class = \"rowNumber\" style = \"font-weight: bold; text-align: right;\">16</td><td style = \"text-align: right;\">16</td><td style = \"text-align: right;\">0.0</td><td style = \"text-align: right;\">0.0</td><td style = \"text-align: right;\">0.0</td><td style = \"text-align: right;\">0.0</td><td style = \"text-align: right;\">0.0</td><td style = \"text-align: right;\">17.0</td><td style = \"text-align: right;\">0.0</td></tr><tr><td class = \"rowNumber\" style = \"font-weight: bold; text-align: right;\">17</td><td style = \"text-align: right;\">17</td><td style = \"text-align: right;\">0.0</td><td style = \"text-align: right;\">0.0</td><td style = \"text-align: right;\">0.0</td><td style = \"text-align: right;\">0.0</td><td style = \"text-align: right;\">0.0</td><td style = \"text-align: right;\">16.0</td><td style = \"text-align: right;\">0.0</td></tr><tr><td class = \"rowNumber\" style = \"font-weight: bold; text-align: right;\">18</td><td style = \"text-align: right;\">18</td><td style = \"text-align: right;\">0.0</td><td style = \"text-align: right;\">0.0</td><td style = \"text-align: right;\">0.0</td><td style = \"text-align: right;\">2.0</td><td style = \"text-align: right;\">0.0</td><td style = \"text-align: right;\">0.0</td><td style = \"text-align: right;\">0.0</td></tr><tr><td class = \"rowNumber\" style = \"font-weight: bold; text-align: right;\">19</td><td style = \"text-align: right;\">19</td><td style = \"text-align: right;\">0.0</td><td style = \"text-align: right;\">0.0</td><td style = \"text-align: right;\">0.0</td><td style = \"text-align: right;\">0.0</td><td style = \"text-align: right;\">3.0</td><td style = \"text-align: right;\">0.0</td><td style = \"text-align: right;\">0.0</td></tr><tr><td class = \"rowNumber\" style = \"font-weight: bold; text-align: right;\">20</td><td style = \"text-align: right;\">20</td><td style = \"text-align: right;\">0.0</td><td style = \"text-align: right;\">0.0</td><td style = \"text-align: right;\">0.0</td><td style = \"text-align: right;\">0.0</td><td style = \"text-align: right;\">0.0</td><td style = \"text-align: right;\">1.0</td><td style = \"text-align: right;\">0.0</td></tr></tbody></table></div>"
      ],
      "text/latex": [
       "\\begin{tabular}{r|cccccccc}\n",
       "\t& Player & Tuesday & Wednesday & Thursday & Friday & Saturday & Sunday & Monday\\\\\n",
       "\t\\hline\n",
       "\t& Int64 & Float64 & Float64 & Float64 & Float64 & Float64 & Float64 & Float64\\\\\n",
       "\t\\hline\n",
       "\t1 & 1 & 0.0 & 0.0 & 0.0 & 0.0 & 0.0 & 20.0 & 0.0 \\\\\n",
       "\t2 & 2 & 0.0 & 0.0 & 0.0 & 18.0 & 0.0 & 0.0 & 0.0 \\\\\n",
       "\t3 & 3 & 0.0 & 0.0 & 0.0 & 0.0 & 19.0 & 0.0 & 0.0 \\\\\n",
       "\t4 & 4 & 0.0 & 0.0 & 0.0 & 0.0 & 0.0 & 0.0 & 5.0 \\\\\n",
       "\t5 & 5 & 0.0 & 0.0 & 0.0 & 0.0 & 0.0 & 0.0 & 4.0 \\\\\n",
       "\t6 & 6 & 0.0 & 0.0 & 0.0 & 0.0 & 0.0 & 9.0 & 0.0 \\\\\n",
       "\t7 & 7 & 0.0 & 0.0 & 0.0 & 0.0 & 8.0 & 0.0 & 0.0 \\\\\n",
       "\t8 & 8 & 0.0 & 0.0 & 0.0 & 0.0 & 7.0 & 0.0 & 0.0 \\\\\n",
       "\t9 & 9 & 0.0 & 0.0 & 0.0 & 0.0 & 0.0 & 6.0 & 0.0 \\\\\n",
       "\t10 & 10 & 0.0 & 0.0 & 0.0 & 15.0 & 0.0 & 0.0 & 0.0 \\\\\n",
       "\t11 & 11 & 0.0 & 0.0 & 0.0 & 14.0 & 0.0 & 0.0 & 0.0 \\\\\n",
       "\t12 & 12 & 0.0 & 0.0 & 0.0 & 13.0 & 0.0 & 0.0 & 0.0 \\\\\n",
       "\t13 & 13 & 0.0 & 0.0 & 0.0 & 12.0 & 0.0 & 0.0 & 0.0 \\\\\n",
       "\t14 & 14 & 0.0 & 0.0 & 0.0 & 11.0 & 0.0 & 0.0 & 0.0 \\\\\n",
       "\t15 & 15 & 0.0 & 0.0 & 0.0 & 10.0 & 0.0 & 0.0 & 0.0 \\\\\n",
       "\t16 & 16 & 0.0 & 0.0 & 0.0 & 0.0 & 0.0 & 17.0 & 0.0 \\\\\n",
       "\t17 & 17 & 0.0 & 0.0 & 0.0 & 0.0 & 0.0 & 16.0 & 0.0 \\\\\n",
       "\t18 & 18 & 0.0 & 0.0 & 0.0 & 2.0 & 0.0 & 0.0 & 0.0 \\\\\n",
       "\t19 & 19 & 0.0 & 0.0 & 0.0 & 0.0 & 3.0 & 0.0 & 0.0 \\\\\n",
       "\t20 & 20 & 0.0 & 0.0 & 0.0 & 0.0 & 0.0 & 1.0 & 0.0 \\\\\n",
       "\\end{tabular}\n"
      ],
      "text/plain": [
       "\u001b[1m20×8 DataFrame\u001b[0m\n",
       "\u001b[1m Row \u001b[0m│\u001b[1m Player \u001b[0m\u001b[1m Tuesday \u001b[0m\u001b[1m Wednesday \u001b[0m\u001b[1m Thursday \u001b[0m\u001b[1m Friday  \u001b[0m\u001b[1m Saturday \u001b[0m\u001b[1m Sunday  \u001b[0m\u001b[1m Monda\u001b[0m ⋯\n",
       "     │\u001b[90m Int64  \u001b[0m\u001b[90m Float64 \u001b[0m\u001b[90m Float64   \u001b[0m\u001b[90m Float64  \u001b[0m\u001b[90m Float64 \u001b[0m\u001b[90m Float64  \u001b[0m\u001b[90m Float64 \u001b[0m\u001b[90m Float\u001b[0m ⋯\n",
       "─────┼──────────────────────────────────────────────────────────────────────────\n",
       "   1 │      1      0.0        0.0       0.0      0.0       0.0     20.0      0 ⋯\n",
       "   2 │      2      0.0        0.0       0.0     18.0       0.0      0.0      0\n",
       "   3 │      3      0.0        0.0       0.0      0.0      19.0      0.0      0\n",
       "   4 │      4      0.0        0.0       0.0      0.0       0.0      0.0      5\n",
       "   5 │      5      0.0        0.0       0.0      0.0       0.0      0.0      4 ⋯\n",
       "   6 │      6      0.0        0.0       0.0      0.0       0.0      9.0      0\n",
       "   7 │      7      0.0        0.0       0.0      0.0       8.0      0.0      0\n",
       "   8 │      8      0.0        0.0       0.0      0.0       7.0      0.0      0\n",
       "   9 │      9      0.0        0.0       0.0      0.0       0.0      6.0      0 ⋯\n",
       "  10 │     10      0.0        0.0       0.0     15.0       0.0      0.0      0\n",
       "  11 │     11      0.0        0.0       0.0     14.0       0.0      0.0      0\n",
       "  12 │     12      0.0        0.0       0.0     13.0       0.0      0.0      0\n",
       "  13 │     13      0.0        0.0       0.0     12.0       0.0      0.0      0 ⋯\n",
       "  14 │     14      0.0        0.0       0.0     11.0       0.0      0.0      0\n",
       "  15 │     15      0.0        0.0       0.0     10.0       0.0      0.0      0\n",
       "  16 │     16      0.0        0.0       0.0      0.0       0.0     17.0      0\n",
       "  17 │     17      0.0        0.0       0.0      0.0       0.0     16.0      0 ⋯\n",
       "  18 │     18      0.0        0.0       0.0      2.0       0.0      0.0      0\n",
       "  19 │     19      0.0        0.0       0.0      0.0       3.0      0.0      0\n",
       "  20 │     20      0.0        0.0       0.0      0.0       0.0      1.0      0\n",
       "\u001b[36m                                                                1 column omitted\u001b[0m"
      ]
     },
     "metadata": {},
     "output_type": "display_data"
    },
    {
     "data": {
      "text/html": [
       "<div><div style = \"float: left;\"><span>20×8 DataFrame</span></div><div style = \"clear: both;\"></div></div><div class = \"data-frame\" style = \"overflow-x: scroll;\"><table class = \"data-frame\" style = \"margin-bottom: 6px;\"><thead><tr class = \"header\"><th class = \"rowNumber\" style = \"font-weight: bold; text-align: right;\">Row</th><th style = \"text-align: left;\">Player</th><th style = \"text-align: left;\">Tuesday</th><th style = \"text-align: left;\">Wednesday</th><th style = \"text-align: left;\">Thursday</th><th style = \"text-align: left;\">Friday</th><th style = \"text-align: left;\">Saturday</th><th style = \"text-align: left;\">Sunday</th><th style = \"text-align: left;\">Monday</th></tr><tr class = \"subheader headerLastRow\"><th class = \"rowNumber\" style = \"font-weight: bold; text-align: right;\"></th><th title = \"Int64\" style = \"text-align: left;\">Int64</th><th title = \"Float64\" style = \"text-align: left;\">Float64</th><th title = \"Float64\" style = \"text-align: left;\">Float64</th><th title = \"Float64\" style = \"text-align: left;\">Float64</th><th title = \"Float64\" style = \"text-align: left;\">Float64</th><th title = \"Float64\" style = \"text-align: left;\">Float64</th><th title = \"Float64\" style = \"text-align: left;\">Float64</th><th title = \"Float64\" style = \"text-align: left;\">Float64</th></tr></thead><tbody><tr><td class = \"rowNumber\" style = \"font-weight: bold; text-align: right;\">1</td><td style = \"text-align: right;\">1</td><td style = \"text-align: right;\">0.0</td><td style = \"text-align: right;\">0.0</td><td style = \"text-align: right;\">0.0</td><td style = \"text-align: right;\">0.0</td><td style = \"text-align: right;\">6.0</td><td style = \"text-align: right;\">0.0</td><td style = \"text-align: right;\">0.0</td></tr><tr><td class = \"rowNumber\" style = \"font-weight: bold; text-align: right;\">2</td><td style = \"text-align: right;\">2</td><td style = \"text-align: right;\">0.0</td><td style = \"text-align: right;\">0.0</td><td style = \"text-align: right;\">0.0</td><td style = \"text-align: right;\">0.0</td><td style = \"text-align: right;\">0.0</td><td style = \"text-align: right;\">4.0</td><td style = \"text-align: right;\">0.0</td></tr><tr><td class = \"rowNumber\" style = \"font-weight: bold; text-align: right;\">3</td><td style = \"text-align: right;\">3</td><td style = \"text-align: right;\">0.0</td><td style = \"text-align: right;\">0.0</td><td style = \"text-align: right;\">0.0</td><td style = \"text-align: right;\">0.0</td><td style = \"text-align: right;\">0.0</td><td style = \"text-align: right;\">12.0</td><td style = \"text-align: right;\">0.0</td></tr><tr><td class = \"rowNumber\" style = \"font-weight: bold; text-align: right;\">4</td><td style = \"text-align: right;\">4</td><td style = \"text-align: right;\">0.0</td><td style = \"text-align: right;\">0.0</td><td style = \"text-align: right;\">0.0</td><td style = \"text-align: right;\">0.0</td><td style = \"text-align: right;\">0.0</td><td style = \"text-align: right;\">2.0</td><td style = \"text-align: right;\">0.0</td></tr><tr><td class = \"rowNumber\" style = \"font-weight: bold; text-align: right;\">5</td><td style = \"text-align: right;\">5</td><td style = \"text-align: right;\">0.0</td><td style = \"text-align: right;\">0.0</td><td style = \"text-align: right;\">0.0</td><td style = \"text-align: right;\">0.0</td><td style = \"text-align: right;\">0.0</td><td style = \"text-align: right;\">15.0</td><td style = \"text-align: right;\">0.0</td></tr><tr><td class = \"rowNumber\" style = \"font-weight: bold; text-align: right;\">6</td><td style = \"text-align: right;\">6</td><td style = \"text-align: right;\">0.0</td><td style = \"text-align: right;\">0.0</td><td style = \"text-align: right;\">0.0</td><td style = \"text-align: right;\">0.0</td><td style = \"text-align: right;\">1.0</td><td style = \"text-align: right;\">0.0</td><td style = \"text-align: right;\">0.0</td></tr><tr><td class = \"rowNumber\" style = \"font-weight: bold; text-align: right;\">7</td><td style = \"text-align: right;\">7</td><td style = \"text-align: right;\">0.0</td><td style = \"text-align: right;\">0.0</td><td style = \"text-align: right;\">0.0</td><td style = \"text-align: right;\">0.0</td><td style = \"text-align: right;\">0.0</td><td style = \"text-align: right;\">0.0</td><td style = \"text-align: right;\">11.0</td></tr><tr><td class = \"rowNumber\" style = \"font-weight: bold; text-align: right;\">8</td><td style = \"text-align: right;\">8</td><td style = \"text-align: right;\">0.0</td><td style = \"text-align: right;\">0.0</td><td style = \"text-align: right;\">0.0</td><td style = \"text-align: right;\">16.0</td><td style = \"text-align: right;\">0.0</td><td style = \"text-align: right;\">0.0</td><td style = \"text-align: right;\">0.0</td></tr><tr><td class = \"rowNumber\" style = \"font-weight: bold; text-align: right;\">9</td><td style = \"text-align: right;\">9</td><td style = \"text-align: right;\">0.0</td><td style = \"text-align: right;\">0.0</td><td style = \"text-align: right;\">0.0</td><td style = \"text-align: right;\">0.0</td><td style = \"text-align: right;\">0.0</td><td style = \"text-align: right;\">0.0</td><td style = \"text-align: right;\">17.0</td></tr><tr><td class = \"rowNumber\" style = \"font-weight: bold; text-align: right;\">10</td><td style = \"text-align: right;\">10</td><td style = \"text-align: right;\">0.0</td><td style = \"text-align: right;\">0.0</td><td style = \"text-align: right;\">0.0</td><td style = \"text-align: right;\">0.0</td><td style = \"text-align: right;\">0.0</td><td style = \"text-align: right;\">0.0</td><td style = \"text-align: right;\">20.0</td></tr><tr><td class = \"rowNumber\" style = \"font-weight: bold; text-align: right;\">11</td><td style = \"text-align: right;\">11</td><td style = \"text-align: right;\">0.0</td><td style = \"text-align: right;\">0.0</td><td style = \"text-align: right;\">0.0</td><td style = \"text-align: right;\">0.0</td><td style = \"text-align: right;\">0.0</td><td style = \"text-align: right;\">0.0</td><td style = \"text-align: right;\">7.0</td></tr><tr><td class = \"rowNumber\" style = \"font-weight: bold; text-align: right;\">12</td><td style = \"text-align: right;\">12</td><td style = \"text-align: right;\">0.0</td><td style = \"text-align: right;\">0.0</td><td style = \"text-align: right;\">0.0</td><td style = \"text-align: right;\">0.0</td><td style = \"text-align: right;\">0.0</td><td style = \"text-align: right;\">3.0</td><td style = \"text-align: right;\">0.0</td></tr><tr><td class = \"rowNumber\" style = \"font-weight: bold; text-align: right;\">13</td><td style = \"text-align: right;\">13</td><td style = \"text-align: right;\">0.0</td><td style = \"text-align: right;\">0.0</td><td style = \"text-align: right;\">0.0</td><td style = \"text-align: right;\">0.0</td><td style = \"text-align: right;\">14.0</td><td style = \"text-align: right;\">0.0</td><td style = \"text-align: right;\">0.0</td></tr><tr><td class = \"rowNumber\" style = \"font-weight: bold; text-align: right;\">14</td><td style = \"text-align: right;\">14</td><td style = \"text-align: right;\">0.0</td><td style = \"text-align: right;\">0.0</td><td style = \"text-align: right;\">0.0</td><td style = \"text-align: right;\">0.0</td><td style = \"text-align: right;\">13.0</td><td style = \"text-align: right;\">0.0</td><td style = \"text-align: right;\">0.0</td></tr><tr><td class = \"rowNumber\" style = \"font-weight: bold; text-align: right;\">15</td><td style = \"text-align: right;\">15</td><td style = \"text-align: right;\">0.0</td><td style = \"text-align: right;\">0.0</td><td style = \"text-align: right;\">0.0</td><td style = \"text-align: right;\">0.0</td><td style = \"text-align: right;\">0.0</td><td style = \"text-align: right;\">5.0</td><td style = \"text-align: right;\">0.0</td></tr><tr><td class = \"rowNumber\" style = \"font-weight: bold; text-align: right;\">16</td><td style = \"text-align: right;\">16</td><td style = \"text-align: right;\">0.0</td><td style = \"text-align: right;\">0.0</td><td style = \"text-align: right;\">0.0</td><td style = \"text-align: right;\">8.0</td><td style = \"text-align: right;\">0.0</td><td style = \"text-align: right;\">0.0</td><td style = \"text-align: right;\">0.0</td></tr><tr><td class = \"rowNumber\" style = \"font-weight: bold; text-align: right;\">17</td><td style = \"text-align: right;\">17</td><td style = \"text-align: right;\">0.0</td><td style = \"text-align: right;\">0.0</td><td style = \"text-align: right;\">0.0</td><td style = \"text-align: right;\">0.0</td><td style = \"text-align: right;\">0.0</td><td style = \"text-align: right;\">0.0</td><td style = \"text-align: right;\">9.0</td></tr><tr><td class = \"rowNumber\" style = \"font-weight: bold; text-align: right;\">18</td><td style = \"text-align: right;\">18</td><td style = \"text-align: right;\">0.0</td><td style = \"text-align: right;\">0.0</td><td style = \"text-align: right;\">0.0</td><td style = \"text-align: right;\">0.0</td><td style = \"text-align: right;\">0.0</td><td style = \"text-align: right;\">0.0</td><td style = \"text-align: right;\">19.0</td></tr><tr><td class = \"rowNumber\" style = \"font-weight: bold; text-align: right;\">19</td><td style = \"text-align: right;\">19</td><td style = \"text-align: right;\">0.0</td><td style = \"text-align: right;\">0.0</td><td style = \"text-align: right;\">0.0</td><td style = \"text-align: right;\">0.0</td><td style = \"text-align: right;\">0.0</td><td style = \"text-align: right;\">0.0</td><td style = \"text-align: right;\">18.0</td></tr><tr><td class = \"rowNumber\" style = \"font-weight: bold; text-align: right;\">20</td><td style = \"text-align: right;\">20</td><td style = \"text-align: right;\">0.0</td><td style = \"text-align: right;\">0.0</td><td style = \"text-align: right;\">0.0</td><td style = \"text-align: right;\">0.0</td><td style = \"text-align: right;\">0.0</td><td style = \"text-align: right;\">0.0</td><td style = \"text-align: right;\">10.0</td></tr></tbody></table></div>"
      ],
      "text/latex": [
       "\\begin{tabular}{r|cccccccc}\n",
       "\t& Player & Tuesday & Wednesday & Thursday & Friday & Saturday & Sunday & Monday\\\\\n",
       "\t\\hline\n",
       "\t& Int64 & Float64 & Float64 & Float64 & Float64 & Float64 & Float64 & Float64\\\\\n",
       "\t\\hline\n",
       "\t1 & 1 & 0.0 & 0.0 & 0.0 & 0.0 & 6.0 & 0.0 & 0.0 \\\\\n",
       "\t2 & 2 & 0.0 & 0.0 & 0.0 & 0.0 & 0.0 & 4.0 & 0.0 \\\\\n",
       "\t3 & 3 & 0.0 & 0.0 & 0.0 & 0.0 & 0.0 & 12.0 & 0.0 \\\\\n",
       "\t4 & 4 & 0.0 & 0.0 & 0.0 & 0.0 & 0.0 & 2.0 & 0.0 \\\\\n",
       "\t5 & 5 & 0.0 & 0.0 & 0.0 & 0.0 & 0.0 & 15.0 & 0.0 \\\\\n",
       "\t6 & 6 & 0.0 & 0.0 & 0.0 & 0.0 & 1.0 & 0.0 & 0.0 \\\\\n",
       "\t7 & 7 & 0.0 & 0.0 & 0.0 & 0.0 & 0.0 & 0.0 & 11.0 \\\\\n",
       "\t8 & 8 & 0.0 & 0.0 & 0.0 & 16.0 & 0.0 & 0.0 & 0.0 \\\\\n",
       "\t9 & 9 & 0.0 & 0.0 & 0.0 & 0.0 & 0.0 & 0.0 & 17.0 \\\\\n",
       "\t10 & 10 & 0.0 & 0.0 & 0.0 & 0.0 & 0.0 & 0.0 & 20.0 \\\\\n",
       "\t11 & 11 & 0.0 & 0.0 & 0.0 & 0.0 & 0.0 & 0.0 & 7.0 \\\\\n",
       "\t12 & 12 & 0.0 & 0.0 & 0.0 & 0.0 & 0.0 & 3.0 & 0.0 \\\\\n",
       "\t13 & 13 & 0.0 & 0.0 & 0.0 & 0.0 & 14.0 & 0.0 & 0.0 \\\\\n",
       "\t14 & 14 & 0.0 & 0.0 & 0.0 & 0.0 & 13.0 & 0.0 & 0.0 \\\\\n",
       "\t15 & 15 & 0.0 & 0.0 & 0.0 & 0.0 & 0.0 & 5.0 & 0.0 \\\\\n",
       "\t16 & 16 & 0.0 & 0.0 & 0.0 & 8.0 & 0.0 & 0.0 & 0.0 \\\\\n",
       "\t17 & 17 & 0.0 & 0.0 & 0.0 & 0.0 & 0.0 & 0.0 & 9.0 \\\\\n",
       "\t18 & 18 & 0.0 & 0.0 & 0.0 & 0.0 & 0.0 & 0.0 & 19.0 \\\\\n",
       "\t19 & 19 & 0.0 & 0.0 & 0.0 & 0.0 & 0.0 & 0.0 & 18.0 \\\\\n",
       "\t20 & 20 & 0.0 & 0.0 & 0.0 & 0.0 & 0.0 & 0.0 & 10.0 \\\\\n",
       "\\end{tabular}\n"
      ],
      "text/plain": [
       "\u001b[1m20×8 DataFrame\u001b[0m\n",
       "\u001b[1m Row \u001b[0m│\u001b[1m Player \u001b[0m\u001b[1m Tuesday \u001b[0m\u001b[1m Wednesday \u001b[0m\u001b[1m Thursday \u001b[0m\u001b[1m Friday  \u001b[0m\u001b[1m Saturday \u001b[0m\u001b[1m Sunday  \u001b[0m\u001b[1m Monda\u001b[0m ⋯\n",
       "     │\u001b[90m Int64  \u001b[0m\u001b[90m Float64 \u001b[0m\u001b[90m Float64   \u001b[0m\u001b[90m Float64  \u001b[0m\u001b[90m Float64 \u001b[0m\u001b[90m Float64  \u001b[0m\u001b[90m Float64 \u001b[0m\u001b[90m Float\u001b[0m ⋯\n",
       "─────┼──────────────────────────────────────────────────────────────────────────\n",
       "   1 │      1      0.0        0.0       0.0      0.0       6.0      0.0      0 ⋯\n",
       "   2 │      2      0.0        0.0       0.0      0.0       0.0      4.0      0\n",
       "   3 │      3      0.0        0.0       0.0      0.0       0.0     12.0      0\n",
       "   4 │      4      0.0        0.0       0.0      0.0       0.0      2.0      0\n",
       "   5 │      5      0.0        0.0       0.0      0.0       0.0     15.0      0 ⋯\n",
       "   6 │      6      0.0        0.0       0.0      0.0       1.0      0.0      0\n",
       "   7 │      7      0.0        0.0       0.0      0.0       0.0      0.0     11\n",
       "   8 │      8      0.0        0.0       0.0     16.0       0.0      0.0      0\n",
       "   9 │      9      0.0        0.0       0.0      0.0       0.0      0.0     17 ⋯\n",
       "  10 │     10      0.0        0.0       0.0      0.0       0.0      0.0     20\n",
       "  11 │     11      0.0        0.0       0.0      0.0       0.0      0.0      7\n",
       "  12 │     12      0.0        0.0       0.0      0.0       0.0      3.0      0\n",
       "  13 │     13      0.0        0.0       0.0      0.0      14.0      0.0      0 ⋯\n",
       "  14 │     14      0.0        0.0       0.0      0.0      13.0      0.0      0\n",
       "  15 │     15      0.0        0.0       0.0      0.0       0.0      5.0      0\n",
       "  16 │     16      0.0        0.0       0.0      8.0       0.0      0.0      0\n",
       "  17 │     17      0.0        0.0       0.0      0.0       0.0      0.0      9 ⋯\n",
       "  18 │     18      0.0        0.0       0.0      0.0       0.0      0.0     19\n",
       "  19 │     19      0.0        0.0       0.0      0.0       0.0      0.0     18\n",
       "  20 │     20      0.0        0.0       0.0      0.0       0.0      0.0     10\n",
       "\u001b[36m                                                                1 column omitted\u001b[0m"
      ]
     },
     "metadata": {},
     "output_type": "display_data"
    },
    {
     "data": {
      "text/html": [
       "<div><div style = \"float: left;\"><span>20×8 DataFrame</span></div><div style = \"clear: both;\"></div></div><div class = \"data-frame\" style = \"overflow-x: scroll;\"><table class = \"data-frame\" style = \"margin-bottom: 6px;\"><thead><tr class = \"header\"><th class = \"rowNumber\" style = \"font-weight: bold; text-align: right;\">Row</th><th style = \"text-align: left;\">Player</th><th style = \"text-align: left;\">Tuesday</th><th style = \"text-align: left;\">Wednesday</th><th style = \"text-align: left;\">Thursday</th><th style = \"text-align: left;\">Friday</th><th style = \"text-align: left;\">Saturday</th><th style = \"text-align: left;\">Sunday</th><th style = \"text-align: left;\">Monday</th></tr><tr class = \"subheader headerLastRow\"><th class = \"rowNumber\" style = \"font-weight: bold; text-align: right;\"></th><th title = \"Int64\" style = \"text-align: left;\">Int64</th><th title = \"Float64\" style = \"text-align: left;\">Float64</th><th title = \"Float64\" style = \"text-align: left;\">Float64</th><th title = \"Float64\" style = \"text-align: left;\">Float64</th><th title = \"Float64\" style = \"text-align: left;\">Float64</th><th title = \"Float64\" style = \"text-align: left;\">Float64</th><th title = \"Float64\" style = \"text-align: left;\">Float64</th><th title = \"Float64\" style = \"text-align: left;\">Float64</th></tr></thead><tbody><tr><td class = \"rowNumber\" style = \"font-weight: bold; text-align: right;\">1</td><td style = \"text-align: right;\">1</td><td style = \"text-align: right;\">0.0</td><td style = \"text-align: right;\">0.0</td><td style = \"text-align: right;\">0.0</td><td style = \"text-align: right;\">0.0</td><td style = \"text-align: right;\">0.0</td><td style = \"text-align: right;\">0.0</td><td style = \"text-align: right;\">5.0</td></tr><tr><td class = \"rowNumber\" style = \"font-weight: bold; text-align: right;\">2</td><td style = \"text-align: right;\">2</td><td style = \"text-align: right;\">0.0</td><td style = \"text-align: right;\">0.0</td><td style = \"text-align: right;\">0.0</td><td style = \"text-align: right;\">0.0</td><td style = \"text-align: right;\">3.0</td><td style = \"text-align: right;\">0.0</td><td style = \"text-align: right;\">0.0</td></tr><tr><td class = \"rowNumber\" style = \"font-weight: bold; text-align: right;\">3</td><td style = \"text-align: right;\">3</td><td style = \"text-align: right;\">0.0</td><td style = \"text-align: right;\">0.0</td><td style = \"text-align: right;\">0.0</td><td style = \"text-align: right;\">0.0</td><td style = \"text-align: right;\">2.0</td><td style = \"text-align: right;\">0.0</td><td style = \"text-align: right;\">0.0</td></tr><tr><td class = \"rowNumber\" style = \"font-weight: bold; text-align: right;\">4</td><td style = \"text-align: right;\">4</td><td style = \"text-align: right;\">0.0</td><td style = \"text-align: right;\">0.0</td><td style = \"text-align: right;\">0.0</td><td style = \"text-align: right;\">0.0</td><td style = \"text-align: right;\">0.0</td><td style = \"text-align: right;\">0.0</td><td style = \"text-align: right;\">15.0</td></tr><tr><td class = \"rowNumber\" style = \"font-weight: bold; text-align: right;\">5</td><td style = \"text-align: right;\">5</td><td style = \"text-align: right;\">0.0</td><td style = \"text-align: right;\">0.0</td><td style = \"text-align: right;\">0.0</td><td style = \"text-align: right;\">0.0</td><td style = \"text-align: right;\">0.0</td><td style = \"text-align: right;\">0.0</td><td style = \"text-align: right;\">1.0</td></tr><tr><td class = \"rowNumber\" style = \"font-weight: bold; text-align: right;\">6</td><td style = \"text-align: right;\">6</td><td style = \"text-align: right;\">0.0</td><td style = \"text-align: right;\">0.0</td><td style = \"text-align: right;\">0.0</td><td style = \"text-align: right;\">0.0</td><td style = \"text-align: right;\">0.0</td><td style = \"text-align: right;\">10.0</td><td style = \"text-align: right;\">0.0</td></tr><tr><td class = \"rowNumber\" style = \"font-weight: bold; text-align: right;\">7</td><td style = \"text-align: right;\">7</td><td style = \"text-align: right;\">0.0</td><td style = \"text-align: right;\">0.0</td><td style = \"text-align: right;\">0.0</td><td style = \"text-align: right;\">0.0</td><td style = \"text-align: right;\">0.0</td><td style = \"text-align: right;\">17.0</td><td style = \"text-align: right;\">0.0</td></tr><tr><td class = \"rowNumber\" style = \"font-weight: bold; text-align: right;\">8</td><td style = \"text-align: right;\">8</td><td style = \"text-align: right;\">0.0</td><td style = \"text-align: right;\">0.0</td><td style = \"text-align: right;\">0.0</td><td style = \"text-align: right;\">0.0</td><td style = \"text-align: right;\">0.0</td><td style = \"text-align: right;\">11.0</td><td style = \"text-align: right;\">0.0</td></tr><tr><td class = \"rowNumber\" style = \"font-weight: bold; text-align: right;\">9</td><td style = \"text-align: right;\">9</td><td style = \"text-align: right;\">0.0</td><td style = \"text-align: right;\">0.0</td><td style = \"text-align: right;\">0.0</td><td style = \"text-align: right;\">20.0</td><td style = \"text-align: right;\">0.0</td><td style = \"text-align: right;\">0.0</td><td style = \"text-align: right;\">0.0</td></tr><tr><td class = \"rowNumber\" style = \"font-weight: bold; text-align: right;\">10</td><td style = \"text-align: right;\">10</td><td style = \"text-align: right;\">0.0</td><td style = \"text-align: right;\">0.0</td><td style = \"text-align: right;\">0.0</td><td style = \"text-align: right;\">0.0</td><td style = \"text-align: right;\">0.0</td><td style = \"text-align: right;\">6.0</td><td style = \"text-align: right;\">0.0</td></tr><tr><td class = \"rowNumber\" style = \"font-weight: bold; text-align: right;\">11</td><td style = \"text-align: right;\">11</td><td style = \"text-align: right;\">0.0</td><td style = \"text-align: right;\">0.0</td><td style = \"text-align: right;\">0.0</td><td style = \"text-align: right;\">0.0</td><td style = \"text-align: right;\">0.0</td><td style = \"text-align: right;\">8.0</td><td style = \"text-align: right;\">0.0</td></tr><tr><td class = \"rowNumber\" style = \"font-weight: bold; text-align: right;\">12</td><td style = \"text-align: right;\">12</td><td style = \"text-align: right;\">0.0</td><td style = \"text-align: right;\">0.0</td><td style = \"text-align: right;\">0.0</td><td style = \"text-align: right;\">0.0</td><td style = \"text-align: right;\">16.0</td><td style = \"text-align: right;\">0.0</td><td style = \"text-align: right;\">0.0</td></tr><tr><td class = \"rowNumber\" style = \"font-weight: bold; text-align: right;\">13</td><td style = \"text-align: right;\">13</td><td style = \"text-align: right;\">0.0</td><td style = \"text-align: right;\">0.0</td><td style = \"text-align: right;\">0.0</td><td style = \"text-align: right;\">19.0</td><td style = \"text-align: right;\">0.0</td><td style = \"text-align: right;\">0.0</td><td style = \"text-align: right;\">0.0</td></tr><tr><td class = \"rowNumber\" style = \"font-weight: bold; text-align: right;\">14</td><td style = \"text-align: right;\">14</td><td style = \"text-align: right;\">0.0</td><td style = \"text-align: right;\">0.0</td><td style = \"text-align: right;\">0.0</td><td style = \"text-align: right;\">18.0</td><td style = \"text-align: right;\">0.0</td><td style = \"text-align: right;\">0.0</td><td style = \"text-align: right;\">0.0</td></tr><tr><td class = \"rowNumber\" style = \"font-weight: bold; text-align: right;\">15</td><td style = \"text-align: right;\">15</td><td style = \"text-align: right;\">0.0</td><td style = \"text-align: right;\">0.0</td><td style = \"text-align: right;\">0.0</td><td style = \"text-align: right;\">0.0</td><td style = \"text-align: right;\">0.0</td><td style = \"text-align: right;\">0.0</td><td style = \"text-align: right;\">4.0</td></tr><tr><td class = \"rowNumber\" style = \"font-weight: bold; text-align: right;\">16</td><td style = \"text-align: right;\">16</td><td style = \"text-align: right;\">0.0</td><td style = \"text-align: right;\">0.0</td><td style = \"text-align: right;\">0.0</td><td style = \"text-align: right;\">0.0</td><td style = \"text-align: right;\">12.0</td><td style = \"text-align: right;\">0.0</td><td style = \"text-align: right;\">0.0</td></tr><tr><td class = \"rowNumber\" style = \"font-weight: bold; text-align: right;\">17</td><td style = \"text-align: right;\">17</td><td style = \"text-align: right;\">0.0</td><td style = \"text-align: right;\">0.0</td><td style = \"text-align: right;\">0.0</td><td style = \"text-align: right;\">0.0</td><td style = \"text-align: right;\">0.0</td><td style = \"text-align: right;\">7.0</td><td style = \"text-align: right;\">0.0</td></tr><tr><td class = \"rowNumber\" style = \"font-weight: bold; text-align: right;\">18</td><td style = \"text-align: right;\">18</td><td style = \"text-align: right;\">0.0</td><td style = \"text-align: right;\">0.0</td><td style = \"text-align: right;\">0.0</td><td style = \"text-align: right;\">14.0</td><td style = \"text-align: right;\">0.0</td><td style = \"text-align: right;\">0.0</td><td style = \"text-align: right;\">0.0</td></tr><tr><td class = \"rowNumber\" style = \"font-weight: bold; text-align: right;\">19</td><td style = \"text-align: right;\">19</td><td style = \"text-align: right;\">0.0</td><td style = \"text-align: right;\">0.0</td><td style = \"text-align: right;\">0.0</td><td style = \"text-align: right;\">13.0</td><td style = \"text-align: right;\">0.0</td><td style = \"text-align: right;\">0.0</td><td style = \"text-align: right;\">0.0</td></tr><tr><td class = \"rowNumber\" style = \"font-weight: bold; text-align: right;\">20</td><td style = \"text-align: right;\">20</td><td style = \"text-align: right;\">0.0</td><td style = \"text-align: right;\">0.0</td><td style = \"text-align: right;\">0.0</td><td style = \"text-align: right;\">9.0</td><td style = \"text-align: right;\">0.0</td><td style = \"text-align: right;\">0.0</td><td style = \"text-align: right;\">0.0</td></tr></tbody></table></div>"
      ],
      "text/latex": [
       "\\begin{tabular}{r|cccccccc}\n",
       "\t& Player & Tuesday & Wednesday & Thursday & Friday & Saturday & Sunday & Monday\\\\\n",
       "\t\\hline\n",
       "\t& Int64 & Float64 & Float64 & Float64 & Float64 & Float64 & Float64 & Float64\\\\\n",
       "\t\\hline\n",
       "\t1 & 1 & 0.0 & 0.0 & 0.0 & 0.0 & 0.0 & 0.0 & 5.0 \\\\\n",
       "\t2 & 2 & 0.0 & 0.0 & 0.0 & 0.0 & 3.0 & 0.0 & 0.0 \\\\\n",
       "\t3 & 3 & 0.0 & 0.0 & 0.0 & 0.0 & 2.0 & 0.0 & 0.0 \\\\\n",
       "\t4 & 4 & 0.0 & 0.0 & 0.0 & 0.0 & 0.0 & 0.0 & 15.0 \\\\\n",
       "\t5 & 5 & 0.0 & 0.0 & 0.0 & 0.0 & 0.0 & 0.0 & 1.0 \\\\\n",
       "\t6 & 6 & 0.0 & 0.0 & 0.0 & 0.0 & 0.0 & 10.0 & 0.0 \\\\\n",
       "\t7 & 7 & 0.0 & 0.0 & 0.0 & 0.0 & 0.0 & 17.0 & 0.0 \\\\\n",
       "\t8 & 8 & 0.0 & 0.0 & 0.0 & 0.0 & 0.0 & 11.0 & 0.0 \\\\\n",
       "\t9 & 9 & 0.0 & 0.0 & 0.0 & 20.0 & 0.0 & 0.0 & 0.0 \\\\\n",
       "\t10 & 10 & 0.0 & 0.0 & 0.0 & 0.0 & 0.0 & 6.0 & 0.0 \\\\\n",
       "\t11 & 11 & 0.0 & 0.0 & 0.0 & 0.0 & 0.0 & 8.0 & 0.0 \\\\\n",
       "\t12 & 12 & 0.0 & 0.0 & 0.0 & 0.0 & 16.0 & 0.0 & 0.0 \\\\\n",
       "\t13 & 13 & 0.0 & 0.0 & 0.0 & 19.0 & 0.0 & 0.0 & 0.0 \\\\\n",
       "\t14 & 14 & 0.0 & 0.0 & 0.0 & 18.0 & 0.0 & 0.0 & 0.0 \\\\\n",
       "\t15 & 15 & 0.0 & 0.0 & 0.0 & 0.0 & 0.0 & 0.0 & 4.0 \\\\\n",
       "\t16 & 16 & 0.0 & 0.0 & 0.0 & 0.0 & 12.0 & 0.0 & 0.0 \\\\\n",
       "\t17 & 17 & 0.0 & 0.0 & 0.0 & 0.0 & 0.0 & 7.0 & 0.0 \\\\\n",
       "\t18 & 18 & 0.0 & 0.0 & 0.0 & 14.0 & 0.0 & 0.0 & 0.0 \\\\\n",
       "\t19 & 19 & 0.0 & 0.0 & 0.0 & 13.0 & 0.0 & 0.0 & 0.0 \\\\\n",
       "\t20 & 20 & 0.0 & 0.0 & 0.0 & 9.0 & 0.0 & 0.0 & 0.0 \\\\\n",
       "\\end{tabular}\n"
      ],
      "text/plain": [
       "\u001b[1m20×8 DataFrame\u001b[0m\n",
       "\u001b[1m Row \u001b[0m│\u001b[1m Player \u001b[0m\u001b[1m Tuesday \u001b[0m\u001b[1m Wednesday \u001b[0m\u001b[1m Thursday \u001b[0m\u001b[1m Friday  \u001b[0m\u001b[1m Saturday \u001b[0m\u001b[1m Sunday  \u001b[0m\u001b[1m Monda\u001b[0m ⋯\n",
       "     │\u001b[90m Int64  \u001b[0m\u001b[90m Float64 \u001b[0m\u001b[90m Float64   \u001b[0m\u001b[90m Float64  \u001b[0m\u001b[90m Float64 \u001b[0m\u001b[90m Float64  \u001b[0m\u001b[90m Float64 \u001b[0m\u001b[90m Float\u001b[0m ⋯\n",
       "─────┼──────────────────────────────────────────────────────────────────────────\n",
       "   1 │      1      0.0        0.0       0.0      0.0       0.0      0.0      5 ⋯\n",
       "   2 │      2      0.0        0.0       0.0      0.0       3.0      0.0      0\n",
       "   3 │      3      0.0        0.0       0.0      0.0       2.0      0.0      0\n",
       "   4 │      4      0.0        0.0       0.0      0.0       0.0      0.0     15\n",
       "   5 │      5      0.0        0.0       0.0      0.0       0.0      0.0      1 ⋯\n",
       "   6 │      6      0.0        0.0       0.0      0.0       0.0     10.0      0\n",
       "   7 │      7      0.0        0.0       0.0      0.0       0.0     17.0      0\n",
       "   8 │      8      0.0        0.0       0.0      0.0       0.0     11.0      0\n",
       "   9 │      9      0.0        0.0       0.0     20.0       0.0      0.0      0 ⋯\n",
       "  10 │     10      0.0        0.0       0.0      0.0       0.0      6.0      0\n",
       "  11 │     11      0.0        0.0       0.0      0.0       0.0      8.0      0\n",
       "  12 │     12      0.0        0.0       0.0      0.0      16.0      0.0      0\n",
       "  13 │     13      0.0        0.0       0.0     19.0       0.0      0.0      0 ⋯\n",
       "  14 │     14      0.0        0.0       0.0     18.0       0.0      0.0      0\n",
       "  15 │     15      0.0        0.0       0.0      0.0       0.0      0.0      4\n",
       "  16 │     16      0.0        0.0       0.0      0.0      12.0      0.0      0\n",
       "  17 │     17      0.0        0.0       0.0      0.0       0.0      7.0      0 ⋯\n",
       "  18 │     18      0.0        0.0       0.0     14.0       0.0      0.0      0\n",
       "  19 │     19      0.0        0.0       0.0     13.0       0.0      0.0      0\n",
       "  20 │     20      0.0        0.0       0.0      9.0       0.0      0.0      0\n",
       "\u001b[36m                                                                1 column omitted\u001b[0m"
      ]
     },
     "metadata": {},
     "output_type": "display_data"
    },
    {
     "data": {
      "text/html": [
       "<div><div style = \"float: left;\"><span>20×8 DataFrame</span></div><div style = \"clear: both;\"></div></div><div class = \"data-frame\" style = \"overflow-x: scroll;\"><table class = \"data-frame\" style = \"margin-bottom: 6px;\"><thead><tr class = \"header\"><th class = \"rowNumber\" style = \"font-weight: bold; text-align: right;\">Row</th><th style = \"text-align: left;\">Player</th><th style = \"text-align: left;\">Tuesday</th><th style = \"text-align: left;\">Wednesday</th><th style = \"text-align: left;\">Thursday</th><th style = \"text-align: left;\">Friday</th><th style = \"text-align: left;\">Saturday</th><th style = \"text-align: left;\">Sunday</th><th style = \"text-align: left;\">Monday</th></tr><tr class = \"subheader headerLastRow\"><th class = \"rowNumber\" style = \"font-weight: bold; text-align: right;\"></th><th title = \"Int64\" style = \"text-align: left;\">Int64</th><th title = \"Float64\" style = \"text-align: left;\">Float64</th><th title = \"Float64\" style = \"text-align: left;\">Float64</th><th title = \"Float64\" style = \"text-align: left;\">Float64</th><th title = \"Float64\" style = \"text-align: left;\">Float64</th><th title = \"Float64\" style = \"text-align: left;\">Float64</th><th title = \"Float64\" style = \"text-align: left;\">Float64</th><th title = \"Float64\" style = \"text-align: left;\">Float64</th></tr></thead><tbody><tr><td class = \"rowNumber\" style = \"font-weight: bold; text-align: right;\">1</td><td style = \"text-align: right;\">1</td><td style = \"text-align: right;\">0.0</td><td style = \"text-align: right;\">0.0</td><td style = \"text-align: right;\">0.0</td><td style = \"text-align: right;\">8.0</td><td style = \"text-align: right;\">0.0</td><td style = \"text-align: right;\">0.0</td><td style = \"text-align: right;\">0.0</td></tr><tr><td class = \"rowNumber\" style = \"font-weight: bold; text-align: right;\">2</td><td style = \"text-align: right;\">2</td><td style = \"text-align: right;\">0.0</td><td style = \"text-align: right;\">0.0</td><td style = \"text-align: right;\">0.0</td><td style = \"text-align: right;\">9.0</td><td style = \"text-align: right;\">0.0</td><td style = \"text-align: right;\">0.0</td><td style = \"text-align: right;\">0.0</td></tr><tr><td class = \"rowNumber\" style = \"font-weight: bold; text-align: right;\">3</td><td style = \"text-align: right;\">3</td><td style = \"text-align: right;\">0.0</td><td style = \"text-align: right;\">0.0</td><td style = \"text-align: right;\">0.0</td><td style = \"text-align: right;\">14.0</td><td style = \"text-align: right;\">0.0</td><td style = \"text-align: right;\">0.0</td><td style = \"text-align: right;\">0.0</td></tr><tr><td class = \"rowNumber\" style = \"font-weight: bold; text-align: right;\">4</td><td style = \"text-align: right;\">4</td><td style = \"text-align: right;\">0.0</td><td style = \"text-align: right;\">0.0</td><td style = \"text-align: right;\">0.0</td><td style = \"text-align: right;\">0.0</td><td style = \"text-align: right;\">0.0</td><td style = \"text-align: right;\">12.0</td><td style = \"text-align: right;\">0.0</td></tr><tr><td class = \"rowNumber\" style = \"font-weight: bold; text-align: right;\">5</td><td style = \"text-align: right;\">5</td><td style = \"text-align: right;\">0.0</td><td style = \"text-align: right;\">0.0</td><td style = \"text-align: right;\">0.0</td><td style = \"text-align: right;\">16.0</td><td style = \"text-align: right;\">0.0</td><td style = \"text-align: right;\">0.0</td><td style = \"text-align: right;\">0.0</td></tr><tr><td class = \"rowNumber\" style = \"font-weight: bold; text-align: right;\">6</td><td style = \"text-align: right;\">6</td><td style = \"text-align: right;\">0.0</td><td style = \"text-align: right;\">0.0</td><td style = \"text-align: right;\">0.0</td><td style = \"text-align: right;\">19.0</td><td style = \"text-align: right;\">0.0</td><td style = \"text-align: right;\">0.0</td><td style = \"text-align: right;\">0.0</td></tr><tr><td class = \"rowNumber\" style = \"font-weight: bold; text-align: right;\">7</td><td style = \"text-align: right;\">7</td><td style = \"text-align: right;\">0.0</td><td style = \"text-align: right;\">0.0</td><td style = \"text-align: right;\">0.0</td><td style = \"text-align: right;\">0.0</td><td style = \"text-align: right;\">0.0</td><td style = \"text-align: right;\">10.0</td><td style = \"text-align: right;\">0.0</td></tr><tr><td class = \"rowNumber\" style = \"font-weight: bold; text-align: right;\">8</td><td style = \"text-align: right;\">8</td><td style = \"text-align: right;\">0.0</td><td style = \"text-align: right;\">0.0</td><td style = \"text-align: right;\">0.0</td><td style = \"text-align: right;\">1.0</td><td style = \"text-align: right;\">0.0</td><td style = \"text-align: right;\">0.0</td><td style = \"text-align: right;\">0.0</td></tr><tr><td class = \"rowNumber\" style = \"font-weight: bold; text-align: right;\">9</td><td style = \"text-align: right;\">9</td><td style = \"text-align: right;\">0.0</td><td style = \"text-align: right;\">0.0</td><td style = \"text-align: right;\">0.0</td><td style = \"text-align: right;\">2.0</td><td style = \"text-align: right;\">0.0</td><td style = \"text-align: right;\">0.0</td><td style = \"text-align: right;\">0.0</td></tr><tr><td class = \"rowNumber\" style = \"font-weight: bold; text-align: right;\">10</td><td style = \"text-align: right;\">10</td><td style = \"text-align: right;\">0.0</td><td style = \"text-align: right;\">0.0</td><td style = \"text-align: right;\">0.0</td><td style = \"text-align: right;\">0.0</td><td style = \"text-align: right;\">0.0</td><td style = \"text-align: right;\">7.0</td><td style = \"text-align: right;\">0.0</td></tr><tr><td class = \"rowNumber\" style = \"font-weight: bold; text-align: right;\">11</td><td style = \"text-align: right;\">11</td><td style = \"text-align: right;\">0.0</td><td style = \"text-align: right;\">0.0</td><td style = \"text-align: right;\">0.0</td><td style = \"text-align: right;\">0.0</td><td style = \"text-align: right;\">0.0</td><td style = \"text-align: right;\">0.0</td><td style = \"text-align: right;\">17.0</td></tr><tr><td class = \"rowNumber\" style = \"font-weight: bold; text-align: right;\">12</td><td style = \"text-align: right;\">12</td><td style = \"text-align: right;\">0.0</td><td style = \"text-align: right;\">0.0</td><td style = \"text-align: right;\">0.0</td><td style = \"text-align: right;\">0.0</td><td style = \"text-align: right;\">0.0</td><td style = \"text-align: right;\">4.0</td><td style = \"text-align: right;\">0.0</td></tr><tr><td class = \"rowNumber\" style = \"font-weight: bold; text-align: right;\">13</td><td style = \"text-align: right;\">13</td><td style = \"text-align: right;\">0.0</td><td style = \"text-align: right;\">0.0</td><td style = \"text-align: right;\">0.0</td><td style = \"text-align: right;\">0.0</td><td style = \"text-align: right;\">0.0</td><td style = \"text-align: right;\">15.0</td><td style = \"text-align: right;\">0.0</td></tr><tr><td class = \"rowNumber\" style = \"font-weight: bold; text-align: right;\">14</td><td style = \"text-align: right;\">14</td><td style = \"text-align: right;\">0.0</td><td style = \"text-align: right;\">0.0</td><td style = \"text-align: right;\">0.0</td><td style = \"text-align: right;\">3.0</td><td style = \"text-align: right;\">0.0</td><td style = \"text-align: right;\">0.0</td><td style = \"text-align: right;\">0.0</td></tr><tr><td class = \"rowNumber\" style = \"font-weight: bold; text-align: right;\">15</td><td style = \"text-align: right;\">15</td><td style = \"text-align: right;\">0.0</td><td style = \"text-align: right;\">0.0</td><td style = \"text-align: right;\">0.0</td><td style = \"text-align: right;\">0.0</td><td style = \"text-align: right;\">0.0</td><td style = \"text-align: right;\">13.0</td><td style = \"text-align: right;\">0.0</td></tr><tr><td class = \"rowNumber\" style = \"font-weight: bold; text-align: right;\">16</td><td style = \"text-align: right;\">16</td><td style = \"text-align: right;\">0.0</td><td style = \"text-align: right;\">0.0</td><td style = \"text-align: right;\">0.0</td><td style = \"text-align: right;\">5.0</td><td style = \"text-align: right;\">0.0</td><td style = \"text-align: right;\">0.0</td><td style = \"text-align: right;\">0.0</td></tr><tr><td class = \"rowNumber\" style = \"font-weight: bold; text-align: right;\">17</td><td style = \"text-align: right;\">17</td><td style = \"text-align: right;\">0.0</td><td style = \"text-align: right;\">0.0</td><td style = \"text-align: right;\">0.0</td><td style = \"text-align: right;\">0.0</td><td style = \"text-align: right;\">0.0</td><td style = \"text-align: right;\">0.0</td><td style = \"text-align: right;\">11.0</td></tr><tr><td class = \"rowNumber\" style = \"font-weight: bold; text-align: right;\">18</td><td style = \"text-align: right;\">18</td><td style = \"text-align: right;\">0.0</td><td style = \"text-align: right;\">0.0</td><td style = \"text-align: right;\">0.0</td><td style = \"text-align: right;\">0.0</td><td style = \"text-align: right;\">0.0</td><td style = \"text-align: right;\">0.0</td><td style = \"text-align: right;\">20.0</td></tr><tr><td class = \"rowNumber\" style = \"font-weight: bold; text-align: right;\">19</td><td style = \"text-align: right;\">19</td><td style = \"text-align: right;\">0.0</td><td style = \"text-align: right;\">0.0</td><td style = \"text-align: right;\">0.0</td><td style = \"text-align: right;\">6.0</td><td style = \"text-align: right;\">0.0</td><td style = \"text-align: right;\">0.0</td><td style = \"text-align: right;\">0.0</td></tr><tr><td class = \"rowNumber\" style = \"font-weight: bold; text-align: right;\">20</td><td style = \"text-align: right;\">20</td><td style = \"text-align: right;\">0.0</td><td style = \"text-align: right;\">0.0</td><td style = \"text-align: right;\">0.0</td><td style = \"text-align: right;\">0.0</td><td style = \"text-align: right;\">0.0</td><td style = \"text-align: right;\">0.0</td><td style = \"text-align: right;\">18.0</td></tr></tbody></table></div>"
      ],
      "text/latex": [
       "\\begin{tabular}{r|cccccccc}\n",
       "\t& Player & Tuesday & Wednesday & Thursday & Friday & Saturday & Sunday & Monday\\\\\n",
       "\t\\hline\n",
       "\t& Int64 & Float64 & Float64 & Float64 & Float64 & Float64 & Float64 & Float64\\\\\n",
       "\t\\hline\n",
       "\t1 & 1 & 0.0 & 0.0 & 0.0 & 8.0 & 0.0 & 0.0 & 0.0 \\\\\n",
       "\t2 & 2 & 0.0 & 0.0 & 0.0 & 9.0 & 0.0 & 0.0 & 0.0 \\\\\n",
       "\t3 & 3 & 0.0 & 0.0 & 0.0 & 14.0 & 0.0 & 0.0 & 0.0 \\\\\n",
       "\t4 & 4 & 0.0 & 0.0 & 0.0 & 0.0 & 0.0 & 12.0 & 0.0 \\\\\n",
       "\t5 & 5 & 0.0 & 0.0 & 0.0 & 16.0 & 0.0 & 0.0 & 0.0 \\\\\n",
       "\t6 & 6 & 0.0 & 0.0 & 0.0 & 19.0 & 0.0 & 0.0 & 0.0 \\\\\n",
       "\t7 & 7 & 0.0 & 0.0 & 0.0 & 0.0 & 0.0 & 10.0 & 0.0 \\\\\n",
       "\t8 & 8 & 0.0 & 0.0 & 0.0 & 1.0 & 0.0 & 0.0 & 0.0 \\\\\n",
       "\t9 & 9 & 0.0 & 0.0 & 0.0 & 2.0 & 0.0 & 0.0 & 0.0 \\\\\n",
       "\t10 & 10 & 0.0 & 0.0 & 0.0 & 0.0 & 0.0 & 7.0 & 0.0 \\\\\n",
       "\t11 & 11 & 0.0 & 0.0 & 0.0 & 0.0 & 0.0 & 0.0 & 17.0 \\\\\n",
       "\t12 & 12 & 0.0 & 0.0 & 0.0 & 0.0 & 0.0 & 4.0 & 0.0 \\\\\n",
       "\t13 & 13 & 0.0 & 0.0 & 0.0 & 0.0 & 0.0 & 15.0 & 0.0 \\\\\n",
       "\t14 & 14 & 0.0 & 0.0 & 0.0 & 3.0 & 0.0 & 0.0 & 0.0 \\\\\n",
       "\t15 & 15 & 0.0 & 0.0 & 0.0 & 0.0 & 0.0 & 13.0 & 0.0 \\\\\n",
       "\t16 & 16 & 0.0 & 0.0 & 0.0 & 5.0 & 0.0 & 0.0 & 0.0 \\\\\n",
       "\t17 & 17 & 0.0 & 0.0 & 0.0 & 0.0 & 0.0 & 0.0 & 11.0 \\\\\n",
       "\t18 & 18 & 0.0 & 0.0 & 0.0 & 0.0 & 0.0 & 0.0 & 20.0 \\\\\n",
       "\t19 & 19 & 0.0 & 0.0 & 0.0 & 6.0 & 0.0 & 0.0 & 0.0 \\\\\n",
       "\t20 & 20 & 0.0 & 0.0 & 0.0 & 0.0 & 0.0 & 0.0 & 18.0 \\\\\n",
       "\\end{tabular}\n"
      ],
      "text/plain": [
       "\u001b[1m20×8 DataFrame\u001b[0m\n",
       "\u001b[1m Row \u001b[0m│\u001b[1m Player \u001b[0m\u001b[1m Tuesday \u001b[0m\u001b[1m Wednesday \u001b[0m\u001b[1m Thursday \u001b[0m\u001b[1m Friday  \u001b[0m\u001b[1m Saturday \u001b[0m\u001b[1m Sunday  \u001b[0m\u001b[1m Monda\u001b[0m ⋯\n",
       "     │\u001b[90m Int64  \u001b[0m\u001b[90m Float64 \u001b[0m\u001b[90m Float64   \u001b[0m\u001b[90m Float64  \u001b[0m\u001b[90m Float64 \u001b[0m\u001b[90m Float64  \u001b[0m\u001b[90m Float64 \u001b[0m\u001b[90m Float\u001b[0m ⋯\n",
       "─────┼──────────────────────────────────────────────────────────────────────────\n",
       "   1 │      1      0.0        0.0       0.0      8.0       0.0      0.0      0 ⋯\n",
       "   2 │      2      0.0        0.0       0.0      9.0       0.0      0.0      0\n",
       "   3 │      3      0.0        0.0       0.0     14.0       0.0      0.0      0\n",
       "   4 │      4      0.0        0.0       0.0      0.0       0.0     12.0      0\n",
       "   5 │      5      0.0        0.0       0.0     16.0       0.0      0.0      0 ⋯\n",
       "   6 │      6      0.0        0.0       0.0     19.0       0.0      0.0      0\n",
       "   7 │      7      0.0        0.0       0.0      0.0       0.0     10.0      0\n",
       "   8 │      8      0.0        0.0       0.0      1.0       0.0      0.0      0\n",
       "   9 │      9      0.0        0.0       0.0      2.0       0.0      0.0      0 ⋯\n",
       "  10 │     10      0.0        0.0       0.0      0.0       0.0      7.0      0\n",
       "  11 │     11      0.0        0.0       0.0      0.0       0.0      0.0     17\n",
       "  12 │     12      0.0        0.0       0.0      0.0       0.0      4.0      0\n",
       "  13 │     13      0.0        0.0       0.0      0.0       0.0     15.0      0 ⋯\n",
       "  14 │     14      0.0        0.0       0.0      3.0       0.0      0.0      0\n",
       "  15 │     15      0.0        0.0       0.0      0.0       0.0     13.0      0\n",
       "  16 │     16      0.0        0.0       0.0      5.0       0.0      0.0      0\n",
       "  17 │     17      0.0        0.0       0.0      0.0       0.0      0.0     11 ⋯\n",
       "  18 │     18      0.0        0.0       0.0      0.0       0.0      0.0     20\n",
       "  19 │     19      0.0        0.0       0.0      6.0       0.0      0.0      0\n",
       "  20 │     20      0.0        0.0       0.0      0.0       0.0      0.0     18\n",
       "\u001b[36m                                                                1 column omitted\u001b[0m"
      ]
     },
     "metadata": {},
     "output_type": "display_data"
    },
    {
     "data": {
      "text/html": [
       "<div><div style = \"float: left;\"><span>20×8 DataFrame</span></div><div style = \"clear: both;\"></div></div><div class = \"data-frame\" style = \"overflow-x: scroll;\"><table class = \"data-frame\" style = \"margin-bottom: 6px;\"><thead><tr class = \"header\"><th class = \"rowNumber\" style = \"font-weight: bold; text-align: right;\">Row</th><th style = \"text-align: left;\">Player</th><th style = \"text-align: left;\">Tuesday</th><th style = \"text-align: left;\">Wednesday</th><th style = \"text-align: left;\">Thursday</th><th style = \"text-align: left;\">Friday</th><th style = \"text-align: left;\">Saturday</th><th style = \"text-align: left;\">Sunday</th><th style = \"text-align: left;\">Monday</th></tr><tr class = \"subheader headerLastRow\"><th class = \"rowNumber\" style = \"font-weight: bold; text-align: right;\"></th><th title = \"Int64\" style = \"text-align: left;\">Int64</th><th title = \"Float64\" style = \"text-align: left;\">Float64</th><th title = \"Float64\" style = \"text-align: left;\">Float64</th><th title = \"Float64\" style = \"text-align: left;\">Float64</th><th title = \"Float64\" style = \"text-align: left;\">Float64</th><th title = \"Float64\" style = \"text-align: left;\">Float64</th><th title = \"Float64\" style = \"text-align: left;\">Float64</th><th title = \"Float64\" style = \"text-align: left;\">Float64</th></tr></thead><tbody><tr><td class = \"rowNumber\" style = \"font-weight: bold; text-align: right;\">1</td><td style = \"text-align: right;\">1</td><td style = \"text-align: right;\">0.0</td><td style = \"text-align: right;\">0.0</td><td style = \"text-align: right;\">0.0</td><td style = \"text-align: right;\">0.0</td><td style = \"text-align: right;\">0.0</td><td style = \"text-align: right;\">19.0</td><td style = \"text-align: right;\">0.0</td></tr><tr><td class = \"rowNumber\" style = \"font-weight: bold; text-align: right;\">2</td><td style = \"text-align: right;\">2</td><td style = \"text-align: right;\">0.0</td><td style = \"text-align: right;\">0.0</td><td style = \"text-align: right;\">0.0</td><td style = \"text-align: right;\">0.0</td><td style = \"text-align: right;\">0.0</td><td style = \"text-align: right;\">0.0</td><td style = \"text-align: right;\">15.0</td></tr><tr><td class = \"rowNumber\" style = \"font-weight: bold; text-align: right;\">3</td><td style = \"text-align: right;\">3</td><td style = \"text-align: right;\">0.0</td><td style = \"text-align: right;\">0.0</td><td style = \"text-align: right;\">0.0</td><td style = \"text-align: right;\">0.0</td><td style = \"text-align: right;\">0.0</td><td style = \"text-align: right;\">5.0</td><td style = \"text-align: right;\">0.0</td></tr><tr><td class = \"rowNumber\" style = \"font-weight: bold; text-align: right;\">4</td><td style = \"text-align: right;\">4</td><td style = \"text-align: right;\">0.0</td><td style = \"text-align: right;\">0.0</td><td style = \"text-align: right;\">0.0</td><td style = \"text-align: right;\">0.0</td><td style = \"text-align: right;\">13.0</td><td style = \"text-align: right;\">0.0</td><td style = \"text-align: right;\">0.0</td></tr><tr><td class = \"rowNumber\" style = \"font-weight: bold; text-align: right;\">5</td><td style = \"text-align: right;\">5</td><td style = \"text-align: right;\">0.0</td><td style = \"text-align: right;\">0.0</td><td style = \"text-align: right;\">0.0</td><td style = \"text-align: right;\">0.0</td><td style = \"text-align: right;\">0.0</td><td style = \"text-align: right;\">3.0</td><td style = \"text-align: right;\">0.0</td></tr><tr><td class = \"rowNumber\" style = \"font-weight: bold; text-align: right;\">6</td><td style = \"text-align: right;\">6</td><td style = \"text-align: right;\">0.0</td><td style = \"text-align: right;\">0.0</td><td style = \"text-align: right;\">0.0</td><td style = \"text-align: right;\">0.0</td><td style = \"text-align: right;\">0.0</td><td style = \"text-align: right;\">17.0</td><td style = \"text-align: right;\">0.0</td></tr><tr><td class = \"rowNumber\" style = \"font-weight: bold; text-align: right;\">7</td><td style = \"text-align: right;\">7</td><td style = \"text-align: right;\">0.0</td><td style = \"text-align: right;\">0.0</td><td style = \"text-align: right;\">0.0</td><td style = \"text-align: right;\">0.0</td><td style = \"text-align: right;\">14.0</td><td style = \"text-align: right;\">0.0</td><td style = \"text-align: right;\">0.0</td></tr><tr><td class = \"rowNumber\" style = \"font-weight: bold; text-align: right;\">8</td><td style = \"text-align: right;\">8</td><td style = \"text-align: right;\">0.0</td><td style = \"text-align: right;\">0.0</td><td style = \"text-align: right;\">0.0</td><td style = \"text-align: right;\">0.0</td><td style = \"text-align: right;\">0.0</td><td style = \"text-align: right;\">9.0</td><td style = \"text-align: right;\">0.0</td></tr><tr><td class = \"rowNumber\" style = \"font-weight: bold; text-align: right;\">9</td><td style = \"text-align: right;\">9</td><td style = \"text-align: right;\">0.0</td><td style = \"text-align: right;\">0.0</td><td style = \"text-align: right;\">0.0</td><td style = \"text-align: right;\">0.0</td><td style = \"text-align: right;\">0.0</td><td style = \"text-align: right;\">8.0</td><td style = \"text-align: right;\">0.0</td></tr><tr><td class = \"rowNumber\" style = \"font-weight: bold; text-align: right;\">10</td><td style = \"text-align: right;\">10</td><td style = \"text-align: right;\">0.0</td><td style = \"text-align: right;\">0.0</td><td style = \"text-align: right;\">0.0</td><td style = \"text-align: right;\">0.0</td><td style = \"text-align: right;\">0.0</td><td style = \"text-align: right;\">0.0</td><td style = \"text-align: right;\">16.0</td></tr><tr><td class = \"rowNumber\" style = \"font-weight: bold; text-align: right;\">11</td><td style = \"text-align: right;\">11</td><td style = \"text-align: right;\">0.0</td><td style = \"text-align: right;\">0.0</td><td style = \"text-align: right;\">0.0</td><td style = \"text-align: right;\">18.0</td><td style = \"text-align: right;\">0.0</td><td style = \"text-align: right;\">0.0</td><td style = \"text-align: right;\">0.0</td></tr><tr><td class = \"rowNumber\" style = \"font-weight: bold; text-align: right;\">12</td><td style = \"text-align: right;\">12</td><td style = \"text-align: right;\">0.0</td><td style = \"text-align: right;\">0.0</td><td style = \"text-align: right;\">0.0</td><td style = \"text-align: right;\">20.0</td><td style = \"text-align: right;\">0.0</td><td style = \"text-align: right;\">0.0</td><td style = \"text-align: right;\">0.0</td></tr><tr><td class = \"rowNumber\" style = \"font-weight: bold; text-align: right;\">13</td><td style = \"text-align: right;\">13</td><td style = \"text-align: right;\">0.0</td><td style = \"text-align: right;\">0.0</td><td style = \"text-align: right;\">0.0</td><td style = \"text-align: right;\">0.0</td><td style = \"text-align: right;\">4.0</td><td style = \"text-align: right;\">0.0</td><td style = \"text-align: right;\">0.0</td></tr><tr><td class = \"rowNumber\" style = \"font-weight: bold; text-align: right;\">14</td><td style = \"text-align: right;\">14</td><td style = \"text-align: right;\">0.0</td><td style = \"text-align: right;\">0.0</td><td style = \"text-align: right;\">0.0</td><td style = \"text-align: right;\">0.0</td><td style = \"text-align: right;\">7.0</td><td style = \"text-align: right;\">0.0</td><td style = \"text-align: right;\">0.0</td></tr><tr><td class = \"rowNumber\" style = \"font-weight: bold; text-align: right;\">15</td><td style = \"text-align: right;\">15</td><td style = \"text-align: right;\">0.0</td><td style = \"text-align: right;\">0.0</td><td style = \"text-align: right;\">0.0</td><td style = \"text-align: right;\">0.0</td><td style = \"text-align: right;\">0.0</td><td style = \"text-align: right;\">0.0</td><td style = \"text-align: right;\">2.0</td></tr><tr><td class = \"rowNumber\" style = \"font-weight: bold; text-align: right;\">16</td><td style = \"text-align: right;\">16</td><td style = \"text-align: right;\">0.0</td><td style = \"text-align: right;\">0.0</td><td style = \"text-align: right;\">0.0</td><td style = \"text-align: right;\">0.0</td><td style = \"text-align: right;\">0.0</td><td style = \"text-align: right;\">0.0</td><td style = \"text-align: right;\">10.0</td></tr><tr><td class = \"rowNumber\" style = \"font-weight: bold; text-align: right;\">17</td><td style = \"text-align: right;\">17</td><td style = \"text-align: right;\">0.0</td><td style = \"text-align: right;\">0.0</td><td style = \"text-align: right;\">0.0</td><td style = \"text-align: right;\">0.0</td><td style = \"text-align: right;\">0.0</td><td style = \"text-align: right;\">6.0</td><td style = \"text-align: right;\">0.0</td></tr><tr><td class = \"rowNumber\" style = \"font-weight: bold; text-align: right;\">18</td><td style = \"text-align: right;\">18</td><td style = \"text-align: right;\">0.0</td><td style = \"text-align: right;\">0.0</td><td style = \"text-align: right;\">0.0</td><td style = \"text-align: right;\">11.0</td><td style = \"text-align: right;\">0.0</td><td style = \"text-align: right;\">0.0</td><td style = \"text-align: right;\">0.0</td></tr><tr><td class = \"rowNumber\" style = \"font-weight: bold; text-align: right;\">19</td><td style = \"text-align: right;\">19</td><td style = \"text-align: right;\">0.0</td><td style = \"text-align: right;\">0.0</td><td style = \"text-align: right;\">0.0</td><td style = \"text-align: right;\">0.0</td><td style = \"text-align: right;\">0.0</td><td style = \"text-align: right;\">1.0</td><td style = \"text-align: right;\">0.0</td></tr><tr><td class = \"rowNumber\" style = \"font-weight: bold; text-align: right;\">20</td><td style = \"text-align: right;\">20</td><td style = \"text-align: right;\">0.0</td><td style = \"text-align: right;\">0.0</td><td style = \"text-align: right;\">0.0</td><td style = \"text-align: right;\">12.0</td><td style = \"text-align: right;\">0.0</td><td style = \"text-align: right;\">0.0</td><td style = \"text-align: right;\">0.0</td></tr></tbody></table></div>"
      ],
      "text/latex": [
       "\\begin{tabular}{r|cccccccc}\n",
       "\t& Player & Tuesday & Wednesday & Thursday & Friday & Saturday & Sunday & Monday\\\\\n",
       "\t\\hline\n",
       "\t& Int64 & Float64 & Float64 & Float64 & Float64 & Float64 & Float64 & Float64\\\\\n",
       "\t\\hline\n",
       "\t1 & 1 & 0.0 & 0.0 & 0.0 & 0.0 & 0.0 & 19.0 & 0.0 \\\\\n",
       "\t2 & 2 & 0.0 & 0.0 & 0.0 & 0.0 & 0.0 & 0.0 & 15.0 \\\\\n",
       "\t3 & 3 & 0.0 & 0.0 & 0.0 & 0.0 & 0.0 & 5.0 & 0.0 \\\\\n",
       "\t4 & 4 & 0.0 & 0.0 & 0.0 & 0.0 & 13.0 & 0.0 & 0.0 \\\\\n",
       "\t5 & 5 & 0.0 & 0.0 & 0.0 & 0.0 & 0.0 & 3.0 & 0.0 \\\\\n",
       "\t6 & 6 & 0.0 & 0.0 & 0.0 & 0.0 & 0.0 & 17.0 & 0.0 \\\\\n",
       "\t7 & 7 & 0.0 & 0.0 & 0.0 & 0.0 & 14.0 & 0.0 & 0.0 \\\\\n",
       "\t8 & 8 & 0.0 & 0.0 & 0.0 & 0.0 & 0.0 & 9.0 & 0.0 \\\\\n",
       "\t9 & 9 & 0.0 & 0.0 & 0.0 & 0.0 & 0.0 & 8.0 & 0.0 \\\\\n",
       "\t10 & 10 & 0.0 & 0.0 & 0.0 & 0.0 & 0.0 & 0.0 & 16.0 \\\\\n",
       "\t11 & 11 & 0.0 & 0.0 & 0.0 & 18.0 & 0.0 & 0.0 & 0.0 \\\\\n",
       "\t12 & 12 & 0.0 & 0.0 & 0.0 & 20.0 & 0.0 & 0.0 & 0.0 \\\\\n",
       "\t13 & 13 & 0.0 & 0.0 & 0.0 & 0.0 & 4.0 & 0.0 & 0.0 \\\\\n",
       "\t14 & 14 & 0.0 & 0.0 & 0.0 & 0.0 & 7.0 & 0.0 & 0.0 \\\\\n",
       "\t15 & 15 & 0.0 & 0.0 & 0.0 & 0.0 & 0.0 & 0.0 & 2.0 \\\\\n",
       "\t16 & 16 & 0.0 & 0.0 & 0.0 & 0.0 & 0.0 & 0.0 & 10.0 \\\\\n",
       "\t17 & 17 & 0.0 & 0.0 & 0.0 & 0.0 & 0.0 & 6.0 & 0.0 \\\\\n",
       "\t18 & 18 & 0.0 & 0.0 & 0.0 & 11.0 & 0.0 & 0.0 & 0.0 \\\\\n",
       "\t19 & 19 & 0.0 & 0.0 & 0.0 & 0.0 & 0.0 & 1.0 & 0.0 \\\\\n",
       "\t20 & 20 & 0.0 & 0.0 & 0.0 & 12.0 & 0.0 & 0.0 & 0.0 \\\\\n",
       "\\end{tabular}\n"
      ],
      "text/plain": [
       "\u001b[1m20×8 DataFrame\u001b[0m\n",
       "\u001b[1m Row \u001b[0m│\u001b[1m Player \u001b[0m\u001b[1m Tuesday \u001b[0m\u001b[1m Wednesday \u001b[0m\u001b[1m Thursday \u001b[0m\u001b[1m Friday  \u001b[0m\u001b[1m Saturday \u001b[0m\u001b[1m Sunday  \u001b[0m\u001b[1m Monda\u001b[0m ⋯\n",
       "     │\u001b[90m Int64  \u001b[0m\u001b[90m Float64 \u001b[0m\u001b[90m Float64   \u001b[0m\u001b[90m Float64  \u001b[0m\u001b[90m Float64 \u001b[0m\u001b[90m Float64  \u001b[0m\u001b[90m Float64 \u001b[0m\u001b[90m Float\u001b[0m ⋯\n",
       "─────┼──────────────────────────────────────────────────────────────────────────\n",
       "   1 │      1      0.0        0.0       0.0      0.0       0.0     19.0      0 ⋯\n",
       "   2 │      2      0.0        0.0       0.0      0.0       0.0      0.0     15\n",
       "   3 │      3      0.0        0.0       0.0      0.0       0.0      5.0      0\n",
       "   4 │      4      0.0        0.0       0.0      0.0      13.0      0.0      0\n",
       "   5 │      5      0.0        0.0       0.0      0.0       0.0      3.0      0 ⋯\n",
       "   6 │      6      0.0        0.0       0.0      0.0       0.0     17.0      0\n",
       "   7 │      7      0.0        0.0       0.0      0.0      14.0      0.0      0\n",
       "   8 │      8      0.0        0.0       0.0      0.0       0.0      9.0      0\n",
       "   9 │      9      0.0        0.0       0.0      0.0       0.0      8.0      0 ⋯\n",
       "  10 │     10      0.0        0.0       0.0      0.0       0.0      0.0     16\n",
       "  11 │     11      0.0        0.0       0.0     18.0       0.0      0.0      0\n",
       "  12 │     12      0.0        0.0       0.0     20.0       0.0      0.0      0\n",
       "  13 │     13      0.0        0.0       0.0      0.0       4.0      0.0      0 ⋯\n",
       "  14 │     14      0.0        0.0       0.0      0.0       7.0      0.0      0\n",
       "  15 │     15      0.0        0.0       0.0      0.0       0.0      0.0      2\n",
       "  16 │     16      0.0        0.0       0.0      0.0       0.0      0.0     10\n",
       "  17 │     17      0.0        0.0       0.0      0.0       0.0      6.0      0 ⋯\n",
       "  18 │     18      0.0        0.0       0.0     11.0       0.0      0.0      0\n",
       "  19 │     19      0.0        0.0       0.0      0.0       0.0      1.0      0\n",
       "  20 │     20      0.0        0.0       0.0     12.0       0.0      0.0      0\n",
       "\u001b[36m                                                                1 column omitted\u001b[0m"
      ]
     },
     "metadata": {},
     "output_type": "display_data"
    },
    {
     "data": {
      "text/html": [
       "<div><div style = \"float: left;\"><span>20×8 DataFrame</span></div><div style = \"clear: both;\"></div></div><div class = \"data-frame\" style = \"overflow-x: scroll;\"><table class = \"data-frame\" style = \"margin-bottom: 6px;\"><thead><tr class = \"header\"><th class = \"rowNumber\" style = \"font-weight: bold; text-align: right;\">Row</th><th style = \"text-align: left;\">Player</th><th style = \"text-align: left;\">Tuesday</th><th style = \"text-align: left;\">Wednesday</th><th style = \"text-align: left;\">Thursday</th><th style = \"text-align: left;\">Friday</th><th style = \"text-align: left;\">Saturday</th><th style = \"text-align: left;\">Sunday</th><th style = \"text-align: left;\">Monday</th></tr><tr class = \"subheader headerLastRow\"><th class = \"rowNumber\" style = \"font-weight: bold; text-align: right;\"></th><th title = \"Int64\" style = \"text-align: left;\">Int64</th><th title = \"Float64\" style = \"text-align: left;\">Float64</th><th title = \"Float64\" style = \"text-align: left;\">Float64</th><th title = \"Float64\" style = \"text-align: left;\">Float64</th><th title = \"Float64\" style = \"text-align: left;\">Float64</th><th title = \"Float64\" style = \"text-align: left;\">Float64</th><th title = \"Float64\" style = \"text-align: left;\">Float64</th><th title = \"Float64\" style = \"text-align: left;\">Float64</th></tr></thead><tbody><tr><td class = \"rowNumber\" style = \"font-weight: bold; text-align: right;\">1</td><td style = \"text-align: right;\">1</td><td style = \"text-align: right;\">0.0</td><td style = \"text-align: right;\">0.0</td><td style = \"text-align: right;\">0.0</td><td style = \"text-align: right;\">0.0</td><td style = \"text-align: right;\">0.0</td><td style = \"text-align: right;\">0.0</td><td style = \"text-align: right;\">7.0</td></tr><tr><td class = \"rowNumber\" style = \"font-weight: bold; text-align: right;\">2</td><td style = \"text-align: right;\">2</td><td style = \"text-align: right;\">0.0</td><td style = \"text-align: right;\">0.0</td><td style = \"text-align: right;\">0.0</td><td style = \"text-align: right;\">5.0</td><td style = \"text-align: right;\">0.0</td><td style = \"text-align: right;\">0.0</td><td style = \"text-align: right;\">0.0</td></tr><tr><td class = \"rowNumber\" style = \"font-weight: bold; text-align: right;\">3</td><td style = \"text-align: right;\">3</td><td style = \"text-align: right;\">0.0</td><td style = \"text-align: right;\">0.0</td><td style = \"text-align: right;\">0.0</td><td style = \"text-align: right;\">13.0</td><td style = \"text-align: right;\">0.0</td><td style = \"text-align: right;\">0.0</td><td style = \"text-align: right;\">0.0</td></tr><tr><td class = \"rowNumber\" style = \"font-weight: bold; text-align: right;\">4</td><td style = \"text-align: right;\">4</td><td style = \"text-align: right;\">0.0</td><td style = \"text-align: right;\">0.0</td><td style = \"text-align: right;\">0.0</td><td style = \"text-align: right;\">0.0</td><td style = \"text-align: right;\">0.0</td><td style = \"text-align: right;\">0.0</td><td style = \"text-align: right;\">8.0</td></tr><tr><td class = \"rowNumber\" style = \"font-weight: bold; text-align: right;\">5</td><td style = \"text-align: right;\">5</td><td style = \"text-align: right;\">0.0</td><td style = \"text-align: right;\">0.0</td><td style = \"text-align: right;\">0.0</td><td style = \"text-align: right;\">2.0</td><td style = \"text-align: right;\">0.0</td><td style = \"text-align: right;\">0.0</td><td style = \"text-align: right;\">0.0</td></tr><tr><td class = \"rowNumber\" style = \"font-weight: bold; text-align: right;\">6</td><td style = \"text-align: right;\">6</td><td style = \"text-align: right;\">0.0</td><td style = \"text-align: right;\">0.0</td><td style = \"text-align: right;\">0.0</td><td style = \"text-align: right;\">0.0</td><td style = \"text-align: right;\">18.0</td><td style = \"text-align: right;\">0.0</td><td style = \"text-align: right;\">0.0</td></tr><tr><td class = \"rowNumber\" style = \"font-weight: bold; text-align: right;\">7</td><td style = \"text-align: right;\">7</td><td style = \"text-align: right;\">0.0</td><td style = \"text-align: right;\">0.0</td><td style = \"text-align: right;\">0.0</td><td style = \"text-align: right;\">0.0</td><td style = \"text-align: right;\">0.0</td><td style = \"text-align: right;\">0.0</td><td style = \"text-align: right;\">1.0</td></tr><tr><td class = \"rowNumber\" style = \"font-weight: bold; text-align: right;\">8</td><td style = \"text-align: right;\">8</td><td style = \"text-align: right;\">0.0</td><td style = \"text-align: right;\">0.0</td><td style = \"text-align: right;\">0.0</td><td style = \"text-align: right;\">0.0</td><td style = \"text-align: right;\">0.0</td><td style = \"text-align: right;\">0.0</td><td style = \"text-align: right;\">4.0</td></tr><tr><td class = \"rowNumber\" style = \"font-weight: bold; text-align: right;\">9</td><td style = \"text-align: right;\">9</td><td style = \"text-align: right;\">0.0</td><td style = \"text-align: right;\">0.0</td><td style = \"text-align: right;\">0.0</td><td style = \"text-align: right;\">0.0</td><td style = \"text-align: right;\">10.0</td><td style = \"text-align: right;\">0.0</td><td style = \"text-align: right;\">0.0</td></tr><tr><td class = \"rowNumber\" style = \"font-weight: bold; text-align: right;\">10</td><td style = \"text-align: right;\">10</td><td style = \"text-align: right;\">0.0</td><td style = \"text-align: right;\">0.0</td><td style = \"text-align: right;\">0.0</td><td style = \"text-align: right;\">0.0</td><td style = \"text-align: right;\">9.0</td><td style = \"text-align: right;\">0.0</td><td style = \"text-align: right;\">0.0</td></tr><tr><td class = \"rowNumber\" style = \"font-weight: bold; text-align: right;\">11</td><td style = \"text-align: right;\">11</td><td style = \"text-align: right;\">0.0</td><td style = \"text-align: right;\">0.0</td><td style = \"text-align: right;\">0.0</td><td style = \"text-align: right;\">0.0</td><td style = \"text-align: right;\">0.0</td><td style = \"text-align: right;\">12.0</td><td style = \"text-align: right;\">0.0</td></tr><tr><td class = \"rowNumber\" style = \"font-weight: bold; text-align: right;\">12</td><td style = \"text-align: right;\">12</td><td style = \"text-align: right;\">0.0</td><td style = \"text-align: right;\">0.0</td><td style = \"text-align: right;\">0.0</td><td style = \"text-align: right;\">0.0</td><td style = \"text-align: right;\">0.0</td><td style = \"text-align: right;\">11.0</td><td style = \"text-align: right;\">0.0</td></tr><tr><td class = \"rowNumber\" style = \"font-weight: bold; text-align: right;\">13</td><td style = \"text-align: right;\">13</td><td style = \"text-align: right;\">0.0</td><td style = \"text-align: right;\">0.0</td><td style = \"text-align: right;\">0.0</td><td style = \"text-align: right;\">3.0</td><td style = \"text-align: right;\">0.0</td><td style = \"text-align: right;\">0.0</td><td style = \"text-align: right;\">0.0</td></tr><tr><td class = \"rowNumber\" style = \"font-weight: bold; text-align: right;\">14</td><td style = \"text-align: right;\">14</td><td style = \"text-align: right;\">0.0</td><td style = \"text-align: right;\">0.0</td><td style = \"text-align: right;\">0.0</td><td style = \"text-align: right;\">15.0</td><td style = \"text-align: right;\">0.0</td><td style = \"text-align: right;\">0.0</td><td style = \"text-align: right;\">0.0</td></tr><tr><td class = \"rowNumber\" style = \"font-weight: bold; text-align: right;\">15</td><td style = \"text-align: right;\">15</td><td style = \"text-align: right;\">0.0</td><td style = \"text-align: right;\">0.0</td><td style = \"text-align: right;\">0.0</td><td style = \"text-align: right;\">14.0</td><td style = \"text-align: right;\">0.0</td><td style = \"text-align: right;\">0.0</td><td style = \"text-align: right;\">0.0</td></tr><tr><td class = \"rowNumber\" style = \"font-weight: bold; text-align: right;\">16</td><td style = \"text-align: right;\">16</td><td style = \"text-align: right;\">0.0</td><td style = \"text-align: right;\">0.0</td><td style = \"text-align: right;\">0.0</td><td style = \"text-align: right;\">19.0</td><td style = \"text-align: right;\">0.0</td><td style = \"text-align: right;\">0.0</td><td style = \"text-align: right;\">0.0</td></tr><tr><td class = \"rowNumber\" style = \"font-weight: bold; text-align: right;\">17</td><td style = \"text-align: right;\">17</td><td style = \"text-align: right;\">0.0</td><td style = \"text-align: right;\">0.0</td><td style = \"text-align: right;\">0.0</td><td style = \"text-align: right;\">0.0</td><td style = \"text-align: right;\">0.0</td><td style = \"text-align: right;\">0.0</td><td style = \"text-align: right;\">20.0</td></tr><tr><td class = \"rowNumber\" style = \"font-weight: bold; text-align: right;\">18</td><td style = \"text-align: right;\">18</td><td style = \"text-align: right;\">0.0</td><td style = \"text-align: right;\">0.0</td><td style = \"text-align: right;\">0.0</td><td style = \"text-align: right;\">0.0</td><td style = \"text-align: right;\">6.0</td><td style = \"text-align: right;\">0.0</td><td style = \"text-align: right;\">0.0</td></tr><tr><td class = \"rowNumber\" style = \"font-weight: bold; text-align: right;\">19</td><td style = \"text-align: right;\">19</td><td style = \"text-align: right;\">0.0</td><td style = \"text-align: right;\">0.0</td><td style = \"text-align: right;\">0.0</td><td style = \"text-align: right;\">16.0</td><td style = \"text-align: right;\">0.0</td><td style = \"text-align: right;\">0.0</td><td style = \"text-align: right;\">0.0</td></tr><tr><td class = \"rowNumber\" style = \"font-weight: bold; text-align: right;\">20</td><td style = \"text-align: right;\">20</td><td style = \"text-align: right;\">0.0</td><td style = \"text-align: right;\">0.0</td><td style = \"text-align: right;\">0.0</td><td style = \"text-align: right;\">0.0</td><td style = \"text-align: right;\">0.0</td><td style = \"text-align: right;\">0.0</td><td style = \"text-align: right;\">17.0</td></tr></tbody></table></div>"
      ],
      "text/latex": [
       "\\begin{tabular}{r|cccccccc}\n",
       "\t& Player & Tuesday & Wednesday & Thursday & Friday & Saturday & Sunday & Monday\\\\\n",
       "\t\\hline\n",
       "\t& Int64 & Float64 & Float64 & Float64 & Float64 & Float64 & Float64 & Float64\\\\\n",
       "\t\\hline\n",
       "\t1 & 1 & 0.0 & 0.0 & 0.0 & 0.0 & 0.0 & 0.0 & 7.0 \\\\\n",
       "\t2 & 2 & 0.0 & 0.0 & 0.0 & 5.0 & 0.0 & 0.0 & 0.0 \\\\\n",
       "\t3 & 3 & 0.0 & 0.0 & 0.0 & 13.0 & 0.0 & 0.0 & 0.0 \\\\\n",
       "\t4 & 4 & 0.0 & 0.0 & 0.0 & 0.0 & 0.0 & 0.0 & 8.0 \\\\\n",
       "\t5 & 5 & 0.0 & 0.0 & 0.0 & 2.0 & 0.0 & 0.0 & 0.0 \\\\\n",
       "\t6 & 6 & 0.0 & 0.0 & 0.0 & 0.0 & 18.0 & 0.0 & 0.0 \\\\\n",
       "\t7 & 7 & 0.0 & 0.0 & 0.0 & 0.0 & 0.0 & 0.0 & 1.0 \\\\\n",
       "\t8 & 8 & 0.0 & 0.0 & 0.0 & 0.0 & 0.0 & 0.0 & 4.0 \\\\\n",
       "\t9 & 9 & 0.0 & 0.0 & 0.0 & 0.0 & 10.0 & 0.0 & 0.0 \\\\\n",
       "\t10 & 10 & 0.0 & 0.0 & 0.0 & 0.0 & 9.0 & 0.0 & 0.0 \\\\\n",
       "\t11 & 11 & 0.0 & 0.0 & 0.0 & 0.0 & 0.0 & 12.0 & 0.0 \\\\\n",
       "\t12 & 12 & 0.0 & 0.0 & 0.0 & 0.0 & 0.0 & 11.0 & 0.0 \\\\\n",
       "\t13 & 13 & 0.0 & 0.0 & 0.0 & 3.0 & 0.0 & 0.0 & 0.0 \\\\\n",
       "\t14 & 14 & 0.0 & 0.0 & 0.0 & 15.0 & 0.0 & 0.0 & 0.0 \\\\\n",
       "\t15 & 15 & 0.0 & 0.0 & 0.0 & 14.0 & 0.0 & 0.0 & 0.0 \\\\\n",
       "\t16 & 16 & 0.0 & 0.0 & 0.0 & 19.0 & 0.0 & 0.0 & 0.0 \\\\\n",
       "\t17 & 17 & 0.0 & 0.0 & 0.0 & 0.0 & 0.0 & 0.0 & 20.0 \\\\\n",
       "\t18 & 18 & 0.0 & 0.0 & 0.0 & 0.0 & 6.0 & 0.0 & 0.0 \\\\\n",
       "\t19 & 19 & 0.0 & 0.0 & 0.0 & 16.0 & 0.0 & 0.0 & 0.0 \\\\\n",
       "\t20 & 20 & 0.0 & 0.0 & 0.0 & 0.0 & 0.0 & 0.0 & 17.0 \\\\\n",
       "\\end{tabular}\n"
      ],
      "text/plain": [
       "\u001b[1m20×8 DataFrame\u001b[0m\n",
       "\u001b[1m Row \u001b[0m│\u001b[1m Player \u001b[0m\u001b[1m Tuesday \u001b[0m\u001b[1m Wednesday \u001b[0m\u001b[1m Thursday \u001b[0m\u001b[1m Friday  \u001b[0m\u001b[1m Saturday \u001b[0m\u001b[1m Sunday  \u001b[0m\u001b[1m Monda\u001b[0m ⋯\n",
       "     │\u001b[90m Int64  \u001b[0m\u001b[90m Float64 \u001b[0m\u001b[90m Float64   \u001b[0m\u001b[90m Float64  \u001b[0m\u001b[90m Float64 \u001b[0m\u001b[90m Float64  \u001b[0m\u001b[90m Float64 \u001b[0m\u001b[90m Float\u001b[0m ⋯\n",
       "─────┼──────────────────────────────────────────────────────────────────────────\n",
       "   1 │      1      0.0        0.0       0.0      0.0       0.0      0.0      7 ⋯\n",
       "   2 │      2      0.0        0.0       0.0      5.0       0.0      0.0      0\n",
       "   3 │      3      0.0        0.0       0.0     13.0       0.0      0.0      0\n",
       "   4 │      4      0.0        0.0       0.0      0.0       0.0      0.0      8\n",
       "   5 │      5      0.0        0.0       0.0      2.0       0.0      0.0      0 ⋯\n",
       "   6 │      6      0.0        0.0       0.0      0.0      18.0      0.0      0\n",
       "   7 │      7      0.0        0.0       0.0      0.0       0.0      0.0      1\n",
       "   8 │      8      0.0        0.0       0.0      0.0       0.0      0.0      4\n",
       "   9 │      9      0.0        0.0       0.0      0.0      10.0      0.0      0 ⋯\n",
       "  10 │     10      0.0        0.0       0.0      0.0       9.0      0.0      0\n",
       "  11 │     11      0.0        0.0       0.0      0.0       0.0     12.0      0\n",
       "  12 │     12      0.0        0.0       0.0      0.0       0.0     11.0      0\n",
       "  13 │     13      0.0        0.0       0.0      3.0       0.0      0.0      0 ⋯\n",
       "  14 │     14      0.0        0.0       0.0     15.0       0.0      0.0      0\n",
       "  15 │     15      0.0        0.0       0.0     14.0       0.0      0.0      0\n",
       "  16 │     16      0.0        0.0       0.0     19.0       0.0      0.0      0\n",
       "  17 │     17      0.0        0.0       0.0      0.0       0.0      0.0     20 ⋯\n",
       "  18 │     18      0.0        0.0       0.0      0.0       6.0      0.0      0\n",
       "  19 │     19      0.0        0.0       0.0     16.0       0.0      0.0      0\n",
       "  20 │     20      0.0        0.0       0.0      0.0       0.0      0.0     17\n",
       "\u001b[36m                                                                1 column omitted\u001b[0m"
      ]
     },
     "metadata": {},
     "output_type": "display_data"
    },
    {
     "data": {
      "text/html": [
       "<div><div style = \"float: left;\"><span>20×8 DataFrame</span></div><div style = \"clear: both;\"></div></div><div class = \"data-frame\" style = \"overflow-x: scroll;\"><table class = \"data-frame\" style = \"margin-bottom: 6px;\"><thead><tr class = \"header\"><th class = \"rowNumber\" style = \"font-weight: bold; text-align: right;\">Row</th><th style = \"text-align: left;\">Player</th><th style = \"text-align: left;\">Tuesday</th><th style = \"text-align: left;\">Wednesday</th><th style = \"text-align: left;\">Thursday</th><th style = \"text-align: left;\">Friday</th><th style = \"text-align: left;\">Saturday</th><th style = \"text-align: left;\">Sunday</th><th style = \"text-align: left;\">Monday</th></tr><tr class = \"subheader headerLastRow\"><th class = \"rowNumber\" style = \"font-weight: bold; text-align: right;\"></th><th title = \"Int64\" style = \"text-align: left;\">Int64</th><th title = \"Float64\" style = \"text-align: left;\">Float64</th><th title = \"Float64\" style = \"text-align: left;\">Float64</th><th title = \"Float64\" style = \"text-align: left;\">Float64</th><th title = \"Float64\" style = \"text-align: left;\">Float64</th><th title = \"Float64\" style = \"text-align: left;\">Float64</th><th title = \"Float64\" style = \"text-align: left;\">Float64</th><th title = \"Float64\" style = \"text-align: left;\">Float64</th></tr></thead><tbody><tr><td class = \"rowNumber\" style = \"font-weight: bold; text-align: right;\">1</td><td style = \"text-align: right;\">1</td><td style = \"text-align: right;\">0.0</td><td style = \"text-align: right;\">0.0</td><td style = \"text-align: right;\">0.0</td><td style = \"text-align: right;\">0.0</td><td style = \"text-align: right;\">2.0</td><td style = \"text-align: right;\">0.0</td><td style = \"text-align: right;\">0.0</td></tr><tr><td class = \"rowNumber\" style = \"font-weight: bold; text-align: right;\">2</td><td style = \"text-align: right;\">2</td><td style = \"text-align: right;\">0.0</td><td style = \"text-align: right;\">0.0</td><td style = \"text-align: right;\">0.0</td><td style = \"text-align: right;\">0.0</td><td style = \"text-align: right;\">1.0</td><td style = \"text-align: right;\">0.0</td><td style = \"text-align: right;\">0.0</td></tr><tr><td class = \"rowNumber\" style = \"font-weight: bold; text-align: right;\">3</td><td style = \"text-align: right;\">3</td><td style = \"text-align: right;\">0.0</td><td style = \"text-align: right;\">0.0</td><td style = \"text-align: right;\">0.0</td><td style = \"text-align: right;\">0.0</td><td style = \"text-align: right;\">0.0</td><td style = \"text-align: right;\">0.0</td><td style = \"text-align: right;\">15.0</td></tr><tr><td class = \"rowNumber\" style = \"font-weight: bold; text-align: right;\">4</td><td style = \"text-align: right;\">4</td><td style = \"text-align: right;\">0.0</td><td style = \"text-align: right;\">0.0</td><td style = \"text-align: right;\">0.0</td><td style = \"text-align: right;\">17.0</td><td style = \"text-align: right;\">0.0</td><td style = \"text-align: right;\">0.0</td><td style = \"text-align: right;\">0.0</td></tr><tr><td class = \"rowNumber\" style = \"font-weight: bold; text-align: right;\">5</td><td style = \"text-align: right;\">5</td><td style = \"text-align: right;\">0.0</td><td style = \"text-align: right;\">0.0</td><td style = \"text-align: right;\">0.0</td><td style = \"text-align: right;\">0.0</td><td style = \"text-align: right;\">0.0</td><td style = \"text-align: right;\">0.0</td><td style = \"text-align: right;\">12.0</td></tr><tr><td class = \"rowNumber\" style = \"font-weight: bold; text-align: right;\">6</td><td style = \"text-align: right;\">6</td><td style = \"text-align: right;\">0.0</td><td style = \"text-align: right;\">0.0</td><td style = \"text-align: right;\">0.0</td><td style = \"text-align: right;\">0.0</td><td style = \"text-align: right;\">0.0</td><td style = \"text-align: right;\">0.0</td><td style = \"text-align: right;\">11.0</td></tr><tr><td class = \"rowNumber\" style = \"font-weight: bold; text-align: right;\">7</td><td style = \"text-align: right;\">7</td><td style = \"text-align: right;\">0.0</td><td style = \"text-align: right;\">0.0</td><td style = \"text-align: right;\">0.0</td><td style = \"text-align: right;\">0.0</td><td style = \"text-align: right;\">0.0</td><td style = \"text-align: right;\">18.0</td><td style = \"text-align: right;\">0.0</td></tr><tr><td class = \"rowNumber\" style = \"font-weight: bold; text-align: right;\">8</td><td style = \"text-align: right;\">8</td><td style = \"text-align: right;\">0.0</td><td style = \"text-align: right;\">0.0</td><td style = \"text-align: right;\">0.0</td><td style = \"text-align: right;\">0.0</td><td style = \"text-align: right;\">0.0</td><td style = \"text-align: right;\">10.0</td><td style = \"text-align: right;\">0.0</td></tr><tr><td class = \"rowNumber\" style = \"font-weight: bold; text-align: right;\">9</td><td style = \"text-align: right;\">9</td><td style = \"text-align: right;\">0.0</td><td style = \"text-align: right;\">0.0</td><td style = \"text-align: right;\">0.0</td><td style = \"text-align: right;\">0.0</td><td style = \"text-align: right;\">0.0</td><td style = \"text-align: right;\">0.0</td><td style = \"text-align: right;\">13.0</td></tr><tr><td class = \"rowNumber\" style = \"font-weight: bold; text-align: right;\">10</td><td style = \"text-align: right;\">10</td><td style = \"text-align: right;\">0.0</td><td style = \"text-align: right;\">0.0</td><td style = \"text-align: right;\">0.0</td><td style = \"text-align: right;\">0.0</td><td style = \"text-align: right;\">0.0</td><td style = \"text-align: right;\">8.0</td><td style = \"text-align: right;\">0.0</td></tr><tr><td class = \"rowNumber\" style = \"font-weight: bold; text-align: right;\">11</td><td style = \"text-align: right;\">11</td><td style = \"text-align: right;\">0.0</td><td style = \"text-align: right;\">0.0</td><td style = \"text-align: right;\">0.0</td><td style = \"text-align: right;\">0.0</td><td style = \"text-align: right;\">0.0</td><td style = \"text-align: right;\">0.0</td><td style = \"text-align: right;\">6.0</td></tr><tr><td class = \"rowNumber\" style = \"font-weight: bold; text-align: right;\">12</td><td style = \"text-align: right;\">12</td><td style = \"text-align: right;\">0.0</td><td style = \"text-align: right;\">0.0</td><td style = \"text-align: right;\">0.0</td><td style = \"text-align: right;\">0.0</td><td style = \"text-align: right;\">0.0</td><td style = \"text-align: right;\">0.0</td><td style = \"text-align: right;\">5.0</td></tr><tr><td class = \"rowNumber\" style = \"font-weight: bold; text-align: right;\">13</td><td style = \"text-align: right;\">13</td><td style = \"text-align: right;\">0.0</td><td style = \"text-align: right;\">0.0</td><td style = \"text-align: right;\">0.0</td><td style = \"text-align: right;\">0.0</td><td style = \"text-align: right;\">0.0</td><td style = \"text-align: right;\">0.0</td><td style = \"text-align: right;\">9.0</td></tr><tr><td class = \"rowNumber\" style = \"font-weight: bold; text-align: right;\">14</td><td style = \"text-align: right;\">14</td><td style = \"text-align: right;\">0.0</td><td style = \"text-align: right;\">0.0</td><td style = \"text-align: right;\">0.0</td><td style = \"text-align: right;\">0.0</td><td style = \"text-align: right;\">0.0</td><td style = \"text-align: right;\">0.0</td><td style = \"text-align: right;\">19.0</td></tr><tr><td class = \"rowNumber\" style = \"font-weight: bold; text-align: right;\">15</td><td style = \"text-align: right;\">15</td><td style = \"text-align: right;\">0.0</td><td style = \"text-align: right;\">0.0</td><td style = \"text-align: right;\">0.0</td><td style = \"text-align: right;\">0.0</td><td style = \"text-align: right;\">0.0</td><td style = \"text-align: right;\">0.0</td><td style = \"text-align: right;\">3.0</td></tr><tr><td class = \"rowNumber\" style = \"font-weight: bold; text-align: right;\">16</td><td style = \"text-align: right;\">16</td><td style = \"text-align: right;\">0.0</td><td style = \"text-align: right;\">0.0</td><td style = \"text-align: right;\">0.0</td><td style = \"text-align: right;\">0.0</td><td style = \"text-align: right;\">0.0</td><td style = \"text-align: right;\">20.0</td><td style = \"text-align: right;\">0.0</td></tr><tr><td class = \"rowNumber\" style = \"font-weight: bold; text-align: right;\">17</td><td style = \"text-align: right;\">17</td><td style = \"text-align: right;\">0.0</td><td style = \"text-align: right;\">0.0</td><td style = \"text-align: right;\">0.0</td><td style = \"text-align: right;\">4.0</td><td style = \"text-align: right;\">0.0</td><td style = \"text-align: right;\">0.0</td><td style = \"text-align: right;\">0.0</td></tr><tr><td class = \"rowNumber\" style = \"font-weight: bold; text-align: right;\">18</td><td style = \"text-align: right;\">18</td><td style = \"text-align: right;\">0.0</td><td style = \"text-align: right;\">0.0</td><td style = \"text-align: right;\">0.0</td><td style = \"text-align: right;\">0.0</td><td style = \"text-align: right;\">0.0</td><td style = \"text-align: right;\">7.0</td><td style = \"text-align: right;\">0.0</td></tr><tr><td class = \"rowNumber\" style = \"font-weight: bold; text-align: right;\">19</td><td style = \"text-align: right;\">19</td><td style = \"text-align: right;\">0.0</td><td style = \"text-align: right;\">0.0</td><td style = \"text-align: right;\">0.0</td><td style = \"text-align: right;\">0.0</td><td style = \"text-align: right;\">0.0</td><td style = \"text-align: right;\">0.0</td><td style = \"text-align: right;\">14.0</td></tr><tr><td class = \"rowNumber\" style = \"font-weight: bold; text-align: right;\">20</td><td style = \"text-align: right;\">20</td><td style = \"text-align: right;\">0.0</td><td style = \"text-align: right;\">0.0</td><td style = \"text-align: right;\">0.0</td><td style = \"text-align: right;\">0.0</td><td style = \"text-align: right;\">0.0</td><td style = \"text-align: right;\">16.0</td><td style = \"text-align: right;\">0.0</td></tr></tbody></table></div>"
      ],
      "text/latex": [
       "\\begin{tabular}{r|cccccccc}\n",
       "\t& Player & Tuesday & Wednesday & Thursday & Friday & Saturday & Sunday & Monday\\\\\n",
       "\t\\hline\n",
       "\t& Int64 & Float64 & Float64 & Float64 & Float64 & Float64 & Float64 & Float64\\\\\n",
       "\t\\hline\n",
       "\t1 & 1 & 0.0 & 0.0 & 0.0 & 0.0 & 2.0 & 0.0 & 0.0 \\\\\n",
       "\t2 & 2 & 0.0 & 0.0 & 0.0 & 0.0 & 1.0 & 0.0 & 0.0 \\\\\n",
       "\t3 & 3 & 0.0 & 0.0 & 0.0 & 0.0 & 0.0 & 0.0 & 15.0 \\\\\n",
       "\t4 & 4 & 0.0 & 0.0 & 0.0 & 17.0 & 0.0 & 0.0 & 0.0 \\\\\n",
       "\t5 & 5 & 0.0 & 0.0 & 0.0 & 0.0 & 0.0 & 0.0 & 12.0 \\\\\n",
       "\t6 & 6 & 0.0 & 0.0 & 0.0 & 0.0 & 0.0 & 0.0 & 11.0 \\\\\n",
       "\t7 & 7 & 0.0 & 0.0 & 0.0 & 0.0 & 0.0 & 18.0 & 0.0 \\\\\n",
       "\t8 & 8 & 0.0 & 0.0 & 0.0 & 0.0 & 0.0 & 10.0 & 0.0 \\\\\n",
       "\t9 & 9 & 0.0 & 0.0 & 0.0 & 0.0 & 0.0 & 0.0 & 13.0 \\\\\n",
       "\t10 & 10 & 0.0 & 0.0 & 0.0 & 0.0 & 0.0 & 8.0 & 0.0 \\\\\n",
       "\t11 & 11 & 0.0 & 0.0 & 0.0 & 0.0 & 0.0 & 0.0 & 6.0 \\\\\n",
       "\t12 & 12 & 0.0 & 0.0 & 0.0 & 0.0 & 0.0 & 0.0 & 5.0 \\\\\n",
       "\t13 & 13 & 0.0 & 0.0 & 0.0 & 0.0 & 0.0 & 0.0 & 9.0 \\\\\n",
       "\t14 & 14 & 0.0 & 0.0 & 0.0 & 0.0 & 0.0 & 0.0 & 19.0 \\\\\n",
       "\t15 & 15 & 0.0 & 0.0 & 0.0 & 0.0 & 0.0 & 0.0 & 3.0 \\\\\n",
       "\t16 & 16 & 0.0 & 0.0 & 0.0 & 0.0 & 0.0 & 20.0 & 0.0 \\\\\n",
       "\t17 & 17 & 0.0 & 0.0 & 0.0 & 4.0 & 0.0 & 0.0 & 0.0 \\\\\n",
       "\t18 & 18 & 0.0 & 0.0 & 0.0 & 0.0 & 0.0 & 7.0 & 0.0 \\\\\n",
       "\t19 & 19 & 0.0 & 0.0 & 0.0 & 0.0 & 0.0 & 0.0 & 14.0 \\\\\n",
       "\t20 & 20 & 0.0 & 0.0 & 0.0 & 0.0 & 0.0 & 16.0 & 0.0 \\\\\n",
       "\\end{tabular}\n"
      ],
      "text/plain": [
       "\u001b[1m20×8 DataFrame\u001b[0m\n",
       "\u001b[1m Row \u001b[0m│\u001b[1m Player \u001b[0m\u001b[1m Tuesday \u001b[0m\u001b[1m Wednesday \u001b[0m\u001b[1m Thursday \u001b[0m\u001b[1m Friday  \u001b[0m\u001b[1m Saturday \u001b[0m\u001b[1m Sunday  \u001b[0m\u001b[1m Monda\u001b[0m ⋯\n",
       "     │\u001b[90m Int64  \u001b[0m\u001b[90m Float64 \u001b[0m\u001b[90m Float64   \u001b[0m\u001b[90m Float64  \u001b[0m\u001b[90m Float64 \u001b[0m\u001b[90m Float64  \u001b[0m\u001b[90m Float64 \u001b[0m\u001b[90m Float\u001b[0m ⋯\n",
       "─────┼──────────────────────────────────────────────────────────────────────────\n",
       "   1 │      1      0.0        0.0       0.0      0.0       2.0      0.0      0 ⋯\n",
       "   2 │      2      0.0        0.0       0.0      0.0       1.0      0.0      0\n",
       "   3 │      3      0.0        0.0       0.0      0.0       0.0      0.0     15\n",
       "   4 │      4      0.0        0.0       0.0     17.0       0.0      0.0      0\n",
       "   5 │      5      0.0        0.0       0.0      0.0       0.0      0.0     12 ⋯\n",
       "   6 │      6      0.0        0.0       0.0      0.0       0.0      0.0     11\n",
       "   7 │      7      0.0        0.0       0.0      0.0       0.0     18.0      0\n",
       "   8 │      8      0.0        0.0       0.0      0.0       0.0     10.0      0\n",
       "   9 │      9      0.0        0.0       0.0      0.0       0.0      0.0     13 ⋯\n",
       "  10 │     10      0.0        0.0       0.0      0.0       0.0      8.0      0\n",
       "  11 │     11      0.0        0.0       0.0      0.0       0.0      0.0      6\n",
       "  12 │     12      0.0        0.0       0.0      0.0       0.0      0.0      5\n",
       "  13 │     13      0.0        0.0       0.0      0.0       0.0      0.0      9 ⋯\n",
       "  14 │     14      0.0        0.0       0.0      0.0       0.0      0.0     19\n",
       "  15 │     15      0.0        0.0       0.0      0.0       0.0      0.0      3\n",
       "  16 │     16      0.0        0.0       0.0      0.0       0.0     20.0      0\n",
       "  17 │     17      0.0        0.0       0.0      4.0       0.0      0.0      0 ⋯\n",
       "  18 │     18      0.0        0.0       0.0      0.0       0.0      7.0      0\n",
       "  19 │     19      0.0        0.0       0.0      0.0       0.0      0.0     14\n",
       "  20 │     20      0.0        0.0       0.0      0.0       0.0     16.0      0\n",
       "\u001b[36m                                                                1 column omitted\u001b[0m"
      ]
     },
     "metadata": {},
     "output_type": "display_data"
    },
    {
     "data": {
      "text/html": [
       "<div><div style = \"float: left;\"><span>20×8 DataFrame</span></div><div style = \"clear: both;\"></div></div><div class = \"data-frame\" style = \"overflow-x: scroll;\"><table class = \"data-frame\" style = \"margin-bottom: 6px;\"><thead><tr class = \"header\"><th class = \"rowNumber\" style = \"font-weight: bold; text-align: right;\">Row</th><th style = \"text-align: left;\">Player</th><th style = \"text-align: left;\">Tuesday</th><th style = \"text-align: left;\">Wednesday</th><th style = \"text-align: left;\">Thursday</th><th style = \"text-align: left;\">Friday</th><th style = \"text-align: left;\">Saturday</th><th style = \"text-align: left;\">Sunday</th><th style = \"text-align: left;\">Monday</th></tr><tr class = \"subheader headerLastRow\"><th class = \"rowNumber\" style = \"font-weight: bold; text-align: right;\"></th><th title = \"Int64\" style = \"text-align: left;\">Int64</th><th title = \"Float64\" style = \"text-align: left;\">Float64</th><th title = \"Float64\" style = \"text-align: left;\">Float64</th><th title = \"Float64\" style = \"text-align: left;\">Float64</th><th title = \"Float64\" style = \"text-align: left;\">Float64</th><th title = \"Float64\" style = \"text-align: left;\">Float64</th><th title = \"Float64\" style = \"text-align: left;\">Float64</th><th title = \"Float64\" style = \"text-align: left;\">Float64</th></tr></thead><tbody><tr><td class = \"rowNumber\" style = \"font-weight: bold; text-align: right;\">1</td><td style = \"text-align: right;\">1</td><td style = \"text-align: right;\">0.0</td><td style = \"text-align: right;\">0.0</td><td style = \"text-align: right;\">0.0</td><td style = \"text-align: right;\">0.0</td><td style = \"text-align: right;\">0.0</td><td style = \"text-align: right;\">0.0</td><td style = \"text-align: right;\">17.0</td></tr><tr><td class = \"rowNumber\" style = \"font-weight: bold; text-align: right;\">2</td><td style = \"text-align: right;\">2</td><td style = \"text-align: right;\">0.0</td><td style = \"text-align: right;\">0.0</td><td style = \"text-align: right;\">0.0</td><td style = \"text-align: right;\">0.0</td><td style = \"text-align: right;\">0.0</td><td style = \"text-align: right;\">16.0</td><td style = \"text-align: right;\">0.0</td></tr><tr><td class = \"rowNumber\" style = \"font-weight: bold; text-align: right;\">3</td><td style = \"text-align: right;\">3</td><td style = \"text-align: right;\">0.0</td><td style = \"text-align: right;\">0.0</td><td style = \"text-align: right;\">0.0</td><td style = \"text-align: right;\">0.0</td><td style = \"text-align: right;\">0.0</td><td style = \"text-align: right;\">0.0</td><td style = \"text-align: right;\">18.0</td></tr><tr><td class = \"rowNumber\" style = \"font-weight: bold; text-align: right;\">4</td><td style = \"text-align: right;\">4</td><td style = \"text-align: right;\">0.0</td><td style = \"text-align: right;\">0.0</td><td style = \"text-align: right;\">0.0</td><td style = \"text-align: right;\">0.0</td><td style = \"text-align: right;\">0.0</td><td style = \"text-align: right;\">14.0</td><td style = \"text-align: right;\">0.0</td></tr><tr><td class = \"rowNumber\" style = \"font-weight: bold; text-align: right;\">5</td><td style = \"text-align: right;\">5</td><td style = \"text-align: right;\">0.0</td><td style = \"text-align: right;\">0.0</td><td style = \"text-align: right;\">0.0</td><td style = \"text-align: right;\">0.0</td><td style = \"text-align: right;\">7.0</td><td style = \"text-align: right;\">0.0</td><td style = \"text-align: right;\">0.0</td></tr><tr><td class = \"rowNumber\" style = \"font-weight: bold; text-align: right;\">6</td><td style = \"text-align: right;\">6</td><td style = \"text-align: right;\">0.0</td><td style = \"text-align: right;\">0.0</td><td style = \"text-align: right;\">0.0</td><td style = \"text-align: right;\">8.0</td><td style = \"text-align: right;\">0.0</td><td style = \"text-align: right;\">0.0</td><td style = \"text-align: right;\">0.0</td></tr><tr><td class = \"rowNumber\" style = \"font-weight: bold; text-align: right;\">7</td><td style = \"text-align: right;\">7</td><td style = \"text-align: right;\">0.0</td><td style = \"text-align: right;\">0.0</td><td style = \"text-align: right;\">0.0</td><td style = \"text-align: right;\">0.0</td><td style = \"text-align: right;\">5.0</td><td style = \"text-align: right;\">0.0</td><td style = \"text-align: right;\">0.0</td></tr><tr><td class = \"rowNumber\" style = \"font-weight: bold; text-align: right;\">8</td><td style = \"text-align: right;\">8</td><td style = \"text-align: right;\">0.0</td><td style = \"text-align: right;\">0.0</td><td style = \"text-align: right;\">0.0</td><td style = \"text-align: right;\">6.0</td><td style = \"text-align: right;\">0.0</td><td style = \"text-align: right;\">0.0</td><td style = \"text-align: right;\">0.0</td></tr><tr><td class = \"rowNumber\" style = \"font-weight: bold; text-align: right;\">9</td><td style = \"text-align: right;\">9</td><td style = \"text-align: right;\">0.0</td><td style = \"text-align: right;\">0.0</td><td style = \"text-align: right;\">0.0</td><td style = \"text-align: right;\">0.0</td><td style = \"text-align: right;\">0.0</td><td style = \"text-align: right;\">0.0</td><td style = \"text-align: right;\">15.0</td></tr><tr><td class = \"rowNumber\" style = \"font-weight: bold; text-align: right;\">10</td><td style = \"text-align: right;\">10</td><td style = \"text-align: right;\">0.0</td><td style = \"text-align: right;\">0.0</td><td style = \"text-align: right;\">0.0</td><td style = \"text-align: right;\">12.0</td><td style = \"text-align: right;\">0.0</td><td style = \"text-align: right;\">0.0</td><td style = \"text-align: right;\">0.0</td></tr><tr><td class = \"rowNumber\" style = \"font-weight: bold; text-align: right;\">11</td><td style = \"text-align: right;\">11</td><td style = \"text-align: right;\">0.0</td><td style = \"text-align: right;\">0.0</td><td style = \"text-align: right;\">0.0</td><td style = \"text-align: right;\">0.0</td><td style = \"text-align: right;\">0.0</td><td style = \"text-align: right;\">0.0</td><td style = \"text-align: right;\">19.0</td></tr><tr><td class = \"rowNumber\" style = \"font-weight: bold; text-align: right;\">12</td><td style = \"text-align: right;\">12</td><td style = \"text-align: right;\">0.0</td><td style = \"text-align: right;\">0.0</td><td style = \"text-align: right;\">0.0</td><td style = \"text-align: right;\">10.0</td><td style = \"text-align: right;\">0.0</td><td style = \"text-align: right;\">0.0</td><td style = \"text-align: right;\">0.0</td></tr><tr><td class = \"rowNumber\" style = \"font-weight: bold; text-align: right;\">13</td><td style = \"text-align: right;\">13</td><td style = \"text-align: right;\">0.0</td><td style = \"text-align: right;\">0.0</td><td style = \"text-align: right;\">0.0</td><td style = \"text-align: right;\">0.0</td><td style = \"text-align: right;\">20.0</td><td style = \"text-align: right;\">0.0</td><td style = \"text-align: right;\">0.0</td></tr><tr><td class = \"rowNumber\" style = \"font-weight: bold; text-align: right;\">14</td><td style = \"text-align: right;\">14</td><td style = \"text-align: right;\">0.0</td><td style = \"text-align: right;\">0.0</td><td style = \"text-align: right;\">0.0</td><td style = \"text-align: right;\">0.0</td><td style = \"text-align: right;\">0.0</td><td style = \"text-align: right;\">4.0</td><td style = \"text-align: right;\">0.0</td></tr><tr><td class = \"rowNumber\" style = \"font-weight: bold; text-align: right;\">15</td><td style = \"text-align: right;\">15</td><td style = \"text-align: right;\">0.0</td><td style = \"text-align: right;\">0.0</td><td style = \"text-align: right;\">0.0</td><td style = \"text-align: right;\">0.0</td><td style = \"text-align: right;\">0.0</td><td style = \"text-align: right;\">0.0</td><td style = \"text-align: right;\">9.0</td></tr><tr><td class = \"rowNumber\" style = \"font-weight: bold; text-align: right;\">16</td><td style = \"text-align: right;\">16</td><td style = \"text-align: right;\">0.0</td><td style = \"text-align: right;\">0.0</td><td style = \"text-align: right;\">0.0</td><td style = \"text-align: right;\">0.0</td><td style = \"text-align: right;\">0.0</td><td style = \"text-align: right;\">2.0</td><td style = \"text-align: right;\">0.0</td></tr><tr><td class = \"rowNumber\" style = \"font-weight: bold; text-align: right;\">17</td><td style = \"text-align: right;\">17</td><td style = \"text-align: right;\">0.0</td><td style = \"text-align: right;\">0.0</td><td style = \"text-align: right;\">0.0</td><td style = \"text-align: right;\">0.0</td><td style = \"text-align: right;\">0.0</td><td style = \"text-align: right;\">0.0</td><td style = \"text-align: right;\">1.0</td></tr><tr><td class = \"rowNumber\" style = \"font-weight: bold; text-align: right;\">18</td><td style = \"text-align: right;\">18</td><td style = \"text-align: right;\">0.0</td><td style = \"text-align: right;\">0.0</td><td style = \"text-align: right;\">0.0</td><td style = \"text-align: right;\">0.0</td><td style = \"text-align: right;\">0.0</td><td style = \"text-align: right;\">0.0</td><td style = \"text-align: right;\">3.0</td></tr><tr><td class = \"rowNumber\" style = \"font-weight: bold; text-align: right;\">19</td><td style = \"text-align: right;\">19</td><td style = \"text-align: right;\">0.0</td><td style = \"text-align: right;\">0.0</td><td style = \"text-align: right;\">0.0</td><td style = \"text-align: right;\">0.0</td><td style = \"text-align: right;\">0.0</td><td style = \"text-align: right;\">0.0</td><td style = \"text-align: right;\">11.0</td></tr><tr><td class = \"rowNumber\" style = \"font-weight: bold; text-align: right;\">20</td><td style = \"text-align: right;\">20</td><td style = \"text-align: right;\">0.0</td><td style = \"text-align: right;\">0.0</td><td style = \"text-align: right;\">0.0</td><td style = \"text-align: right;\">0.0</td><td style = \"text-align: right;\">13.0</td><td style = \"text-align: right;\">0.0</td><td style = \"text-align: right;\">0.0</td></tr></tbody></table></div>"
      ],
      "text/latex": [
       "\\begin{tabular}{r|cccccccc}\n",
       "\t& Player & Tuesday & Wednesday & Thursday & Friday & Saturday & Sunday & Monday\\\\\n",
       "\t\\hline\n",
       "\t& Int64 & Float64 & Float64 & Float64 & Float64 & Float64 & Float64 & Float64\\\\\n",
       "\t\\hline\n",
       "\t1 & 1 & 0.0 & 0.0 & 0.0 & 0.0 & 0.0 & 0.0 & 17.0 \\\\\n",
       "\t2 & 2 & 0.0 & 0.0 & 0.0 & 0.0 & 0.0 & 16.0 & 0.0 \\\\\n",
       "\t3 & 3 & 0.0 & 0.0 & 0.0 & 0.0 & 0.0 & 0.0 & 18.0 \\\\\n",
       "\t4 & 4 & 0.0 & 0.0 & 0.0 & 0.0 & 0.0 & 14.0 & 0.0 \\\\\n",
       "\t5 & 5 & 0.0 & 0.0 & 0.0 & 0.0 & 7.0 & 0.0 & 0.0 \\\\\n",
       "\t6 & 6 & 0.0 & 0.0 & 0.0 & 8.0 & 0.0 & 0.0 & 0.0 \\\\\n",
       "\t7 & 7 & 0.0 & 0.0 & 0.0 & 0.0 & 5.0 & 0.0 & 0.0 \\\\\n",
       "\t8 & 8 & 0.0 & 0.0 & 0.0 & 6.0 & 0.0 & 0.0 & 0.0 \\\\\n",
       "\t9 & 9 & 0.0 & 0.0 & 0.0 & 0.0 & 0.0 & 0.0 & 15.0 \\\\\n",
       "\t10 & 10 & 0.0 & 0.0 & 0.0 & 12.0 & 0.0 & 0.0 & 0.0 \\\\\n",
       "\t11 & 11 & 0.0 & 0.0 & 0.0 & 0.0 & 0.0 & 0.0 & 19.0 \\\\\n",
       "\t12 & 12 & 0.0 & 0.0 & 0.0 & 10.0 & 0.0 & 0.0 & 0.0 \\\\\n",
       "\t13 & 13 & 0.0 & 0.0 & 0.0 & 0.0 & 20.0 & 0.0 & 0.0 \\\\\n",
       "\t14 & 14 & 0.0 & 0.0 & 0.0 & 0.0 & 0.0 & 4.0 & 0.0 \\\\\n",
       "\t15 & 15 & 0.0 & 0.0 & 0.0 & 0.0 & 0.0 & 0.0 & 9.0 \\\\\n",
       "\t16 & 16 & 0.0 & 0.0 & 0.0 & 0.0 & 0.0 & 2.0 & 0.0 \\\\\n",
       "\t17 & 17 & 0.0 & 0.0 & 0.0 & 0.0 & 0.0 & 0.0 & 1.0 \\\\\n",
       "\t18 & 18 & 0.0 & 0.0 & 0.0 & 0.0 & 0.0 & 0.0 & 3.0 \\\\\n",
       "\t19 & 19 & 0.0 & 0.0 & 0.0 & 0.0 & 0.0 & 0.0 & 11.0 \\\\\n",
       "\t20 & 20 & 0.0 & 0.0 & 0.0 & 0.0 & 13.0 & 0.0 & 0.0 \\\\\n",
       "\\end{tabular}\n"
      ],
      "text/plain": [
       "\u001b[1m20×8 DataFrame\u001b[0m\n",
       "\u001b[1m Row \u001b[0m│\u001b[1m Player \u001b[0m\u001b[1m Tuesday \u001b[0m\u001b[1m Wednesday \u001b[0m\u001b[1m Thursday \u001b[0m\u001b[1m Friday  \u001b[0m\u001b[1m Saturday \u001b[0m\u001b[1m Sunday  \u001b[0m\u001b[1m Monda\u001b[0m ⋯\n",
       "     │\u001b[90m Int64  \u001b[0m\u001b[90m Float64 \u001b[0m\u001b[90m Float64   \u001b[0m\u001b[90m Float64  \u001b[0m\u001b[90m Float64 \u001b[0m\u001b[90m Float64  \u001b[0m\u001b[90m Float64 \u001b[0m\u001b[90m Float\u001b[0m ⋯\n",
       "─────┼──────────────────────────────────────────────────────────────────────────\n",
       "   1 │      1      0.0        0.0       0.0      0.0       0.0      0.0     17 ⋯\n",
       "   2 │      2      0.0        0.0       0.0      0.0       0.0     16.0      0\n",
       "   3 │      3      0.0        0.0       0.0      0.0       0.0      0.0     18\n",
       "   4 │      4      0.0        0.0       0.0      0.0       0.0     14.0      0\n",
       "   5 │      5      0.0        0.0       0.0      0.0       7.0      0.0      0 ⋯\n",
       "   6 │      6      0.0        0.0       0.0      8.0       0.0      0.0      0\n",
       "   7 │      7      0.0        0.0       0.0      0.0       5.0      0.0      0\n",
       "   8 │      8      0.0        0.0       0.0      6.0       0.0      0.0      0\n",
       "   9 │      9      0.0        0.0       0.0      0.0       0.0      0.0     15 ⋯\n",
       "  10 │     10      0.0        0.0       0.0     12.0       0.0      0.0      0\n",
       "  11 │     11      0.0        0.0       0.0      0.0       0.0      0.0     19\n",
       "  12 │     12      0.0        0.0       0.0     10.0       0.0      0.0      0\n",
       "  13 │     13      0.0        0.0       0.0      0.0      20.0      0.0      0 ⋯\n",
       "  14 │     14      0.0        0.0       0.0      0.0       0.0      4.0      0\n",
       "  15 │     15      0.0        0.0       0.0      0.0       0.0      0.0      9\n",
       "  16 │     16      0.0        0.0       0.0      0.0       0.0      2.0      0\n",
       "  17 │     17      0.0        0.0       0.0      0.0       0.0      0.0      1 ⋯\n",
       "  18 │     18      0.0        0.0       0.0      0.0       0.0      0.0      3\n",
       "  19 │     19      0.0        0.0       0.0      0.0       0.0      0.0     11\n",
       "  20 │     20      0.0        0.0       0.0      0.0      13.0      0.0      0\n",
       "\u001b[36m                                                                1 column omitted\u001b[0m"
      ]
     },
     "metadata": {},
     "output_type": "display_data"
    },
    {
     "data": {
      "text/html": [
       "<div><div style = \"float: left;\"><span>20×8 DataFrame</span></div><div style = \"clear: both;\"></div></div><div class = \"data-frame\" style = \"overflow-x: scroll;\"><table class = \"data-frame\" style = \"margin-bottom: 6px;\"><thead><tr class = \"header\"><th class = \"rowNumber\" style = \"font-weight: bold; text-align: right;\">Row</th><th style = \"text-align: left;\">Player</th><th style = \"text-align: left;\">Tuesday</th><th style = \"text-align: left;\">Wednesday</th><th style = \"text-align: left;\">Thursday</th><th style = \"text-align: left;\">Friday</th><th style = \"text-align: left;\">Saturday</th><th style = \"text-align: left;\">Sunday</th><th style = \"text-align: left;\">Monday</th></tr><tr class = \"subheader headerLastRow\"><th class = \"rowNumber\" style = \"font-weight: bold; text-align: right;\"></th><th title = \"Int64\" style = \"text-align: left;\">Int64</th><th title = \"Float64\" style = \"text-align: left;\">Float64</th><th title = \"Float64\" style = \"text-align: left;\">Float64</th><th title = \"Float64\" style = \"text-align: left;\">Float64</th><th title = \"Float64\" style = \"text-align: left;\">Float64</th><th title = \"Float64\" style = \"text-align: left;\">Float64</th><th title = \"Float64\" style = \"text-align: left;\">Float64</th><th title = \"Float64\" style = \"text-align: left;\">Float64</th></tr></thead><tbody><tr><td class = \"rowNumber\" style = \"font-weight: bold; text-align: right;\">1</td><td style = \"text-align: right;\">1</td><td style = \"text-align: right;\">0.0</td><td style = \"text-align: right;\">0.0</td><td style = \"text-align: right;\">0.0</td><td style = \"text-align: right;\">0.0</td><td style = \"text-align: right;\">14.0</td><td style = \"text-align: right;\">0.0</td><td style = \"text-align: right;\">0.0</td></tr><tr><td class = \"rowNumber\" style = \"font-weight: bold; text-align: right;\">2</td><td style = \"text-align: right;\">2</td><td style = \"text-align: right;\">0.0</td><td style = \"text-align: right;\">0.0</td><td style = \"text-align: right;\">0.0</td><td style = \"text-align: right;\">0.0</td><td style = \"text-align: right;\">6.0</td><td style = \"text-align: right;\">0.0</td><td style = \"text-align: right;\">0.0</td></tr><tr><td class = \"rowNumber\" style = \"font-weight: bold; text-align: right;\">3</td><td style = \"text-align: right;\">3</td><td style = \"text-align: right;\">0.0</td><td style = \"text-align: right;\">0.0</td><td style = \"text-align: right;\">0.0</td><td style = \"text-align: right;\">17.0</td><td style = \"text-align: right;\">0.0</td><td style = \"text-align: right;\">0.0</td><td style = \"text-align: right;\">0.0</td></tr><tr><td class = \"rowNumber\" style = \"font-weight: bold; text-align: right;\">4</td><td style = \"text-align: right;\">4</td><td style = \"text-align: right;\">0.0</td><td style = \"text-align: right;\">0.0</td><td style = \"text-align: right;\">0.0</td><td style = \"text-align: right;\">0.0</td><td style = \"text-align: right;\">0.0</td><td style = \"text-align: right;\">0.0</td><td style = \"text-align: right;\">10.0</td></tr><tr><td class = \"rowNumber\" style = \"font-weight: bold; text-align: right;\">5</td><td style = \"text-align: right;\">5</td><td style = \"text-align: right;\">0.0</td><td style = \"text-align: right;\">0.0</td><td style = \"text-align: right;\">0.0</td><td style = \"text-align: right;\">0.0</td><td style = \"text-align: right;\">0.0</td><td style = \"text-align: right;\">0.0</td><td style = \"text-align: right;\">20.0</td></tr><tr><td class = \"rowNumber\" style = \"font-weight: bold; text-align: right;\">6</td><td style = \"text-align: right;\">6</td><td style = \"text-align: right;\">0.0</td><td style = \"text-align: right;\">0.0</td><td style = \"text-align: right;\">0.0</td><td style = \"text-align: right;\">0.0</td><td style = \"text-align: right;\">2.0</td><td style = \"text-align: right;\">0.0</td><td style = \"text-align: right;\">0.0</td></tr><tr><td class = \"rowNumber\" style = \"font-weight: bold; text-align: right;\">7</td><td style = \"text-align: right;\">7</td><td style = \"text-align: right;\">0.0</td><td style = \"text-align: right;\">0.0</td><td style = \"text-align: right;\">0.0</td><td style = \"text-align: right;\">0.0</td><td style = \"text-align: right;\">0.0</td><td style = \"text-align: right;\">0.0</td><td style = \"text-align: right;\">16.0</td></tr><tr><td class = \"rowNumber\" style = \"font-weight: bold; text-align: right;\">8</td><td style = \"text-align: right;\">8</td><td style = \"text-align: right;\">0.0</td><td style = \"text-align: right;\">0.0</td><td style = \"text-align: right;\">0.0</td><td style = \"text-align: right;\">0.0</td><td style = \"text-align: right;\">19.0</td><td style = \"text-align: right;\">0.0</td><td style = \"text-align: right;\">0.0</td></tr><tr><td class = \"rowNumber\" style = \"font-weight: bold; text-align: right;\">9</td><td style = \"text-align: right;\">9</td><td style = \"text-align: right;\">0.0</td><td style = \"text-align: right;\">0.0</td><td style = \"text-align: right;\">0.0</td><td style = \"text-align: right;\">11.0</td><td style = \"text-align: right;\">0.0</td><td style = \"text-align: right;\">0.0</td><td style = \"text-align: right;\">0.0</td></tr><tr><td class = \"rowNumber\" style = \"font-weight: bold; text-align: right;\">10</td><td style = \"text-align: right;\">10</td><td style = \"text-align: right;\">0.0</td><td style = \"text-align: right;\">0.0</td><td style = \"text-align: right;\">0.0</td><td style = \"text-align: right;\">0.0</td><td style = \"text-align: right;\">0.0</td><td style = \"text-align: right;\">0.0</td><td style = \"text-align: right;\">4.0</td></tr><tr><td class = \"rowNumber\" style = \"font-weight: bold; text-align: right;\">11</td><td style = \"text-align: right;\">11</td><td style = \"text-align: right;\">0.0</td><td style = \"text-align: right;\">0.0</td><td style = \"text-align: right;\">0.0</td><td style = \"text-align: right;\">9.0</td><td style = \"text-align: right;\">0.0</td><td style = \"text-align: right;\">0.0</td><td style = \"text-align: right;\">0.0</td></tr><tr><td class = \"rowNumber\" style = \"font-weight: bold; text-align: right;\">12</td><td style = \"text-align: right;\">12</td><td style = \"text-align: right;\">0.0</td><td style = \"text-align: right;\">0.0</td><td style = \"text-align: right;\">0.0</td><td style = \"text-align: right;\">0.0</td><td style = \"text-align: right;\">15.0</td><td style = \"text-align: right;\">0.0</td><td style = \"text-align: right;\">0.0</td></tr><tr><td class = \"rowNumber\" style = \"font-weight: bold; text-align: right;\">13</td><td style = \"text-align: right;\">13</td><td style = \"text-align: right;\">0.0</td><td style = \"text-align: right;\">0.0</td><td style = \"text-align: right;\">0.0</td><td style = \"text-align: right;\">0.0</td><td style = \"text-align: right;\">0.0</td><td style = \"text-align: right;\">18.0</td><td style = \"text-align: right;\">0.0</td></tr><tr><td class = \"rowNumber\" style = \"font-weight: bold; text-align: right;\">14</td><td style = \"text-align: right;\">14</td><td style = \"text-align: right;\">0.0</td><td style = \"text-align: right;\">0.0</td><td style = \"text-align: right;\">0.0</td><td style = \"text-align: right;\">0.0</td><td style = \"text-align: right;\">1.0</td><td style = \"text-align: right;\">0.0</td><td style = \"text-align: right;\">0.0</td></tr><tr><td class = \"rowNumber\" style = \"font-weight: bold; text-align: right;\">15</td><td style = \"text-align: right;\">15</td><td style = \"text-align: right;\">0.0</td><td style = \"text-align: right;\">0.0</td><td style = \"text-align: right;\">0.0</td><td style = \"text-align: right;\">0.0</td><td style = \"text-align: right;\">12.0</td><td style = \"text-align: right;\">0.0</td><td style = \"text-align: right;\">0.0</td></tr><tr><td class = \"rowNumber\" style = \"font-weight: bold; text-align: right;\">16</td><td style = \"text-align: right;\">16</td><td style = \"text-align: right;\">0.0</td><td style = \"text-align: right;\">0.0</td><td style = \"text-align: right;\">0.0</td><td style = \"text-align: right;\">0.0</td><td style = \"text-align: right;\">0.0</td><td style = \"text-align: right;\">0.0</td><td style = \"text-align: right;\">7.0</td></tr><tr><td class = \"rowNumber\" style = \"font-weight: bold; text-align: right;\">17</td><td style = \"text-align: right;\">17</td><td style = \"text-align: right;\">0.0</td><td style = \"text-align: right;\">0.0</td><td style = \"text-align: right;\">0.0</td><td style = \"text-align: right;\">3.0</td><td style = \"text-align: right;\">0.0</td><td style = \"text-align: right;\">0.0</td><td style = \"text-align: right;\">0.0</td></tr><tr><td class = \"rowNumber\" style = \"font-weight: bold; text-align: right;\">18</td><td style = \"text-align: right;\">18</td><td style = \"text-align: right;\">0.0</td><td style = \"text-align: right;\">0.0</td><td style = \"text-align: right;\">0.0</td><td style = \"text-align: right;\">0.0</td><td style = \"text-align: right;\">0.0</td><td style = \"text-align: right;\">13.0</td><td style = \"text-align: right;\">0.0</td></tr><tr><td class = \"rowNumber\" style = \"font-weight: bold; text-align: right;\">19</td><td style = \"text-align: right;\">19</td><td style = \"text-align: right;\">0.0</td><td style = \"text-align: right;\">0.0</td><td style = \"text-align: right;\">0.0</td><td style = \"text-align: right;\">0.0</td><td style = \"text-align: right;\">8.0</td><td style = \"text-align: right;\">0.0</td><td style = \"text-align: right;\">0.0</td></tr><tr><td class = \"rowNumber\" style = \"font-weight: bold; text-align: right;\">20</td><td style = \"text-align: right;\">20</td><td style = \"text-align: right;\">0.0</td><td style = \"text-align: right;\">0.0</td><td style = \"text-align: right;\">0.0</td><td style = \"text-align: right;\">0.0</td><td style = \"text-align: right;\">0.0</td><td style = \"text-align: right;\">0.0</td><td style = \"text-align: right;\">5.0</td></tr></tbody></table></div>"
      ],
      "text/latex": [
       "\\begin{tabular}{r|cccccccc}\n",
       "\t& Player & Tuesday & Wednesday & Thursday & Friday & Saturday & Sunday & Monday\\\\\n",
       "\t\\hline\n",
       "\t& Int64 & Float64 & Float64 & Float64 & Float64 & Float64 & Float64 & Float64\\\\\n",
       "\t\\hline\n",
       "\t1 & 1 & 0.0 & 0.0 & 0.0 & 0.0 & 14.0 & 0.0 & 0.0 \\\\\n",
       "\t2 & 2 & 0.0 & 0.0 & 0.0 & 0.0 & 6.0 & 0.0 & 0.0 \\\\\n",
       "\t3 & 3 & 0.0 & 0.0 & 0.0 & 17.0 & 0.0 & 0.0 & 0.0 \\\\\n",
       "\t4 & 4 & 0.0 & 0.0 & 0.0 & 0.0 & 0.0 & 0.0 & 10.0 \\\\\n",
       "\t5 & 5 & 0.0 & 0.0 & 0.0 & 0.0 & 0.0 & 0.0 & 20.0 \\\\\n",
       "\t6 & 6 & 0.0 & 0.0 & 0.0 & 0.0 & 2.0 & 0.0 & 0.0 \\\\\n",
       "\t7 & 7 & 0.0 & 0.0 & 0.0 & 0.0 & 0.0 & 0.0 & 16.0 \\\\\n",
       "\t8 & 8 & 0.0 & 0.0 & 0.0 & 0.0 & 19.0 & 0.0 & 0.0 \\\\\n",
       "\t9 & 9 & 0.0 & 0.0 & 0.0 & 11.0 & 0.0 & 0.0 & 0.0 \\\\\n",
       "\t10 & 10 & 0.0 & 0.0 & 0.0 & 0.0 & 0.0 & 0.0 & 4.0 \\\\\n",
       "\t11 & 11 & 0.0 & 0.0 & 0.0 & 9.0 & 0.0 & 0.0 & 0.0 \\\\\n",
       "\t12 & 12 & 0.0 & 0.0 & 0.0 & 0.0 & 15.0 & 0.0 & 0.0 \\\\\n",
       "\t13 & 13 & 0.0 & 0.0 & 0.0 & 0.0 & 0.0 & 18.0 & 0.0 \\\\\n",
       "\t14 & 14 & 0.0 & 0.0 & 0.0 & 0.0 & 1.0 & 0.0 & 0.0 \\\\\n",
       "\t15 & 15 & 0.0 & 0.0 & 0.0 & 0.0 & 12.0 & 0.0 & 0.0 \\\\\n",
       "\t16 & 16 & 0.0 & 0.0 & 0.0 & 0.0 & 0.0 & 0.0 & 7.0 \\\\\n",
       "\t17 & 17 & 0.0 & 0.0 & 0.0 & 3.0 & 0.0 & 0.0 & 0.0 \\\\\n",
       "\t18 & 18 & 0.0 & 0.0 & 0.0 & 0.0 & 0.0 & 13.0 & 0.0 \\\\\n",
       "\t19 & 19 & 0.0 & 0.0 & 0.0 & 0.0 & 8.0 & 0.0 & 0.0 \\\\\n",
       "\t20 & 20 & 0.0 & 0.0 & 0.0 & 0.0 & 0.0 & 0.0 & 5.0 \\\\\n",
       "\\end{tabular}\n"
      ],
      "text/plain": [
       "\u001b[1m20×8 DataFrame\u001b[0m\n",
       "\u001b[1m Row \u001b[0m│\u001b[1m Player \u001b[0m\u001b[1m Tuesday \u001b[0m\u001b[1m Wednesday \u001b[0m\u001b[1m Thursday \u001b[0m\u001b[1m Friday  \u001b[0m\u001b[1m Saturday \u001b[0m\u001b[1m Sunday  \u001b[0m\u001b[1m Monda\u001b[0m ⋯\n",
       "     │\u001b[90m Int64  \u001b[0m\u001b[90m Float64 \u001b[0m\u001b[90m Float64   \u001b[0m\u001b[90m Float64  \u001b[0m\u001b[90m Float64 \u001b[0m\u001b[90m Float64  \u001b[0m\u001b[90m Float64 \u001b[0m\u001b[90m Float\u001b[0m ⋯\n",
       "─────┼──────────────────────────────────────────────────────────────────────────\n",
       "   1 │      1      0.0        0.0       0.0      0.0      14.0      0.0      0 ⋯\n",
       "   2 │      2      0.0        0.0       0.0      0.0       6.0      0.0      0\n",
       "   3 │      3      0.0        0.0       0.0     17.0       0.0      0.0      0\n",
       "   4 │      4      0.0        0.0       0.0      0.0       0.0      0.0     10\n",
       "   5 │      5      0.0        0.0       0.0      0.0       0.0      0.0     20 ⋯\n",
       "   6 │      6      0.0        0.0       0.0      0.0       2.0      0.0      0\n",
       "   7 │      7      0.0        0.0       0.0      0.0       0.0      0.0     16\n",
       "   8 │      8      0.0        0.0       0.0      0.0      19.0      0.0      0\n",
       "   9 │      9      0.0        0.0       0.0     11.0       0.0      0.0      0 ⋯\n",
       "  10 │     10      0.0        0.0       0.0      0.0       0.0      0.0      4\n",
       "  11 │     11      0.0        0.0       0.0      9.0       0.0      0.0      0\n",
       "  12 │     12      0.0        0.0       0.0      0.0      15.0      0.0      0\n",
       "  13 │     13      0.0        0.0       0.0      0.0       0.0     18.0      0 ⋯\n",
       "  14 │     14      0.0        0.0       0.0      0.0       1.0      0.0      0\n",
       "  15 │     15      0.0        0.0       0.0      0.0      12.0      0.0      0\n",
       "  16 │     16      0.0        0.0       0.0      0.0       0.0      0.0      7\n",
       "  17 │     17      0.0        0.0       0.0      3.0       0.0      0.0      0 ⋯\n",
       "  18 │     18      0.0        0.0       0.0      0.0       0.0     13.0      0\n",
       "  19 │     19      0.0        0.0       0.0      0.0       8.0      0.0      0\n",
       "  20 │     20      0.0        0.0       0.0      0.0       0.0      0.0      5\n",
       "\u001b[36m                                                                1 column omitted\u001b[0m"
      ]
     },
     "metadata": {},
     "output_type": "display_data"
    },
    {
     "data": {
      "text/html": [
       "<div><div style = \"float: left;\"><span>20×8 DataFrame</span></div><div style = \"clear: both;\"></div></div><div class = \"data-frame\" style = \"overflow-x: scroll;\"><table class = \"data-frame\" style = \"margin-bottom: 6px;\"><thead><tr class = \"header\"><th class = \"rowNumber\" style = \"font-weight: bold; text-align: right;\">Row</th><th style = \"text-align: left;\">Player</th><th style = \"text-align: left;\">Tuesday</th><th style = \"text-align: left;\">Wednesday</th><th style = \"text-align: left;\">Thursday</th><th style = \"text-align: left;\">Friday</th><th style = \"text-align: left;\">Saturday</th><th style = \"text-align: left;\">Sunday</th><th style = \"text-align: left;\">Monday</th></tr><tr class = \"subheader headerLastRow\"><th class = \"rowNumber\" style = \"font-weight: bold; text-align: right;\"></th><th title = \"Int64\" style = \"text-align: left;\">Int64</th><th title = \"Float64\" style = \"text-align: left;\">Float64</th><th title = \"Float64\" style = \"text-align: left;\">Float64</th><th title = \"Float64\" style = \"text-align: left;\">Float64</th><th title = \"Float64\" style = \"text-align: left;\">Float64</th><th title = \"Float64\" style = \"text-align: left;\">Float64</th><th title = \"Float64\" style = \"text-align: left;\">Float64</th><th title = \"Float64\" style = \"text-align: left;\">Float64</th></tr></thead><tbody><tr><td class = \"rowNumber\" style = \"font-weight: bold; text-align: right;\">1</td><td style = \"text-align: right;\">1</td><td style = \"text-align: right;\">0.0</td><td style = \"text-align: right;\">0.0</td><td style = \"text-align: right;\">0.0</td><td style = \"text-align: right;\">0.0</td><td style = \"text-align: right;\">0.0</td><td style = \"text-align: right;\">4.0</td><td style = \"text-align: right;\">0.0</td></tr><tr><td class = \"rowNumber\" style = \"font-weight: bold; text-align: right;\">2</td><td style = \"text-align: right;\">2</td><td style = \"text-align: right;\">0.0</td><td style = \"text-align: right;\">0.0</td><td style = \"text-align: right;\">0.0</td><td style = \"text-align: right;\">10.0</td><td style = \"text-align: right;\">0.0</td><td style = \"text-align: right;\">0.0</td><td style = \"text-align: right;\">0.0</td></tr><tr><td class = \"rowNumber\" style = \"font-weight: bold; text-align: right;\">3</td><td style = \"text-align: right;\">3</td><td style = \"text-align: right;\">0.0</td><td style = \"text-align: right;\">0.0</td><td style = \"text-align: right;\">0.0</td><td style = \"text-align: right;\">0.0</td><td style = \"text-align: right;\">9.0</td><td style = \"text-align: right;\">0.0</td><td style = \"text-align: right;\">0.0</td></tr><tr><td class = \"rowNumber\" style = \"font-weight: bold; text-align: right;\">4</td><td style = \"text-align: right;\">4</td><td style = \"text-align: right;\">0.0</td><td style = \"text-align: right;\">0.0</td><td style = \"text-align: right;\">0.0</td><td style = \"text-align: right;\">0.0</td><td style = \"text-align: right;\">0.0</td><td style = \"text-align: right;\">1.0</td><td style = \"text-align: right;\">0.0</td></tr><tr><td class = \"rowNumber\" style = \"font-weight: bold; text-align: right;\">5</td><td style = \"text-align: right;\">5</td><td style = \"text-align: right;\">0.0</td><td style = \"text-align: right;\">0.0</td><td style = \"text-align: right;\">0.0</td><td style = \"text-align: right;\">0.0</td><td style = \"text-align: right;\">0.0</td><td style = \"text-align: right;\">11.0</td><td style = \"text-align: right;\">0.0</td></tr><tr><td class = \"rowNumber\" style = \"font-weight: bold; text-align: right;\">6</td><td style = \"text-align: right;\">6</td><td style = \"text-align: right;\">0.0</td><td style = \"text-align: right;\">0.0</td><td style = \"text-align: right;\">0.0</td><td style = \"text-align: right;\">15.0</td><td style = \"text-align: right;\">0.0</td><td style = \"text-align: right;\">0.0</td><td style = \"text-align: right;\">0.0</td></tr><tr><td class = \"rowNumber\" style = \"font-weight: bold; text-align: right;\">7</td><td style = \"text-align: right;\">7</td><td style = \"text-align: right;\">0.0</td><td style = \"text-align: right;\">0.0</td><td style = \"text-align: right;\">0.0</td><td style = \"text-align: right;\">0.0</td><td style = \"text-align: right;\">20.0</td><td style = \"text-align: right;\">0.0</td><td style = \"text-align: right;\">0.0</td></tr><tr><td class = \"rowNumber\" style = \"font-weight: bold; text-align: right;\">8</td><td style = \"text-align: right;\">8</td><td style = \"text-align: right;\">0.0</td><td style = \"text-align: right;\">0.0</td><td style = \"text-align: right;\">0.0</td><td style = \"text-align: right;\">13.0</td><td style = \"text-align: right;\">0.0</td><td style = \"text-align: right;\">0.0</td><td style = \"text-align: right;\">0.0</td></tr><tr><td class = \"rowNumber\" style = \"font-weight: bold; text-align: right;\">9</td><td style = \"text-align: right;\">9</td><td style = \"text-align: right;\">0.0</td><td style = \"text-align: right;\">0.0</td><td style = \"text-align: right;\">0.0</td><td style = \"text-align: right;\">0.0</td><td style = \"text-align: right;\">3.0</td><td style = \"text-align: right;\">0.0</td><td style = \"text-align: right;\">0.0</td></tr><tr><td class = \"rowNumber\" style = \"font-weight: bold; text-align: right;\">10</td><td style = \"text-align: right;\">10</td><td style = \"text-align: right;\">0.0</td><td style = \"text-align: right;\">0.0</td><td style = \"text-align: right;\">0.0</td><td style = \"text-align: right;\">2.0</td><td style = \"text-align: right;\">0.0</td><td style = \"text-align: right;\">0.0</td><td style = \"text-align: right;\">0.0</td></tr><tr><td class = \"rowNumber\" style = \"font-weight: bold; text-align: right;\">11</td><td style = \"text-align: right;\">11</td><td style = \"text-align: right;\">0.0</td><td style = \"text-align: right;\">0.0</td><td style = \"text-align: right;\">0.0</td><td style = \"text-align: right;\">0.0</td><td style = \"text-align: right;\">0.0</td><td style = \"text-align: right;\">5.0</td><td style = \"text-align: right;\">0.0</td></tr><tr><td class = \"rowNumber\" style = \"font-weight: bold; text-align: right;\">12</td><td style = \"text-align: right;\">12</td><td style = \"text-align: right;\">0.0</td><td style = \"text-align: right;\">0.0</td><td style = \"text-align: right;\">0.0</td><td style = \"text-align: right;\">0.0</td><td style = \"text-align: right;\">0.0</td><td style = \"text-align: right;\">0.0</td><td style = \"text-align: right;\">19.0</td></tr><tr><td class = \"rowNumber\" style = \"font-weight: bold; text-align: right;\">13</td><td style = \"text-align: right;\">13</td><td style = \"text-align: right;\">0.0</td><td style = \"text-align: right;\">0.0</td><td style = \"text-align: right;\">0.0</td><td style = \"text-align: right;\">8.0</td><td style = \"text-align: right;\">0.0</td><td style = \"text-align: right;\">0.0</td><td style = \"text-align: right;\">0.0</td></tr><tr><td class = \"rowNumber\" style = \"font-weight: bold; text-align: right;\">14</td><td style = \"text-align: right;\">14</td><td style = \"text-align: right;\">0.0</td><td style = \"text-align: right;\">0.0</td><td style = \"text-align: right;\">0.0</td><td style = \"text-align: right;\">16.0</td><td style = \"text-align: right;\">0.0</td><td style = \"text-align: right;\">0.0</td><td style = \"text-align: right;\">0.0</td></tr><tr><td class = \"rowNumber\" style = \"font-weight: bold; text-align: right;\">15</td><td style = \"text-align: right;\">15</td><td style = \"text-align: right;\">0.0</td><td style = \"text-align: right;\">0.0</td><td style = \"text-align: right;\">0.0</td><td style = \"text-align: right;\">6.0</td><td style = \"text-align: right;\">0.0</td><td style = \"text-align: right;\">0.0</td><td style = \"text-align: right;\">0.0</td></tr><tr><td class = \"rowNumber\" style = \"font-weight: bold; text-align: right;\">16</td><td style = \"text-align: right;\">16</td><td style = \"text-align: right;\">0.0</td><td style = \"text-align: right;\">0.0</td><td style = \"text-align: right;\">0.0</td><td style = \"text-align: right;\">14.0</td><td style = \"text-align: right;\">0.0</td><td style = \"text-align: right;\">0.0</td><td style = \"text-align: right;\">0.0</td></tr><tr><td class = \"rowNumber\" style = \"font-weight: bold; text-align: right;\">17</td><td style = \"text-align: right;\">17</td><td style = \"text-align: right;\">0.0</td><td style = \"text-align: right;\">0.0</td><td style = \"text-align: right;\">0.0</td><td style = \"text-align: right;\">0.0</td><td style = \"text-align: right;\">0.0</td><td style = \"text-align: right;\">0.0</td><td style = \"text-align: right;\">18.0</td></tr><tr><td class = \"rowNumber\" style = \"font-weight: bold; text-align: right;\">18</td><td style = \"text-align: right;\">18</td><td style = \"text-align: right;\">0.0</td><td style = \"text-align: right;\">0.0</td><td style = \"text-align: right;\">0.0</td><td style = \"text-align: right;\">0.0</td><td style = \"text-align: right;\">0.0</td><td style = \"text-align: right;\">0.0</td><td style = \"text-align: right;\">17.0</td></tr><tr><td class = \"rowNumber\" style = \"font-weight: bold; text-align: right;\">19</td><td style = \"text-align: right;\">19</td><td style = \"text-align: right;\">0.0</td><td style = \"text-align: right;\">0.0</td><td style = \"text-align: right;\">0.0</td><td style = \"text-align: right;\">0.0</td><td style = \"text-align: right;\">0.0</td><td style = \"text-align: right;\">0.0</td><td style = \"text-align: right;\">12.0</td></tr><tr><td class = \"rowNumber\" style = \"font-weight: bold; text-align: right;\">20</td><td style = \"text-align: right;\">20</td><td style = \"text-align: right;\">0.0</td><td style = \"text-align: right;\">0.0</td><td style = \"text-align: right;\">0.0</td><td style = \"text-align: right;\">0.0</td><td style = \"text-align: right;\">7.0</td><td style = \"text-align: right;\">0.0</td><td style = \"text-align: right;\">0.0</td></tr></tbody></table></div>"
      ],
      "text/latex": [
       "\\begin{tabular}{r|cccccccc}\n",
       "\t& Player & Tuesday & Wednesday & Thursday & Friday & Saturday & Sunday & Monday\\\\\n",
       "\t\\hline\n",
       "\t& Int64 & Float64 & Float64 & Float64 & Float64 & Float64 & Float64 & Float64\\\\\n",
       "\t\\hline\n",
       "\t1 & 1 & 0.0 & 0.0 & 0.0 & 0.0 & 0.0 & 4.0 & 0.0 \\\\\n",
       "\t2 & 2 & 0.0 & 0.0 & 0.0 & 10.0 & 0.0 & 0.0 & 0.0 \\\\\n",
       "\t3 & 3 & 0.0 & 0.0 & 0.0 & 0.0 & 9.0 & 0.0 & 0.0 \\\\\n",
       "\t4 & 4 & 0.0 & 0.0 & 0.0 & 0.0 & 0.0 & 1.0 & 0.0 \\\\\n",
       "\t5 & 5 & 0.0 & 0.0 & 0.0 & 0.0 & 0.0 & 11.0 & 0.0 \\\\\n",
       "\t6 & 6 & 0.0 & 0.0 & 0.0 & 15.0 & 0.0 & 0.0 & 0.0 \\\\\n",
       "\t7 & 7 & 0.0 & 0.0 & 0.0 & 0.0 & 20.0 & 0.0 & 0.0 \\\\\n",
       "\t8 & 8 & 0.0 & 0.0 & 0.0 & 13.0 & 0.0 & 0.0 & 0.0 \\\\\n",
       "\t9 & 9 & 0.0 & 0.0 & 0.0 & 0.0 & 3.0 & 0.0 & 0.0 \\\\\n",
       "\t10 & 10 & 0.0 & 0.0 & 0.0 & 2.0 & 0.0 & 0.0 & 0.0 \\\\\n",
       "\t11 & 11 & 0.0 & 0.0 & 0.0 & 0.0 & 0.0 & 5.0 & 0.0 \\\\\n",
       "\t12 & 12 & 0.0 & 0.0 & 0.0 & 0.0 & 0.0 & 0.0 & 19.0 \\\\\n",
       "\t13 & 13 & 0.0 & 0.0 & 0.0 & 8.0 & 0.0 & 0.0 & 0.0 \\\\\n",
       "\t14 & 14 & 0.0 & 0.0 & 0.0 & 16.0 & 0.0 & 0.0 & 0.0 \\\\\n",
       "\t15 & 15 & 0.0 & 0.0 & 0.0 & 6.0 & 0.0 & 0.0 & 0.0 \\\\\n",
       "\t16 & 16 & 0.0 & 0.0 & 0.0 & 14.0 & 0.0 & 0.0 & 0.0 \\\\\n",
       "\t17 & 17 & 0.0 & 0.0 & 0.0 & 0.0 & 0.0 & 0.0 & 18.0 \\\\\n",
       "\t18 & 18 & 0.0 & 0.0 & 0.0 & 0.0 & 0.0 & 0.0 & 17.0 \\\\\n",
       "\t19 & 19 & 0.0 & 0.0 & 0.0 & 0.0 & 0.0 & 0.0 & 12.0 \\\\\n",
       "\t20 & 20 & 0.0 & 0.0 & 0.0 & 0.0 & 7.0 & 0.0 & 0.0 \\\\\n",
       "\\end{tabular}\n"
      ],
      "text/plain": [
       "\u001b[1m20×8 DataFrame\u001b[0m\n",
       "\u001b[1m Row \u001b[0m│\u001b[1m Player \u001b[0m\u001b[1m Tuesday \u001b[0m\u001b[1m Wednesday \u001b[0m\u001b[1m Thursday \u001b[0m\u001b[1m Friday  \u001b[0m\u001b[1m Saturday \u001b[0m\u001b[1m Sunday  \u001b[0m\u001b[1m Monda\u001b[0m ⋯\n",
       "     │\u001b[90m Int64  \u001b[0m\u001b[90m Float64 \u001b[0m\u001b[90m Float64   \u001b[0m\u001b[90m Float64  \u001b[0m\u001b[90m Float64 \u001b[0m\u001b[90m Float64  \u001b[0m\u001b[90m Float64 \u001b[0m\u001b[90m Float\u001b[0m ⋯\n",
       "─────┼──────────────────────────────────────────────────────────────────────────\n",
       "   1 │      1      0.0        0.0       0.0      0.0       0.0      4.0      0 ⋯\n",
       "   2 │      2      0.0        0.0       0.0     10.0       0.0      0.0      0\n",
       "   3 │      3      0.0        0.0       0.0      0.0       9.0      0.0      0\n",
       "   4 │      4      0.0        0.0       0.0      0.0       0.0      1.0      0\n",
       "   5 │      5      0.0        0.0       0.0      0.0       0.0     11.0      0 ⋯\n",
       "   6 │      6      0.0        0.0       0.0     15.0       0.0      0.0      0\n",
       "   7 │      7      0.0        0.0       0.0      0.0      20.0      0.0      0\n",
       "   8 │      8      0.0        0.0       0.0     13.0       0.0      0.0      0\n",
       "   9 │      9      0.0        0.0       0.0      0.0       3.0      0.0      0 ⋯\n",
       "  10 │     10      0.0        0.0       0.0      2.0       0.0      0.0      0\n",
       "  11 │     11      0.0        0.0       0.0      0.0       0.0      5.0      0\n",
       "  12 │     12      0.0        0.0       0.0      0.0       0.0      0.0     19\n",
       "  13 │     13      0.0        0.0       0.0      8.0       0.0      0.0      0 ⋯\n",
       "  14 │     14      0.0        0.0       0.0     16.0       0.0      0.0      0\n",
       "  15 │     15      0.0        0.0       0.0      6.0       0.0      0.0      0\n",
       "  16 │     16      0.0        0.0       0.0     14.0       0.0      0.0      0\n",
       "  17 │     17      0.0        0.0       0.0      0.0       0.0      0.0     18 ⋯\n",
       "  18 │     18      0.0        0.0       0.0      0.0       0.0      0.0     17\n",
       "  19 │     19      0.0        0.0       0.0      0.0       0.0      0.0     12\n",
       "  20 │     20      0.0        0.0       0.0      0.0       7.0      0.0      0\n",
       "\u001b[36m                                                                1 column omitted\u001b[0m"
      ]
     },
     "metadata": {},
     "output_type": "display_data"
    },
    {
     "data": {
      "text/html": [
       "<div><div style = \"float: left;\"><span>20×8 DataFrame</span></div><div style = \"clear: both;\"></div></div><div class = \"data-frame\" style = \"overflow-x: scroll;\"><table class = \"data-frame\" style = \"margin-bottom: 6px;\"><thead><tr class = \"header\"><th class = \"rowNumber\" style = \"font-weight: bold; text-align: right;\">Row</th><th style = \"text-align: left;\">Player</th><th style = \"text-align: left;\">Tuesday</th><th style = \"text-align: left;\">Wednesday</th><th style = \"text-align: left;\">Thursday</th><th style = \"text-align: left;\">Friday</th><th style = \"text-align: left;\">Saturday</th><th style = \"text-align: left;\">Sunday</th><th style = \"text-align: left;\">Monday</th></tr><tr class = \"subheader headerLastRow\"><th class = \"rowNumber\" style = \"font-weight: bold; text-align: right;\"></th><th title = \"Int64\" style = \"text-align: left;\">Int64</th><th title = \"Float64\" style = \"text-align: left;\">Float64</th><th title = \"Float64\" style = \"text-align: left;\">Float64</th><th title = \"Float64\" style = \"text-align: left;\">Float64</th><th title = \"Float64\" style = \"text-align: left;\">Float64</th><th title = \"Float64\" style = \"text-align: left;\">Float64</th><th title = \"Float64\" style = \"text-align: left;\">Float64</th><th title = \"Float64\" style = \"text-align: left;\">Float64</th></tr></thead><tbody><tr><td class = \"rowNumber\" style = \"font-weight: bold; text-align: right;\">1</td><td style = \"text-align: right;\">1</td><td style = \"text-align: right;\">0.0</td><td style = \"text-align: right;\">0.0</td><td style = \"text-align: right;\">0.0</td><td style = \"text-align: right;\">0.0</td><td style = \"text-align: right;\">0.0</td><td style = \"text-align: right;\">0.0</td><td style = \"text-align: right;\">13.0</td></tr><tr><td class = \"rowNumber\" style = \"font-weight: bold; text-align: right;\">2</td><td style = \"text-align: right;\">2</td><td style = \"text-align: right;\">0.0</td><td style = \"text-align: right;\">0.0</td><td style = \"text-align: right;\">0.0</td><td style = \"text-align: right;\">0.0</td><td style = \"text-align: right;\">0.0</td><td style = \"text-align: right;\">19.0</td><td style = \"text-align: right;\">0.0</td></tr><tr><td class = \"rowNumber\" style = \"font-weight: bold; text-align: right;\">3</td><td style = \"text-align: right;\">3</td><td style = \"text-align: right;\">0.0</td><td style = \"text-align: right;\">0.0</td><td style = \"text-align: right;\">0.0</td><td style = \"text-align: right;\">11.0</td><td style = \"text-align: right;\">0.0</td><td style = \"text-align: right;\">0.0</td><td style = \"text-align: right;\">0.0</td></tr><tr><td class = \"rowNumber\" style = \"font-weight: bold; text-align: right;\">4</td><td style = \"text-align: right;\">4</td><td style = \"text-align: right;\">0.0</td><td style = \"text-align: right;\">0.0</td><td style = \"text-align: right;\">0.0</td><td style = \"text-align: right;\">0.0</td><td style = \"text-align: right;\">0.0</td><td style = \"text-align: right;\">0.0</td><td style = \"text-align: right;\">7.0</td></tr><tr><td class = \"rowNumber\" style = \"font-weight: bold; text-align: right;\">5</td><td style = \"text-align: right;\">5</td><td style = \"text-align: right;\">0.0</td><td style = \"text-align: right;\">0.0</td><td style = \"text-align: right;\">0.0</td><td style = \"text-align: right;\">17.0</td><td style = \"text-align: right;\">0.0</td><td style = \"text-align: right;\">0.0</td><td style = \"text-align: right;\">0.0</td></tr><tr><td class = \"rowNumber\" style = \"font-weight: bold; text-align: right;\">6</td><td style = \"text-align: right;\">6</td><td style = \"text-align: right;\">0.0</td><td style = \"text-align: right;\">0.0</td><td style = \"text-align: right;\">0.0</td><td style = \"text-align: right;\">0.0</td><td style = \"text-align: right;\">0.0</td><td style = \"text-align: right;\">0.0</td><td style = \"text-align: right;\">20.0</td></tr><tr><td class = \"rowNumber\" style = \"font-weight: bold; text-align: right;\">7</td><td style = \"text-align: right;\">7</td><td style = \"text-align: right;\">0.0</td><td style = \"text-align: right;\">0.0</td><td style = \"text-align: right;\">0.0</td><td style = \"text-align: right;\">0.0</td><td style = \"text-align: right;\">0.0</td><td style = \"text-align: right;\">0.0</td><td style = \"text-align: right;\">4.0</td></tr><tr><td class = \"rowNumber\" style = \"font-weight: bold; text-align: right;\">8</td><td style = \"text-align: right;\">8</td><td style = \"text-align: right;\">0.0</td><td style = \"text-align: right;\">0.0</td><td style = \"text-align: right;\">0.0</td><td style = \"text-align: right;\">0.0</td><td style = \"text-align: right;\">0.0</td><td style = \"text-align: right;\">0.0</td><td style = \"text-align: right;\">14.0</td></tr><tr><td class = \"rowNumber\" style = \"font-weight: bold; text-align: right;\">9</td><td style = \"text-align: right;\">9</td><td style = \"text-align: right;\">0.0</td><td style = \"text-align: right;\">0.0</td><td style = \"text-align: right;\">0.0</td><td style = \"text-align: right;\">0.0</td><td style = \"text-align: right;\">0.0</td><td style = \"text-align: right;\">12.0</td><td style = \"text-align: right;\">0.0</td></tr><tr><td class = \"rowNumber\" style = \"font-weight: bold; text-align: right;\">10</td><td style = \"text-align: right;\">10</td><td style = \"text-align: right;\">0.0</td><td style = \"text-align: right;\">0.0</td><td style = \"text-align: right;\">0.0</td><td style = \"text-align: right;\">0.0</td><td style = \"text-align: right;\">0.0</td><td style = \"text-align: right;\">18.0</td><td style = \"text-align: right;\">0.0</td></tr><tr><td class = \"rowNumber\" style = \"font-weight: bold; text-align: right;\">11</td><td style = \"text-align: right;\">11</td><td style = \"text-align: right;\">0.0</td><td style = \"text-align: right;\">0.0</td><td style = \"text-align: right;\">0.0</td><td style = \"text-align: right;\">3.0</td><td style = \"text-align: right;\">0.0</td><td style = \"text-align: right;\">0.0</td><td style = \"text-align: right;\">0.0</td></tr><tr><td class = \"rowNumber\" style = \"font-weight: bold; text-align: right;\">12</td><td style = \"text-align: right;\">12</td><td style = \"text-align: right;\">0.0</td><td style = \"text-align: right;\">0.0</td><td style = \"text-align: right;\">0.0</td><td style = \"text-align: right;\">0.0</td><td style = \"text-align: right;\">0.0</td><td style = \"text-align: right;\">9.0</td><td style = \"text-align: right;\">0.0</td></tr><tr><td class = \"rowNumber\" style = \"font-weight: bold; text-align: right;\">13</td><td style = \"text-align: right;\">13</td><td style = \"text-align: right;\">0.0</td><td style = \"text-align: right;\">0.0</td><td style = \"text-align: right;\">0.0</td><td style = \"text-align: right;\">0.0</td><td style = \"text-align: right;\">0.0</td><td style = \"text-align: right;\">0.0</td><td style = \"text-align: right;\">1.0</td></tr><tr><td class = \"rowNumber\" style = \"font-weight: bold; text-align: right;\">14</td><td style = \"text-align: right;\">14</td><td style = \"text-align: right;\">0.0</td><td style = \"text-align: right;\">0.0</td><td style = \"text-align: right;\">0.0</td><td style = \"text-align: right;\">0.0</td><td style = \"text-align: right;\">0.0</td><td style = \"text-align: right;\">0.0</td><td style = \"text-align: right;\">8.0</td></tr><tr><td class = \"rowNumber\" style = \"font-weight: bold; text-align: right;\">15</td><td style = \"text-align: right;\">15</td><td style = \"text-align: right;\">0.0</td><td style = \"text-align: right;\">0.0</td><td style = \"text-align: right;\">0.0</td><td style = \"text-align: right;\">0.0</td><td style = \"text-align: right;\">16.0</td><td style = \"text-align: right;\">0.0</td><td style = \"text-align: right;\">0.0</td></tr><tr><td class = \"rowNumber\" style = \"font-weight: bold; text-align: right;\">16</td><td style = \"text-align: right;\">16</td><td style = \"text-align: right;\">0.0</td><td style = \"text-align: right;\">0.0</td><td style = \"text-align: right;\">0.0</td><td style = \"text-align: right;\">0.0</td><td style = \"text-align: right;\">15.0</td><td style = \"text-align: right;\">0.0</td><td style = \"text-align: right;\">0.0</td></tr><tr><td class = \"rowNumber\" style = \"font-weight: bold; text-align: right;\">17</td><td style = \"text-align: right;\">17</td><td style = \"text-align: right;\">0.0</td><td style = \"text-align: right;\">0.0</td><td style = \"text-align: right;\">0.0</td><td style = \"text-align: right;\">5.0</td><td style = \"text-align: right;\">0.0</td><td style = \"text-align: right;\">0.0</td><td style = \"text-align: right;\">0.0</td></tr><tr><td class = \"rowNumber\" style = \"font-weight: bold; text-align: right;\">18</td><td style = \"text-align: right;\">18</td><td style = \"text-align: right;\">0.0</td><td style = \"text-align: right;\">0.0</td><td style = \"text-align: right;\">0.0</td><td style = \"text-align: right;\">0.0</td><td style = \"text-align: right;\">0.0</td><td style = \"text-align: right;\">10.0</td><td style = \"text-align: right;\">0.0</td></tr><tr><td class = \"rowNumber\" style = \"font-weight: bold; text-align: right;\">19</td><td style = \"text-align: right;\">19</td><td style = \"text-align: right;\">0.0</td><td style = \"text-align: right;\">0.0</td><td style = \"text-align: right;\">0.0</td><td style = \"text-align: right;\">0.0</td><td style = \"text-align: right;\">0.0</td><td style = \"text-align: right;\">2.0</td><td style = \"text-align: right;\">0.0</td></tr><tr><td class = \"rowNumber\" style = \"font-weight: bold; text-align: right;\">20</td><td style = \"text-align: right;\">20</td><td style = \"text-align: right;\">0.0</td><td style = \"text-align: right;\">0.0</td><td style = \"text-align: right;\">0.0</td><td style = \"text-align: right;\">0.0</td><td style = \"text-align: right;\">0.0</td><td style = \"text-align: right;\">0.0</td><td style = \"text-align: right;\">6.0</td></tr></tbody></table></div>"
      ],
      "text/latex": [
       "\\begin{tabular}{r|cccccccc}\n",
       "\t& Player & Tuesday & Wednesday & Thursday & Friday & Saturday & Sunday & Monday\\\\\n",
       "\t\\hline\n",
       "\t& Int64 & Float64 & Float64 & Float64 & Float64 & Float64 & Float64 & Float64\\\\\n",
       "\t\\hline\n",
       "\t1 & 1 & 0.0 & 0.0 & 0.0 & 0.0 & 0.0 & 0.0 & 13.0 \\\\\n",
       "\t2 & 2 & 0.0 & 0.0 & 0.0 & 0.0 & 0.0 & 19.0 & 0.0 \\\\\n",
       "\t3 & 3 & 0.0 & 0.0 & 0.0 & 11.0 & 0.0 & 0.0 & 0.0 \\\\\n",
       "\t4 & 4 & 0.0 & 0.0 & 0.0 & 0.0 & 0.0 & 0.0 & 7.0 \\\\\n",
       "\t5 & 5 & 0.0 & 0.0 & 0.0 & 17.0 & 0.0 & 0.0 & 0.0 \\\\\n",
       "\t6 & 6 & 0.0 & 0.0 & 0.0 & 0.0 & 0.0 & 0.0 & 20.0 \\\\\n",
       "\t7 & 7 & 0.0 & 0.0 & 0.0 & 0.0 & 0.0 & 0.0 & 4.0 \\\\\n",
       "\t8 & 8 & 0.0 & 0.0 & 0.0 & 0.0 & 0.0 & 0.0 & 14.0 \\\\\n",
       "\t9 & 9 & 0.0 & 0.0 & 0.0 & 0.0 & 0.0 & 12.0 & 0.0 \\\\\n",
       "\t10 & 10 & 0.0 & 0.0 & 0.0 & 0.0 & 0.0 & 18.0 & 0.0 \\\\\n",
       "\t11 & 11 & 0.0 & 0.0 & 0.0 & 3.0 & 0.0 & 0.0 & 0.0 \\\\\n",
       "\t12 & 12 & 0.0 & 0.0 & 0.0 & 0.0 & 0.0 & 9.0 & 0.0 \\\\\n",
       "\t13 & 13 & 0.0 & 0.0 & 0.0 & 0.0 & 0.0 & 0.0 & 1.0 \\\\\n",
       "\t14 & 14 & 0.0 & 0.0 & 0.0 & 0.0 & 0.0 & 0.0 & 8.0 \\\\\n",
       "\t15 & 15 & 0.0 & 0.0 & 0.0 & 0.0 & 16.0 & 0.0 & 0.0 \\\\\n",
       "\t16 & 16 & 0.0 & 0.0 & 0.0 & 0.0 & 15.0 & 0.0 & 0.0 \\\\\n",
       "\t17 & 17 & 0.0 & 0.0 & 0.0 & 5.0 & 0.0 & 0.0 & 0.0 \\\\\n",
       "\t18 & 18 & 0.0 & 0.0 & 0.0 & 0.0 & 0.0 & 10.0 & 0.0 \\\\\n",
       "\t19 & 19 & 0.0 & 0.0 & 0.0 & 0.0 & 0.0 & 2.0 & 0.0 \\\\\n",
       "\t20 & 20 & 0.0 & 0.0 & 0.0 & 0.0 & 0.0 & 0.0 & 6.0 \\\\\n",
       "\\end{tabular}\n"
      ],
      "text/plain": [
       "\u001b[1m20×8 DataFrame\u001b[0m\n",
       "\u001b[1m Row \u001b[0m│\u001b[1m Player \u001b[0m\u001b[1m Tuesday \u001b[0m\u001b[1m Wednesday \u001b[0m\u001b[1m Thursday \u001b[0m\u001b[1m Friday  \u001b[0m\u001b[1m Saturday \u001b[0m\u001b[1m Sunday  \u001b[0m\u001b[1m Monda\u001b[0m ⋯\n",
       "     │\u001b[90m Int64  \u001b[0m\u001b[90m Float64 \u001b[0m\u001b[90m Float64   \u001b[0m\u001b[90m Float64  \u001b[0m\u001b[90m Float64 \u001b[0m\u001b[90m Float64  \u001b[0m\u001b[90m Float64 \u001b[0m\u001b[90m Float\u001b[0m ⋯\n",
       "─────┼──────────────────────────────────────────────────────────────────────────\n",
       "   1 │      1      0.0        0.0       0.0      0.0       0.0      0.0     13 ⋯\n",
       "   2 │      2      0.0        0.0       0.0      0.0       0.0     19.0      0\n",
       "   3 │      3      0.0        0.0       0.0     11.0       0.0      0.0      0\n",
       "   4 │      4      0.0        0.0       0.0      0.0       0.0      0.0      7\n",
       "   5 │      5      0.0        0.0       0.0     17.0       0.0      0.0      0 ⋯\n",
       "   6 │      6      0.0        0.0       0.0      0.0       0.0      0.0     20\n",
       "   7 │      7      0.0        0.0       0.0      0.0       0.0      0.0      4\n",
       "   8 │      8      0.0        0.0       0.0      0.0       0.0      0.0     14\n",
       "   9 │      9      0.0        0.0       0.0      0.0       0.0     12.0      0 ⋯\n",
       "  10 │     10      0.0        0.0       0.0      0.0       0.0     18.0      0\n",
       "  11 │     11      0.0        0.0       0.0      3.0       0.0      0.0      0\n",
       "  12 │     12      0.0        0.0       0.0      0.0       0.0      9.0      0\n",
       "  13 │     13      0.0        0.0       0.0      0.0       0.0      0.0      1 ⋯\n",
       "  14 │     14      0.0        0.0       0.0      0.0       0.0      0.0      8\n",
       "  15 │     15      0.0        0.0       0.0      0.0      16.0      0.0      0\n",
       "  16 │     16      0.0        0.0       0.0      0.0      15.0      0.0      0\n",
       "  17 │     17      0.0        0.0       0.0      5.0       0.0      0.0      0 ⋯\n",
       "  18 │     18      0.0        0.0       0.0      0.0       0.0     10.0      0\n",
       "  19 │     19      0.0        0.0       0.0      0.0       0.0      2.0      0\n",
       "  20 │     20      0.0        0.0       0.0      0.0       0.0      0.0      6\n",
       "\u001b[36m                                                                1 column omitted\u001b[0m"
      ]
     },
     "metadata": {},
     "output_type": "display_data"
    },
    {
     "data": {
      "text/html": [
       "<div><div style = \"float: left;\"><span>20×8 DataFrame</span></div><div style = \"clear: both;\"></div></div><div class = \"data-frame\" style = \"overflow-x: scroll;\"><table class = \"data-frame\" style = \"margin-bottom: 6px;\"><thead><tr class = \"header\"><th class = \"rowNumber\" style = \"font-weight: bold; text-align: right;\">Row</th><th style = \"text-align: left;\">Player</th><th style = \"text-align: left;\">Tuesday</th><th style = \"text-align: left;\">Wednesday</th><th style = \"text-align: left;\">Thursday</th><th style = \"text-align: left;\">Friday</th><th style = \"text-align: left;\">Saturday</th><th style = \"text-align: left;\">Sunday</th><th style = \"text-align: left;\">Monday</th></tr><tr class = \"subheader headerLastRow\"><th class = \"rowNumber\" style = \"font-weight: bold; text-align: right;\"></th><th title = \"Int64\" style = \"text-align: left;\">Int64</th><th title = \"Float64\" style = \"text-align: left;\">Float64</th><th title = \"Float64\" style = \"text-align: left;\">Float64</th><th title = \"Float64\" style = \"text-align: left;\">Float64</th><th title = \"Float64\" style = \"text-align: left;\">Float64</th><th title = \"Float64\" style = \"text-align: left;\">Float64</th><th title = \"Float64\" style = \"text-align: left;\">Float64</th><th title = \"Float64\" style = \"text-align: left;\">Float64</th></tr></thead><tbody><tr><td class = \"rowNumber\" style = \"font-weight: bold; text-align: right;\">1</td><td style = \"text-align: right;\">1</td><td style = \"text-align: right;\">0.0</td><td style = \"text-align: right;\">0.0</td><td style = \"text-align: right;\">0.0</td><td style = \"text-align: right;\">0.0</td><td style = \"text-align: right;\">0.0</td><td style = \"text-align: right;\">0.0</td><td style = \"text-align: right;\">18.0</td></tr><tr><td class = \"rowNumber\" style = \"font-weight: bold; text-align: right;\">2</td><td style = \"text-align: right;\">2</td><td style = \"text-align: right;\">0.0</td><td style = \"text-align: right;\">0.0</td><td style = \"text-align: right;\">0.0</td><td style = \"text-align: right;\">0.0</td><td style = \"text-align: right;\">0.0</td><td style = \"text-align: right;\">20.0</td><td style = \"text-align: right;\">0.0</td></tr><tr><td class = \"rowNumber\" style = \"font-weight: bold; text-align: right;\">3</td><td style = \"text-align: right;\">3</td><td style = \"text-align: right;\">0.0</td><td style = \"text-align: right;\">0.0</td><td style = \"text-align: right;\">0.0</td><td style = \"text-align: right;\">0.0</td><td style = \"text-align: right;\">0.0</td><td style = \"text-align: right;\">0.0</td><td style = \"text-align: right;\">4.0</td></tr><tr><td class = \"rowNumber\" style = \"font-weight: bold; text-align: right;\">4</td><td style = \"text-align: right;\">4</td><td style = \"text-align: right;\">0.0</td><td style = \"text-align: right;\">0.0</td><td style = \"text-align: right;\">0.0</td><td style = \"text-align: right;\">0.0</td><td style = \"text-align: right;\">0.0</td><td style = \"text-align: right;\">0.0</td><td style = \"text-align: right;\">3.0</td></tr><tr><td class = \"rowNumber\" style = \"font-weight: bold; text-align: right;\">5</td><td style = \"text-align: right;\">5</td><td style = \"text-align: right;\">0.0</td><td style = \"text-align: right;\">0.0</td><td style = \"text-align: right;\">0.0</td><td style = \"text-align: right;\">0.0</td><td style = \"text-align: right;\">14.0</td><td style = \"text-align: right;\">0.0</td><td style = \"text-align: right;\">0.0</td></tr><tr><td class = \"rowNumber\" style = \"font-weight: bold; text-align: right;\">6</td><td style = \"text-align: right;\">6</td><td style = \"text-align: right;\">0.0</td><td style = \"text-align: right;\">0.0</td><td style = \"text-align: right;\">0.0</td><td style = \"text-align: right;\">13.0</td><td style = \"text-align: right;\">0.0</td><td style = \"text-align: right;\">0.0</td><td style = \"text-align: right;\">0.0</td></tr><tr><td class = \"rowNumber\" style = \"font-weight: bold; text-align: right;\">7</td><td style = \"text-align: right;\">7</td><td style = \"text-align: right;\">0.0</td><td style = \"text-align: right;\">0.0</td><td style = \"text-align: right;\">0.0</td><td style = \"text-align: right;\">12.0</td><td style = \"text-align: right;\">0.0</td><td style = \"text-align: right;\">0.0</td><td style = \"text-align: right;\">0.0</td></tr><tr><td class = \"rowNumber\" style = \"font-weight: bold; text-align: right;\">8</td><td style = \"text-align: right;\">8</td><td style = \"text-align: right;\">0.0</td><td style = \"text-align: right;\">0.0</td><td style = \"text-align: right;\">0.0</td><td style = \"text-align: right;\">0.0</td><td style = \"text-align: right;\">0.0</td><td style = \"text-align: right;\">0.0</td><td style = \"text-align: right;\">15.0</td></tr><tr><td class = \"rowNumber\" style = \"font-weight: bold; text-align: right;\">9</td><td style = \"text-align: right;\">9</td><td style = \"text-align: right;\">0.0</td><td style = \"text-align: right;\">0.0</td><td style = \"text-align: right;\">0.0</td><td style = \"text-align: right;\">0.0</td><td style = \"text-align: right;\">19.0</td><td style = \"text-align: right;\">0.0</td><td style = \"text-align: right;\">0.0</td></tr><tr><td class = \"rowNumber\" style = \"font-weight: bold; text-align: right;\">10</td><td style = \"text-align: right;\">10</td><td style = \"text-align: right;\">0.0</td><td style = \"text-align: right;\">0.0</td><td style = \"text-align: right;\">0.0</td><td style = \"text-align: right;\">0.0</td><td style = \"text-align: right;\">17.0</td><td style = \"text-align: right;\">0.0</td><td style = \"text-align: right;\">0.0</td></tr><tr><td class = \"rowNumber\" style = \"font-weight: bold; text-align: right;\">11</td><td style = \"text-align: right;\">11</td><td style = \"text-align: right;\">0.0</td><td style = \"text-align: right;\">0.0</td><td style = \"text-align: right;\">0.0</td><td style = \"text-align: right;\">0.0</td><td style = \"text-align: right;\">0.0</td><td style = \"text-align: right;\">0.0</td><td style = \"text-align: right;\">16.0</td></tr><tr><td class = \"rowNumber\" style = \"font-weight: bold; text-align: right;\">12</td><td style = \"text-align: right;\">12</td><td style = \"text-align: right;\">0.0</td><td style = \"text-align: right;\">0.0</td><td style = \"text-align: right;\">0.0</td><td style = \"text-align: right;\">7.0</td><td style = \"text-align: right;\">0.0</td><td style = \"text-align: right;\">0.0</td><td style = \"text-align: right;\">0.0</td></tr><tr><td class = \"rowNumber\" style = \"font-weight: bold; text-align: right;\">13</td><td style = \"text-align: right;\">13</td><td style = \"text-align: right;\">0.0</td><td style = \"text-align: right;\">0.0</td><td style = \"text-align: right;\">0.0</td><td style = \"text-align: right;\">6.0</td><td style = \"text-align: right;\">0.0</td><td style = \"text-align: right;\">0.0</td><td style = \"text-align: right;\">0.0</td></tr><tr><td class = \"rowNumber\" style = \"font-weight: bold; text-align: right;\">14</td><td style = \"text-align: right;\">14</td><td style = \"text-align: right;\">0.0</td><td style = \"text-align: right;\">0.0</td><td style = \"text-align: right;\">0.0</td><td style = \"text-align: right;\">0.0</td><td style = \"text-align: right;\">5.0</td><td style = \"text-align: right;\">0.0</td><td style = \"text-align: right;\">0.0</td></tr><tr><td class = \"rowNumber\" style = \"font-weight: bold; text-align: right;\">15</td><td style = \"text-align: right;\">15</td><td style = \"text-align: right;\">0.0</td><td style = \"text-align: right;\">0.0</td><td style = \"text-align: right;\">0.0</td><td style = \"text-align: right;\">0.0</td><td style = \"text-align: right;\">0.0</td><td style = \"text-align: right;\">0.0</td><td style = \"text-align: right;\">8.0</td></tr><tr><td class = \"rowNumber\" style = \"font-weight: bold; text-align: right;\">16</td><td style = \"text-align: right;\">16</td><td style = \"text-align: right;\">0.0</td><td style = \"text-align: right;\">0.0</td><td style = \"text-align: right;\">0.0</td><td style = \"text-align: right;\">0.0</td><td style = \"text-align: right;\">0.0</td><td style = \"text-align: right;\">0.0</td><td style = \"text-align: right;\">11.0</td></tr><tr><td class = \"rowNumber\" style = \"font-weight: bold; text-align: right;\">17</td><td style = \"text-align: right;\">17</td><td style = \"text-align: right;\">0.0</td><td style = \"text-align: right;\">0.0</td><td style = \"text-align: right;\">0.0</td><td style = \"text-align: right;\">0.0</td><td style = \"text-align: right;\">10.0</td><td style = \"text-align: right;\">0.0</td><td style = \"text-align: right;\">0.0</td></tr><tr><td class = \"rowNumber\" style = \"font-weight: bold; text-align: right;\">18</td><td style = \"text-align: right;\">18</td><td style = \"text-align: right;\">0.0</td><td style = \"text-align: right;\">0.0</td><td style = \"text-align: right;\">0.0</td><td style = \"text-align: right;\">0.0</td><td style = \"text-align: right;\">0.0</td><td style = \"text-align: right;\">0.0</td><td style = \"text-align: right;\">1.0</td></tr><tr><td class = \"rowNumber\" style = \"font-weight: bold; text-align: right;\">19</td><td style = \"text-align: right;\">19</td><td style = \"text-align: right;\">0.0</td><td style = \"text-align: right;\">0.0</td><td style = \"text-align: right;\">0.0</td><td style = \"text-align: right;\">0.0</td><td style = \"text-align: right;\">9.0</td><td style = \"text-align: right;\">0.0</td><td style = \"text-align: right;\">0.0</td></tr><tr><td class = \"rowNumber\" style = \"font-weight: bold; text-align: right;\">20</td><td style = \"text-align: right;\">20</td><td style = \"text-align: right;\">0.0</td><td style = \"text-align: right;\">0.0</td><td style = \"text-align: right;\">0.0</td><td style = \"text-align: right;\">0.0</td><td style = \"text-align: right;\">0.0</td><td style = \"text-align: right;\">2.0</td><td style = \"text-align: right;\">0.0</td></tr></tbody></table></div>"
      ],
      "text/latex": [
       "\\begin{tabular}{r|cccccccc}\n",
       "\t& Player & Tuesday & Wednesday & Thursday & Friday & Saturday & Sunday & Monday\\\\\n",
       "\t\\hline\n",
       "\t& Int64 & Float64 & Float64 & Float64 & Float64 & Float64 & Float64 & Float64\\\\\n",
       "\t\\hline\n",
       "\t1 & 1 & 0.0 & 0.0 & 0.0 & 0.0 & 0.0 & 0.0 & 18.0 \\\\\n",
       "\t2 & 2 & 0.0 & 0.0 & 0.0 & 0.0 & 0.0 & 20.0 & 0.0 \\\\\n",
       "\t3 & 3 & 0.0 & 0.0 & 0.0 & 0.0 & 0.0 & 0.0 & 4.0 \\\\\n",
       "\t4 & 4 & 0.0 & 0.0 & 0.0 & 0.0 & 0.0 & 0.0 & 3.0 \\\\\n",
       "\t5 & 5 & 0.0 & 0.0 & 0.0 & 0.0 & 14.0 & 0.0 & 0.0 \\\\\n",
       "\t6 & 6 & 0.0 & 0.0 & 0.0 & 13.0 & 0.0 & 0.0 & 0.0 \\\\\n",
       "\t7 & 7 & 0.0 & 0.0 & 0.0 & 12.0 & 0.0 & 0.0 & 0.0 \\\\\n",
       "\t8 & 8 & 0.0 & 0.0 & 0.0 & 0.0 & 0.0 & 0.0 & 15.0 \\\\\n",
       "\t9 & 9 & 0.0 & 0.0 & 0.0 & 0.0 & 19.0 & 0.0 & 0.0 \\\\\n",
       "\t10 & 10 & 0.0 & 0.0 & 0.0 & 0.0 & 17.0 & 0.0 & 0.0 \\\\\n",
       "\t11 & 11 & 0.0 & 0.0 & 0.0 & 0.0 & 0.0 & 0.0 & 16.0 \\\\\n",
       "\t12 & 12 & 0.0 & 0.0 & 0.0 & 7.0 & 0.0 & 0.0 & 0.0 \\\\\n",
       "\t13 & 13 & 0.0 & 0.0 & 0.0 & 6.0 & 0.0 & 0.0 & 0.0 \\\\\n",
       "\t14 & 14 & 0.0 & 0.0 & 0.0 & 0.0 & 5.0 & 0.0 & 0.0 \\\\\n",
       "\t15 & 15 & 0.0 & 0.0 & 0.0 & 0.0 & 0.0 & 0.0 & 8.0 \\\\\n",
       "\t16 & 16 & 0.0 & 0.0 & 0.0 & 0.0 & 0.0 & 0.0 & 11.0 \\\\\n",
       "\t17 & 17 & 0.0 & 0.0 & 0.0 & 0.0 & 10.0 & 0.0 & 0.0 \\\\\n",
       "\t18 & 18 & 0.0 & 0.0 & 0.0 & 0.0 & 0.0 & 0.0 & 1.0 \\\\\n",
       "\t19 & 19 & 0.0 & 0.0 & 0.0 & 0.0 & 9.0 & 0.0 & 0.0 \\\\\n",
       "\t20 & 20 & 0.0 & 0.0 & 0.0 & 0.0 & 0.0 & 2.0 & 0.0 \\\\\n",
       "\\end{tabular}\n"
      ],
      "text/plain": [
       "\u001b[1m20×8 DataFrame\u001b[0m\n",
       "\u001b[1m Row \u001b[0m│\u001b[1m Player \u001b[0m\u001b[1m Tuesday \u001b[0m\u001b[1m Wednesday \u001b[0m\u001b[1m Thursday \u001b[0m\u001b[1m Friday  \u001b[0m\u001b[1m Saturday \u001b[0m\u001b[1m Sunday  \u001b[0m\u001b[1m Monda\u001b[0m ⋯\n",
       "     │\u001b[90m Int64  \u001b[0m\u001b[90m Float64 \u001b[0m\u001b[90m Float64   \u001b[0m\u001b[90m Float64  \u001b[0m\u001b[90m Float64 \u001b[0m\u001b[90m Float64  \u001b[0m\u001b[90m Float64 \u001b[0m\u001b[90m Float\u001b[0m ⋯\n",
       "─────┼──────────────────────────────────────────────────────────────────────────\n",
       "   1 │      1      0.0        0.0       0.0      0.0       0.0      0.0     18 ⋯\n",
       "   2 │      2      0.0        0.0       0.0      0.0       0.0     20.0      0\n",
       "   3 │      3      0.0        0.0       0.0      0.0       0.0      0.0      4\n",
       "   4 │      4      0.0        0.0       0.0      0.0       0.0      0.0      3\n",
       "   5 │      5      0.0        0.0       0.0      0.0      14.0      0.0      0 ⋯\n",
       "   6 │      6      0.0        0.0       0.0     13.0       0.0      0.0      0\n",
       "   7 │      7      0.0        0.0       0.0     12.0       0.0      0.0      0\n",
       "   8 │      8      0.0        0.0       0.0      0.0       0.0      0.0     15\n",
       "   9 │      9      0.0        0.0       0.0      0.0      19.0      0.0      0 ⋯\n",
       "  10 │     10      0.0        0.0       0.0      0.0      17.0      0.0      0\n",
       "  11 │     11      0.0        0.0       0.0      0.0       0.0      0.0     16\n",
       "  12 │     12      0.0        0.0       0.0      7.0       0.0      0.0      0\n",
       "  13 │     13      0.0        0.0       0.0      6.0       0.0      0.0      0 ⋯\n",
       "  14 │     14      0.0        0.0       0.0      0.0       5.0      0.0      0\n",
       "  15 │     15      0.0        0.0       0.0      0.0       0.0      0.0      8\n",
       "  16 │     16      0.0        0.0       0.0      0.0       0.0      0.0     11\n",
       "  17 │     17      0.0        0.0       0.0      0.0      10.0      0.0      0 ⋯\n",
       "  18 │     18      0.0        0.0       0.0      0.0       0.0      0.0      1\n",
       "  19 │     19      0.0        0.0       0.0      0.0       9.0      0.0      0\n",
       "  20 │     20      0.0        0.0       0.0      0.0       0.0      2.0      0\n",
       "\u001b[36m                                                                1 column omitted\u001b[0m"
      ]
     },
     "metadata": {},
     "output_type": "display_data"
    },
    {
     "data": {
      "text/html": [
       "<div><div style = \"float: left;\"><span>20×8 DataFrame</span></div><div style = \"clear: both;\"></div></div><div class = \"data-frame\" style = \"overflow-x: scroll;\"><table class = \"data-frame\" style = \"margin-bottom: 6px;\"><thead><tr class = \"header\"><th class = \"rowNumber\" style = \"font-weight: bold; text-align: right;\">Row</th><th style = \"text-align: left;\">Player</th><th style = \"text-align: left;\">Tuesday</th><th style = \"text-align: left;\">Wednesday</th><th style = \"text-align: left;\">Thursday</th><th style = \"text-align: left;\">Friday</th><th style = \"text-align: left;\">Saturday</th><th style = \"text-align: left;\">Sunday</th><th style = \"text-align: left;\">Monday</th></tr><tr class = \"subheader headerLastRow\"><th class = \"rowNumber\" style = \"font-weight: bold; text-align: right;\"></th><th title = \"Int64\" style = \"text-align: left;\">Int64</th><th title = \"Float64\" style = \"text-align: left;\">Float64</th><th title = \"Float64\" style = \"text-align: left;\">Float64</th><th title = \"Float64\" style = \"text-align: left;\">Float64</th><th title = \"Float64\" style = \"text-align: left;\">Float64</th><th title = \"Float64\" style = \"text-align: left;\">Float64</th><th title = \"Float64\" style = \"text-align: left;\">Float64</th><th title = \"Float64\" style = \"text-align: left;\">Float64</th></tr></thead><tbody><tr><td class = \"rowNumber\" style = \"font-weight: bold; text-align: right;\">1</td><td style = \"text-align: right;\">1</td><td style = \"text-align: right;\">0.0</td><td style = \"text-align: right;\">0.0</td><td style = \"text-align: right;\">0.0</td><td style = \"text-align: right;\">0.0</td><td style = \"text-align: right;\">0.0</td><td style = \"text-align: right;\">12.0</td><td style = \"text-align: right;\">0.0</td></tr><tr><td class = \"rowNumber\" style = \"font-weight: bold; text-align: right;\">2</td><td style = \"text-align: right;\">2</td><td style = \"text-align: right;\">0.0</td><td style = \"text-align: right;\">0.0</td><td style = \"text-align: right;\">0.0</td><td style = \"text-align: right;\">0.0</td><td style = \"text-align: right;\">7.0</td><td style = \"text-align: right;\">0.0</td><td style = \"text-align: right;\">0.0</td></tr><tr><td class = \"rowNumber\" style = \"font-weight: bold; text-align: right;\">3</td><td style = \"text-align: right;\">3</td><td style = \"text-align: right;\">0.0</td><td style = \"text-align: right;\">0.0</td><td style = \"text-align: right;\">0.0</td><td style = \"text-align: right;\">0.0</td><td style = \"text-align: right;\">20.0</td><td style = \"text-align: right;\">0.0</td><td style = \"text-align: right;\">0.0</td></tr><tr><td class = \"rowNumber\" style = \"font-weight: bold; text-align: right;\">4</td><td style = \"text-align: right;\">4</td><td style = \"text-align: right;\">0.0</td><td style = \"text-align: right;\">0.0</td><td style = \"text-align: right;\">0.0</td><td style = \"text-align: right;\">0.0</td><td style = \"text-align: right;\">0.0</td><td style = \"text-align: right;\">16.0</td><td style = \"text-align: right;\">0.0</td></tr><tr><td class = \"rowNumber\" style = \"font-weight: bold; text-align: right;\">5</td><td style = \"text-align: right;\">5</td><td style = \"text-align: right;\">0.0</td><td style = \"text-align: right;\">0.0</td><td style = \"text-align: right;\">0.0</td><td style = \"text-align: right;\">0.0</td><td style = \"text-align: right;\">0.0</td><td style = \"text-align: right;\">0.0</td><td style = \"text-align: right;\">6.0</td></tr><tr><td class = \"rowNumber\" style = \"font-weight: bold; text-align: right;\">6</td><td style = \"text-align: right;\">6</td><td style = \"text-align: right;\">0.0</td><td style = \"text-align: right;\">0.0</td><td style = \"text-align: right;\">0.0</td><td style = \"text-align: right;\">0.0</td><td style = \"text-align: right;\">0.0</td><td style = \"text-align: right;\">0.0</td><td style = \"text-align: right;\">5.0</td></tr><tr><td class = \"rowNumber\" style = \"font-weight: bold; text-align: right;\">7</td><td style = \"text-align: right;\">7</td><td style = \"text-align: right;\">0.0</td><td style = \"text-align: right;\">0.0</td><td style = \"text-align: right;\">0.0</td><td style = \"text-align: right;\">0.0</td><td style = \"text-align: right;\">2.0</td><td style = \"text-align: right;\">0.0</td><td style = \"text-align: right;\">0.0</td></tr><tr><td class = \"rowNumber\" style = \"font-weight: bold; text-align: right;\">8</td><td style = \"text-align: right;\">8</td><td style = \"text-align: right;\">0.0</td><td style = \"text-align: right;\">0.0</td><td style = \"text-align: right;\">0.0</td><td style = \"text-align: right;\">18.0</td><td style = \"text-align: right;\">0.0</td><td style = \"text-align: right;\">0.0</td><td style = \"text-align: right;\">0.0</td></tr><tr><td class = \"rowNumber\" style = \"font-weight: bold; text-align: right;\">9</td><td style = \"text-align: right;\">9</td><td style = \"text-align: right;\">0.0</td><td style = \"text-align: right;\">0.0</td><td style = \"text-align: right;\">0.0</td><td style = \"text-align: right;\">0.0</td><td style = \"text-align: right;\">0.0</td><td style = \"text-align: right;\">14.0</td><td style = \"text-align: right;\">0.0</td></tr><tr><td class = \"rowNumber\" style = \"font-weight: bold; text-align: right;\">10</td><td style = \"text-align: right;\">10</td><td style = \"text-align: right;\">0.0</td><td style = \"text-align: right;\">0.0</td><td style = \"text-align: right;\">0.0</td><td style = \"text-align: right;\">0.0</td><td style = \"text-align: right;\">0.0</td><td style = \"text-align: right;\">19.0</td><td style = \"text-align: right;\">0.0</td></tr><tr><td class = \"rowNumber\" style = \"font-weight: bold; text-align: right;\">11</td><td style = \"text-align: right;\">11</td><td style = \"text-align: right;\">0.0</td><td style = \"text-align: right;\">0.0</td><td style = \"text-align: right;\">0.0</td><td style = \"text-align: right;\">0.0</td><td style = \"text-align: right;\">0.0</td><td style = \"text-align: right;\">13.0</td><td style = \"text-align: right;\">0.0</td></tr><tr><td class = \"rowNumber\" style = \"font-weight: bold; text-align: right;\">12</td><td style = \"text-align: right;\">12</td><td style = \"text-align: right;\">0.0</td><td style = \"text-align: right;\">0.0</td><td style = \"text-align: right;\">0.0</td><td style = \"text-align: right;\">0.0</td><td style = \"text-align: right;\">0.0</td><td style = \"text-align: right;\">1.0</td><td style = \"text-align: right;\">0.0</td></tr><tr><td class = \"rowNumber\" style = \"font-weight: bold; text-align: right;\">13</td><td style = \"text-align: right;\">13</td><td style = \"text-align: right;\">0.0</td><td style = \"text-align: right;\">0.0</td><td style = \"text-align: right;\">0.0</td><td style = \"text-align: right;\">0.0</td><td style = \"text-align: right;\">0.0</td><td style = \"text-align: right;\">11.0</td><td style = \"text-align: right;\">0.0</td></tr><tr><td class = \"rowNumber\" style = \"font-weight: bold; text-align: right;\">14</td><td style = \"text-align: right;\">14</td><td style = \"text-align: right;\">0.0</td><td style = \"text-align: right;\">0.0</td><td style = \"text-align: right;\">0.0</td><td style = \"text-align: right;\">0.0</td><td style = \"text-align: right;\">0.0</td><td style = \"text-align: right;\">9.0</td><td style = \"text-align: right;\">0.0</td></tr><tr><td class = \"rowNumber\" style = \"font-weight: bold; text-align: right;\">15</td><td style = \"text-align: right;\">15</td><td style = \"text-align: right;\">0.0</td><td style = \"text-align: right;\">0.0</td><td style = \"text-align: right;\">0.0</td><td style = \"text-align: right;\">0.0</td><td style = \"text-align: right;\">0.0</td><td style = \"text-align: right;\">17.0</td><td style = \"text-align: right;\">0.0</td></tr><tr><td class = \"rowNumber\" style = \"font-weight: bold; text-align: right;\">16</td><td style = \"text-align: right;\">16</td><td style = \"text-align: right;\">0.0</td><td style = \"text-align: right;\">0.0</td><td style = \"text-align: right;\">0.0</td><td style = \"text-align: right;\">0.0</td><td style = \"text-align: right;\">0.0</td><td style = \"text-align: right;\">4.0</td><td style = \"text-align: right;\">0.0</td></tr><tr><td class = \"rowNumber\" style = \"font-weight: bold; text-align: right;\">17</td><td style = \"text-align: right;\">17</td><td style = \"text-align: right;\">0.0</td><td style = \"text-align: right;\">0.0</td><td style = \"text-align: right;\">0.0</td><td style = \"text-align: right;\">0.0</td><td style = \"text-align: right;\">0.0</td><td style = \"text-align: right;\">15.0</td><td style = \"text-align: right;\">0.0</td></tr><tr><td class = \"rowNumber\" style = \"font-weight: bold; text-align: right;\">18</td><td style = \"text-align: right;\">18</td><td style = \"text-align: right;\">0.0</td><td style = \"text-align: right;\">0.0</td><td style = \"text-align: right;\">0.0</td><td style = \"text-align: right;\">8.0</td><td style = \"text-align: right;\">0.0</td><td style = \"text-align: right;\">0.0</td><td style = \"text-align: right;\">0.0</td></tr><tr><td class = \"rowNumber\" style = \"font-weight: bold; text-align: right;\">19</td><td style = \"text-align: right;\">19</td><td style = \"text-align: right;\">0.0</td><td style = \"text-align: right;\">0.0</td><td style = \"text-align: right;\">0.0</td><td style = \"text-align: right;\">0.0</td><td style = \"text-align: right;\">0.0</td><td style = \"text-align: right;\">10.0</td><td style = \"text-align: right;\">0.0</td></tr><tr><td class = \"rowNumber\" style = \"font-weight: bold; text-align: right;\">20</td><td style = \"text-align: right;\">20</td><td style = \"text-align: right;\">0.0</td><td style = \"text-align: right;\">0.0</td><td style = \"text-align: right;\">0.0</td><td style = \"text-align: right;\">0.0</td><td style = \"text-align: right;\">3.0</td><td style = \"text-align: right;\">0.0</td><td style = \"text-align: right;\">0.0</td></tr></tbody></table></div>"
      ],
      "text/latex": [
       "\\begin{tabular}{r|cccccccc}\n",
       "\t& Player & Tuesday & Wednesday & Thursday & Friday & Saturday & Sunday & Monday\\\\\n",
       "\t\\hline\n",
       "\t& Int64 & Float64 & Float64 & Float64 & Float64 & Float64 & Float64 & Float64\\\\\n",
       "\t\\hline\n",
       "\t1 & 1 & 0.0 & 0.0 & 0.0 & 0.0 & 0.0 & 12.0 & 0.0 \\\\\n",
       "\t2 & 2 & 0.0 & 0.0 & 0.0 & 0.0 & 7.0 & 0.0 & 0.0 \\\\\n",
       "\t3 & 3 & 0.0 & 0.0 & 0.0 & 0.0 & 20.0 & 0.0 & 0.0 \\\\\n",
       "\t4 & 4 & 0.0 & 0.0 & 0.0 & 0.0 & 0.0 & 16.0 & 0.0 \\\\\n",
       "\t5 & 5 & 0.0 & 0.0 & 0.0 & 0.0 & 0.0 & 0.0 & 6.0 \\\\\n",
       "\t6 & 6 & 0.0 & 0.0 & 0.0 & 0.0 & 0.0 & 0.0 & 5.0 \\\\\n",
       "\t7 & 7 & 0.0 & 0.0 & 0.0 & 0.0 & 2.0 & 0.0 & 0.0 \\\\\n",
       "\t8 & 8 & 0.0 & 0.0 & 0.0 & 18.0 & 0.0 & 0.0 & 0.0 \\\\\n",
       "\t9 & 9 & 0.0 & 0.0 & 0.0 & 0.0 & 0.0 & 14.0 & 0.0 \\\\\n",
       "\t10 & 10 & 0.0 & 0.0 & 0.0 & 0.0 & 0.0 & 19.0 & 0.0 \\\\\n",
       "\t11 & 11 & 0.0 & 0.0 & 0.0 & 0.0 & 0.0 & 13.0 & 0.0 \\\\\n",
       "\t12 & 12 & 0.0 & 0.0 & 0.0 & 0.0 & 0.0 & 1.0 & 0.0 \\\\\n",
       "\t13 & 13 & 0.0 & 0.0 & 0.0 & 0.0 & 0.0 & 11.0 & 0.0 \\\\\n",
       "\t14 & 14 & 0.0 & 0.0 & 0.0 & 0.0 & 0.0 & 9.0 & 0.0 \\\\\n",
       "\t15 & 15 & 0.0 & 0.0 & 0.0 & 0.0 & 0.0 & 17.0 & 0.0 \\\\\n",
       "\t16 & 16 & 0.0 & 0.0 & 0.0 & 0.0 & 0.0 & 4.0 & 0.0 \\\\\n",
       "\t17 & 17 & 0.0 & 0.0 & 0.0 & 0.0 & 0.0 & 15.0 & 0.0 \\\\\n",
       "\t18 & 18 & 0.0 & 0.0 & 0.0 & 8.0 & 0.0 & 0.0 & 0.0 \\\\\n",
       "\t19 & 19 & 0.0 & 0.0 & 0.0 & 0.0 & 0.0 & 10.0 & 0.0 \\\\\n",
       "\t20 & 20 & 0.0 & 0.0 & 0.0 & 0.0 & 3.0 & 0.0 & 0.0 \\\\\n",
       "\\end{tabular}\n"
      ],
      "text/plain": [
       "\u001b[1m20×8 DataFrame\u001b[0m\n",
       "\u001b[1m Row \u001b[0m│\u001b[1m Player \u001b[0m\u001b[1m Tuesday \u001b[0m\u001b[1m Wednesday \u001b[0m\u001b[1m Thursday \u001b[0m\u001b[1m Friday  \u001b[0m\u001b[1m Saturday \u001b[0m\u001b[1m Sunday  \u001b[0m\u001b[1m Monda\u001b[0m ⋯\n",
       "     │\u001b[90m Int64  \u001b[0m\u001b[90m Float64 \u001b[0m\u001b[90m Float64   \u001b[0m\u001b[90m Float64  \u001b[0m\u001b[90m Float64 \u001b[0m\u001b[90m Float64  \u001b[0m\u001b[90m Float64 \u001b[0m\u001b[90m Float\u001b[0m ⋯\n",
       "─────┼──────────────────────────────────────────────────────────────────────────\n",
       "   1 │      1      0.0        0.0       0.0      0.0       0.0     12.0      0 ⋯\n",
       "   2 │      2      0.0        0.0       0.0      0.0       7.0      0.0      0\n",
       "   3 │      3      0.0        0.0       0.0      0.0      20.0      0.0      0\n",
       "   4 │      4      0.0        0.0       0.0      0.0       0.0     16.0      0\n",
       "   5 │      5      0.0        0.0       0.0      0.0       0.0      0.0      6 ⋯\n",
       "   6 │      6      0.0        0.0       0.0      0.0       0.0      0.0      5\n",
       "   7 │      7      0.0        0.0       0.0      0.0       2.0      0.0      0\n",
       "   8 │      8      0.0        0.0       0.0     18.0       0.0      0.0      0\n",
       "   9 │      9      0.0        0.0       0.0      0.0       0.0     14.0      0 ⋯\n",
       "  10 │     10      0.0        0.0       0.0      0.0       0.0     19.0      0\n",
       "  11 │     11      0.0        0.0       0.0      0.0       0.0     13.0      0\n",
       "  12 │     12      0.0        0.0       0.0      0.0       0.0      1.0      0\n",
       "  13 │     13      0.0        0.0       0.0      0.0       0.0     11.0      0 ⋯\n",
       "  14 │     14      0.0        0.0       0.0      0.0       0.0      9.0      0\n",
       "  15 │     15      0.0        0.0       0.0      0.0       0.0     17.0      0\n",
       "  16 │     16      0.0        0.0       0.0      0.0       0.0      4.0      0\n",
       "  17 │     17      0.0        0.0       0.0      0.0       0.0     15.0      0 ⋯\n",
       "  18 │     18      0.0        0.0       0.0      8.0       0.0      0.0      0\n",
       "  19 │     19      0.0        0.0       0.0      0.0       0.0     10.0      0\n",
       "  20 │     20      0.0        0.0       0.0      0.0       3.0      0.0      0\n",
       "\u001b[36m                                                                1 column omitted\u001b[0m"
      ]
     },
     "metadata": {},
     "output_type": "display_data"
    },
    {
     "data": {
      "text/html": [
       "<div><div style = \"float: left;\"><span>20×8 DataFrame</span></div><div style = \"clear: both;\"></div></div><div class = \"data-frame\" style = \"overflow-x: scroll;\"><table class = \"data-frame\" style = \"margin-bottom: 6px;\"><thead><tr class = \"header\"><th class = \"rowNumber\" style = \"font-weight: bold; text-align: right;\">Row</th><th style = \"text-align: left;\">Player</th><th style = \"text-align: left;\">Tuesday</th><th style = \"text-align: left;\">Wednesday</th><th style = \"text-align: left;\">Thursday</th><th style = \"text-align: left;\">Friday</th><th style = \"text-align: left;\">Saturday</th><th style = \"text-align: left;\">Sunday</th><th style = \"text-align: left;\">Monday</th></tr><tr class = \"subheader headerLastRow\"><th class = \"rowNumber\" style = \"font-weight: bold; text-align: right;\"></th><th title = \"Int64\" style = \"text-align: left;\">Int64</th><th title = \"Float64\" style = \"text-align: left;\">Float64</th><th title = \"Float64\" style = \"text-align: left;\">Float64</th><th title = \"Float64\" style = \"text-align: left;\">Float64</th><th title = \"Float64\" style = \"text-align: left;\">Float64</th><th title = \"Float64\" style = \"text-align: left;\">Float64</th><th title = \"Float64\" style = \"text-align: left;\">Float64</th><th title = \"Float64\" style = \"text-align: left;\">Float64</th></tr></thead><tbody><tr><td class = \"rowNumber\" style = \"font-weight: bold; text-align: right;\">1</td><td style = \"text-align: right;\">1</td><td style = \"text-align: right;\">0.0</td><td style = \"text-align: right;\">0.0</td><td style = \"text-align: right;\">0.0</td><td style = \"text-align: right;\">0.0</td><td style = \"text-align: right;\">10.0</td><td style = \"text-align: right;\">0.0</td><td style = \"text-align: right;\">0.0</td></tr><tr><td class = \"rowNumber\" style = \"font-weight: bold; text-align: right;\">2</td><td style = \"text-align: right;\">2</td><td style = \"text-align: right;\">0.0</td><td style = \"text-align: right;\">0.0</td><td style = \"text-align: right;\">0.0</td><td style = \"text-align: right;\">13.0</td><td style = \"text-align: right;\">0.0</td><td style = \"text-align: right;\">0.0</td><td style = \"text-align: right;\">0.0</td></tr><tr><td class = \"rowNumber\" style = \"font-weight: bold; text-align: right;\">3</td><td style = \"text-align: right;\">3</td><td style = \"text-align: right;\">0.0</td><td style = \"text-align: right;\">0.0</td><td style = \"text-align: right;\">0.0</td><td style = \"text-align: right;\">0.0</td><td style = \"text-align: right;\">0.0</td><td style = \"text-align: right;\">0.0</td><td style = \"text-align: right;\">16.0</td></tr><tr><td class = \"rowNumber\" style = \"font-weight: bold; text-align: right;\">4</td><td style = \"text-align: right;\">4</td><td style = \"text-align: right;\">0.0</td><td style = \"text-align: right;\">0.0</td><td style = \"text-align: right;\">0.0</td><td style = \"text-align: right;\">0.0</td><td style = \"text-align: right;\">0.0</td><td style = \"text-align: right;\">18.0</td><td style = \"text-align: right;\">0.0</td></tr><tr><td class = \"rowNumber\" style = \"font-weight: bold; text-align: right;\">5</td><td style = \"text-align: right;\">5</td><td style = \"text-align: right;\">0.0</td><td style = \"text-align: right;\">0.0</td><td style = \"text-align: right;\">0.0</td><td style = \"text-align: right;\">0.0</td><td style = \"text-align: right;\">9.0</td><td style = \"text-align: right;\">0.0</td><td style = \"text-align: right;\">0.0</td></tr><tr><td class = \"rowNumber\" style = \"font-weight: bold; text-align: right;\">6</td><td style = \"text-align: right;\">6</td><td style = \"text-align: right;\">0.0</td><td style = \"text-align: right;\">0.0</td><td style = \"text-align: right;\">0.0</td><td style = \"text-align: right;\">0.0</td><td style = \"text-align: right;\">0.0</td><td style = \"text-align: right;\">7.0</td><td style = \"text-align: right;\">0.0</td></tr><tr><td class = \"rowNumber\" style = \"font-weight: bold; text-align: right;\">7</td><td style = \"text-align: right;\">7</td><td style = \"text-align: right;\">0.0</td><td style = \"text-align: right;\">0.0</td><td style = \"text-align: right;\">0.0</td><td style = \"text-align: right;\">0.0</td><td style = \"text-align: right;\">0.0</td><td style = \"text-align: right;\">6.0</td><td style = \"text-align: right;\">0.0</td></tr><tr><td class = \"rowNumber\" style = \"font-weight: bold; text-align: right;\">8</td><td style = \"text-align: right;\">8</td><td style = \"text-align: right;\">0.0</td><td style = \"text-align: right;\">0.0</td><td style = \"text-align: right;\">0.0</td><td style = \"text-align: right;\">0.0</td><td style = \"text-align: right;\">12.0</td><td style = \"text-align: right;\">0.0</td><td style = \"text-align: right;\">0.0</td></tr><tr><td class = \"rowNumber\" style = \"font-weight: bold; text-align: right;\">9</td><td style = \"text-align: right;\">9</td><td style = \"text-align: right;\">0.0</td><td style = \"text-align: right;\">0.0</td><td style = \"text-align: right;\">0.0</td><td style = \"text-align: right;\">0.0</td><td style = \"text-align: right;\">5.0</td><td style = \"text-align: right;\">0.0</td><td style = \"text-align: right;\">0.0</td></tr><tr><td class = \"rowNumber\" style = \"font-weight: bold; text-align: right;\">10</td><td style = \"text-align: right;\">10</td><td style = \"text-align: right;\">0.0</td><td style = \"text-align: right;\">0.0</td><td style = \"text-align: right;\">0.0</td><td style = \"text-align: right;\">0.0</td><td style = \"text-align: right;\">1.0</td><td style = \"text-align: right;\">0.0</td><td style = \"text-align: right;\">0.0</td></tr><tr><td class = \"rowNumber\" style = \"font-weight: bold; text-align: right;\">11</td><td style = \"text-align: right;\">11</td><td style = \"text-align: right;\">0.0</td><td style = \"text-align: right;\">0.0</td><td style = \"text-align: right;\">0.0</td><td style = \"text-align: right;\">0.0</td><td style = \"text-align: right;\">0.0</td><td style = \"text-align: right;\">0.0</td><td style = \"text-align: right;\">15.0</td></tr><tr><td class = \"rowNumber\" style = \"font-weight: bold; text-align: right;\">12</td><td style = \"text-align: right;\">12</td><td style = \"text-align: right;\">0.0</td><td style = \"text-align: right;\">0.0</td><td style = \"text-align: right;\">0.0</td><td style = \"text-align: right;\">0.0</td><td style = \"text-align: right;\">8.0</td><td style = \"text-align: right;\">0.0</td><td style = \"text-align: right;\">0.0</td></tr><tr><td class = \"rowNumber\" style = \"font-weight: bold; text-align: right;\">13</td><td style = \"text-align: right;\">13</td><td style = \"text-align: right;\">0.0</td><td style = \"text-align: right;\">0.0</td><td style = \"text-align: right;\">0.0</td><td style = \"text-align: right;\">2.0</td><td style = \"text-align: right;\">0.0</td><td style = \"text-align: right;\">0.0</td><td style = \"text-align: right;\">0.0</td></tr><tr><td class = \"rowNumber\" style = \"font-weight: bold; text-align: right;\">14</td><td style = \"text-align: right;\">14</td><td style = \"text-align: right;\">0.0</td><td style = \"text-align: right;\">0.0</td><td style = \"text-align: right;\">0.0</td><td style = \"text-align: right;\">20.0</td><td style = \"text-align: right;\">0.0</td><td style = \"text-align: right;\">0.0</td><td style = \"text-align: right;\">0.0</td></tr><tr><td class = \"rowNumber\" style = \"font-weight: bold; text-align: right;\">15</td><td style = \"text-align: right;\">15</td><td style = \"text-align: right;\">0.0</td><td style = \"text-align: right;\">0.0</td><td style = \"text-align: right;\">0.0</td><td style = \"text-align: right;\">0.0</td><td style = \"text-align: right;\">0.0</td><td style = \"text-align: right;\">0.0</td><td style = \"text-align: right;\">11.0</td></tr><tr><td class = \"rowNumber\" style = \"font-weight: bold; text-align: right;\">16</td><td style = \"text-align: right;\">16</td><td style = \"text-align: right;\">0.0</td><td style = \"text-align: right;\">0.0</td><td style = \"text-align: right;\">0.0</td><td style = \"text-align: right;\">0.0</td><td style = \"text-align: right;\">0.0</td><td style = \"text-align: right;\">0.0</td><td style = \"text-align: right;\">3.0</td></tr><tr><td class = \"rowNumber\" style = \"font-weight: bold; text-align: right;\">17</td><td style = \"text-align: right;\">17</td><td style = \"text-align: right;\">0.0</td><td style = \"text-align: right;\">0.0</td><td style = \"text-align: right;\">0.0</td><td style = \"text-align: right;\">0.0</td><td style = \"text-align: right;\">0.0</td><td style = \"text-align: right;\">0.0</td><td style = \"text-align: right;\">19.0</td></tr><tr><td class = \"rowNumber\" style = \"font-weight: bold; text-align: right;\">18</td><td style = \"text-align: right;\">18</td><td style = \"text-align: right;\">0.0</td><td style = \"text-align: right;\">0.0</td><td style = \"text-align: right;\">0.0</td><td style = \"text-align: right;\">0.0</td><td style = \"text-align: right;\">0.0</td><td style = \"text-align: right;\">4.0</td><td style = \"text-align: right;\">0.0</td></tr><tr><td class = \"rowNumber\" style = \"font-weight: bold; text-align: right;\">19</td><td style = \"text-align: right;\">19</td><td style = \"text-align: right;\">0.0</td><td style = \"text-align: right;\">0.0</td><td style = \"text-align: right;\">0.0</td><td style = \"text-align: right;\">0.0</td><td style = \"text-align: right;\">0.0</td><td style = \"text-align: right;\">0.0</td><td style = \"text-align: right;\">17.0</td></tr><tr><td class = \"rowNumber\" style = \"font-weight: bold; text-align: right;\">20</td><td style = \"text-align: right;\">20</td><td style = \"text-align: right;\">0.0</td><td style = \"text-align: right;\">0.0</td><td style = \"text-align: right;\">0.0</td><td style = \"text-align: right;\">14.0</td><td style = \"text-align: right;\">0.0</td><td style = \"text-align: right;\">0.0</td><td style = \"text-align: right;\">0.0</td></tr></tbody></table></div>"
      ],
      "text/latex": [
       "\\begin{tabular}{r|cccccccc}\n",
       "\t& Player & Tuesday & Wednesday & Thursday & Friday & Saturday & Sunday & Monday\\\\\n",
       "\t\\hline\n",
       "\t& Int64 & Float64 & Float64 & Float64 & Float64 & Float64 & Float64 & Float64\\\\\n",
       "\t\\hline\n",
       "\t1 & 1 & 0.0 & 0.0 & 0.0 & 0.0 & 10.0 & 0.0 & 0.0 \\\\\n",
       "\t2 & 2 & 0.0 & 0.0 & 0.0 & 13.0 & 0.0 & 0.0 & 0.0 \\\\\n",
       "\t3 & 3 & 0.0 & 0.0 & 0.0 & 0.0 & 0.0 & 0.0 & 16.0 \\\\\n",
       "\t4 & 4 & 0.0 & 0.0 & 0.0 & 0.0 & 0.0 & 18.0 & 0.0 \\\\\n",
       "\t5 & 5 & 0.0 & 0.0 & 0.0 & 0.0 & 9.0 & 0.0 & 0.0 \\\\\n",
       "\t6 & 6 & 0.0 & 0.0 & 0.0 & 0.0 & 0.0 & 7.0 & 0.0 \\\\\n",
       "\t7 & 7 & 0.0 & 0.0 & 0.0 & 0.0 & 0.0 & 6.0 & 0.0 \\\\\n",
       "\t8 & 8 & 0.0 & 0.0 & 0.0 & 0.0 & 12.0 & 0.0 & 0.0 \\\\\n",
       "\t9 & 9 & 0.0 & 0.0 & 0.0 & 0.0 & 5.0 & 0.0 & 0.0 \\\\\n",
       "\t10 & 10 & 0.0 & 0.0 & 0.0 & 0.0 & 1.0 & 0.0 & 0.0 \\\\\n",
       "\t11 & 11 & 0.0 & 0.0 & 0.0 & 0.0 & 0.0 & 0.0 & 15.0 \\\\\n",
       "\t12 & 12 & 0.0 & 0.0 & 0.0 & 0.0 & 8.0 & 0.0 & 0.0 \\\\\n",
       "\t13 & 13 & 0.0 & 0.0 & 0.0 & 2.0 & 0.0 & 0.0 & 0.0 \\\\\n",
       "\t14 & 14 & 0.0 & 0.0 & 0.0 & 20.0 & 0.0 & 0.0 & 0.0 \\\\\n",
       "\t15 & 15 & 0.0 & 0.0 & 0.0 & 0.0 & 0.0 & 0.0 & 11.0 \\\\\n",
       "\t16 & 16 & 0.0 & 0.0 & 0.0 & 0.0 & 0.0 & 0.0 & 3.0 \\\\\n",
       "\t17 & 17 & 0.0 & 0.0 & 0.0 & 0.0 & 0.0 & 0.0 & 19.0 \\\\\n",
       "\t18 & 18 & 0.0 & 0.0 & 0.0 & 0.0 & 0.0 & 4.0 & 0.0 \\\\\n",
       "\t19 & 19 & 0.0 & 0.0 & 0.0 & 0.0 & 0.0 & 0.0 & 17.0 \\\\\n",
       "\t20 & 20 & 0.0 & 0.0 & 0.0 & 14.0 & 0.0 & 0.0 & 0.0 \\\\\n",
       "\\end{tabular}\n"
      ],
      "text/plain": [
       "\u001b[1m20×8 DataFrame\u001b[0m\n",
       "\u001b[1m Row \u001b[0m│\u001b[1m Player \u001b[0m\u001b[1m Tuesday \u001b[0m\u001b[1m Wednesday \u001b[0m\u001b[1m Thursday \u001b[0m\u001b[1m Friday  \u001b[0m\u001b[1m Saturday \u001b[0m\u001b[1m Sunday  \u001b[0m\u001b[1m Monda\u001b[0m ⋯\n",
       "     │\u001b[90m Int64  \u001b[0m\u001b[90m Float64 \u001b[0m\u001b[90m Float64   \u001b[0m\u001b[90m Float64  \u001b[0m\u001b[90m Float64 \u001b[0m\u001b[90m Float64  \u001b[0m\u001b[90m Float64 \u001b[0m\u001b[90m Float\u001b[0m ⋯\n",
       "─────┼──────────────────────────────────────────────────────────────────────────\n",
       "   1 │      1      0.0        0.0       0.0      0.0      10.0      0.0      0 ⋯\n",
       "   2 │      2      0.0        0.0       0.0     13.0       0.0      0.0      0\n",
       "   3 │      3      0.0        0.0       0.0      0.0       0.0      0.0     16\n",
       "   4 │      4      0.0        0.0       0.0      0.0       0.0     18.0      0\n",
       "   5 │      5      0.0        0.0       0.0      0.0       9.0      0.0      0 ⋯\n",
       "   6 │      6      0.0        0.0       0.0      0.0       0.0      7.0      0\n",
       "   7 │      7      0.0        0.0       0.0      0.0       0.0      6.0      0\n",
       "   8 │      8      0.0        0.0       0.0      0.0      12.0      0.0      0\n",
       "   9 │      9      0.0        0.0       0.0      0.0       5.0      0.0      0 ⋯\n",
       "  10 │     10      0.0        0.0       0.0      0.0       1.0      0.0      0\n",
       "  11 │     11      0.0        0.0       0.0      0.0       0.0      0.0     15\n",
       "  12 │     12      0.0        0.0       0.0      0.0       8.0      0.0      0\n",
       "  13 │     13      0.0        0.0       0.0      2.0       0.0      0.0      0 ⋯\n",
       "  14 │     14      0.0        0.0       0.0     20.0       0.0      0.0      0\n",
       "  15 │     15      0.0        0.0       0.0      0.0       0.0      0.0     11\n",
       "  16 │     16      0.0        0.0       0.0      0.0       0.0      0.0      3\n",
       "  17 │     17      0.0        0.0       0.0      0.0       0.0      0.0     19 ⋯\n",
       "  18 │     18      0.0        0.0       0.0      0.0       0.0      4.0      0\n",
       "  19 │     19      0.0        0.0       0.0      0.0       0.0      0.0     17\n",
       "  20 │     20      0.0        0.0       0.0     14.0       0.0      0.0      0\n",
       "\u001b[36m                                                                1 column omitted\u001b[0m"
      ]
     },
     "metadata": {},
     "output_type": "display_data"
    }
   ],
   "source": [
    "for w in 1:19\n",
    "    display(calendar_1[w])\n",
    "end"
   ]
  },
  {
   "cell_type": "markdown",
   "metadata": {},
   "source": [
    "## Approach 2: Optimize 4 weeks at a time and freeze first, then move window"
   ]
  },
  {
   "cell_type": "code",
   "execution_count": 23,
   "metadata": {},
   "outputs": [
    {
     "data": {
      "text/plain": [
       "Optimize4WeeksAndFreezeFirst (generic function with 1 method)"
      ]
     },
     "execution_count": 23,
     "metadata": {},
     "output_type": "execute_result"
    }
   ],
   "source": [
    "function Optimize4WeeksAndFreezeFirst(Y_old, Win, Wend, last_period)\n",
    "\n",
    "    # create model\n",
    "    model = Model(() -> Gurobi.Optimizer(GRB_ENV))\n",
    "\n",
    "    # set time limit\n",
    "    set_optimizer_attribute(model, \"TimeLimit\", 600)\n",
    "\n",
    "    # dont print output\n",
    "    set_silent(model)\n",
    "\n",
    "    # PARAMETERS\n",
    "    C = GetC()\n",
    "    N = 20 # teams\n",
    "    D = 7 # days\n",
    "\n",
    "    # VARIABLES\n",
    "    @variable(model, x[i = 1:N, j = 1:N, w = Win:Wend, d = 1:D], Bin) # 1 if team i plays team j on day d of week w, 0 otherwise\n",
    "    @variable(model, a[i = 1:N, j = 1:N, k = 1:N, w = Win:Wend, d = 1:D, d_ = 1:D] >= 0) # will be pushed to be binary\n",
    "    @variable(model, y[i = 1:N, j = 1:N], Bin) # 1 if team i played team j on w, 0 otherwise\n",
    "\n",
    "    # OBJECTIVE FUNCTION\n",
    "    # put penalty on having y[i,j] = 1, otherwise formulation put all of them to 1\n",
    "    @objective(model, Min, sum(C[7 * w + d, 7 * (w+1) + d_] * a[i, j, k, w, d, d_] for i in 1:N, \n",
    "        j in 1:N, k in 1:N, w in Win:Wend-1, d in 1:D, d_ in 1:D) + sum(y[i, j] for i = 1:N, j = 1:N)) ### HAMZA: zhy do we add sum(y[i,j]), does not impact the rest time of players\n",
    "\n",
    "    # CONSTRAINTS\n",
    "    # linearize objective function\n",
    "    @constraint(model, [i = 1:N, j = 1:N, k = 1:N, w = Win:Wend-1, d = 1:D, d_ = 1:D], a[i, j, k, w, d, d_] <= x[i, j, w, d])\n",
    "    @constraint(model, [i = 1:N, j = 1:N, k = 1:N, w = Win:Wend-1, d = 1:D, d_ = 1:D], a[i, j, k, w, d, d_] <= x[i, k, w+1, d])\n",
    "    @constraint(model, [i = 1:N, j = 1:N, k = 1:N, w = Win:Wend-1, d = 1:D, d_ = 1:D], a[i, j, k, w, d, d_] >= x[i, j, w, d] + x[i, k, w+1, d] - 1)\n",
    "\n",
    "    # teams can never play against themselves\n",
    "    @constraint(model, [i = 1:N, w = Win:Wend, d = 1:D], x[i, i, w, d] == 0)\n",
    "\n",
    "    # if A plays against B, then B plays against A\n",
    "    @constraint(model, [i = 1:N, j = 1:N, w = Win:Wend, d = 1:D], x[i, j, w, d] == x[j, i, w, d])\n",
    "\n",
    "    # each team can only play at most one game per week\n",
    "    @constraint(model, [i = 1:N, w = Win:Wend], sum(x[i, j, w, d] for j in 1:N, d in 1:D) <= 1)\n",
    "\n",
    "    # each team plays Wend - Win + 1 games in total\n",
    "    @constraint(model, [i = 1:N], sum(x[i, j, w, d] for j in 1:N, w in Win:Wend, d in 1:D) == Wend - Win + 1)\n",
    "\n",
    "    # each game is against a different team, team play against each other team at most once\n",
    "    @constraint(model, [i = 1:N, j = 1:N], sum(x[i, j, w, d] for w in Win:Wend, d in 1:D) <= 1)\n",
    "\n",
    "    # if team i plays team j, update Y\n",
    "    @constraint(model, [i = 1:N, j = 1:N], y[i, j] >= sum(x[i, j, w, d] for d in 1:D, w = Win:Wend))\n",
    "\n",
    "    @constraint(model, [i = 1:N, j = 1:N], y[i, j] == y[j, i])\n",
    "    \n",
    "    # if team i played team j in the past, then they can't play again now\n",
    "    @constraint(model, [i = 1:N, j = 1:N], sum(x[i,j,w,d] for w in Win:Wend, d in 1:D) <= 1 - Y_old[i, j])\n",
    "\n",
    "    # cannot plays on days 1,2,3\n",
    "    @constraint(model, [i = 1:N, j = 1:N, w = Win:Wend, d = 1:3], x[i, j, w, d] == 0)\n",
    "\n",
    "    # OPTIMIZE\n",
    "    optimize!(model)\n",
    "\n",
    "    # update old Y before returning\n",
    "    # differently than previous formulation, we update y only if (i, j) played in the first week of the interval\n",
    "    if last_period\n",
    "        # update all Y\n",
    "        Y_old += value.(y)\n",
    "    else   \n",
    "        # update only the first week\n",
    "        for i = 1:N\n",
    "            for j = 1:N\n",
    "                for d = 1:D\n",
    "                    if value.(x[i, j, Win, d]) == 1\n",
    "                        Y_old[i, j] += value.(y[i, j])\n",
    "                    end\n",
    "                end\n",
    "            end\n",
    "        end\n",
    "    end\n",
    "\n",
    "    return value.(x), Y_old\n",
    "\n",
    "end"
   ]
  },
  {
   "cell_type": "code",
   "execution_count": 24,
   "metadata": {},
   "outputs": [
    {
     "name": "stdout",
     "output_type": "stream",
     "text": [
      "Initial week: 1, end week: 4\n",
      "#############################################\n",
      "Initial week: 2, end week: 5\n",
      "#############################################\n",
      "Initial week: 3, end week: 6\n",
      "#############################################\n",
      "Initial week: 4, end week: 7\n",
      "#############################################\n",
      "Initial week: 5, end week: 8\n",
      "#############################################\n",
      "Initial week: 6, end week: 9\n",
      "#############################################\n",
      "Initial week: 7, end week: 10\n",
      "#############################################\n",
      "Initial week: 8, end week: 11\n",
      "#############################################\n",
      "Initial week: 9, end week: 12\n",
      "#############################################\n",
      "Initial week: 10, end week: 13\n",
      "#############################################\n",
      "Initial week: 11, end week: 14\n",
      "#############################################\n",
      "Initial week: 12, end week: 15\n",
      "#############################################\n",
      "Initial week: 13, end week: 16\n",
      "#############################################\n",
      "Initial week: 14, end week: 17\n",
      "#############################################\n",
      "Initial week: 15, end week: 18\n",
      "#############################################\n",
      "Initial week: 16, end week: 19\n",
      "#############################################\n"
     ]
    }
   ],
   "source": [
    "# define interval\n",
    "interval = 3    # number of weeks in each interval in addition to first week\n",
    "\n",
    "# first time, Y_old initialized to empty\n",
    "Y_old_2 = zeros(20, 20)   # teams never played against each other before\n",
    "\n",
    "# define calendar list, each time append the calendar week to \n",
    "calendar_2 = []\n",
    "\n",
    "for Win in 1:W-interval\n",
    "\n",
    "    Wend = Win + interval\n",
    "\n",
    "    println(\"Initial week: \", Win, \", end week: \", Wend)\n",
    "    println(\"#############################################\")\n",
    "\n",
    "    # get value of X and Y\n",
    "    X_2, Y_old_2 = Optimize4WeeksAndFreezeFirst(Y_old_2, Win, Wend, Wend == W)\n",
    "\n",
    "    if Wend == W\n",
    "        for w in Win:Wend\n",
    "            push!(calendar_2, calendar_week(X_2, w)) \n",
    "        end\n",
    "    else\n",
    "        push!(calendar_2, calendar_week(X_2[:, :, Win:Win, :], Win))\n",
    "    end\n",
    "\n",
    "end"
   ]
  },
  {
   "cell_type": "code",
   "execution_count": 25,
   "metadata": {},
   "outputs": [
    {
     "data": {
      "text/plain": [
       "54.217063492063495"
      ]
     },
     "execution_count": 25,
     "metadata": {},
     "output_type": "execute_result"
    }
   ],
   "source": [
    "obj_calendar_2 = ComputeObjectiveValue(calendar_2, W)"
   ]
  },
  {
   "cell_type": "code",
   "execution_count": null,
   "metadata": {},
   "outputs": [],
   "source": [
    "for w in 1:W\n",
    "    display(calendar_2[w])\n",
    "end"
   ]
  },
  {
   "cell_type": "markdown",
   "metadata": {},
   "source": [
    "## Approach 3: Approach 1 + Random Restart\n",
    "### Optimize 4 weeks at a time + random restart"
   ]
  },
  {
   "cell_type": "code",
   "execution_count": null,
   "metadata": {},
   "outputs": [],
   "source": [
    "# we build from what we previously did, taking as starting point the output of Approach 1\n",
    "calendar_matrix_3 = GetCalendarMatrix(calendar_1, W)\n",
    "obj_calendar_3 = obj_calendar_1\n",
    "Y_old_3 = Y_old_1\n",
    "\n",
    "# how many times to repeat this random restart process\n",
    "repeat = 2\n",
    "\n",
    "for count in 1:repeat\n",
    "    \n",
    "    calendar_matrix_3, obj_calendar_3, Y_old_3 = random_restart(calendar_matrix_3, obj_calendar_3, Y_old_3, 3)\n",
    "    \n",
    "end"
   ]
  },
  {
   "cell_type": "code",
   "execution_count": null,
   "metadata": {},
   "outputs": [],
   "source": [
    "obj_calendar_3"
   ]
  },
  {
   "cell_type": "code",
   "execution_count": null,
   "metadata": {},
   "outputs": [],
   "source": [
    "# output should be true\n",
    "obj_calendar_3 == ComputeObjectiveValueMatrix(calendar_matrix_3, W)"
   ]
  },
  {
   "cell_type": "code",
   "execution_count": null,
   "metadata": {},
   "outputs": [],
   "source": [
    "for w in 1:19\n",
    "    display(calendar_matrix_3[w])\n",
    "end"
   ]
  },
  {
   "cell_type": "markdown",
   "metadata": {},
   "source": [
    "## Approach 4: Approach 2 + random restart\n",
    "### Optimize 4 weeks at a time, freeze first then move window + random restart"
   ]
  },
  {
   "cell_type": "code",
   "execution_count": null,
   "metadata": {},
   "outputs": [],
   "source": [
    "# we build from what we previously did, taking as starting point the output of Approach 2\n",
    "calendar_matrix_4 = GetCalendarMatrix(calendar_2, W)\n",
    "obj_calendar_4 = obj_calendar_2\n",
    "Y_old_4 = Y_old_2\n",
    "\n",
    "# how many times to repeat this random restart process\n",
    "repeat = 2\n",
    "\n",
    "for count in 1:repeat\n",
    "    \n",
    "    calendar_matrix_4, obj_calendar_4, Y_old_4 = random_restart(calendar_matrix_4, obj_calendar_4, Y_old_4, 4)\n",
    "    \n",
    "end"
   ]
  },
  {
   "cell_type": "code",
   "execution_count": null,
   "metadata": {},
   "outputs": [],
   "source": [
    "obj_calendar_4"
   ]
  },
  {
   "cell_type": "code",
   "execution_count": null,
   "metadata": {},
   "outputs": [],
   "source": [
    "for w in 1:19\n",
    "    display(calendar_matrix_4[w])\n",
    "end"
   ]
  },
  {
   "cell_type": "markdown",
   "metadata": {},
   "source": [
    "## Approach 5: optimal formulation, set time limit"
   ]
  },
  {
   "cell_type": "markdown",
   "metadata": {},
   "source": [
    "### there's a problem with this, don't know why"
   ]
  },
  {
   "cell_type": "code",
   "execution_count": 37,
   "metadata": {},
   "outputs": [],
   "source": [
    "# use the same function defined in preliminary approach 1, but set time limit\n",
    "N_teams = N\n",
    "Win = 1\n",
    "Wend = W\n",
    "X_p1 = optimal_formulation(N_teams, Win, Wend)"
   ]
  },
  {
   "cell_type": "code",
   "execution_count": null,
   "metadata": {},
   "outputs": [],
   "source": [
    "calendar_5 = []\n",
    "\n",
    "for w in Win:Wend\n",
    "    push!(calendar_5, calendar_week(X_5, w))\n",
    "end"
   ]
  },
  {
   "cell_type": "code",
   "execution_count": null,
   "metadata": {},
   "outputs": [],
   "source": [
    "obj_calendar_5 = ComputeObjectiveValue(calendar_5, W)"
   ]
  },
  {
   "cell_type": "code",
   "execution_count": null,
   "metadata": {},
   "outputs": [],
   "source": [
    "for w in 1:W\n",
    "    display(calendar_5[w])\n",
    "end"
   ]
  },
  {
   "cell_type": "markdown",
   "metadata": {},
   "source": [
    "# Results"
   ]
  },
  {
   "cell_type": "markdown",
   "metadata": {},
   "source": [
    "Plot results, meaning objective function and time needed to reach that objective function"
   ]
  }
 ],
 "metadata": {
  "kernelspec": {
   "display_name": "Julia 1.8.2",
   "language": "julia",
   "name": "julia-1.8"
  },
  "language_info": {
   "file_extension": ".jl",
   "mimetype": "application/julia",
   "name": "julia",
   "version": "1.8.2"
  },
  "orig_nbformat": 4,
  "vscode": {
   "interpreter": {
    "hash": "06afd10951fdd4fed0e6da45c5305413c17e961fcd92f272d77ba5ed1e4178f9"
   }
  }
 },
 "nbformat": 4,
 "nbformat_minor": 2
}
