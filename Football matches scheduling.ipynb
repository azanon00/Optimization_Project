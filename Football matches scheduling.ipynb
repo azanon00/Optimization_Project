{
 "cells": [
  {
   "cell_type": "markdown",
   "metadata": {},
   "source": [
    "# Auhors: Andrea ZANON, Hamza ZERHOUNI"
   ]
  },
  {
   "cell_type": "code",
   "execution_count": null,
   "metadata": {},
   "outputs": [],
   "source": [
    "using JuMP, Gurobi"
   ]
  },
  {
   "cell_type": "markdown",
   "metadata": {},
   "source": [
    "Create first basic model"
   ]
  },
  {
   "cell_type": "code",
   "execution_count": 1,
   "metadata": {},
   "outputs": [
    {
     "data": {
      "text/plain": [
       "1:133:1"
      ]
     },
     "metadata": {},
     "output_type": "display_data"
    }
   ],
   "source": [
    "# number of teams\n",
    "N = 20\n",
    "# number of days\n",
    "T = 133\n",
    "\n",
    "# define mondays, tuesdays, wednesdays, thursdays, fridays, saturdays, sundays\n",
    "mo = [7*k + 1 for k in 0:18]\n",
    "tu = [7*k + 2 for k in 0:18]\n",
    "we = [7*k + 3 for k in 0:18]\n",
    "th = [7*k + 4 for k in 0:18]\n",
    "fr = [7*k + 5 for k in 0:18]\n",
    "sa = [7*k + 6 for k in 0:18]\n",
    "su = [7*k + 7 for k in 0:18]"
   ]
  },
  {
   "cell_type": "code",
   "execution_count": null,
   "metadata": {},
   "outputs": [],
   "source": [
    "model = Model(Gurobi.Optimizer)\n",
    "\n",
    "# define variables\n",
    "@variable(model, x[1:N, 1:N, 1:T], Bin)"
   ]
  }
 ],
 "metadata": {
  "kernelspec": {
   "display_name": "Julia 1.8.0",
   "language": "julia",
   "name": "julia-1.8"
  },
  "language_info": {
   "file_extension": ".jl",
   "mimetype": "application/julia",
   "name": "julia",
   "version": "1.8.0"
  }
 },
 "nbformat": 4,
 "nbformat_minor": 4
}
