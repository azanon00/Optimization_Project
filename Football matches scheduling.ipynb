{
 "cells": [
  {
   "cell_type": "markdown",
   "metadata": {},
   "source": [
    "# Authors: Andrea ZANON, Hamza ZERHOUNI"
   ]
  },
  {
   "cell_type": "code",
   "execution_count": 1,
   "metadata": {},
   "outputs": [],
   "source": [
    "using DataFrames\n",
    "using JuMP, Gurobi"
   ]
  },
  {
   "cell_type": "markdown",
   "metadata": {},
   "source": [
    "Create first basic model"
   ]
  },
  {
   "cell_type": "code",
   "execution_count": 4,
   "metadata": {},
   "outputs": [],
   "source": [
    "# number of teams\n",
    "N = 5\n",
    "# number of weeks\n",
    "W = N-1\n",
    "# number of days per weeks\n",
    "D = 7; # we suppose week starts on tuesday, beacause monday is actually part of the previous football week\n",
    "\n",
    "# define mondays, tuesdays, wednesdays, thursdays, fridays, saturdays, sundays. Suppose we start playing on friday\n",
    "#=\n",
    "fr = [7*k + 1 for k in 0:18]\n",
    "sa = [7*k + 2 for k in 0:18]\n",
    "su = [7*k + 3 for k in 0:18]\n",
    "mo = [7*k + 4 for k in 0:18]\n",
    "tu = [7*k + 5 for k in 0:18]\n",
    "we = [7*k + 6 for k in 0:18]\n",
    "th = [7*k + 7 for k in 0:18]\n",
    ";\n",
    "=#\n",
    "\n",
    "# list with elements of fr, sa, su, mo\n"
   ]
  },
  {
   "cell_type": "markdown",
   "metadata": {},
   "source": [
    "We define the matrix $C \\in R^{TxT}$, with $C_{ij} = \\frac{1}{j-i}$"
   ]
  },
  {
   "cell_type": "code",
   "execution_count": 18,
   "metadata": {},
   "outputs": [],
   "source": [
    "C = zeros((D*(W+1), D*(W+1)))\n",
    "\n",
    "for t in 1:W*(D)\n",
    "    for t_ in t+1:W*(D)\n",
    "        C[t,t_] = 1/(t_ - t)\n",
    "    end\n",
    "end"
   ]
  },
  {
   "cell_type": "code",
   "execution_count": 19,
   "metadata": {},
   "outputs": [
    {
     "data": {
      "text/plain": [
       "35"
      ]
     },
     "execution_count": 19,
     "metadata": {},
     "output_type": "execute_result"
    }
   ],
   "source": [
    "5*7"
   ]
  },
  {
   "cell_type": "code",
   "execution_count": 23,
   "metadata": {},
   "outputs": [
    {
     "data": {
      "text/plain": [
       "28×28 Matrix{Float64}:\n",
       " 0.0  1.0  0.5  0.333333  0.25      …  0.04       0.0384615  0.037037\n",
       " 0.0  0.0  1.0  0.5       0.333333     0.0416667  0.04       0.0384615\n",
       " 0.0  0.0  0.0  1.0       0.5          0.0434783  0.0416667  0.04\n",
       " 0.0  0.0  0.0  0.0       1.0          0.0454545  0.0434783  0.0416667\n",
       " 0.0  0.0  0.0  0.0       0.0          0.047619   0.0454545  0.0434783\n",
       " 0.0  0.0  0.0  0.0       0.0       …  0.05       0.047619   0.0454545\n",
       " 0.0  0.0  0.0  0.0       0.0          0.0526316  0.05       0.047619\n",
       " 0.0  0.0  0.0  0.0       0.0          0.0555556  0.0526316  0.05\n",
       " 0.0  0.0  0.0  0.0       0.0          0.0588235  0.0555556  0.0526316\n",
       " 0.0  0.0  0.0  0.0       0.0          0.0625     0.0588235  0.0555556\n",
       " 0.0  0.0  0.0  0.0       0.0       …  0.0666667  0.0625     0.0588235\n",
       " 0.0  0.0  0.0  0.0       0.0          0.0714286  0.0666667  0.0625\n",
       " 0.0  0.0  0.0  0.0       0.0          0.0769231  0.0714286  0.0666667\n",
       " ⋮                                  ⋱  ⋮                     \n",
       " 0.0  0.0  0.0  0.0       0.0          0.111111   0.1        0.0909091\n",
       " 0.0  0.0  0.0  0.0       0.0          0.125      0.111111   0.1\n",
       " 0.0  0.0  0.0  0.0       0.0          0.142857   0.125      0.111111\n",
       " 0.0  0.0  0.0  0.0       0.0          0.166667   0.142857   0.125\n",
       " 0.0  0.0  0.0  0.0       0.0       …  0.2        0.166667   0.142857\n",
       " 0.0  0.0  0.0  0.0       0.0          0.25       0.2        0.166667\n",
       " 0.0  0.0  0.0  0.0       0.0          0.333333   0.25       0.2\n",
       " 0.0  0.0  0.0  0.0       0.0          0.5        0.333333   0.25\n",
       " 0.0  0.0  0.0  0.0       0.0          1.0        0.5        0.333333\n",
       " 0.0  0.0  0.0  0.0       0.0       …  0.0        1.0        0.5\n",
       " 0.0  0.0  0.0  0.0       0.0          0.0        0.0        1.0\n",
       " 0.0  0.0  0.0  0.0       0.0          0.0        0.0        0.0"
      ]
     },
     "execution_count": 23,
     "metadata": {},
     "output_type": "execute_result"
    }
   ],
   "source": [
    "C"
   ]
  },
  {
   "cell_type": "markdown",
   "metadata": {},
   "source": [
    "Simple model, we are considering single league and making assumption that each team pla"
   ]
  },
  {
   "cell_type": "code",
   "execution_count": 32,
   "metadata": {},
   "outputs": [
    {
     "name": "stdout",
     "output_type": "stream",
     "text": [
      "Set parameter Username\n",
      "Academic license - for non-commercial use only - expires 2023-10-12\n",
      "Gurobi Optimizer version 9.5.2 build v9.5.2rc0 (win64)\n",
      "Thread count: 12 physical cores, 16 logical processors, using up to 16 threads\n",
      "Optimize a model with 1005 rows, 700 columns and 4710 nonzeros\n",
      "Model fingerprint: 0x9c74593f\n",
      "Model has 18375 quadratic objective terms\n",
      "Variable types: 0 continuous, 700 integer (700 binary)\n",
      "Coefficient statistics:\n",
      "  Matrix range     [1e+00, 1e+00]\n",
      "  Objective range  [0e+00, 0e+00]\n",
      "  QObjective range [2e-01, 2e+00]\n",
      "  Bounds range     [0e+00, 0e+00]\n",
      "  RHS range        [1e+00, 4e+00]\n",
      "Presolve removed 140 rows and 0 columns\n",
      "Presolve time: 0.00s\n",
      "\n",
      "Explored 0 nodes (0 simplex iterations) in 0.00 seconds (0.00 work units)\n",
      "Thread count was 1 (of 16 available processors)\n",
      "\n",
      "Solution count 0\n",
      "\n",
      "Model is infeasible or unbounded\n",
      "Best objective -, best bound -, gap -\n",
      "\n",
      "User-callback calls 33, time in user-callback 0.00 sec\n"
     ]
    }
   ],
   "source": [
    "model = Model(Gurobi.Optimizer)\n",
    "\n",
    "# define variables\n",
    "# 1 if team i plays team j on day d of week w, 0 otherwise\n",
    "@variable(model, x[i = 1:N, j = 1:N, w = 0:W-1, d = 1:D], Bin)\n",
    "\n",
    "# define objective\n",
    "# remember week begins on tuesday, this is why w_ goes from w+1\n",
    "@objective(model, Min, sum(C[7*w + d, 7 * (w+1) + d_]* x[i, j, w, d] * x[i, k, w+1, d_] for i in 1:N, j = 1:N, k = 1:N, w = 0:W-2, d = 1:D, d_ = 1:D))\n",
    "\n",
    "# define constraints\n",
    "# each team can never play itself\n",
    "@constraint(model, [i = 1:N, w = 0:W-1, d = 1:D], sum(x[i, i, w, d]) == 0)\n",
    "\n",
    "# each team plays at most one team per week\n",
    "@constraint(model, [i = 1:N, w = 0:W-1], sum(x[i, j, w, d] for j = 1:N, d = 1:D) <= 1)\n",
    "\n",
    "# if team A plays team B, then team B plays team A\n",
    "@constraint(model, [i = 1:N, j = 1:N, w = 0:W-1, d = 1:D], x[i, j, w, d] == x[j, i, w, d])\n",
    "\n",
    "# each team plays exactly N-1 games\n",
    "@constraint(model, [i = 1:N], sum(x[i, j, w, d] for j = 1:N, w = 0:W-1, d = 1:D) == N-1)\n",
    "\n",
    "# all teams need to play each other exactly once\n",
    "@constraint(model, [i = 1:N, j = 1:N], sum(x[i, j, w, d] for w = 0:W-1, d = 1:D) == 1)\n",
    "\n",
    "# at least four days of rest (if they play monday, they can't play again until saturday)\n",
    "@constraint(model, [i = 1:N, w = 0:W-2], sum(x[i, j, w+1, d1] for j = 1:N, d1 = 1:D) - sum(x[i, k, w, d2] for k = 1:N, d2 = 1:D) >= 4)\n",
    "\n",
    "# can't play on tuesday (day 1), wednesday (day 2), thursday (day 3)\n",
    "@constraint(model, [i = 1:N, j = 1:N, w = 0:W-1], sum(x[i, j, w, d] for d = 1:3) == 0)\n",
    "\n",
    "# solve model\n",
    "optimize!(model)"
   ]
  },
  {
   "cell_type": "code",
   "execution_count": null,
   "metadata": {},
   "outputs": [],
   "source": []
  }
 ],
 "metadata": {
  "kernelspec": {
   "display_name": "Julia 1.8.2",
   "language": "julia",
   "name": "julia-1.8"
  },
  "language_info": {
   "file_extension": ".jl",
   "mimetype": "application/julia",
   "name": "julia",
   "version": "1.8.2"
  }
 },
 "nbformat": 4,
 "nbformat_minor": 4
}
