{
 "cells": [
  {
   "cell_type": "markdown",
   "metadata": {},
   "source": [
    "# Authors: Andrea ZANON, Hamza ZERHOUNI"
   ]
  },
  {
   "cell_type": "code",
   "execution_count": 1,
   "metadata": {},
   "outputs": [],
   "source": [
    "using DataFrames\n",
    "using JuMP, Gurobi"
   ]
  },
  {
   "cell_type": "markdown",
   "metadata": {},
   "source": [
    "Create first basic model"
   ]
  },
  {
   "cell_type": "code",
   "execution_count": 2,
   "metadata": {},
   "outputs": [
    {
     "data": {
      "text/plain": [
       "7"
      ]
     },
     "metadata": {},
     "output_type": "display_data"
    }
   ],
   "source": [
    "# number of teams\n",
    "N = 5\n",
    "# number of weeks\n",
    "W = N-1\n",
    "# number of days per weeks\n",
    "D = 7; # we suppose week starts on tuesday, beacause monday is actually part of the previous football week\n",
    "\n",
    "# define mondays, tuesdays, wednesdays, thursdays, fridays, saturdays, sundays. Suppose we start playing on friday\n",
    "#=\n",
    "fr = [7*k + 1 for k in 0:18]\n",
    "sa = [7*k + 2 for k in 0:18]\n",
    "su = [7*k + 3 for k in 0:18]\n",
    "mo = [7*k + 4 for k in 0:18]\n",
    "tu = [7*k + 5 for k in 0:18]\n",
    "we = [7*k + 6 for k in 0:18]\n",
    "th = [7*k + 7 for k in 0:18]\n",
    ";\n",
    "=#\n",
    "\n",
    "# list with elements of fr, sa, su, mo\n"
   ]
  },
  {
   "cell_type": "markdown",
   "metadata": {},
   "source": [
    "We define the matrix $C \\in R^{TxT}$, with $C_{ij} = \\frac{1}{j-i}$"
   ]
  },
  {
   "cell_type": "code",
   "execution_count": 3,
   "metadata": {},
   "outputs": [],
   "source": [
    "C = zeros((D*(W+1), D*(W+1)))\n",
    "\n",
    "for t in 1:W*(D)\n",
    "    for t_ in t+1:W*(D)\n",
    "        C[t,t_] = 1/(t_ - t)\n",
    "    end\n",
    "end"
   ]
  },
  {
   "cell_type": "markdown",
   "metadata": {},
   "source": [
    "Simple model, we are considering single league and making assumption that each team pla"
   ]
  },
  {
   "cell_type": "code",
   "execution_count": 14,
   "metadata": {},
   "outputs": [
    {
     "name": "stdout",
     "output_type": "stream",
     "text": [
      "Set parameter Username\n",
      "Academic license - for non-commercial use only - expires 2023-08-17\n",
      "Gurobi Optimizer version 9.5.2 build v9.5.2rc0 (mac64[x86])\n",
      "Thread count: 2 physical cores, 4 logical processors, using up to 4 threads\n",
      "Optimize a model with 960 rows, 700 columns and 2260 nonzeros\n",
      "Model fingerprint: 0xa84f8dab\n",
      "Model has 18375 quadratic objective terms\n",
      "Variable types: 0 continuous, 700 integer (700 binary)\n",
      "Coefficient statistics:\n",
      "  Matrix range     [1e+00, 1e+00]\n",
      "  Objective range  [0e+00, 0e+00]\n",
      "  QObjective range [2e-01, 2e+00]\n",
      "  Bounds range     [0e+00, 0e+00]\n",
      "  RHS range        [1e+00, 1e+00]\n",
      "Found heuristic solution: objective 0.0000000\n",
      "Presolve removed 960 rows and 700 columns\n",
      "Presolve time: 0.00s\n",
      "Presolve: All rows and columns removed\n",
      "\n",
      "Explored 0 nodes (0 simplex iterations) in 0.01 seconds (0.00 work units)\n",
      "Thread count was 1 (of 4 available processors)\n",
      "\n",
      "Solution count 1: 0 \n",
      "\n",
      "Optimal solution found (tolerance 1.00e-04)\n",
      "Best objective 0.000000000000e+00, best bound 0.000000000000e+00, gap 0.0000%\n",
      "\n",
      "User-callback calls 299, time in user-callback 0.00 sec\n"
     ]
    }
   ],
   "source": [
    "model = Model(Gurobi.Optimizer)\n",
    "\n",
    "# define variables\n",
    "# 1 if team i plays team j on day d of week w, 0 otherwise\n",
    "@variable(model, x[i = 1:N, j = 1:N, w = 0:W-1, d = 1:D], Bin)\n",
    "\n",
    "# define objective\n",
    "# remember week begins on tuesday, this is why w_ goes from w+1\n",
    "@objective(model, Min, sum(C[7*w + d, 7 * (w+1) + d_]* x[i, j, w, d] * x[i, k, w+1, d_] for i in 1:N, j = 1:N, k = 1:N, w = 0:W-2, d = 1:D, d_ = 1:D))\n",
    "\n",
    "# define constraints\n",
    "# each team can never play itself\n",
    "@constraint(model, [i = 1:N, w = 0:W-1, d = 1:D], sum(x[i, i, w, d]) == 0)\n",
    "\n",
    "# each team plays at most one team per week\n",
    "@constraint(model, [i = 1:N, w = 0:W-1], sum(x[i, j, w, d] for j = 1:N, d = 1:D) <= 1)\n",
    "\n",
    "# if team A plays team B, then team B plays team A\n",
    "@constraint(model, [i = 1:N, j = 1:N, w = 0:W-1, d = 1:D], x[i, j, w, d] == x[j, i, w, d])\n",
    "\n",
    "# each team plays exactly N-1 games\n",
    "# @constraint(model, [i = 1:N], sum(x[i, j, w, d] for j = 1:N, w = 0:W-1, d = 1:D) == N-1) # this makes it infeasible\n",
    "\n",
    "# all teams need to play each other exactly once\n",
    "# @constraint(model, [i = 1:N, j = 1:N], sum(x[i, j, w, d] for w = 0:W-1, d = 1:D) == 1) # this makes it infeasible\n",
    "\n",
    "# at least four days of rest (if they play monday, they can't play again until saturday)\n",
    "# @constraint(model, [i = 1:N, w = 0:W-2], sum(x[i, j, w+1, d1] for j = 1:N, d1 = 1:D) - sum(x[i, k, w, d2] for k = 1:N, d2 = 1:D) >= 4) # this makes it infeasible\n",
    "\n",
    "# can't play on tuesday (day 1), wednesday (day 2), thursday (day 3)\n",
    "@constraint(model, [i = 1:N, j = 1:N, w = 0:W-1], sum(x[i, j, w, d] for d = 1:3) == 0)\n",
    "\n",
    "# solve model\n",
    "optimize!(model)"
   ]
  },
  {
   "cell_type": "code",
   "execution_count": null,
   "metadata": {},
   "outputs": [],
   "source": []
  }
 ],
 "metadata": {
  "kernelspec": {
   "display_name": "Julia 1.8.0",
   "language": "julia",
   "name": "julia-1.8"
  },
  "language_info": {
   "file_extension": ".jl",
   "mimetype": "application/julia",
   "name": "julia",
   "version": "1.8.0"
  }
 },
 "nbformat": 4,
 "nbformat_minor": 4
}
