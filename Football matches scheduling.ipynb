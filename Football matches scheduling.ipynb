{
 "cells": [
  {
   "cell_type": "markdown",
   "metadata": {},
   "source": [
    "# Auhors: Andrea ZANON, Hamza ZERHOUNI"
   ]
  },
  {
   "cell_type": "code",
   "execution_count": 1,
   "metadata": {},
   "outputs": [],
   "source": [
    "using DataFrames\n",
    "using JuMP, Gurobi"
   ]
  },
  {
   "cell_type": "markdown",
   "metadata": {},
   "source": [
    "Create first basic model"
   ]
  },
  {
   "cell_type": "code",
   "execution_count": 15,
   "metadata": {},
   "outputs": [],
   "source": [
    "# number of teams\n",
    "N = 20\n",
    "# number of weeks\n",
    "W = N-1\n",
    "# number of days per weeks\n",
    "D = 7; # we suppose week starts on tuesday, beacause monday is actually part of the previous football week\n",
    "\n",
    "# define mondays, tuesdays, wednesdays, thursdays, fridays, saturdays, sundays. Suppose we start playing on friday\n",
    "#=\n",
    "fr = [7*k + 1 for k in 0:18]\n",
    "sa = [7*k + 2 for k in 0:18]\n",
    "su = [7*k + 3 for k in 0:18]\n",
    "mo = [7*k + 4 for k in 0:18]\n",
    "tu = [7*k + 5 for k in 0:18]\n",
    "we = [7*k + 6 for k in 0:18]\n",
    "th = [7*k + 7 for k in 0:18]\n",
    ";\n",
    "=#\n",
    "\n",
    "# list with elements of fr, sa, su, mo\n"
   ]
  },
  {
   "cell_type": "markdown",
   "metadata": {},
   "source": [
    "We define the matrix $C \\in R^{TxT}$, with $C_{ij} = \\frac{1}{j-i}$"
   ]
  },
  {
   "cell_type": "code",
   "execution_count": 38,
   "metadata": {},
   "outputs": [],
   "source": [
    "C = zeros((W*(D+1), W*(D+1)))\n",
    "\n",
    "for t in 1:W*(D+1)-1\n",
    "    for t_ in t+1:W*(D+1)\n",
    "        C[t,t_] = 1/(t_ - t)\n",
    "    end\n",
    "end"
   ]
  },
  {
   "cell_type": "markdown",
   "metadata": {},
   "source": [
    "Simple model, we are considering single league and making assumption that each team pla"
   ]
  },
  {
   "cell_type": "code",
   "execution_count": 39,
   "metadata": {},
   "outputs": [
    {
     "name": "stdout",
     "output_type": "stream",
     "text": [
      "Set parameter Username\n",
      "Academic license - for non-commercial use only - expires 2023-08-17\n"
     ]
    },
    {
     "ename": "LoadError",
     "evalue": "InterruptException:",
     "output_type": "error",
     "traceback": [
      "InterruptException:",
      "",
      "Stacktrace:",
      " [1] getindex(::Array{VariableRef, 4}, ::Int64, ::Int64, ::Int64, ::Vararg{Int64})",
      "   @ Base ./array.jl:925",
      " [2] macro expansion",
      "   @ /Users/iai/builds/InterpretableAI/SystemImage/SysImgBuilder/.julia/packages/MutableArithmetics/Lnlkl/src/rewrite.jl:294 [inlined]",
      " [3] macro expansion",
      "   @ /Users/iai/builds/InterpretableAI/SystemImage/SysImgBuilder/.julia/packages/JuMP/60Bnj/src/macros.jl:1284 [inlined]",
      " [4] top-level scope",
      "   @ ./In[39]:9",
      " [5] eval",
      "   @ ./boot.jl:368 [inlined]",
      " [6] include_string(mapexpr::typeof(REPL.softscope), mod::Module, code::String, filename::String)",
      "   @ Base ./loading.jl:1428"
     ]
    }
   ],
   "source": [
    "model = Model(Gurobi.Optimizer)\n",
    "\n",
    "# define variables\n",
    "# 1 if team i plays team j on day d of week w, 0 otherwise\n",
    "@variable(model, x[i = 1:N, j = 1:N, w = 1:W, d = 1:D], Bin)\n",
    "\n",
    "# define objective\n",
    "# remember week begins on tuesday, this is why w_ goes from w+1\n",
    "@objective(model, Min, sum(C[7*w + d, 7 * w_ + d_]* x[i, j, w, d] * x[i, k, w_, d_] for i in 1:N, j = 1:N, k = 1:N, w = 1:W, w_ = w+1:W, d = 1:D, d_ = 1:D))\n",
    "\n",
    "# define constraints\n",
    "# each team can never play itself\n",
    "@constraint(model, [i = 1:N, w = 1:W, d = 1:D], sum(x[i, i, w, d]) == 0)\n",
    "\n",
    "# each team plays at most one team per week\n",
    "@constraint(model, [i = 1:N, w = 1:W], sum(x[i, j, w, d] for j = 1:N, d = 1:D) <= 1)\n",
    "\n",
    "# if team A plays team B, then team B plays team A\n",
    "@constraint(model, [i = 1:N, j = 1:N, w = 1:W, d = 1:D], x[i, j, w, d] == x[j, i, w, d])\n",
    "\n",
    "# each team plays exactly N-1 games\n",
    "@constraint(model, [i = 1:N], sum(x[i, j, w, d] for j = 1:N, w = 1:W, d = 1:D) == N-1)\n",
    "\n",
    "# all teams need to play each other exactly once\n",
    "@constraint(model, [i = 1:N, j = 1:N], sum(x[i, j, w, d] for w = 1:W, d = 1:D) == 1)\n",
    "\n",
    "# at least four days of rest (if they play monday, they can't play again until saturday)\n",
    "@constraint(model, [i = 1:N, w = 1:W], sum(x[i, j, w+1, d1] for j = 1:N, d1 = 1:D) - sum(x[i, k, w, d2] for k = 1:N, d2 = 1:D) >= 4)\n",
    "\n",
    "# can't play on tuesday (day 1), wednesday (day 2), thursday (day 3)\n",
    "@constraint(model, [i = 1:N, j = 1:N, w = 1:W], sum(x[i, j, w, d] for d = 1:3) == 0)\n",
    "\n",
    "# solve model\n",
    "optimize!(model)"
   ]
  }
 ],
 "metadata": {
  "kernelspec": {
   "display_name": "Julia 1.8.0",
   "language": "julia",
   "name": "julia-1.8"
  },
  "language_info": {
   "file_extension": ".jl",
   "mimetype": "application/julia",
   "name": "julia",
   "version": "1.8.0"
  }
 },
 "nbformat": 4,
 "nbformat_minor": 4
}
