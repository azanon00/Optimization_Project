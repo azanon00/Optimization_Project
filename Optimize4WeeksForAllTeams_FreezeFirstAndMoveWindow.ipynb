{
 "cells": [
  {
   "cell_type": "markdown",
   "metadata": {},
   "source": [
    "Here we take a different approach. We still optimize 4 weeks at a time, but we freeze decisions just for the first week in the interval, later we move the window by one week and repeat the process."
   ]
  },
  {
   "cell_type": "code",
   "execution_count": 33,
   "metadata": {},
   "outputs": [],
   "source": [
    "using DataFrames\n",
    "using JuMP, Gurobi"
   ]
  },
  {
   "cell_type": "code",
   "execution_count": 34,
   "metadata": {},
   "outputs": [],
   "source": [
    "# number of teams\n",
    "N = 20\n",
    "# total number of weeks\n",
    "W = N-1\n",
    "# number of days per weeks\n",
    "D = 7;"
   ]
  },
  {
   "cell_type": "code",
   "execution_count": 35,
   "metadata": {},
   "outputs": [
    {
     "data": {
      "text/plain": [
       "GetC (generic function with 1 method)"
      ]
     },
     "execution_count": 35,
     "metadata": {},
     "output_type": "execute_result"
    }
   ],
   "source": [
    "function GetC()\n",
    "\n",
    "    W_ = 19\n",
    "\n",
    "    C = zeros((D*(W_+1), D*(W_+1)))\n",
    "\n",
    "    for t in 1:(W_*D)\n",
    "        for t_ in 1:(W_*D)\n",
    "            if t < t_\n",
    "                C[t, t_] = (t_ - t)^(-1)\n",
    "            end\n",
    "        end\n",
    "    end\n",
    "\n",
    "    return C\n",
    "end"
   ]
  },
  {
   "cell_type": "code",
   "execution_count": 36,
   "metadata": {},
   "outputs": [
    {
     "data": {
      "text/plain": [
       "calendar_week (generic function with 1 method)"
      ]
     },
     "execution_count": 36,
     "metadata": {},
     "output_type": "execute_result"
    }
   ],
   "source": [
    "function calendar_week(x,week)\n",
    "    df = DataFrame(Player=1:N, Tuesday=0.0, Wednesday=0.0, Thursday=0.0, Friday=0.0, Saturday=0.0, Sunday=0.0, Monday=0.0)\n",
    "    for i=1:N\n",
    "        for j=1:N\n",
    "            for d=1:D\n",
    "                if x[i,j,week,d] == 1.0\n",
    "                        df[i, 1+d] = j\n",
    "                end\n",
    "            end\n",
    "        end\n",
    "    end\n",
    "    return df\n",
    "end"
   ]
  },
  {
   "cell_type": "code",
   "execution_count": 44,
   "metadata": {},
   "outputs": [
    {
     "data": {
      "text/plain": [
       "Optimize4WeeksAndFreezeFirst (generic function with 2 methods)"
      ]
     },
     "execution_count": 44,
     "metadata": {},
     "output_type": "execute_result"
    }
   ],
   "source": [
    "function Optimize4WeeksAndFreezeFirst(Y_old, Win, Wend, last_period)\n",
    "\n",
    "    # create model\n",
    "    model = Model(Gurobi.Optimizer)\n",
    "\n",
    "    # set time limit\n",
    "    set_optimizer_attribute(model, \"TimeLimit\", 600)\n",
    "\n",
    "    # dont print output\n",
    "    set_silent(model)\n",
    "\n",
    "    # PARAMETERS\n",
    "    C = GetC()\n",
    "    N = 20 # teams\n",
    "    D = 7 # days\n",
    "\n",
    "    # VARIABLES\n",
    "    @variable(model, x[i = 1:N, j = 1:N, w = Win:Wend, d = 1:D], Bin) # 1 if team i plays team j on day d of week w, 0 otherwise\n",
    "    @variable(model, a[i = 1:N, j = 1:N, k = 1:N, w = Win:Wend, d = 1:D, d_ = 1:D] >= 0) # will be pushed to be binary\n",
    "    @variable(model, y[i = 1:N, j = 1:N], Bin) # 1 if team i played team j on w, 0 otherwise\n",
    "\n",
    "    # OBJECTIVE FUNCTION\n",
    "    # put penalty on having y[i,j] = 1, otherwise formulation put all of them to 1\n",
    "    @objective(model, Min, sum(C[7 * w + d, 7 * (w+1) + d_] * a[i, j, k, w, d, d_] for i in 1:N, \n",
    "        j in 1:N, k in 1:N, w in Win:Wend-1, d in 1:D, d_ in 1:D) + sum(y[i, j] for i = 1:N, j = 1:N))\n",
    "\n",
    "    # CONSTRAINTS\n",
    "    # linearize objective function\n",
    "    @constraint(model, [i = 1:N, j = 1:N, k = 1:N, w = Win:Wend-1, d = 1:D, d_ = 1:D], a[i, j, k, w, d, d_] <= x[i, j, w, d])\n",
    "    @constraint(model, [i = 1:N, j = 1:N, k = 1:N, w = Win:Wend-1, d = 1:D, d_ = 1:D], a[i, j, k, w, d, d_] <= x[i, k, w+1, d])\n",
    "    @constraint(model, [i = 1:N, j = 1:N, k = 1:N, w = Win:Wend-1, d = 1:D, d_ = 1:D], a[i, j, k, w, d, d_] >= x[i, j, w, d] + x[i, k, w+1, d] - 1)\n",
    "\n",
    "    # teams can never play against themselves\n",
    "    @constraint(model, [i = 1:N, w = Win:Wend, d = 1:D], x[i, i, w, d] == 0)\n",
    "\n",
    "    # if A plays against B, then B plays against A\n",
    "    @constraint(model, [i = 1:N, j = 1:N, w = Win:Wend, d = 1:D], x[i, j, w, d] == x[j, i, w, d])\n",
    "\n",
    "    # each team can only play at most one game per week\n",
    "    @constraint(model, [i = 1:N, w = Win:Wend], sum(x[i, j, w, d] for j in 1:N, d in 1:D) <= 1)\n",
    "\n",
    "    # each team plays Wend - Win + 1 games in total\n",
    "    @constraint(model, [i = 1:N], sum(x[i, j, w, d] for j in 1:N, w in Win:Wend, d in 1:D) == Wend - Win + 1)\n",
    "\n",
    "    # each game is against a different team, team play against each other team at most once\n",
    "    @constraint(model, [i = 1:N, j = 1:N], sum(x[i, j, w, d] for w in Win:Wend, d in 1:D) <= 1)\n",
    "\n",
    "    # if team i plays team j, update Y\n",
    "    @constraint(model, [i = 1:N, j = 1:N], y[i, j] >= sum(x[i, j, w, d] for d in 1:D, w = Win:Wend))\n",
    "\n",
    "    @constraint(model, [i = 1:N, j = 1:N], y[i, j] == y[j, i])\n",
    "    \n",
    "    # if team i played team j in the past, then they can't play again now\n",
    "    @constraint(model, [i = 1:N, j = 1:N], sum(x[i,j,w,d] for w in Win:Wend, d in 1:D) <= 1 - Y_old[i, j])\n",
    "\n",
    "    # cannot plays on days 1,2,3\n",
    "    @constraint(model, [i = 1:N, j = 1:N, w = Win:Wend, d = 1:3], x[i, j, w, d] == 0)\n",
    "\n",
    "    # OPTIMIZE\n",
    "    optimize!(model)\n",
    "\n",
    "    # update old Y before returning\n",
    "    # differently than previous formulation, we update y only if (i, j) played in the first week of the interval\n",
    "    if last_period\n",
    "        # update all Y\n",
    "        Y_old += value.(y)\n",
    "    else   \n",
    "        # update only the first week\n",
    "        for i = 1:N\n",
    "            for j = 1:N\n",
    "                for d = 1:D\n",
    "                    if value.(x[i, j, Win, d]) == 1\n",
    "                        Y_old[i, j] += value.(y[i, j])\n",
    "                    end\n",
    "                end\n",
    "            end\n",
    "        end\n",
    "    end\n",
    "\n",
    "    return value.(x), Y_old\n",
    "\n",
    "end\n"
   ]
  },
  {
   "cell_type": "code",
   "execution_count": 38,
   "metadata": {},
   "outputs": [],
   "source": [
    "# define interval\n",
    "interval = 3    # number of weeks in each interval in addition to first week\n",
    "\n",
    "# first time, Y_old initialized to empty\n",
    "Y_old = zeros(20, 20)   # teams never played against each other before\n",
    "\n",
    "# define calendar list, each time append the calendar week to \n",
    "calendar = []\n",
    ";"
   ]
  },
  {
   "cell_type": "code",
   "execution_count": 45,
   "metadata": {},
   "outputs": [],
   "source": [
    "for Win in 1:W-interval\n",
    "\n",
    "    Wend = Win + interval\n",
    "\n",
    "    println(\"Initial week: \", Win, \", end week: \", Wend)\n",
    "    println(\"#############################################\")\n",
    "\n",
    "    # get value of X and Y\n",
    "    X, Y_old = Optimize4WeeksAndFreezeFirst(Y_old, Win, Wend, Wend == W)\n",
    "\n",
    "    if Wend == W\n",
    "        for w in Win:Wend\n",
    "            push!(calendar, calendar_week(X, w)) \n",
    "        end\n",
    "    else\n",
    "        push!(calendar, calendar_week(X[:, :, Win:Win, :], Win))\n",
    "    end\n",
    "\n",
    "end"
   ]
  },
  {
   "cell_type": "code",
   "execution_count": 41,
   "metadata": {},
   "outputs": [
    {
     "ename": "LoadError",
     "evalue": "BoundsError: attempt to access 0-element Vector{Any} at index [1]",
     "output_type": "error",
     "traceback": [
      "BoundsError: attempt to access 0-element Vector{Any} at index [1]",
      "",
      "Stacktrace:",
      " [1] getindex(A::Vector{Any}, i1::Int64)",
      "   @ Base /Applications/Julia-1.8.app/Contents/Resources/julia/lib/julia/sys.dylib:-1",
      " [2] top-level scope",
      "   @ ./In[41]:2",
      " [3] eval",
      "   @ ./boot.jl:368 [inlined]",
      " [4] include_string(mapexpr::typeof(REPL.softscope), mod::Module, code::String, filename::String)",
      "   @ Base ./loading.jl:1428"
     ]
    }
   ],
   "source": [
    "for w in 1:W\n",
    "    display(calendar[w])\n",
    "end"
   ]
  },
  {
   "cell_type": "code",
   "execution_count": 43,
   "metadata": {},
   "outputs": [
    {
     "name": "stdout",
     "output_type": "stream",
     "text": [
      "0.0\n",
      "0.0\n"
     ]
    }
   ],
   "source": [
    "# in this matrix all elements except the diagonal should be 1\n",
    "println(sum([Y_old[i,i] for i in 1:20]))\n",
    "\n",
    "# all other elements should be 1 (400 elements in total, diagonal = 20 element is 0, sum should be 380)\n",
    "println(sum(Y_old))"
   ]
  },
  {
   "cell_type": "code",
   "execution_count": 42,
   "metadata": {},
   "outputs": [
    {
     "data": {
      "text/plain": [
       "Int64[]"
      ]
     },
     "execution_count": 42,
     "metadata": {},
     "output_type": "execute_result"
    }
   ],
   "source": [
    "[i for (i, el) in enumerate(Y_old[1,:]) if el == 1.0] "
   ]
  }
 ],
 "metadata": {
  "kernelspec": {
   "display_name": "Julia 1.8.0",
   "language": "julia",
   "name": "julia-1.8"
  },
  "language_info": {
   "file_extension": ".jl",
   "mimetype": "application/julia",
   "name": "julia",
   "version": "1.8.0"
  },
  "orig_nbformat": 4,
  "vscode": {
   "interpreter": {
    "hash": "06afd10951fdd4fed0e6da45c5305413c17e961fcd92f272d77ba5ed1e4178f9"
   }
  }
 },
 "nbformat": 4,
 "nbformat_minor": 2
}
