{
 "cells": [
  {
   "cell_type": "markdown",
   "metadata": {},
   "source": [
    "# Authors: Andrea ZANON, Hamza ZERHOUNI"
   ]
  },
  {
   "cell_type": "code",
   "execution_count": 1,
   "metadata": {},
   "outputs": [],
   "source": [
    "using DataFrames\n",
    "using JuMP, Gurobi\n",
    "using DataFrames"
   ]
  },
  {
   "cell_type": "markdown",
   "metadata": {},
   "source": [
    "Create first basic model"
   ]
  },
  {
   "cell_type": "code",
   "execution_count": 25,
   "metadata": {},
   "outputs": [],
   "source": [
    "# number of teams\n",
    "N = 4\n",
    "N_CL = 1\n",
    "# number of weeks\n",
    "W = N-1\n",
    "# number of days per weeks\n",
    "D = 7; # we suppose week starts on tuesday, beacause monday is actually part of the previous football week\n",
    "\n",
    "# define mondays, tuesdays, wednesdays, thursdays, fridays, saturdays, sundays. Suppose we start playing on friday\n",
    "#=\n",
    "fr = [7*k + 1 for k in 0:18]\n",
    "sa = [7*k + 2 for k in 0:18]\n",
    "su = [7*k + 3 for k in 0:18]\n",
    "mo = [7*k + 4 for k in 0:18]\n",
    "tu = [7*k + 5 for k in 0:18]\n",
    "we = [7*k + 6 for k in 0:18]\n",
    "th = [7*k + 7 for k in 0:18]\n",
    ";\n",
    "=#\n",
    "\n",
    "# list with elements of fr, sa, su, mo\n"
   ]
  },
  {
   "cell_type": "markdown",
   "metadata": {},
   "source": [
    "We define the matrix $C \\in R^{TxT}$, with $C_{ij} = \\frac{1}{j-i}$"
   ]
  },
  {
   "cell_type": "code",
   "execution_count": 22,
   "metadata": {},
   "outputs": [],
   "source": [
    "C = zeros((D*(W+1), D*(W+1)))\n",
    "\n",
    "for t in 1:W*(D)\n",
    "    for t_ in t+1:W*(D)\n",
    "        C[t,t_] = 1/sqrt(t_ - t)\n",
    "    end\n",
    "end"
   ]
  },
  {
   "cell_type": "code",
   "execution_count": 23,
   "metadata": {},
   "outputs": [
    {
     "data": {
      "text/plain": [
       "28×28 Matrix{Float64}:\n",
       " 0.0  1.0  0.707107  0.57735   0.5       …  0.0  0.0  0.0  0.0  0.0  0.0  0.0\n",
       " 0.0  0.0  1.0       0.707107  0.57735      0.0  0.0  0.0  0.0  0.0  0.0  0.0\n",
       " 0.0  0.0  0.0       1.0       0.707107     0.0  0.0  0.0  0.0  0.0  0.0  0.0\n",
       " 0.0  0.0  0.0       0.0       1.0          0.0  0.0  0.0  0.0  0.0  0.0  0.0\n",
       " 0.0  0.0  0.0       0.0       0.0          0.0  0.0  0.0  0.0  0.0  0.0  0.0\n",
       " 0.0  0.0  0.0       0.0       0.0       …  0.0  0.0  0.0  0.0  0.0  0.0  0.0\n",
       " 0.0  0.0  0.0       0.0       0.0          0.0  0.0  0.0  0.0  0.0  0.0  0.0\n",
       " 0.0  0.0  0.0       0.0       0.0          0.0  0.0  0.0  0.0  0.0  0.0  0.0\n",
       " 0.0  0.0  0.0       0.0       0.0          0.0  0.0  0.0  0.0  0.0  0.0  0.0\n",
       " 0.0  0.0  0.0       0.0       0.0          0.0  0.0  0.0  0.0  0.0  0.0  0.0\n",
       " 0.0  0.0  0.0       0.0       0.0       …  0.0  0.0  0.0  0.0  0.0  0.0  0.0\n",
       " 0.0  0.0  0.0       0.0       0.0          0.0  0.0  0.0  0.0  0.0  0.0  0.0\n",
       " 0.0  0.0  0.0       0.0       0.0          0.0  0.0  0.0  0.0  0.0  0.0  0.0\n",
       " ⋮                                       ⋱                      ⋮         \n",
       " 0.0  0.0  0.0       0.0       0.0          0.0  0.0  0.0  0.0  0.0  0.0  0.0\n",
       " 0.0  0.0  0.0       0.0       0.0          0.0  0.0  0.0  0.0  0.0  0.0  0.0\n",
       " 0.0  0.0  0.0       0.0       0.0          0.0  0.0  0.0  0.0  0.0  0.0  0.0\n",
       " 0.0  0.0  0.0       0.0       0.0          0.0  0.0  0.0  0.0  0.0  0.0  0.0\n",
       " 0.0  0.0  0.0       0.0       0.0       …  0.0  0.0  0.0  0.0  0.0  0.0  0.0\n",
       " 0.0  0.0  0.0       0.0       0.0          0.0  0.0  0.0  0.0  0.0  0.0  0.0\n",
       " 0.0  0.0  0.0       0.0       0.0          0.0  0.0  0.0  0.0  0.0  0.0  0.0\n",
       " 0.0  0.0  0.0       0.0       0.0          0.0  0.0  0.0  0.0  0.0  0.0  0.0\n",
       " 0.0  0.0  0.0       0.0       0.0          0.0  0.0  0.0  0.0  0.0  0.0  0.0\n",
       " 0.0  0.0  0.0       0.0       0.0       …  0.0  0.0  0.0  0.0  0.0  0.0  0.0\n",
       " 0.0  0.0  0.0       0.0       0.0          0.0  0.0  0.0  0.0  0.0  0.0  0.0\n",
       " 0.0  0.0  0.0       0.0       0.0          0.0  0.0  0.0  0.0  0.0  0.0  0.0"
      ]
     },
     "execution_count": 23,
     "metadata": {},
     "output_type": "execute_result"
    }
   ],
   "source": [
    "C"
   ]
  },
  {
   "cell_type": "markdown",
   "metadata": {},
   "source": [
    "Simple model, we are considering single league and making assumption that each team pla"
   ]
  },
  {
   "cell_type": "code",
   "execution_count": 5,
   "metadata": {},
   "outputs": [
    {
     "name": "stdout",
     "output_type": "stream",
     "text": [
      "Set parameter Username\r\n",
      "Academic license - for non-commercial use only - expires 2023-10-12\r\n",
      "Gurobi Optimizer version 9.5.2 build v9.5.2rc0 (win64)\r\n",
      "Thread count: 12 physical cores, 16 logical processors, using up to 16 threads\r\n",
      "Optimize a model with 508 rows, 336 columns and 2188 nonzeros\r\n",
      "Model fingerprint: 0xd544c4d6\r\n",
      "Model has 6272 quadratic objective terms\r\n",
      "Variable types: 0 continuous, 336 integer (336 binary)\r\n",
      "Coefficient statistics:\r\n",
      "  Matrix range     [1e+00, 2e+01]\r\n",
      "  Objective range  [0e+00, 0e+00]\r\n",
      "  QObjective range [6e-01, 2e+00]\r\n",
      "  Bounds range     [0e+00, 0e+00]\r\n",
      "  RHS range        [1e+00, 4e+00]\r\n",
      "Presolve removed 490 rows and 264 columns\r\n",
      "Presolve time: 0.05s\r\n",
      "Presolved: 42 rows, 96 columns, 1224 nonzeros\r\n",
      "Variable types: 24 continuous, 72 integer (72 binary)\r\n",
      "Found heuristic solution: objective 2.7475469\r\n",
      "\r\n",
      "Root relaxation: cutoff, 1 iterations, 0.00 seconds (0.00 work units)\r\n",
      "\r\n",
      "    Nodes    |    Current Node    |     Objective Bounds      |     Work\r\n",
      " Expl Unexpl |  Obj  Depth IntInf | Incumbent    BestBd   Gap | It/Node Time\r\n",
      "\r\n",
      "     0     0     cutoff    0         2.74755    2.74755  0.00%     -    0s\r\n",
      "\r\n",
      "Explored 1 nodes (1 simplex iterations) in 0.06 seconds (0.00 work units)\r\n",
      "Thread count was 16 (of 16 available processors)\r\n",
      "\r\n",
      "Solution count 1: 2.74755 \r\n",
      "\r\n",
      "Optimal solution found (tolerance 1.00e-04)\r\n",
      "Best objective 2.747546895706e+00, best bound 2.747546895706e+00, gap 0.0000%\r\n",
      "\r\n",
      "User-callback calls 396, time in user-callback 0.00 sec\r\n"
     ]
    }
   ],
   "source": [
    "model = Model(Gurobi.Optimizer)\n",
    "\n",
    "# define variables\n",
    "# 1 if team i plays team j on day d of week w, 0 otherwise\n",
    "@variable(model, x[i = 1:N, j = 1:N, w = 0:W-1, d = 1:D], Bin)\n",
    "\n",
    "# define objective\n",
    "# remember week begins on tuesday, this is why w_ goes from w+1\n",
    "@objective(model, Min, sum(C[7*w + d, 7 * (w+1) + d_]* x[i, j, w, d] * x[i, k, w+1, d_] for i in 1:N, j = 1:N, k = 1:N, w = 0:W-2, d = 1:D, d_ = 1:D))\n",
    "\n",
    "# define constraints\n",
    "# each team can never play itself\n",
    "#@constraint(model, [i = 1:N, w = 0:W-1, d = 1:D], sum(x[i, i, w, d]) == 0)\n",
    "@constraint(model, [i = 1:N, w = 0:W-1, d = 1:D], x[i, i, w, d] == 0)\n",
    "\n",
    "# each team plays at most one team per week\n",
    "@constraint(model, [i = 1:N, w = 0:W-1], sum(x[i, j, w, d] for j = 1:N, d = 1:D) <= 1)\n",
    "\n",
    "# if team A plays team B, then team B plays team A\n",
    "@constraint(model, [i = 1:N, j = 1:N, w = 0:W-1, d = 1:D], x[i, j, w, d] == x[j, i, w, d])\n",
    "\n",
    "# each team plays exactly N-1 games\n",
    "@constraint(model, [i = 1:N], sum(x[i, j, w, d] for j = 1:N, w = 0:W-1, d = 1:D) == N-1) # this constraint works\n",
    "\n",
    "# all teams need to play each other exactly once\n",
    "# @constraint(model, [i = 1:N, j = 1:N], sum(x[i, j, w, d] for w = 0:W-1, d = 1:D) == 1) # this makes it infeasible\n",
    "@constraint(model, [i = 1:N, j = 1:N], sum(x[i, j, w, d] for w = 0:W-1, d = 1:D) <= 1) # this makes it infeasible\n",
    "\n",
    "\n",
    "# at least four days of rest (if they play monday, they can't play again until saturday)\n",
    "#@constraint(model, [i = 1:N, w = 0:W-2], sum(x[i, j, w+1, d1] for j = 1:N, d1 = 1:D) - sum(x[i, k, w, d2] for k = 1:N, d2 = 1:D) >= 4) # this makes it infeasible\n",
    "@constraint(model, [i = 1:N, w = 0:W-2], sum((7*(w+1)+d1)*x[i, j, w+1, d1] for j = 1:N, d1 = 1:D) - sum((7*w+d2)x[i, k, w, d2] for k = 1:N, d2 = 1:D) >= 4) # this makes it infeasible\n",
    "\n",
    "\n",
    "# can't play on tuesday (day 1), wednesday (day 2), thursday (day 3)\n",
    "@constraint(model, [i = 1:N, j = 1:N, w = 0:W-1], sum(x[i, j, w, d] for d = 1:3) == 0)\n",
    "\n",
    "# solve model\n",
    "optimize!(model)"
   ]
  },
  {
   "cell_type": "code",
   "execution_count": 6,
   "metadata": {},
   "outputs": [
    {
     "data": {
      "text/plain": [
       "4-dimensional DenseAxisArray{Float64,4,...} with index sets:\n",
       "    Dimension 1, Base.OneTo(4)\n",
       "    Dimension 2, Base.OneTo(4)\n",
       "    Dimension 3, 0:2\n",
       "    Dimension 4, Base.OneTo(7)\n",
       "And data, a 4×4×3×7 Array{Float64, 4}:\n",
       "[:, :, 0, 1] =\n",
       " 0.0  0.0  0.0  0.0\n",
       " 0.0  0.0  0.0  0.0\n",
       " 0.0  0.0  0.0  0.0\n",
       " 0.0  0.0  0.0  0.0\n",
       "\n",
       "[:, :, 1, 1] =\n",
       " 0.0  0.0  0.0  0.0\n",
       " 0.0  0.0  0.0  0.0\n",
       " 0.0  0.0  0.0  0.0\n",
       " 0.0  0.0  0.0  0.0\n",
       "\n",
       "[:, :, 2, 1] =\n",
       " 0.0  0.0  0.0  0.0\n",
       " 0.0  0.0  0.0  0.0\n",
       " 0.0  0.0  0.0  0.0\n",
       " 0.0  0.0  0.0  0.0\n",
       "\n",
       "[:, :, 0, 2] =\n",
       " 0.0  0.0  0.0  0.0\n",
       " 0.0  0.0  0.0  0.0\n",
       " 0.0  0.0  0.0  0.0\n",
       " 0.0  0.0  0.0  0.0\n",
       "\n",
       "[:, :, 1, 2] =\n",
       " 0.0  0.0  0.0  0.0\n",
       " 0.0  0.0  0.0  0.0\n",
       " 0.0  0.0  0.0  0.0\n",
       " 0.0  0.0  0.0  0.0\n",
       "\n",
       "[:, :, 2, 2] =\n",
       " 0.0  0.0  0.0  0.0\n",
       " 0.0  0.0  0.0  0.0\n",
       " 0.0  0.0  0.0  0.0\n",
       " 0.0  0.0  0.0  0.0\n",
       "\n",
       "[:, :, 0, 3] =\n",
       " 0.0  0.0  0.0  0.0\n",
       " 0.0  0.0  0.0  0.0\n",
       " 0.0  0.0  0.0  0.0\n",
       " 0.0  0.0  0.0  0.0\n",
       "\n",
       "[:, :, 1, 3] =\n",
       " 0.0  0.0  0.0  0.0\n",
       " 0.0  0.0  0.0  0.0\n",
       " 0.0  0.0  0.0  0.0\n",
       " 0.0  0.0  0.0  0.0\n",
       "\n",
       "[:, :, 2, 3] =\n",
       " 0.0  0.0  0.0  0.0\n",
       " 0.0  0.0  0.0  0.0\n",
       " 0.0  0.0  0.0  0.0\n",
       " 0.0  0.0  0.0  0.0\n",
       "\n",
       "[:, :, 0, 4] =\n",
       "  0.0  0.0   1.0  0.0\n",
       "  0.0  0.0   0.0  1.0\n",
       "  1.0  0.0   0.0  0.0\n",
       " -0.0  1.0  -0.0  0.0\n",
       "\n",
       "[:, :, 1, 4] =\n",
       " 0.0  0.0  0.0  0.0\n",
       " 0.0  0.0  0.0  0.0\n",
       " 0.0  0.0  0.0  0.0\n",
       " 0.0  0.0  0.0  0.0\n",
       "\n",
       "[:, :, 2, 4] =\n",
       " 0.0  0.0  0.0  0.0\n",
       " 0.0  0.0  0.0  0.0\n",
       " 0.0  0.0  0.0  0.0\n",
       " 0.0  0.0  0.0  0.0\n",
       "\n",
       "[:, :, 0, 5] =\n",
       " 0.0  0.0  0.0  0.0\n",
       " 0.0  0.0  0.0  0.0\n",
       " 0.0  0.0  0.0  0.0\n",
       " 0.0  0.0  0.0  0.0\n",
       "\n",
       "[:, :, 1, 5] =\n",
       " 0.0   0.0   0.0  1.0\n",
       " 0.0   0.0   1.0  0.0\n",
       " 0.0   1.0   0.0  0.0\n",
       " 1.0  -0.0  -0.0  0.0\n",
       "\n",
       "[:, :, 2, 5] =\n",
       " 0.0  0.0  0.0  0.0\n",
       " 0.0  0.0  0.0  0.0\n",
       " 0.0  0.0  0.0  0.0\n",
       " 0.0  0.0  0.0  0.0\n",
       "\n",
       "[:, :, 0, 6] =\n",
       " 0.0  0.0  0.0  0.0\n",
       " 0.0  0.0  0.0  0.0\n",
       " 0.0  0.0  0.0  0.0\n",
       " 0.0  0.0  0.0  0.0\n",
       "\n",
       "[:, :, 1, 6] =\n",
       " 0.0  0.0  0.0  0.0\n",
       " 0.0  0.0  0.0  0.0\n",
       " 0.0  0.0  0.0  0.0\n",
       " 0.0  0.0  0.0  0.0\n",
       "\n",
       "[:, :, 2, 6] =\n",
       " 0.0  0.0  0.0  0.0\n",
       " 0.0  0.0  0.0  0.0\n",
       " 0.0  0.0  0.0  0.0\n",
       " 0.0  0.0  0.0  0.0\n",
       "\n",
       "[:, :, 0, 7] =\n",
       " 0.0  0.0  0.0  0.0\n",
       " 0.0  0.0  0.0  0.0\n",
       " 0.0  0.0  0.0  0.0\n",
       " 0.0  0.0  0.0  0.0\n",
       "\n",
       "[:, :, 1, 7] =\n",
       " 0.0  0.0  0.0  0.0\n",
       " 0.0  0.0  0.0  0.0\n",
       " 0.0  0.0  0.0  0.0\n",
       " 0.0  0.0  0.0  0.0\n",
       "\n",
       "[:, :, 2, 7] =\n",
       " 0.0   1.0  -0.0  0.0\n",
       " 1.0   0.0   0.0  0.0\n",
       " 0.0  -0.0   0.0  1.0\n",
       " 0.0   0.0   1.0  0.0"
      ]
     },
     "execution_count": 6,
     "metadata": {},
     "output_type": "execute_result"
    }
   ],
   "source": [
    "x=value.(x)"
   ]
  },
  {
   "cell_type": "code",
   "execution_count": 7,
   "metadata": {},
   "outputs": [
    {
     "data": {
      "text/plain": [
       "2.747546895706428"
      ]
     },
     "execution_count": 7,
     "metadata": {},
     "output_type": "execute_result"
    }
   ],
   "source": [
    "objective_value(model)"
   ]
  },
  {
   "cell_type": "code",
   "execution_count": 8,
   "metadata": {},
   "outputs": [
    {
     "data": {
      "text/plain": [
       "calendar_week (generic function with 1 method)"
      ]
     },
     "execution_count": 8,
     "metadata": {},
     "output_type": "execute_result"
    }
   ],
   "source": [
    "function calendar_week(x,week)\n",
    "    df = DataFrame(Player=1:N, Monday=0.0, Tuesday=0.0, Wednesday=0.0, Thursday=0.0, Friday=0.0, Saturday=0.0, Sunday=0.0)\n",
    "    for i=1:N\n",
    "        for d=1:D\n",
    "            for j=1:N\n",
    "                if x[i,j,week,d] == 1.0\n",
    "                    df[i,d+1] = j\n",
    "                end\n",
    "            end\n",
    "        end\n",
    "    end\n",
    "    return df\n",
    "end"
   ]
  },
  {
   "cell_type": "code",
   "execution_count": 9,
   "metadata": {},
   "outputs": [
    {
     "data": {
      "text/html": [
       "<div class=\"data-frame\"><p>4 rows × 8 columns</p><table class=\"data-frame\"><thead><tr><th></th><th>Player</th><th>Monday</th><th>Tuesday</th><th>Wednesday</th><th>Thursday</th><th>Friday</th><th>Saturday</th><th>Sunday</th></tr><tr><th></th><th title=\"Int64\">Int64</th><th title=\"Float64\">Float64</th><th title=\"Float64\">Float64</th><th title=\"Float64\">Float64</th><th title=\"Float64\">Float64</th><th title=\"Float64\">Float64</th><th title=\"Float64\">Float64</th><th title=\"Float64\">Float64</th></tr></thead><tbody><tr><th>1</th><td>1</td><td>0.0</td><td>0.0</td><td>0.0</td><td>3.0</td><td>0.0</td><td>0.0</td><td>0.0</td></tr><tr><th>2</th><td>2</td><td>0.0</td><td>0.0</td><td>0.0</td><td>4.0</td><td>0.0</td><td>0.0</td><td>0.0</td></tr><tr><th>3</th><td>3</td><td>0.0</td><td>0.0</td><td>0.0</td><td>1.0</td><td>0.0</td><td>0.0</td><td>0.0</td></tr><tr><th>4</th><td>4</td><td>0.0</td><td>0.0</td><td>0.0</td><td>2.0</td><td>0.0</td><td>0.0</td><td>0.0</td></tr></tbody></table></div>"
      ],
      "text/latex": [
       "\\begin{tabular}{r|cccccccc}\n",
       "\t& Player & Monday & Tuesday & Wednesday & Thursday & Friday & Saturday & Sunday\\\\\n",
       "\t\\hline\n",
       "\t& Int64 & Float64 & Float64 & Float64 & Float64 & Float64 & Float64 & Float64\\\\\n",
       "\t\\hline\n",
       "\t1 & 1 & 0.0 & 0.0 & 0.0 & 3.0 & 0.0 & 0.0 & 0.0 \\\\\n",
       "\t2 & 2 & 0.0 & 0.0 & 0.0 & 4.0 & 0.0 & 0.0 & 0.0 \\\\\n",
       "\t3 & 3 & 0.0 & 0.0 & 0.0 & 1.0 & 0.0 & 0.0 & 0.0 \\\\\n",
       "\t4 & 4 & 0.0 & 0.0 & 0.0 & 2.0 & 0.0 & 0.0 & 0.0 \\\\\n",
       "\\end{tabular}\n"
      ],
      "text/plain": [
       "\u001b[1m4×8 DataFrame\u001b[0m\n",
       "\u001b[1m Row \u001b[0m│\u001b[1m Player \u001b[0m\u001b[1m Monday  \u001b[0m\u001b[1m Tuesday \u001b[0m\u001b[1m Wednesday \u001b[0m\u001b[1m Thursday \u001b[0m\u001b[1m Friday  \u001b[0m\u001b[1m Saturday \u001b[0m\u001b[1m Sunda\u001b[0m ⋯\n",
       "\u001b[1m     \u001b[0m│\u001b[90m Int64  \u001b[0m\u001b[90m Float64 \u001b[0m\u001b[90m Float64 \u001b[0m\u001b[90m Float64   \u001b[0m\u001b[90m Float64  \u001b[0m\u001b[90m Float64 \u001b[0m\u001b[90m Float64  \u001b[0m\u001b[90m Float\u001b[0m ⋯\n",
       "─────┼──────────────────────────────────────────────────────────────────────────\n",
       "   1 │      1      0.0      0.0        0.0       3.0      0.0       0.0      0 ⋯\n",
       "   2 │      2      0.0      0.0        0.0       4.0      0.0       0.0      0\n",
       "   3 │      3      0.0      0.0        0.0       1.0      0.0       0.0      0\n",
       "   4 │      4      0.0      0.0        0.0       2.0      0.0       0.0      0\n",
       "\u001b[36m                                                                1 column omitted\u001b[0m"
      ]
     },
     "execution_count": 9,
     "metadata": {},
     "output_type": "execute_result"
    }
   ],
   "source": [
    "### Week 1\n",
    "calendar_week(0)"
   ]
  },
  {
   "cell_type": "code",
   "execution_count": 10,
   "metadata": {
    "scrolled": true
   },
   "outputs": [
    {
     "data": {
      "text/html": [
       "<div class=\"data-frame\"><p>4 rows × 8 columns</p><table class=\"data-frame\"><thead><tr><th></th><th>Player</th><th>Monday</th><th>Tuesday</th><th>Wednesday</th><th>Thursday</th><th>Friday</th><th>Saturday</th><th>Sunday</th></tr><tr><th></th><th title=\"Int64\">Int64</th><th title=\"Float64\">Float64</th><th title=\"Float64\">Float64</th><th title=\"Float64\">Float64</th><th title=\"Float64\">Float64</th><th title=\"Float64\">Float64</th><th title=\"Float64\">Float64</th><th title=\"Float64\">Float64</th></tr></thead><tbody><tr><th>1</th><td>1</td><td>0.0</td><td>0.0</td><td>0.0</td><td>0.0</td><td>4.0</td><td>0.0</td><td>0.0</td></tr><tr><th>2</th><td>2</td><td>0.0</td><td>0.0</td><td>0.0</td><td>0.0</td><td>3.0</td><td>0.0</td><td>0.0</td></tr><tr><th>3</th><td>3</td><td>0.0</td><td>0.0</td><td>0.0</td><td>0.0</td><td>2.0</td><td>0.0</td><td>0.0</td></tr><tr><th>4</th><td>4</td><td>0.0</td><td>0.0</td><td>0.0</td><td>0.0</td><td>1.0</td><td>0.0</td><td>0.0</td></tr></tbody></table></div>"
      ],
      "text/latex": [
       "\\begin{tabular}{r|cccccccc}\n",
       "\t& Player & Monday & Tuesday & Wednesday & Thursday & Friday & Saturday & Sunday\\\\\n",
       "\t\\hline\n",
       "\t& Int64 & Float64 & Float64 & Float64 & Float64 & Float64 & Float64 & Float64\\\\\n",
       "\t\\hline\n",
       "\t1 & 1 & 0.0 & 0.0 & 0.0 & 0.0 & 4.0 & 0.0 & 0.0 \\\\\n",
       "\t2 & 2 & 0.0 & 0.0 & 0.0 & 0.0 & 3.0 & 0.0 & 0.0 \\\\\n",
       "\t3 & 3 & 0.0 & 0.0 & 0.0 & 0.0 & 2.0 & 0.0 & 0.0 \\\\\n",
       "\t4 & 4 & 0.0 & 0.0 & 0.0 & 0.0 & 1.0 & 0.0 & 0.0 \\\\\n",
       "\\end{tabular}\n"
      ],
      "text/plain": [
       "\u001b[1m4×8 DataFrame\u001b[0m\n",
       "\u001b[1m Row \u001b[0m│\u001b[1m Player \u001b[0m\u001b[1m Monday  \u001b[0m\u001b[1m Tuesday \u001b[0m\u001b[1m Wednesday \u001b[0m\u001b[1m Thursday \u001b[0m\u001b[1m Friday  \u001b[0m\u001b[1m Saturday \u001b[0m\u001b[1m Sunda\u001b[0m ⋯\n",
       "\u001b[1m     \u001b[0m│\u001b[90m Int64  \u001b[0m\u001b[90m Float64 \u001b[0m\u001b[90m Float64 \u001b[0m\u001b[90m Float64   \u001b[0m\u001b[90m Float64  \u001b[0m\u001b[90m Float64 \u001b[0m\u001b[90m Float64  \u001b[0m\u001b[90m Float\u001b[0m ⋯\n",
       "─────┼──────────────────────────────────────────────────────────────────────────\n",
       "   1 │      1      0.0      0.0        0.0       0.0      4.0       0.0      0 ⋯\n",
       "   2 │      2      0.0      0.0        0.0       0.0      3.0       0.0      0\n",
       "   3 │      3      0.0      0.0        0.0       0.0      2.0       0.0      0\n",
       "   4 │      4      0.0      0.0        0.0       0.0      1.0       0.0      0\n",
       "\u001b[36m                                                                1 column omitted\u001b[0m"
      ]
     },
     "execution_count": 10,
     "metadata": {},
     "output_type": "execute_result"
    }
   ],
   "source": [
    "### Week 2\n",
    "calendar_week(1)"
   ]
  },
  {
   "cell_type": "code",
   "execution_count": 11,
   "metadata": {},
   "outputs": [
    {
     "data": {
      "text/html": [
       "<div class=\"data-frame\"><p>4 rows × 8 columns</p><table class=\"data-frame\"><thead><tr><th></th><th>Player</th><th>Monday</th><th>Tuesday</th><th>Wednesday</th><th>Thursday</th><th>Friday</th><th>Saturday</th><th>Sunday</th></tr><tr><th></th><th title=\"Int64\">Int64</th><th title=\"Float64\">Float64</th><th title=\"Float64\">Float64</th><th title=\"Float64\">Float64</th><th title=\"Float64\">Float64</th><th title=\"Float64\">Float64</th><th title=\"Float64\">Float64</th><th title=\"Float64\">Float64</th></tr></thead><tbody><tr><th>1</th><td>1</td><td>0.0</td><td>0.0</td><td>0.0</td><td>0.0</td><td>0.0</td><td>0.0</td><td>2.0</td></tr><tr><th>2</th><td>2</td><td>0.0</td><td>0.0</td><td>0.0</td><td>0.0</td><td>0.0</td><td>0.0</td><td>1.0</td></tr><tr><th>3</th><td>3</td><td>0.0</td><td>0.0</td><td>0.0</td><td>0.0</td><td>0.0</td><td>0.0</td><td>4.0</td></tr><tr><th>4</th><td>4</td><td>0.0</td><td>0.0</td><td>0.0</td><td>0.0</td><td>0.0</td><td>0.0</td><td>3.0</td></tr></tbody></table></div>"
      ],
      "text/latex": [
       "\\begin{tabular}{r|cccccccc}\n",
       "\t& Player & Monday & Tuesday & Wednesday & Thursday & Friday & Saturday & Sunday\\\\\n",
       "\t\\hline\n",
       "\t& Int64 & Float64 & Float64 & Float64 & Float64 & Float64 & Float64 & Float64\\\\\n",
       "\t\\hline\n",
       "\t1 & 1 & 0.0 & 0.0 & 0.0 & 0.0 & 0.0 & 0.0 & 2.0 \\\\\n",
       "\t2 & 2 & 0.0 & 0.0 & 0.0 & 0.0 & 0.0 & 0.0 & 1.0 \\\\\n",
       "\t3 & 3 & 0.0 & 0.0 & 0.0 & 0.0 & 0.0 & 0.0 & 4.0 \\\\\n",
       "\t4 & 4 & 0.0 & 0.0 & 0.0 & 0.0 & 0.0 & 0.0 & 3.0 \\\\\n",
       "\\end{tabular}\n"
      ],
      "text/plain": [
       "\u001b[1m4×8 DataFrame\u001b[0m\n",
       "\u001b[1m Row \u001b[0m│\u001b[1m Player \u001b[0m\u001b[1m Monday  \u001b[0m\u001b[1m Tuesday \u001b[0m\u001b[1m Wednesday \u001b[0m\u001b[1m Thursday \u001b[0m\u001b[1m Friday  \u001b[0m\u001b[1m Saturday \u001b[0m\u001b[1m Sunda\u001b[0m ⋯\n",
       "\u001b[1m     \u001b[0m│\u001b[90m Int64  \u001b[0m\u001b[90m Float64 \u001b[0m\u001b[90m Float64 \u001b[0m\u001b[90m Float64   \u001b[0m\u001b[90m Float64  \u001b[0m\u001b[90m Float64 \u001b[0m\u001b[90m Float64  \u001b[0m\u001b[90m Float\u001b[0m ⋯\n",
       "─────┼──────────────────────────────────────────────────────────────────────────\n",
       "   1 │      1      0.0      0.0        0.0       0.0      0.0       0.0      2 ⋯\n",
       "   2 │      2      0.0      0.0        0.0       0.0      0.0       0.0      1\n",
       "   3 │      3      0.0      0.0        0.0       0.0      0.0       0.0      4\n",
       "   4 │      4      0.0      0.0        0.0       0.0      0.0       0.0      3\n",
       "\u001b[36m                                                                1 column omitted\u001b[0m"
      ]
     },
     "execution_count": 11,
     "metadata": {},
     "output_type": "execute_result"
    }
   ],
   "source": [
    "### Week 3\n",
    "calendar_week(2)"
   ]
  },
  {
   "cell_type": "code",
   "execution_count": 14,
   "metadata": {},
   "outputs": [],
   "source": [
    "### Week 4\n",
    "#calendar_week(3)"
   ]
  },
  {
   "cell_type": "code",
   "execution_count": 15,
   "metadata": {},
   "outputs": [],
   "source": [
    "### Week 5\n",
    "#calendar_week(4)"
   ]
  },
  {
   "cell_type": "markdown",
   "metadata": {},
   "source": [
    "### Adding the CL to the model"
   ]
  },
  {
   "cell_type": "code",
   "execution_count": 68,
   "metadata": {},
   "outputs": [
    {
     "name": "stdout",
     "output_type": "stream",
     "text": [
      "Set parameter Username\r\n",
      "Academic license - for non-commercial use only - expires 2023-10-12\r\n",
      "Gurobi Optimizer version 9.5.2 build v9.5.2rc0 (win64)\r\n",
      "Thread count: 12 physical cores, 16 logical processors, using up to 16 threads\r\n",
      "Optimize a model with 522 rows, 399 columns and 2573 nonzeros\r\n",
      "Model fingerprint: 0xb4b0e268\r\n",
      "Model has 8204 quadratic objective terms\r\n",
      "Variable types: 0 continuous, 399 integer (399 binary)\r\n",
      "Coefficient statistics:\r\n",
      "  Matrix range     [1e+00, 2e+01]\r\n",
      "  Objective range  [0e+00, 0e+00]\r\n",
      "  QObjective range [6e-01, 2e+00]\r\n",
      "  Bounds range     [0e+00, 0e+00]\r\n",
      "  RHS range        [1e+00, 4e+00]\r\n",
      "Presolve removed 498 rows and 309 columns\r\n",
      "Presolve time: 0.00s\r\n",
      "Presolved: 72 rows, 138 columns, 1668 nonzeros\r\n",
      "Variable types: 48 continuous, 90 integer (90 binary)\r\n",
      "Found heuristic solution: objective 5.6567947\r\n",
      "\r\n",
      "Root relaxation: objective 6.606302e-02, 67 iterations, 0.00 seconds (0.00 work units)\r\n",
      "\r\n",
      "    Nodes    |    Current Node    |     Objective Bounds      |     Work\r\n",
      " Expl Unexpl |  Obj  Depth IntInf | Incumbent    BestBd   Gap | It/Node Time\r\n",
      "\r\n",
      "     0     0    0.06606    0   51    5.65679    0.06606  98.8%     -    0s\r\n",
      "H    0     0                       5.4395134    0.06606  98.8%     -    0s\r\n",
      "H    0     0                       5.2721108    0.06606  98.7%     -    0s\r\n",
      "     0     0    4.93105    0   16    5.27211    4.93105  6.47%     -    0s\r\n",
      "     0     0    5.15580    0   18    5.27211    5.15580  2.21%     -    0s\r\n",
      "     0     0    5.15580    0   14    5.27211    5.15580  2.21%     -    0s\r\n",
      "     0     0    5.15580    0   17    5.27211    5.15580  2.21%     -    0s\r\n",
      "     0     0    5.15580    0    8    5.27211    5.15580  2.21%     -    0s\r\n",
      "     0     0    5.15580    0   41    5.27211    5.15580  2.21%     -    0s\r\n",
      "     0     0    5.15580    0   24    5.27211    5.15580  2.21%     -    0s\r\n",
      "     0     0    5.15580    0   10    5.27211    5.15580  2.21%     -    0s\r\n",
      "     0     0    5.15580    0   18    5.27211    5.15580  2.21%     -    0s\r\n",
      "     0     0    5.15580    0   18    5.27211    5.15580  2.21%     -    0s\r\n",
      "     0     0    5.18523    0   20    5.27211    5.18523  1.65%     -    0s\r\n",
      "     0     0    5.21932    0   22    5.27211    5.21932  1.00%     -    0s\r\n",
      "     0     0    5.21932    0   25    5.27211    5.21932  1.00%     -    0s\r\n",
      "\r\n",
      "Cutting planes:\r\n",
      "  Gomory: 3\r\n",
      "  Implied bound: 41\r\n",
      "  MIR: 8\r\n",
      "  Relax-and-lift: 1\r\n",
      "\r\n",
      "Explored 1 nodes (451 simplex iterations) in 0.07 seconds (0.03 work units)\r\n",
      "Thread count was 16 (of 16 available processors)\r\n",
      "\r\n",
      "Solution count 4: 5.27211 5.27211 5.43951 5.65679 \r\n",
      "\r\n",
      "Optimal solution found (tolerance 1.00e-04)\r\n",
      "Best objective 5.272110760396e+00, best bound 5.272110760396e+00, gap 0.0000%\r\n",
      "\r\n",
      "User-callback calls 477, time in user-callback 0.00 sec\r\n"
     ]
    }
   ],
   "source": [
    "model_CL = Model(Gurobi.Optimizer)\n",
    "\n",
    "# define variables\n",
    "# 1 if team i plays team j on day d of week w, 0 otherwise\n",
    "@variable(model_CL, x[i = 1:N, j = 1:N, w = 0:W-1, d = 1:D], Bin)\n",
    "@variable(model_CL, y[i = 1:N_CL, c = 1:N-1, w = 0:W-1, d = 1:D], Bin)\n",
    "\n",
    "# define objective\n",
    "# remember week begins on tuesday, this is why w_ goes from w+1\n",
    "@objective(model_CL, Min, sum(C[d, d_]* y[i, c, w, d] * x[i, j, w, d_] for i in 1:N_CL, j = 1:N, c = 1:N-1, w = 0:W-1, d = 1:D, d_ = 1:D) \n",
    "    + sum(C[7*w + d, 7 * (w+1) + d_]* x[i, j, w, d] * y[i, c, w+1, d_] for i in 1:N_CL, j = 1:N, c = 1:N-1, w = 0:W-2, d = 1:D, d_ = 1:D)\n",
    "    + sum(C[7*w + d, 7 * (w+1) + d_]* x[i, j, w, d] * x[i, k, w+1, d_] for i in 1:N, j = 1:N, k = 1:N, w = 0:W-2, d = 1:D, d_ = 1:D))\n",
    "\n",
    "# define constraints\n",
    "# each team can never play itself\n",
    "#@constraint(model, [i = 1:N, w = 0:W-1, d = 1:D], sum(x[i, i, w, d]) == 0)\n",
    "@constraint(model_CL, [i = 1:N, w = 0:W-1, d = 1:D], x[i, i, w, d] == 0)\n",
    "# each team plays at most one team per week\n",
    "@constraint(model_CL, [i = 1:N, w = 0:W-1], sum(x[i, j, w, d] for j = 1:N, d = 1:D) <= 1)\n",
    "# if team A plays team B, then team B plays team A\n",
    "@constraint(model_CL, [i = 1:N, j = 1:N, w = 0:W-1, d = 1:D], x[i, j, w, d] == x[j, i, w, d])\n",
    "# each team plays exactly N-1 games\n",
    "@constraint(model_CL, [i = 1:N], sum(x[i, j, w, d] for j = 1:N, w = 0:W-1, d = 1:D) == N-1) # this constraint works\n",
    "# all teams need to play each other exactly once\n",
    "@constraint(model_CL, [i = 1:N, j = 1:N], sum(x[i, j, w, d] for w = 0:W-1, d = 1:D) <= 1) # this makes it infeasible\n",
    "# at least four days of rest (if they play monday, they can't play again until saturday)\n",
    "@constraint(model_CL, [i = 1:N, w = 0:W-2], sum((7*(w+1)+d1)*x[i, j, w+1, d1] for j = 1:N, d1 = 1:D) - sum((7*w+d2)x[i, k, w, d2] for k = 1:N, d2 = 1:D) >= 4) # this makes it infeasible\n",
    "# can't play on tuesday (day 1), wednesday (day 2), thursday (day 3)\n",
    "@constraint(model_CL, [i = 1:N, j = 1:N, w = 0:W-1], sum(x[i, j, w, d] for d = 1:3) == 0)\n",
    "\n",
    "\n",
    "@constraint(model_CL, [i = 1:N_CL, w = 0:W-1], sum(y[i, c, w, 1] + y[i, c, w, 2] for c=1:N-1) <= 1)\n",
    "@constraint(model_CL, [i = 1:N_CL, w = 0:W-1], sum(y[i, c, w, d] for c=1:N-1, d=3:7) == 0)\n",
    "@constraint(model_CL, [i = 1:N_CL], sum(y[i, c, w, d] for c=1:N-1, w=0:W-1, d=1:D) == N-1)\n",
    "@constraint(model_CL, [i = 1:N_CL, c = 1:N-1], sum(y[i, c, w, d] for w=0:W-1, d=1:D) <= 1)\n",
    "\n",
    "\n",
    "@constraint(model_CL, [i = 1:N_CL, w = 0:W-2], sum(d1*x[i, j, w, d1] for j=1:N, d1=1:D) - sum(d2*y[i, c, w, d2] for c=1:N-1, d2=1:D) >= 1)\n",
    "@constraint(model_CL, [i = 1:N_CL, w = 0:W-2], sum((7*(w+1)+d2)*y[i, c, w+1, d2] for c=1:N-1, d2=1:D) - sum((7*(w)+d1)*x[i, j, w, d1] for j=1:N, d1=1:D) >= 1)\n",
    "\n",
    "\n",
    "\n",
    "# solve model\n",
    "optimize!(model_CL)"
   ]
  },
  {
   "cell_type": "code",
   "execution_count": 69,
   "metadata": {},
   "outputs": [
    {
     "data": {
      "text/plain": [
       "4-dimensional DenseAxisArray{Float64,4,...} with index sets:\n",
       "    Dimension 1, Base.OneTo(4)\n",
       "    Dimension 2, Base.OneTo(4)\n",
       "    Dimension 3, 0:2\n",
       "    Dimension 4, Base.OneTo(7)\n",
       "And data, a 4×4×3×7 Array{Float64, 4}:\n",
       "[:, :, 0, 1] =\n",
       " 0.0  0.0  0.0  0.0\n",
       " 0.0  0.0  0.0  0.0\n",
       " 0.0  0.0  0.0  0.0\n",
       " 0.0  0.0  0.0  0.0\n",
       "\n",
       "[:, :, 1, 1] =\n",
       " 0.0  0.0  0.0  0.0\n",
       " 0.0  0.0  0.0  0.0\n",
       " 0.0  0.0  0.0  0.0\n",
       " 0.0  0.0  0.0  0.0\n",
       "\n",
       "[:, :, 2, 1] =\n",
       " 0.0  0.0  0.0  0.0\n",
       " 0.0  0.0  0.0  0.0\n",
       " 0.0  0.0  0.0  0.0\n",
       " 0.0  0.0  0.0  0.0\n",
       "\n",
       "[:, :, 0, 2] =\n",
       " 0.0  0.0  0.0  0.0\n",
       " 0.0  0.0  0.0  0.0\n",
       " 0.0  0.0  0.0  0.0\n",
       " 0.0  0.0  0.0  0.0\n",
       "\n",
       "[:, :, 1, 2] =\n",
       " 0.0  0.0  0.0  0.0\n",
       " 0.0  0.0  0.0  0.0\n",
       " 0.0  0.0  0.0  0.0\n",
       " 0.0  0.0  0.0  0.0\n",
       "\n",
       "[:, :, 2, 2] =\n",
       " 0.0  0.0  0.0  0.0\n",
       " 0.0  0.0  0.0  0.0\n",
       " 0.0  0.0  0.0  0.0\n",
       " 0.0  0.0  0.0  0.0\n",
       "\n",
       "[:, :, 0, 3] =\n",
       " 0.0  0.0  0.0  0.0\n",
       " 0.0  0.0  0.0  0.0\n",
       " 0.0  0.0  0.0  0.0\n",
       " 0.0  0.0  0.0  0.0\n",
       "\n",
       "[:, :, 1, 3] =\n",
       " 0.0  0.0  0.0  0.0\n",
       " 0.0  0.0  0.0  0.0\n",
       " 0.0  0.0  0.0  0.0\n",
       " 0.0  0.0  0.0  0.0\n",
       "\n",
       "[:, :, 2, 3] =\n",
       " 0.0  0.0  0.0  0.0\n",
       " 0.0  0.0  0.0  0.0\n",
       " 0.0  0.0  0.0  0.0\n",
       " 0.0  0.0  0.0  0.0\n",
       "\n",
       "[:, :, 0, 4] =\n",
       " 0.0  1.0  0.0  0.0\n",
       " 1.0  0.0  0.0  0.0\n",
       " 0.0  0.0  0.0  1.0\n",
       " 0.0  0.0  1.0  0.0\n",
       "\n",
       "[:, :, 1, 4] =\n",
       " 0.0  0.0  0.0  0.0\n",
       " 0.0  0.0  0.0  0.0\n",
       " 0.0  0.0  0.0  0.0\n",
       " 0.0  0.0  0.0  0.0\n",
       "\n",
       "[:, :, 2, 4] =\n",
       " 0.0  0.0  0.0  0.0\n",
       " 0.0  0.0  0.0  0.0\n",
       " 0.0  0.0  0.0  0.0\n",
       " 0.0  0.0  0.0  0.0\n",
       "\n",
       "[:, :, 0, 5] =\n",
       " 0.0  0.0  0.0  0.0\n",
       " 0.0  0.0  0.0  0.0\n",
       " 0.0  0.0  0.0  0.0\n",
       " 0.0  0.0  0.0  0.0\n",
       "\n",
       "[:, :, 1, 5] =\n",
       " 0.0  0.0  1.0  0.0\n",
       " 0.0  0.0  0.0  1.0\n",
       " 1.0  0.0  0.0  0.0\n",
       " 0.0  1.0  0.0  0.0\n",
       "\n",
       "[:, :, 2, 5] =\n",
       " 0.0  0.0  0.0  0.0\n",
       " 0.0  0.0  0.0  0.0\n",
       " 0.0  0.0  0.0  0.0\n",
       " 0.0  0.0  0.0  0.0\n",
       "\n",
       "[:, :, 0, 6] =\n",
       " 0.0  0.0  0.0  0.0\n",
       " 0.0  0.0  0.0  0.0\n",
       " 0.0  0.0  0.0  0.0\n",
       " 0.0  0.0  0.0  0.0\n",
       "\n",
       "[:, :, 1, 6] =\n",
       " 0.0  0.0  0.0  0.0\n",
       " 0.0  0.0  0.0  0.0\n",
       " 0.0  0.0  0.0  0.0\n",
       " 0.0  0.0  0.0  0.0\n",
       "\n",
       "[:, :, 2, 6] =\n",
       " 0.0  0.0  0.0  0.0\n",
       " 0.0  0.0  0.0  0.0\n",
       " 0.0  0.0  0.0  0.0\n",
       " 0.0  0.0  0.0  0.0\n",
       "\n",
       "[:, :, 0, 7] =\n",
       " 0.0  0.0  0.0  0.0\n",
       " 0.0  0.0  0.0  0.0\n",
       " 0.0  0.0  0.0  0.0\n",
       " 0.0  0.0  0.0  0.0\n",
       "\n",
       "[:, :, 1, 7] =\n",
       " 0.0  0.0  0.0  0.0\n",
       " 0.0  0.0  0.0  0.0\n",
       " 0.0  0.0  0.0  0.0\n",
       " 0.0  0.0  0.0  0.0\n",
       "\n",
       "[:, :, 2, 7] =\n",
       " 0.0  0.0  0.0  1.0\n",
       " 0.0  0.0  1.0  0.0\n",
       " 0.0  1.0  0.0  0.0\n",
       " 1.0  0.0  0.0  0.0"
      ]
     },
     "execution_count": 69,
     "metadata": {},
     "output_type": "execute_result"
    }
   ],
   "source": [
    "y = value.(y)\n",
    "x = value.(x)"
   ]
  },
  {
   "cell_type": "code",
   "execution_count": 70,
   "metadata": {},
   "outputs": [
    {
     "data": {
      "text/plain": [
       "calendar_week_yCL (generic function with 1 method)"
      ]
     },
     "execution_count": 70,
     "metadata": {},
     "output_type": "execute_result"
    }
   ],
   "source": [
    "function calendar_week_yCL(y,week)\n",
    "    df = DataFrame(Player=1:N_CL, Monday=0.0, Tuesday=0.0, Wednesday=0.0, Thursday=0.0, Friday=0.0, Saturday=0.0, Sunday=0.0)\n",
    "    for i=1:N_CL\n",
    "        for d=1:D\n",
    "            for c=1:N-1\n",
    "                if y[i,c,week,d] == 1.0\n",
    "                    df[i,d+1] = c\n",
    "                end\n",
    "            end\n",
    "        end\n",
    "    end\n",
    "    return df\n",
    "end"
   ]
  },
  {
   "cell_type": "code",
   "execution_count": 71,
   "metadata": {},
   "outputs": [
    {
     "data": {
      "text/plain": [
       "calendar_week_xCL (generic function with 1 method)"
      ]
     },
     "execution_count": 71,
     "metadata": {},
     "output_type": "execute_result"
    }
   ],
   "source": [
    "function calendar_week_xCL(x,week)\n",
    "    df = DataFrame(Player=1:N, Monday=0.0, Tuesday=0.0, Wednesday=0.0, Thursday=0.0, Friday=0.0, Saturday=0.0, Sunday=0.0)\n",
    "    for i=1:N\n",
    "        for d=1:D\n",
    "            for j=1:N\n",
    "                if x[i,j,week,d] == 1.0\n",
    "                    df[i,d+1] = j\n",
    "                end\n",
    "            end\n",
    "        end\n",
    "    end\n",
    "    return df\n",
    "end"
   ]
  },
  {
   "cell_type": "code",
   "execution_count": 72,
   "metadata": {},
   "outputs": [
    {
     "data": {
      "text/html": [
       "<div class=\"data-frame\"><p>1 rows × 8 columns</p><table class=\"data-frame\"><thead><tr><th></th><th>Player</th><th>Monday</th><th>Tuesday</th><th>Wednesday</th><th>Thursday</th><th>Friday</th><th>Saturday</th><th>Sunday</th></tr><tr><th></th><th title=\"Int64\">Int64</th><th title=\"Float64\">Float64</th><th title=\"Float64\">Float64</th><th title=\"Float64\">Float64</th><th title=\"Float64\">Float64</th><th title=\"Float64\">Float64</th><th title=\"Float64\">Float64</th><th title=\"Float64\">Float64</th></tr></thead><tbody><tr><th>1</th><td>1</td><td>0.0</td><td>3.0</td><td>0.0</td><td>0.0</td><td>0.0</td><td>0.0</td><td>0.0</td></tr></tbody></table></div>"
      ],
      "text/latex": [
       "\\begin{tabular}{r|cccccccc}\n",
       "\t& Player & Monday & Tuesday & Wednesday & Thursday & Friday & Saturday & Sunday\\\\\n",
       "\t\\hline\n",
       "\t& Int64 & Float64 & Float64 & Float64 & Float64 & Float64 & Float64 & Float64\\\\\n",
       "\t\\hline\n",
       "\t1 & 1 & 0.0 & 3.0 & 0.0 & 0.0 & 0.0 & 0.0 & 0.0 \\\\\n",
       "\\end{tabular}\n"
      ],
      "text/plain": [
       "\u001b[1m1×8 DataFrame\u001b[0m\n",
       "\u001b[1m Row \u001b[0m│\u001b[1m Player \u001b[0m\u001b[1m Monday  \u001b[0m\u001b[1m Tuesday \u001b[0m\u001b[1m Wednesday \u001b[0m\u001b[1m Thursday \u001b[0m\u001b[1m Friday  \u001b[0m\u001b[1m Saturday \u001b[0m\u001b[1m Sunda\u001b[0m ⋯\n",
       "\u001b[1m     \u001b[0m│\u001b[90m Int64  \u001b[0m\u001b[90m Float64 \u001b[0m\u001b[90m Float64 \u001b[0m\u001b[90m Float64   \u001b[0m\u001b[90m Float64  \u001b[0m\u001b[90m Float64 \u001b[0m\u001b[90m Float64  \u001b[0m\u001b[90m Float\u001b[0m ⋯\n",
       "─────┼──────────────────────────────────────────────────────────────────────────\n",
       "   1 │      1      0.0      3.0        0.0       0.0      0.0       0.0      0 ⋯\n",
       "\u001b[36m                                                                1 column omitted\u001b[0m"
      ]
     },
     "execution_count": 72,
     "metadata": {},
     "output_type": "execute_result"
    }
   ],
   "source": [
    "calendar_week_CL(y,2)"
   ]
  },
  {
   "cell_type": "code",
   "execution_count": 73,
   "metadata": {},
   "outputs": [
    {
     "data": {
      "text/html": [
       "<div class=\"data-frame\"><p>4 rows × 8 columns</p><table class=\"data-frame\"><thead><tr><th></th><th>Player</th><th>Monday</th><th>Tuesday</th><th>Wednesday</th><th>Thursday</th><th>Friday</th><th>Saturday</th><th>Sunday</th></tr><tr><th></th><th title=\"Int64\">Int64</th><th title=\"Float64\">Float64</th><th title=\"Float64\">Float64</th><th title=\"Float64\">Float64</th><th title=\"Float64\">Float64</th><th title=\"Float64\">Float64</th><th title=\"Float64\">Float64</th><th title=\"Float64\">Float64</th></tr></thead><tbody><tr><th>1</th><td>1</td><td>0.0</td><td>0.0</td><td>0.0</td><td>0.0</td><td>0.0</td><td>0.0</td><td>4.0</td></tr><tr><th>2</th><td>2</td><td>0.0</td><td>0.0</td><td>0.0</td><td>0.0</td><td>0.0</td><td>0.0</td><td>3.0</td></tr><tr><th>3</th><td>3</td><td>0.0</td><td>0.0</td><td>0.0</td><td>0.0</td><td>0.0</td><td>0.0</td><td>2.0</td></tr><tr><th>4</th><td>4</td><td>0.0</td><td>0.0</td><td>0.0</td><td>0.0</td><td>0.0</td><td>0.0</td><td>1.0</td></tr></tbody></table></div>"
      ],
      "text/latex": [
       "\\begin{tabular}{r|cccccccc}\n",
       "\t& Player & Monday & Tuesday & Wednesday & Thursday & Friday & Saturday & Sunday\\\\\n",
       "\t\\hline\n",
       "\t& Int64 & Float64 & Float64 & Float64 & Float64 & Float64 & Float64 & Float64\\\\\n",
       "\t\\hline\n",
       "\t1 & 1 & 0.0 & 0.0 & 0.0 & 0.0 & 0.0 & 0.0 & 4.0 \\\\\n",
       "\t2 & 2 & 0.0 & 0.0 & 0.0 & 0.0 & 0.0 & 0.0 & 3.0 \\\\\n",
       "\t3 & 3 & 0.0 & 0.0 & 0.0 & 0.0 & 0.0 & 0.0 & 2.0 \\\\\n",
       "\t4 & 4 & 0.0 & 0.0 & 0.0 & 0.0 & 0.0 & 0.0 & 1.0 \\\\\n",
       "\\end{tabular}\n"
      ],
      "text/plain": [
       "\u001b[1m4×8 DataFrame\u001b[0m\n",
       "\u001b[1m Row \u001b[0m│\u001b[1m Player \u001b[0m\u001b[1m Monday  \u001b[0m\u001b[1m Tuesday \u001b[0m\u001b[1m Wednesday \u001b[0m\u001b[1m Thursday \u001b[0m\u001b[1m Friday  \u001b[0m\u001b[1m Saturday \u001b[0m\u001b[1m Sunda\u001b[0m ⋯\n",
       "\u001b[1m     \u001b[0m│\u001b[90m Int64  \u001b[0m\u001b[90m Float64 \u001b[0m\u001b[90m Float64 \u001b[0m\u001b[90m Float64   \u001b[0m\u001b[90m Float64  \u001b[0m\u001b[90m Float64 \u001b[0m\u001b[90m Float64  \u001b[0m\u001b[90m Float\u001b[0m ⋯\n",
       "─────┼──────────────────────────────────────────────────────────────────────────\n",
       "   1 │      1      0.0      0.0        0.0       0.0      0.0       0.0      4 ⋯\n",
       "   2 │      2      0.0      0.0        0.0       0.0      0.0       0.0      3\n",
       "   3 │      3      0.0      0.0        0.0       0.0      0.0       0.0      2\n",
       "   4 │      4      0.0      0.0        0.0       0.0      0.0       0.0      1\n",
       "\u001b[36m                                                                1 column omitted\u001b[0m"
      ]
     },
     "execution_count": 73,
     "metadata": {},
     "output_type": "execute_result"
    }
   ],
   "source": [
    "calendar_week_xCL(x,2)"
   ]
  },
  {
   "cell_type": "code",
   "execution_count": null,
   "metadata": {},
   "outputs": [],
   "source": []
  }
 ],
 "metadata": {
  "kernelspec": {
   "display_name": "Julia 1.8.2",
   "language": "julia",
   "name": "julia-1.8"
  },
  "language_info": {
   "file_extension": ".jl",
   "mimetype": "application/julia",
   "name": "julia",
   "version": "1.8.2"
  }
 },
 "nbformat": 4,
 "nbformat_minor": 4
}
