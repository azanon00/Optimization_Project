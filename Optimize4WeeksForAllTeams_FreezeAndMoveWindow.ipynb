{
 "cells": [
  {
   "cell_type": "code",
   "execution_count": 1,
   "metadata": {},
   "outputs": [],
   "source": [
    "using DataFrames\n",
    "using JuMP, Gurobi"
   ]
  },
  {
   "cell_type": "code",
   "execution_count": 5,
   "metadata": {},
   "outputs": [],
   "source": [
    "# number of teams\n",
    "N = 20\n",
    "# number of weeks\n",
    "W = N-1\n",
    "# number of days per weeks\n",
    "D = 7;"
   ]
  },
  {
   "cell_type": "code",
   "execution_count": 17,
   "metadata": {},
   "outputs": [
    {
     "data": {
      "text/plain": [
       "GetC (generic function with 1 method)"
      ]
     },
     "metadata": {},
     "output_type": "display_data"
    }
   ],
   "source": [
    "function GetC()\n",
    "    C = zeros((D*W, D*W))\n",
    "\n",
    "    for t in 1:(W*D)\n",
    "        for t_ in 1:(W*D)\n",
    "            if t < t_\n",
    "                C[t, t_] = (t_ - t)^(-1)\n",
    "            end\n",
    "        end\n",
    "    end\n",
    "\n",
    "    return C\n",
    "end"
   ]
  },
  {
   "cell_type": "code",
   "execution_count": null,
   "metadata": {},
   "outputs": [],
   "source": [
    "function Optimize4WeeksAndFreeze(X_old, Y_old)\n",
    "\n",
    "    # create model\n",
    "    model = Model(Gurobi.Optimizer)\n",
    "\n",
    "    # set time limit\n",
    "    set_model_attribute(model, \"TimeLimit\", 30)\n",
    "\n",
    "    # PARAMETERS\n",
    "    C = GetC()\n",
    "    N = 20 # teams\n",
    "    W = 4 # weeks\n",
    "    D = 7 # days\n",
    "\n",
    "    # VARIABLES\n",
    "    @variable(model, x[i = 1:N, j = 1:N, w = 1:W, d = 1:D], Bin) # 1 if team i plays team j on day d of week w, 0 otherwise\n",
    "    @variable(model, a[i = 1:N, j = 1:N, k = 1:N, w = 1:W, d = 1:D, d_ = 1:D] >= 0) # will be pushed to be binary\n",
    "    @variable(model, y[i = 1:N, j = 1:N, w = 1:W], Bin) # 1 if team i played team j on w, 0 otherwise\n",
    "\n",
    "    # OBJECTIVE FUNCTION\n",
    "    @objective(model, Min, sum(C[7 * (w-1) + d, 7 * (w) + d_] * a[i, j, k, w, d, d_] for i in 1:N, j in 1:N, k in 1:N, w in 1:W, d in 1:D, d_ in 1:D))\n",
    "\n",
    "    # CONSTRAINTS\n",
    "\n",
    "\n",
    "    # OPTIMIZE\n",
    "\n",
    "\n",
    "    # update old X, Y before returning them\n",
    "\n"
   ]
  }
 ],
 "metadata": {
  "kernelspec": {
   "display_name": "Julia 1.8.0",
   "language": "julia",
   "name": "julia-1.8"
  },
  "language_info": {
   "file_extension": ".jl",
   "mimetype": "application/julia",
   "name": "julia",
   "version": "1.8.0"
  },
  "orig_nbformat": 4,
  "vscode": {
   "interpreter": {
    "hash": "06afd10951fdd4fed0e6da45c5305413c17e961fcd92f272d77ba5ed1e4178f9"
   }
  }
 },
 "nbformat": 4,
 "nbformat_minor": 2
}
