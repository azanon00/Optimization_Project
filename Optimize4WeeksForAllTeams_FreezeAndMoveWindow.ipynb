{
 "cells": [
  {
   "cell_type": "code",
   "execution_count": 2,
   "metadata": {},
   "outputs": [],
   "source": [
    "using DataFrames\n",
    "using JuMP, Gurobi"
   ]
  },
  {
   "cell_type": "code",
   "execution_count": 3,
   "metadata": {},
   "outputs": [],
   "source": [
    "# number of teams\n",
    "N = 20\n",
    "# number of weeks\n",
    "W = N-1\n",
    "# number of days per weeks\n",
    "D = 7;"
   ]
  },
  {
   "cell_type": "code",
   "execution_count": 4,
   "metadata": {},
   "outputs": [
    {
     "data": {
      "text/plain": [
       "GetC (generic function with 1 method)"
      ]
     },
     "metadata": {},
     "output_type": "display_data"
    }
   ],
   "source": [
    "function GetC()\n",
    "\n",
    "    W_ = 19\n",
    "\n",
    "    C = zeros((D*W_, D*W_))\n",
    "\n",
    "    for t in 1:(W_*D)\n",
    "        for t_ in 1:(W_*D)\n",
    "            if t < t_\n",
    "                C[t, t_] = (t_ - t)^(-1)\n",
    "            end\n",
    "        end\n",
    "    end\n",
    "\n",
    "    return C\n",
    "end"
   ]
  },
  {
   "cell_type": "code",
   "execution_count": 10,
   "metadata": {},
   "outputs": [
    {
     "data": {
      "text/plain": [
       "calendar_week (generic function with 1 method)"
      ]
     },
     "metadata": {},
     "output_type": "display_data"
    }
   ],
   "source": [
    "function calendar_week(x,week)\n",
    "    df = DataFrame(Player=1:N, Tuesday=0.0, Wednesday=0.0, Thursday=0.0, Friday=0.0, Saturday=0.0, Sunday=0.0, Monday=0.0)\n",
    "    for i=1:N\n",
    "        for j=1:N\n",
    "            for d=1:D\n",
    "                if x[i,j,week,d] == 1.0\n",
    "                        df[i, 1+d] = j\n",
    "                end\n",
    "            end\n",
    "        end\n",
    "    end\n",
    "    return df\n",
    "end"
   ]
  },
  {
   "cell_type": "code",
   "execution_count": 12,
   "metadata": {},
   "outputs": [
    {
     "data": {
      "text/plain": [
       "Optimize4WeeksAndFreeze (generic function with 1 method)"
      ]
     },
     "metadata": {},
     "output_type": "display_data"
    }
   ],
   "source": [
    "function Optimize4WeeksAndFreeze(X_old, Y_old, W)\n",
    "\n",
    "    # create model\n",
    "    model = Model(Gurobi.Optimizer)\n",
    "\n",
    "    # set time limit\n",
    "    set_optimizer_attribute(model, \"TimeLimit\", 600)\n",
    "\n",
    "    # PARAMETERS\n",
    "    C = GetC()\n",
    "    N = 20 # teams\n",
    "    W = W # weeks\n",
    "    D = 7 # days\n",
    "\n",
    "    print(1)\n",
    "\n",
    "    # VARIABLES\n",
    "    @variable(model, x[i = 1:N, j = 1:N, w = 1:W, d = 1:D], Bin) # 1 if team i plays team j on day d of week w, 0 otherwise\n",
    "    @variable(model, a[i = 1:N, j = 1:N, k = 1:N, w = 1:W, d = 1:D, d_ = 1:D] >= 0) # will be pushed to be binary\n",
    "    @variable(model, y[i = 1:N, j = 1:N], Bin) # 1 if team i played team j on w, 0 otherwise\n",
    "\n",
    "    print(2)\n",
    "\n",
    "    # OBJECTIVE FUNCTION\n",
    "    @objective(model, Min, sum(C[7 * w + d, 7 * (w+1) + d_] * a[i, j, k, w, d, d_] for i in 1:N, \n",
    "        j in 1:N, k in 1:N, w in 1:W-1, d in 1:D, d_ in 1:D))\n",
    "\n",
    "    print(3)\n",
    "\n",
    "    # CONSTRAINTS\n",
    "    # linearize objective function\n",
    "    @constraint(model, [i = 1:N, j = 1:N, k = 1:N, w = 1:W-1, d = 1:D, d_ = 1:D], a[i, j, k, w, d, d_] <= x[i, j, w, d])\n",
    "    @constraint(model, [i = 1:N, j = 1:N, k = 1:N, w = 1:W-1, d = 1:D, d_ = 1:D], a[i, j, k, w, d, d_] <= x[i, k, w+1, d])\n",
    "    @constraint(model, [i = 1:N, j = 1:N, k = 1:N, w = 1:W-1, d = 1:D, d_ = 1:D], a[i, j, k, w, d, d_] >= x[i, j, w, d] + x[i, k, w+1, d] - 1)\n",
    "\n",
    "    print(4)\n",
    "\n",
    "    # teams can never play against themselves\n",
    "    @constraint(model, [i = 1:N, w = 1:W, d = 1:D], x[i, i, w, d] == 0)\n",
    "\n",
    "    print(5)\n",
    "\n",
    "    # if A plays against B, then B plays against A\n",
    "    @constraint(model, [i = 1:N, j = 1:N, w = 1:W, d = 1:D], x[i, j, w, d] == x[j, i, w, d])\n",
    "\n",
    "    print(6)\n",
    "\n",
    "    # each team can only play at most one game per week\n",
    "    @constraint(model, [i = 1:N, w = 1:W], sum(x[i, j, w, d] for j in 1:N, d in 1:D) <= 1)\n",
    "\n",
    "    print(7)\n",
    "\n",
    "    # each team plays Wend - Win + 1 games in total\n",
    "    @constraint(model, [i = 1:N], sum(x[i, j, w, d] for j in 1:N, w in 1:W, d in 1:D) == W)\n",
    "\n",
    "    print(8)\n",
    "\n",
    "    # each game is against a different team, team play against each other team at most once\n",
    "    @constraint(model, [i = 1:N, j = 1:N], sum(x[i, j, w, d] for w in 1:W, d in 1:D) <= 1)\n",
    "\n",
    "    print(9)\n",
    "\n",
    "    # if team i plays team j, update Y\n",
    "    @constraint(model, [i = 1:N, j = 1:N, w = 1:W], y[i, j] >= sum(x[i, j, w, d] for d in 1:D, w = 1:W))\n",
    "\n",
    "    print(10)\n",
    "\n",
    "    # if team i played team j in the past, then they can't play again now\n",
    "    @constraint(model, [i = 1:N, j = 1:N], sum(x[i,j,w,d] for w in 1:W, d in 1:D) <= 1 - Y_old[i, j])\n",
    "\n",
    "    print(11)\n",
    "\n",
    "    # cannot plays on days 1,2,3\n",
    "    @constraint(model, [i = 1:N, j = 1:N, w = 1:W, d = 1:3], x[i, j, w, d] == 0)\n",
    "\n",
    "    print(12)\n",
    "\n",
    "    # OPTIMIZE\n",
    "    optimize!(model)\n",
    "\n",
    "    print(13)\n",
    "\n",
    "    # update old X, Y before returning them\n",
    "    for i in 1:N\n",
    "        for j in 1:N\n",
    "            for w in 1:W\n",
    "                for d in 1:D\n",
    "                    X_old[i, j, w, d] = value.(x[i, j, w, d])\n",
    "                    Y_old[i,j] = value.(y[i,j])\n",
    "                end\n",
    "            end\n",
    "        end\n",
    "    end\n",
    "\n",
    "    print(14)\n",
    "\n",
    "    return X_old, Y_old\n",
    "\n",
    "\n",
    "end\n"
   ]
  },
  {
   "cell_type": "code",
   "execution_count": 13,
   "metadata": {},
   "outputs": [],
   "source": [
    "W = 4\n",
    "\n",
    "# first time, X_old and Y_old initialized to empty\n",
    "X_old = zeros(20, 20, W, 7) # teams are never playing against each other\n",
    "Y_old = zeros(20, 20)   # teams never played against each other before\n",
    ";"
   ]
  },
  {
   "cell_type": "code",
   "execution_count": 14,
   "metadata": {},
   "outputs": [
    {
     "name": "stdout",
     "output_type": "stream",
     "text": [
      "Set parameter Username\n",
      "Academic license - for non-commercial use only - expires 2023-08-17\n",
      "Set parameter TimeLimit to value 600\n",
      "12"
     ]
    },
    {
     "name": "stdout",
     "output_type": "stream",
     "text": [
      "34"
     ]
    },
    {
     "name": "stdout",
     "output_type": "stream",
     "text": [
      "56789101112"
     ]
    },
    {
     "name": "stdout",
     "output_type": "stream",
     "text": [
      "Set parameter TimeLimit to value 600\n",
      "Gurobi Optimizer version 9.5.2 build v9.5.2rc0 (mac64[x86])\n",
      "Thread count: 2 physical cores, 4 logical processors, using up to 4 threads\n",
      "Optimize a model with 3547060 rows, 1579600 columns and 8349840 nonzeros\n",
      "Model fingerprint: 0x20f62528\n",
      "Variable types: 1568000 continuous, 11600 integer (11600 binary)\n",
      "Coefficient statistics:\n",
      "  Matrix range     [1e+00, 1e+00]\n",
      "  Objective range  [8e-02, 1e+00]\n",
      "  Bounds range     [0e+00, 0e+00]\n",
      "  RHS range        [1e+00, 4e+00]\n",
      "Presolve removed 1727330 rows and 970080 columns (presolve time = 5s) ...\n",
      "Presolve removed 1727330 rows and 970080 columns (presolve time = 10s) ...\n",
      "Presolve removed 1727330 rows and 970080 columns (presolve time = 15s) ...\n",
      "Presolve removed 1727330 rows and 970080 columns (presolve time = 20s) ...\n",
      "Presolve removed 1727330 rows and 970080 columns (presolve time = 25s) ...\n",
      "Presolve removed 1727330 rows and 970080 columns (presolve time = 92s) ...\n",
      "Presolve removed 2940290 rows and 970080 columns (presolve time = 98s) ...\n",
      "Presolve removed 2940290 rows and 970080 columns (presolve time = 103s) ...\n",
      "Presolve removed 2956250 rows and 986040 columns (presolve time = 112s) ...\n",
      "Presolve removed 2956250 rows and 986040 columns (presolve time = 115s) ...\n",
      "Presolve removed 3462945 rows and 1492735 columns (presolve time = 120s) ...\n",
      "Presolve removed 3462945 rows and 1492735 columns\n",
      "Presolve time: 122.15s\n",
      "Presolved: 84115 rows, 86865 columns, 440417 nonzeros\n",
      "Variable types: 83825 continuous, 3040 integer (3040 binary)\n",
      "\n",
      "Deterministic concurrent LP optimizer: primal and dual simplex\n",
      "Showing first log only...\n",
      "\n",
      "\n",
      "Root simplex log...\n",
      "\n",
      "Iteration    Objective       Primal Inf.    Dual Inf.      Time\n",
      "       0    0.0000000e+00   4.601691e-01   1.281985e+07    125s\n",
      "     284    0.0000000e+00   0.000000e+00   0.000000e+00    125s\n",
      "     284    0.0000000e+00   0.000000e+00   0.000000e+00    125s\n",
      "\n",
      "Use crossover to convert LP symmetric solution to basic solution...\n",
      "\n",
      "Root crossover log...\n",
      "\n",
      "     668 PPushes remaining with PInf 0.0000000e+00               125s\n",
      "     306 PPushes remaining with PInf 0.0000000e+00               125s\n",
      "       0 PPushes remaining with PInf 0.0000000e+00               125s\n",
      "\n",
      "  Push phase complete: Pinf 0.0000000e+00, Dinf 0.0000000e+00    125s\n",
      "\n",
      "\n",
      "Root simplex log...\n",
      "\n",
      "Iteration    Objective       Primal Inf.    Dual Inf.      Time\n",
      "     955    0.0000000e+00   0.000000e+00   0.000000e+00    125s\n",
      "Concurrent spin time: 0.02s\n",
      "\n",
      "Solved with dual simplex\n",
      "\n",
      "Root relaxation: objective 0.000000e+00, 771 iterations, 0.87 seconds (0.28 work units)\n",
      "\n",
      "    Nodes    |    Current Node    |     Objective Bounds      |     Work\n",
      " Expl Unexpl |  Obj  Depth IntInf | Incumbent    BestBd   Gap | It/Node Time\n",
      "\n",
      "H    0     0                       0.0000000    0.00000  0.00%     -  125s\n",
      "     0     0    0.00000    0  112    0.00000    0.00000  0.00%     -  125s\n",
      "\n",
      "Explored 1 nodes (771 simplex iterations) in 125.61 seconds (50.33 work units)\n",
      "Thread count was 4 (of 4 available processors)\n",
      "\n",
      "Solution count 1: 0 \n",
      "\n",
      "Optimal solution found (tolerance 1.00e-04)\n",
      "Best objective 0.000000000000e+00, best bound 0.000000000000e+00, gap 0.0000%\n",
      "\n",
      "User-callback calls 4941, time in user-callback 0.03 sec\n",
      "1314"
     ]
    }
   ],
   "source": [
    "# optimize for 4 weeks\n",
    "X, y = Optimize4WeeksAndFreeze(X_old, Y_old, W);"
   ]
  },
  {
   "cell_type": "code",
   "execution_count": 19,
   "metadata": {},
   "outputs": [
    {
     "data": {
      "text/html": [
       "<div class=\"data-frame\"><p>20 rows × 8 columns</p><table class=\"data-frame\"><thead><tr><th></th><th>Player</th><th>Tuesday</th><th>Wednesday</th><th>Thursday</th><th>Friday</th><th>Saturday</th><th>Sunday</th><th>Monday</th></tr><tr><th></th><th title=\"Int64\">Int64</th><th title=\"Float64\">Float64</th><th title=\"Float64\">Float64</th><th title=\"Float64\">Float64</th><th title=\"Float64\">Float64</th><th title=\"Float64\">Float64</th><th title=\"Float64\">Float64</th><th title=\"Float64\">Float64</th></tr></thead><tbody><tr><th>1</th><td>1</td><td>0.0</td><td>0.0</td><td>0.0</td><td>9.0</td><td>0.0</td><td>0.0</td><td>0.0</td></tr><tr><th>2</th><td>2</td><td>0.0</td><td>0.0</td><td>0.0</td><td>0.0</td><td>13.0</td><td>0.0</td><td>0.0</td></tr><tr><th>3</th><td>3</td><td>0.0</td><td>0.0</td><td>0.0</td><td>0.0</td><td>0.0</td><td>0.0</td><td>4.0</td></tr><tr><th>4</th><td>4</td><td>0.0</td><td>0.0</td><td>0.0</td><td>0.0</td><td>0.0</td><td>0.0</td><td>3.0</td></tr><tr><th>5</th><td>5</td><td>0.0</td><td>0.0</td><td>0.0</td><td>14.0</td><td>0.0</td><td>0.0</td><td>0.0</td></tr><tr><th>6</th><td>6</td><td>0.0</td><td>0.0</td><td>0.0</td><td>16.0</td><td>0.0</td><td>0.0</td><td>0.0</td></tr><tr><th>7</th><td>7</td><td>0.0</td><td>0.0</td><td>0.0</td><td>19.0</td><td>0.0</td><td>0.0</td><td>0.0</td></tr><tr><th>8</th><td>8</td><td>0.0</td><td>0.0</td><td>0.0</td><td>18.0</td><td>0.0</td><td>0.0</td><td>0.0</td></tr><tr><th>9</th><td>9</td><td>0.0</td><td>0.0</td><td>0.0</td><td>1.0</td><td>0.0</td><td>0.0</td><td>0.0</td></tr><tr><th>10</th><td>10</td><td>0.0</td><td>0.0</td><td>0.0</td><td>11.0</td><td>0.0</td><td>0.0</td><td>0.0</td></tr><tr><th>11</th><td>11</td><td>0.0</td><td>0.0</td><td>0.0</td><td>10.0</td><td>0.0</td><td>0.0</td><td>0.0</td></tr><tr><th>12</th><td>12</td><td>0.0</td><td>0.0</td><td>0.0</td><td>20.0</td><td>0.0</td><td>0.0</td><td>0.0</td></tr><tr><th>13</th><td>13</td><td>0.0</td><td>0.0</td><td>0.0</td><td>0.0</td><td>2.0</td><td>0.0</td><td>0.0</td></tr><tr><th>14</th><td>14</td><td>0.0</td><td>0.0</td><td>0.0</td><td>5.0</td><td>0.0</td><td>0.0</td><td>0.0</td></tr><tr><th>15</th><td>15</td><td>0.0</td><td>0.0</td><td>0.0</td><td>17.0</td><td>0.0</td><td>0.0</td><td>0.0</td></tr><tr><th>16</th><td>16</td><td>0.0</td><td>0.0</td><td>0.0</td><td>6.0</td><td>0.0</td><td>0.0</td><td>0.0</td></tr><tr><th>17</th><td>17</td><td>0.0</td><td>0.0</td><td>0.0</td><td>15.0</td><td>0.0</td><td>0.0</td><td>0.0</td></tr><tr><th>18</th><td>18</td><td>0.0</td><td>0.0</td><td>0.0</td><td>8.0</td><td>0.0</td><td>0.0</td><td>0.0</td></tr><tr><th>19</th><td>19</td><td>0.0</td><td>0.0</td><td>0.0</td><td>7.0</td><td>0.0</td><td>0.0</td><td>0.0</td></tr><tr><th>20</th><td>20</td><td>0.0</td><td>0.0</td><td>0.0</td><td>12.0</td><td>0.0</td><td>0.0</td><td>0.0</td></tr></tbody></table></div>"
      ],
      "text/latex": [
       "\\begin{tabular}{r|cccccccc}\n",
       "\t& Player & Tuesday & Wednesday & Thursday & Friday & Saturday & Sunday & Monday\\\\\n",
       "\t\\hline\n",
       "\t& Int64 & Float64 & Float64 & Float64 & Float64 & Float64 & Float64 & Float64\\\\\n",
       "\t\\hline\n",
       "\t1 & 1 & 0.0 & 0.0 & 0.0 & 9.0 & 0.0 & 0.0 & 0.0 \\\\\n",
       "\t2 & 2 & 0.0 & 0.0 & 0.0 & 0.0 & 13.0 & 0.0 & 0.0 \\\\\n",
       "\t3 & 3 & 0.0 & 0.0 & 0.0 & 0.0 & 0.0 & 0.0 & 4.0 \\\\\n",
       "\t4 & 4 & 0.0 & 0.0 & 0.0 & 0.0 & 0.0 & 0.0 & 3.0 \\\\\n",
       "\t5 & 5 & 0.0 & 0.0 & 0.0 & 14.0 & 0.0 & 0.0 & 0.0 \\\\\n",
       "\t6 & 6 & 0.0 & 0.0 & 0.0 & 16.0 & 0.0 & 0.0 & 0.0 \\\\\n",
       "\t7 & 7 & 0.0 & 0.0 & 0.0 & 19.0 & 0.0 & 0.0 & 0.0 \\\\\n",
       "\t8 & 8 & 0.0 & 0.0 & 0.0 & 18.0 & 0.0 & 0.0 & 0.0 \\\\\n",
       "\t9 & 9 & 0.0 & 0.0 & 0.0 & 1.0 & 0.0 & 0.0 & 0.0 \\\\\n",
       "\t10 & 10 & 0.0 & 0.0 & 0.0 & 11.0 & 0.0 & 0.0 & 0.0 \\\\\n",
       "\t11 & 11 & 0.0 & 0.0 & 0.0 & 10.0 & 0.0 & 0.0 & 0.0 \\\\\n",
       "\t12 & 12 & 0.0 & 0.0 & 0.0 & 20.0 & 0.0 & 0.0 & 0.0 \\\\\n",
       "\t13 & 13 & 0.0 & 0.0 & 0.0 & 0.0 & 2.0 & 0.0 & 0.0 \\\\\n",
       "\t14 & 14 & 0.0 & 0.0 & 0.0 & 5.0 & 0.0 & 0.0 & 0.0 \\\\\n",
       "\t15 & 15 & 0.0 & 0.0 & 0.0 & 17.0 & 0.0 & 0.0 & 0.0 \\\\\n",
       "\t16 & 16 & 0.0 & 0.0 & 0.0 & 6.0 & 0.0 & 0.0 & 0.0 \\\\\n",
       "\t17 & 17 & 0.0 & 0.0 & 0.0 & 15.0 & 0.0 & 0.0 & 0.0 \\\\\n",
       "\t18 & 18 & 0.0 & 0.0 & 0.0 & 8.0 & 0.0 & 0.0 & 0.0 \\\\\n",
       "\t19 & 19 & 0.0 & 0.0 & 0.0 & 7.0 & 0.0 & 0.0 & 0.0 \\\\\n",
       "\t20 & 20 & 0.0 & 0.0 & 0.0 & 12.0 & 0.0 & 0.0 & 0.0 \\\\\n",
       "\\end{tabular}\n"
      ],
      "text/plain": [
       "\u001b[1m20×8 DataFrame\u001b[0m\n",
       "\u001b[1m Row \u001b[0m│\u001b[1m Player \u001b[0m\u001b[1m Tuesday \u001b[0m\u001b[1m Wednesday \u001b[0m\u001b[1m Thursday \u001b[0m\u001b[1m Friday  \u001b[0m\u001b[1m Saturday \u001b[0m\u001b[1m Sunday  \u001b[0m\u001b[1m Monda\u001b[0m ⋯\n",
       "\u001b[1m     \u001b[0m│\u001b[90m Int64  \u001b[0m\u001b[90m Float64 \u001b[0m\u001b[90m Float64   \u001b[0m\u001b[90m Float64  \u001b[0m\u001b[90m Float64 \u001b[0m\u001b[90m Float64  \u001b[0m\u001b[90m Float64 \u001b[0m\u001b[90m Float\u001b[0m ⋯\n",
       "─────┼──────────────────────────────────────────────────────────────────────────\n",
       "   1 │      1      0.0        0.0       0.0      9.0       0.0      0.0      0 ⋯\n",
       "   2 │      2      0.0        0.0       0.0      0.0      13.0      0.0      0\n",
       "   3 │      3      0.0        0.0       0.0      0.0       0.0      0.0      4\n",
       "   4 │      4      0.0        0.0       0.0      0.0       0.0      0.0      3\n",
       "   5 │      5      0.0        0.0       0.0     14.0       0.0      0.0      0 ⋯\n",
       "   6 │      6      0.0        0.0       0.0     16.0       0.0      0.0      0\n",
       "   7 │      7      0.0        0.0       0.0     19.0       0.0      0.0      0\n",
       "   8 │      8      0.0        0.0       0.0     18.0       0.0      0.0      0\n",
       "  ⋮  │   ⋮        ⋮         ⋮         ⋮         ⋮        ⋮         ⋮        ⋮  ⋱\n",
       "  14 │     14      0.0        0.0       0.0      5.0       0.0      0.0      0 ⋯\n",
       "  15 │     15      0.0        0.0       0.0     17.0       0.0      0.0      0\n",
       "  16 │     16      0.0        0.0       0.0      6.0       0.0      0.0      0\n",
       "  17 │     17      0.0        0.0       0.0     15.0       0.0      0.0      0\n",
       "  18 │     18      0.0        0.0       0.0      8.0       0.0      0.0      0 ⋯\n",
       "  19 │     19      0.0        0.0       0.0      7.0       0.0      0.0      0\n",
       "  20 │     20      0.0        0.0       0.0     12.0       0.0      0.0      0\n",
       "\u001b[36m                                                     1 column and 5 rows omitted\u001b[0m"
      ]
     },
     "metadata": {},
     "output_type": "display_data"
    },
    {
     "data": {
      "text/html": [
       "<div class=\"data-frame\"><p>20 rows × 8 columns</p><table class=\"data-frame\"><thead><tr><th></th><th>Player</th><th>Tuesday</th><th>Wednesday</th><th>Thursday</th><th>Friday</th><th>Saturday</th><th>Sunday</th><th>Monday</th></tr><tr><th></th><th title=\"Int64\">Int64</th><th title=\"Float64\">Float64</th><th title=\"Float64\">Float64</th><th title=\"Float64\">Float64</th><th title=\"Float64\">Float64</th><th title=\"Float64\">Float64</th><th title=\"Float64\">Float64</th><th title=\"Float64\">Float64</th></tr></thead><tbody><tr><th>1</th><td>1</td><td>0.0</td><td>0.0</td><td>0.0</td><td>0.0</td><td>8.0</td><td>0.0</td><td>0.0</td></tr><tr><th>2</th><td>2</td><td>0.0</td><td>0.0</td><td>0.0</td><td>0.0</td><td>0.0</td><td>0.0</td><td>18.0</td></tr><tr><th>3</th><td>3</td><td>0.0</td><td>0.0</td><td>0.0</td><td>0.0</td><td>12.0</td><td>0.0</td><td>0.0</td></tr><tr><th>4</th><td>4</td><td>0.0</td><td>0.0</td><td>0.0</td><td>0.0</td><td>11.0</td><td>0.0</td><td>0.0</td></tr><tr><th>5</th><td>5</td><td>0.0</td><td>0.0</td><td>0.0</td><td>0.0</td><td>0.0</td><td>0.0</td><td>10.0</td></tr><tr><th>6</th><td>6</td><td>0.0</td><td>0.0</td><td>0.0</td><td>0.0</td><td>0.0</td><td>0.0</td><td>13.0</td></tr><tr><th>7</th><td>7</td><td>0.0</td><td>0.0</td><td>0.0</td><td>0.0</td><td>0.0</td><td>0.0</td><td>15.0</td></tr><tr><th>8</th><td>8</td><td>0.0</td><td>0.0</td><td>0.0</td><td>0.0</td><td>1.0</td><td>0.0</td><td>0.0</td></tr><tr><th>9</th><td>9</td><td>0.0</td><td>0.0</td><td>0.0</td><td>0.0</td><td>0.0</td><td>0.0</td><td>14.0</td></tr><tr><th>10</th><td>10</td><td>0.0</td><td>0.0</td><td>0.0</td><td>0.0</td><td>0.0</td><td>0.0</td><td>5.0</td></tr><tr><th>11</th><td>11</td><td>0.0</td><td>0.0</td><td>0.0</td><td>0.0</td><td>4.0</td><td>0.0</td><td>0.0</td></tr><tr><th>12</th><td>12</td><td>0.0</td><td>0.0</td><td>0.0</td><td>0.0</td><td>3.0</td><td>0.0</td><td>0.0</td></tr><tr><th>13</th><td>13</td><td>0.0</td><td>0.0</td><td>0.0</td><td>0.0</td><td>0.0</td><td>0.0</td><td>6.0</td></tr><tr><th>14</th><td>14</td><td>0.0</td><td>0.0</td><td>0.0</td><td>0.0</td><td>0.0</td><td>0.0</td><td>9.0</td></tr><tr><th>15</th><td>15</td><td>0.0</td><td>0.0</td><td>0.0</td><td>0.0</td><td>0.0</td><td>0.0</td><td>7.0</td></tr><tr><th>16</th><td>16</td><td>0.0</td><td>0.0</td><td>0.0</td><td>0.0</td><td>19.0</td><td>0.0</td><td>0.0</td></tr><tr><th>17</th><td>17</td><td>0.0</td><td>0.0</td><td>0.0</td><td>0.0</td><td>0.0</td><td>0.0</td><td>20.0</td></tr><tr><th>18</th><td>18</td><td>0.0</td><td>0.0</td><td>0.0</td><td>0.0</td><td>0.0</td><td>0.0</td><td>2.0</td></tr><tr><th>19</th><td>19</td><td>0.0</td><td>0.0</td><td>0.0</td><td>0.0</td><td>16.0</td><td>0.0</td><td>0.0</td></tr><tr><th>20</th><td>20</td><td>0.0</td><td>0.0</td><td>0.0</td><td>0.0</td><td>0.0</td><td>0.0</td><td>17.0</td></tr></tbody></table></div>"
      ],
      "text/latex": [
       "\\begin{tabular}{r|cccccccc}\n",
       "\t& Player & Tuesday & Wednesday & Thursday & Friday & Saturday & Sunday & Monday\\\\\n",
       "\t\\hline\n",
       "\t& Int64 & Float64 & Float64 & Float64 & Float64 & Float64 & Float64 & Float64\\\\\n",
       "\t\\hline\n",
       "\t1 & 1 & 0.0 & 0.0 & 0.0 & 0.0 & 8.0 & 0.0 & 0.0 \\\\\n",
       "\t2 & 2 & 0.0 & 0.0 & 0.0 & 0.0 & 0.0 & 0.0 & 18.0 \\\\\n",
       "\t3 & 3 & 0.0 & 0.0 & 0.0 & 0.0 & 12.0 & 0.0 & 0.0 \\\\\n",
       "\t4 & 4 & 0.0 & 0.0 & 0.0 & 0.0 & 11.0 & 0.0 & 0.0 \\\\\n",
       "\t5 & 5 & 0.0 & 0.0 & 0.0 & 0.0 & 0.0 & 0.0 & 10.0 \\\\\n",
       "\t6 & 6 & 0.0 & 0.0 & 0.0 & 0.0 & 0.0 & 0.0 & 13.0 \\\\\n",
       "\t7 & 7 & 0.0 & 0.0 & 0.0 & 0.0 & 0.0 & 0.0 & 15.0 \\\\\n",
       "\t8 & 8 & 0.0 & 0.0 & 0.0 & 0.0 & 1.0 & 0.0 & 0.0 \\\\\n",
       "\t9 & 9 & 0.0 & 0.0 & 0.0 & 0.0 & 0.0 & 0.0 & 14.0 \\\\\n",
       "\t10 & 10 & 0.0 & 0.0 & 0.0 & 0.0 & 0.0 & 0.0 & 5.0 \\\\\n",
       "\t11 & 11 & 0.0 & 0.0 & 0.0 & 0.0 & 4.0 & 0.0 & 0.0 \\\\\n",
       "\t12 & 12 & 0.0 & 0.0 & 0.0 & 0.0 & 3.0 & 0.0 & 0.0 \\\\\n",
       "\t13 & 13 & 0.0 & 0.0 & 0.0 & 0.0 & 0.0 & 0.0 & 6.0 \\\\\n",
       "\t14 & 14 & 0.0 & 0.0 & 0.0 & 0.0 & 0.0 & 0.0 & 9.0 \\\\\n",
       "\t15 & 15 & 0.0 & 0.0 & 0.0 & 0.0 & 0.0 & 0.0 & 7.0 \\\\\n",
       "\t16 & 16 & 0.0 & 0.0 & 0.0 & 0.0 & 19.0 & 0.0 & 0.0 \\\\\n",
       "\t17 & 17 & 0.0 & 0.0 & 0.0 & 0.0 & 0.0 & 0.0 & 20.0 \\\\\n",
       "\t18 & 18 & 0.0 & 0.0 & 0.0 & 0.0 & 0.0 & 0.0 & 2.0 \\\\\n",
       "\t19 & 19 & 0.0 & 0.0 & 0.0 & 0.0 & 16.0 & 0.0 & 0.0 \\\\\n",
       "\t20 & 20 & 0.0 & 0.0 & 0.0 & 0.0 & 0.0 & 0.0 & 17.0 \\\\\n",
       "\\end{tabular}\n"
      ],
      "text/plain": [
       "\u001b[1m20×8 DataFrame\u001b[0m\n",
       "\u001b[1m Row \u001b[0m│\u001b[1m Player \u001b[0m\u001b[1m Tuesday \u001b[0m\u001b[1m Wednesday \u001b[0m\u001b[1m Thursday \u001b[0m\u001b[1m Friday  \u001b[0m\u001b[1m Saturday \u001b[0m\u001b[1m Sunday  \u001b[0m\u001b[1m Monda\u001b[0m ⋯\n",
       "\u001b[1m     \u001b[0m│\u001b[90m Int64  \u001b[0m\u001b[90m Float64 \u001b[0m\u001b[90m Float64   \u001b[0m\u001b[90m Float64  \u001b[0m\u001b[90m Float64 \u001b[0m\u001b[90m Float64  \u001b[0m\u001b[90m Float64 \u001b[0m\u001b[90m Float\u001b[0m ⋯\n",
       "─────┼──────────────────────────────────────────────────────────────────────────\n",
       "   1 │      1      0.0        0.0       0.0      0.0       8.0      0.0      0 ⋯\n",
       "   2 │      2      0.0        0.0       0.0      0.0       0.0      0.0     18\n",
       "   3 │      3      0.0        0.0       0.0      0.0      12.0      0.0      0\n",
       "   4 │      4      0.0        0.0       0.0      0.0      11.0      0.0      0\n",
       "   5 │      5      0.0        0.0       0.0      0.0       0.0      0.0     10 ⋯\n",
       "   6 │      6      0.0        0.0       0.0      0.0       0.0      0.0     13\n",
       "   7 │      7      0.0        0.0       0.0      0.0       0.0      0.0     15\n",
       "   8 │      8      0.0        0.0       0.0      0.0       1.0      0.0      0\n",
       "  ⋮  │   ⋮        ⋮         ⋮         ⋮         ⋮        ⋮         ⋮        ⋮  ⋱\n",
       "  14 │     14      0.0        0.0       0.0      0.0       0.0      0.0      9 ⋯\n",
       "  15 │     15      0.0        0.0       0.0      0.0       0.0      0.0      7\n",
       "  16 │     16      0.0        0.0       0.0      0.0      19.0      0.0      0\n",
       "  17 │     17      0.0        0.0       0.0      0.0       0.0      0.0     20\n",
       "  18 │     18      0.0        0.0       0.0      0.0       0.0      0.0      2 ⋯\n",
       "  19 │     19      0.0        0.0       0.0      0.0      16.0      0.0      0\n",
       "  20 │     20      0.0        0.0       0.0      0.0       0.0      0.0     17\n",
       "\u001b[36m                                                     1 column and 5 rows omitted\u001b[0m"
      ]
     },
     "metadata": {},
     "output_type": "display_data"
    },
    {
     "data": {
      "text/html": [
       "<div class=\"data-frame\"><p>20 rows × 8 columns</p><table class=\"data-frame\"><thead><tr><th></th><th>Player</th><th>Tuesday</th><th>Wednesday</th><th>Thursday</th><th>Friday</th><th>Saturday</th><th>Sunday</th><th>Monday</th></tr><tr><th></th><th title=\"Int64\">Int64</th><th title=\"Float64\">Float64</th><th title=\"Float64\">Float64</th><th title=\"Float64\">Float64</th><th title=\"Float64\">Float64</th><th title=\"Float64\">Float64</th><th title=\"Float64\">Float64</th><th title=\"Float64\">Float64</th></tr></thead><tbody><tr><th>1</th><td>1</td><td>0.0</td><td>0.0</td><td>0.0</td><td>2.0</td><td>0.0</td><td>0.0</td><td>0.0</td></tr><tr><th>2</th><td>2</td><td>0.0</td><td>0.0</td><td>0.0</td><td>1.0</td><td>0.0</td><td>0.0</td><td>0.0</td></tr><tr><th>3</th><td>3</td><td>0.0</td><td>0.0</td><td>0.0</td><td>0.0</td><td>0.0</td><td>6.0</td><td>0.0</td></tr><tr><th>4</th><td>4</td><td>0.0</td><td>0.0</td><td>0.0</td><td>0.0</td><td>0.0</td><td>14.0</td><td>0.0</td></tr><tr><th>5</th><td>5</td><td>0.0</td><td>0.0</td><td>0.0</td><td>0.0</td><td>0.0</td><td>9.0</td><td>0.0</td></tr><tr><th>6</th><td>6</td><td>0.0</td><td>0.0</td><td>0.0</td><td>0.0</td><td>0.0</td><td>3.0</td><td>0.0</td></tr><tr><th>7</th><td>7</td><td>0.0</td><td>0.0</td><td>0.0</td><td>20.0</td><td>0.0</td><td>0.0</td><td>0.0</td></tr><tr><th>8</th><td>8</td><td>0.0</td><td>0.0</td><td>0.0</td><td>0.0</td><td>0.0</td><td>15.0</td><td>0.0</td></tr><tr><th>9</th><td>9</td><td>0.0</td><td>0.0</td><td>0.0</td><td>0.0</td><td>0.0</td><td>5.0</td><td>0.0</td></tr><tr><th>10</th><td>10</td><td>0.0</td><td>0.0</td><td>0.0</td><td>0.0</td><td>0.0</td><td>17.0</td><td>0.0</td></tr><tr><th>11</th><td>11</td><td>0.0</td><td>0.0</td><td>0.0</td><td>0.0</td><td>0.0</td><td>16.0</td><td>0.0</td></tr><tr><th>12</th><td>12</td><td>0.0</td><td>0.0</td><td>0.0</td><td>0.0</td><td>0.0</td><td>18.0</td><td>0.0</td></tr><tr><th>13</th><td>13</td><td>0.0</td><td>0.0</td><td>0.0</td><td>0.0</td><td>0.0</td><td>19.0</td><td>0.0</td></tr><tr><th>14</th><td>14</td><td>0.0</td><td>0.0</td><td>0.0</td><td>0.0</td><td>0.0</td><td>4.0</td><td>0.0</td></tr><tr><th>15</th><td>15</td><td>0.0</td><td>0.0</td><td>0.0</td><td>0.0</td><td>0.0</td><td>8.0</td><td>0.0</td></tr><tr><th>16</th><td>16</td><td>0.0</td><td>0.0</td><td>0.0</td><td>0.0</td><td>0.0</td><td>11.0</td><td>0.0</td></tr><tr><th>17</th><td>17</td><td>0.0</td><td>0.0</td><td>0.0</td><td>0.0</td><td>0.0</td><td>10.0</td><td>0.0</td></tr><tr><th>18</th><td>18</td><td>0.0</td><td>0.0</td><td>0.0</td><td>0.0</td><td>0.0</td><td>12.0</td><td>0.0</td></tr><tr><th>19</th><td>19</td><td>0.0</td><td>0.0</td><td>0.0</td><td>0.0</td><td>0.0</td><td>13.0</td><td>0.0</td></tr><tr><th>20</th><td>20</td><td>0.0</td><td>0.0</td><td>0.0</td><td>7.0</td><td>0.0</td><td>0.0</td><td>0.0</td></tr></tbody></table></div>"
      ],
      "text/latex": [
       "\\begin{tabular}{r|cccccccc}\n",
       "\t& Player & Tuesday & Wednesday & Thursday & Friday & Saturday & Sunday & Monday\\\\\n",
       "\t\\hline\n",
       "\t& Int64 & Float64 & Float64 & Float64 & Float64 & Float64 & Float64 & Float64\\\\\n",
       "\t\\hline\n",
       "\t1 & 1 & 0.0 & 0.0 & 0.0 & 2.0 & 0.0 & 0.0 & 0.0 \\\\\n",
       "\t2 & 2 & 0.0 & 0.0 & 0.0 & 1.0 & 0.0 & 0.0 & 0.0 \\\\\n",
       "\t3 & 3 & 0.0 & 0.0 & 0.0 & 0.0 & 0.0 & 6.0 & 0.0 \\\\\n",
       "\t4 & 4 & 0.0 & 0.0 & 0.0 & 0.0 & 0.0 & 14.0 & 0.0 \\\\\n",
       "\t5 & 5 & 0.0 & 0.0 & 0.0 & 0.0 & 0.0 & 9.0 & 0.0 \\\\\n",
       "\t6 & 6 & 0.0 & 0.0 & 0.0 & 0.0 & 0.0 & 3.0 & 0.0 \\\\\n",
       "\t7 & 7 & 0.0 & 0.0 & 0.0 & 20.0 & 0.0 & 0.0 & 0.0 \\\\\n",
       "\t8 & 8 & 0.0 & 0.0 & 0.0 & 0.0 & 0.0 & 15.0 & 0.0 \\\\\n",
       "\t9 & 9 & 0.0 & 0.0 & 0.0 & 0.0 & 0.0 & 5.0 & 0.0 \\\\\n",
       "\t10 & 10 & 0.0 & 0.0 & 0.0 & 0.0 & 0.0 & 17.0 & 0.0 \\\\\n",
       "\t11 & 11 & 0.0 & 0.0 & 0.0 & 0.0 & 0.0 & 16.0 & 0.0 \\\\\n",
       "\t12 & 12 & 0.0 & 0.0 & 0.0 & 0.0 & 0.0 & 18.0 & 0.0 \\\\\n",
       "\t13 & 13 & 0.0 & 0.0 & 0.0 & 0.0 & 0.0 & 19.0 & 0.0 \\\\\n",
       "\t14 & 14 & 0.0 & 0.0 & 0.0 & 0.0 & 0.0 & 4.0 & 0.0 \\\\\n",
       "\t15 & 15 & 0.0 & 0.0 & 0.0 & 0.0 & 0.0 & 8.0 & 0.0 \\\\\n",
       "\t16 & 16 & 0.0 & 0.0 & 0.0 & 0.0 & 0.0 & 11.0 & 0.0 \\\\\n",
       "\t17 & 17 & 0.0 & 0.0 & 0.0 & 0.0 & 0.0 & 10.0 & 0.0 \\\\\n",
       "\t18 & 18 & 0.0 & 0.0 & 0.0 & 0.0 & 0.0 & 12.0 & 0.0 \\\\\n",
       "\t19 & 19 & 0.0 & 0.0 & 0.0 & 0.0 & 0.0 & 13.0 & 0.0 \\\\\n",
       "\t20 & 20 & 0.0 & 0.0 & 0.0 & 7.0 & 0.0 & 0.0 & 0.0 \\\\\n",
       "\\end{tabular}\n"
      ],
      "text/plain": [
       "\u001b[1m20×8 DataFrame\u001b[0m\n",
       "\u001b[1m Row \u001b[0m│\u001b[1m Player \u001b[0m\u001b[1m Tuesday \u001b[0m\u001b[1m Wednesday \u001b[0m\u001b[1m Thursday \u001b[0m\u001b[1m Friday  \u001b[0m\u001b[1m Saturday \u001b[0m\u001b[1m Sunday  \u001b[0m\u001b[1m Monda\u001b[0m ⋯\n",
       "\u001b[1m     \u001b[0m│\u001b[90m Int64  \u001b[0m\u001b[90m Float64 \u001b[0m\u001b[90m Float64   \u001b[0m\u001b[90m Float64  \u001b[0m\u001b[90m Float64 \u001b[0m\u001b[90m Float64  \u001b[0m\u001b[90m Float64 \u001b[0m\u001b[90m Float\u001b[0m ⋯\n",
       "─────┼──────────────────────────────────────────────────────────────────────────\n",
       "   1 │      1      0.0        0.0       0.0      2.0       0.0      0.0      0 ⋯\n",
       "   2 │      2      0.0        0.0       0.0      1.0       0.0      0.0      0\n",
       "   3 │      3      0.0        0.0       0.0      0.0       0.0      6.0      0\n",
       "   4 │      4      0.0        0.0       0.0      0.0       0.0     14.0      0\n",
       "   5 │      5      0.0        0.0       0.0      0.0       0.0      9.0      0 ⋯\n",
       "   6 │      6      0.0        0.0       0.0      0.0       0.0      3.0      0\n",
       "   7 │      7      0.0        0.0       0.0     20.0       0.0      0.0      0\n",
       "   8 │      8      0.0        0.0       0.0      0.0       0.0     15.0      0\n",
       "  ⋮  │   ⋮        ⋮         ⋮         ⋮         ⋮        ⋮         ⋮        ⋮  ⋱\n",
       "  14 │     14      0.0        0.0       0.0      0.0       0.0      4.0      0 ⋯\n",
       "  15 │     15      0.0        0.0       0.0      0.0       0.0      8.0      0\n",
       "  16 │     16      0.0        0.0       0.0      0.0       0.0     11.0      0\n",
       "  17 │     17      0.0        0.0       0.0      0.0       0.0     10.0      0\n",
       "  18 │     18      0.0        0.0       0.0      0.0       0.0     12.0      0 ⋯\n",
       "  19 │     19      0.0        0.0       0.0      0.0       0.0     13.0      0\n",
       "  20 │     20      0.0        0.0       0.0      7.0       0.0      0.0      0\n",
       "\u001b[36m                                                     1 column and 5 rows omitted\u001b[0m"
      ]
     },
     "metadata": {},
     "output_type": "display_data"
    },
    {
     "data": {
      "text/html": [
       "<div class=\"data-frame\"><p>20 rows × 8 columns</p><table class=\"data-frame\"><thead><tr><th></th><th>Player</th><th>Tuesday</th><th>Wednesday</th><th>Thursday</th><th>Friday</th><th>Saturday</th><th>Sunday</th><th>Monday</th></tr><tr><th></th><th title=\"Int64\">Int64</th><th title=\"Float64\">Float64</th><th title=\"Float64\">Float64</th><th title=\"Float64\">Float64</th><th title=\"Float64\">Float64</th><th title=\"Float64\">Float64</th><th title=\"Float64\">Float64</th><th title=\"Float64\">Float64</th></tr></thead><tbody><tr><th>1</th><td>1</td><td>0.0</td><td>0.0</td><td>0.0</td><td>0.0</td><td>18.0</td><td>0.0</td><td>0.0</td></tr><tr><th>2</th><td>2</td><td>0.0</td><td>0.0</td><td>0.0</td><td>0.0</td><td>4.0</td><td>0.0</td><td>0.0</td></tr><tr><th>3</th><td>3</td><td>0.0</td><td>0.0</td><td>0.0</td><td>0.0</td><td>0.0</td><td>0.0</td><td>10.0</td></tr><tr><th>4</th><td>4</td><td>0.0</td><td>0.0</td><td>0.0</td><td>0.0</td><td>2.0</td><td>0.0</td><td>0.0</td></tr><tr><th>5</th><td>5</td><td>0.0</td><td>0.0</td><td>0.0</td><td>0.0</td><td>0.0</td><td>0.0</td><td>19.0</td></tr><tr><th>6</th><td>6</td><td>0.0</td><td>0.0</td><td>0.0</td><td>0.0</td><td>0.0</td><td>0.0</td><td>17.0</td></tr><tr><th>7</th><td>7</td><td>0.0</td><td>0.0</td><td>0.0</td><td>0.0</td><td>0.0</td><td>0.0</td><td>13.0</td></tr><tr><th>8</th><td>8</td><td>0.0</td><td>0.0</td><td>0.0</td><td>0.0</td><td>0.0</td><td>0.0</td><td>12.0</td></tr><tr><th>9</th><td>9</td><td>0.0</td><td>0.0</td><td>0.0</td><td>0.0</td><td>0.0</td><td>0.0</td><td>16.0</td></tr><tr><th>10</th><td>10</td><td>0.0</td><td>0.0</td><td>0.0</td><td>0.0</td><td>0.0</td><td>0.0</td><td>3.0</td></tr><tr><th>11</th><td>11</td><td>0.0</td><td>0.0</td><td>0.0</td><td>0.0</td><td>0.0</td><td>0.0</td><td>20.0</td></tr><tr><th>12</th><td>12</td><td>0.0</td><td>0.0</td><td>0.0</td><td>0.0</td><td>0.0</td><td>0.0</td><td>8.0</td></tr><tr><th>13</th><td>13</td><td>0.0</td><td>0.0</td><td>0.0</td><td>0.0</td><td>0.0</td><td>0.0</td><td>7.0</td></tr><tr><th>14</th><td>14</td><td>0.0</td><td>0.0</td><td>0.0</td><td>0.0</td><td>0.0</td><td>0.0</td><td>15.0</td></tr><tr><th>15</th><td>15</td><td>0.0</td><td>0.0</td><td>0.0</td><td>0.0</td><td>0.0</td><td>0.0</td><td>14.0</td></tr><tr><th>16</th><td>16</td><td>0.0</td><td>0.0</td><td>0.0</td><td>0.0</td><td>0.0</td><td>0.0</td><td>9.0</td></tr><tr><th>17</th><td>17</td><td>0.0</td><td>0.0</td><td>0.0</td><td>0.0</td><td>0.0</td><td>0.0</td><td>6.0</td></tr><tr><th>18</th><td>18</td><td>0.0</td><td>0.0</td><td>0.0</td><td>0.0</td><td>1.0</td><td>0.0</td><td>0.0</td></tr><tr><th>19</th><td>19</td><td>0.0</td><td>0.0</td><td>0.0</td><td>0.0</td><td>0.0</td><td>0.0</td><td>5.0</td></tr><tr><th>20</th><td>20</td><td>0.0</td><td>0.0</td><td>0.0</td><td>0.0</td><td>0.0</td><td>0.0</td><td>11.0</td></tr></tbody></table></div>"
      ],
      "text/latex": [
       "\\begin{tabular}{r|cccccccc}\n",
       "\t& Player & Tuesday & Wednesday & Thursday & Friday & Saturday & Sunday & Monday\\\\\n",
       "\t\\hline\n",
       "\t& Int64 & Float64 & Float64 & Float64 & Float64 & Float64 & Float64 & Float64\\\\\n",
       "\t\\hline\n",
       "\t1 & 1 & 0.0 & 0.0 & 0.0 & 0.0 & 18.0 & 0.0 & 0.0 \\\\\n",
       "\t2 & 2 & 0.0 & 0.0 & 0.0 & 0.0 & 4.0 & 0.0 & 0.0 \\\\\n",
       "\t3 & 3 & 0.0 & 0.0 & 0.0 & 0.0 & 0.0 & 0.0 & 10.0 \\\\\n",
       "\t4 & 4 & 0.0 & 0.0 & 0.0 & 0.0 & 2.0 & 0.0 & 0.0 \\\\\n",
       "\t5 & 5 & 0.0 & 0.0 & 0.0 & 0.0 & 0.0 & 0.0 & 19.0 \\\\\n",
       "\t6 & 6 & 0.0 & 0.0 & 0.0 & 0.0 & 0.0 & 0.0 & 17.0 \\\\\n",
       "\t7 & 7 & 0.0 & 0.0 & 0.0 & 0.0 & 0.0 & 0.0 & 13.0 \\\\\n",
       "\t8 & 8 & 0.0 & 0.0 & 0.0 & 0.0 & 0.0 & 0.0 & 12.0 \\\\\n",
       "\t9 & 9 & 0.0 & 0.0 & 0.0 & 0.0 & 0.0 & 0.0 & 16.0 \\\\\n",
       "\t10 & 10 & 0.0 & 0.0 & 0.0 & 0.0 & 0.0 & 0.0 & 3.0 \\\\\n",
       "\t11 & 11 & 0.0 & 0.0 & 0.0 & 0.0 & 0.0 & 0.0 & 20.0 \\\\\n",
       "\t12 & 12 & 0.0 & 0.0 & 0.0 & 0.0 & 0.0 & 0.0 & 8.0 \\\\\n",
       "\t13 & 13 & 0.0 & 0.0 & 0.0 & 0.0 & 0.0 & 0.0 & 7.0 \\\\\n",
       "\t14 & 14 & 0.0 & 0.0 & 0.0 & 0.0 & 0.0 & 0.0 & 15.0 \\\\\n",
       "\t15 & 15 & 0.0 & 0.0 & 0.0 & 0.0 & 0.0 & 0.0 & 14.0 \\\\\n",
       "\t16 & 16 & 0.0 & 0.0 & 0.0 & 0.0 & 0.0 & 0.0 & 9.0 \\\\\n",
       "\t17 & 17 & 0.0 & 0.0 & 0.0 & 0.0 & 0.0 & 0.0 & 6.0 \\\\\n",
       "\t18 & 18 & 0.0 & 0.0 & 0.0 & 0.0 & 1.0 & 0.0 & 0.0 \\\\\n",
       "\t19 & 19 & 0.0 & 0.0 & 0.0 & 0.0 & 0.0 & 0.0 & 5.0 \\\\\n",
       "\t20 & 20 & 0.0 & 0.0 & 0.0 & 0.0 & 0.0 & 0.0 & 11.0 \\\\\n",
       "\\end{tabular}\n"
      ],
      "text/plain": [
       "\u001b[1m20×8 DataFrame\u001b[0m\n",
       "\u001b[1m Row \u001b[0m│\u001b[1m Player \u001b[0m\u001b[1m Tuesday \u001b[0m\u001b[1m Wednesday \u001b[0m\u001b[1m Thursday \u001b[0m\u001b[1m Friday  \u001b[0m\u001b[1m Saturday \u001b[0m\u001b[1m Sunday  \u001b[0m\u001b[1m Monda\u001b[0m ⋯\n",
       "\u001b[1m     \u001b[0m│\u001b[90m Int64  \u001b[0m\u001b[90m Float64 \u001b[0m\u001b[90m Float64   \u001b[0m\u001b[90m Float64  \u001b[0m\u001b[90m Float64 \u001b[0m\u001b[90m Float64  \u001b[0m\u001b[90m Float64 \u001b[0m\u001b[90m Float\u001b[0m ⋯\n",
       "─────┼──────────────────────────────────────────────────────────────────────────\n",
       "   1 │      1      0.0        0.0       0.0      0.0      18.0      0.0      0 ⋯\n",
       "   2 │      2      0.0        0.0       0.0      0.0       4.0      0.0      0\n",
       "   3 │      3      0.0        0.0       0.0      0.0       0.0      0.0     10\n",
       "   4 │      4      0.0        0.0       0.0      0.0       2.0      0.0      0\n",
       "   5 │      5      0.0        0.0       0.0      0.0       0.0      0.0     19 ⋯\n",
       "   6 │      6      0.0        0.0       0.0      0.0       0.0      0.0     17\n",
       "   7 │      7      0.0        0.0       0.0      0.0       0.0      0.0     13\n",
       "   8 │      8      0.0        0.0       0.0      0.0       0.0      0.0     12\n",
       "  ⋮  │   ⋮        ⋮         ⋮         ⋮         ⋮        ⋮         ⋮        ⋮  ⋱\n",
       "  14 │     14      0.0        0.0       0.0      0.0       0.0      0.0     15 ⋯\n",
       "  15 │     15      0.0        0.0       0.0      0.0       0.0      0.0     14\n",
       "  16 │     16      0.0        0.0       0.0      0.0       0.0      0.0      9\n",
       "  17 │     17      0.0        0.0       0.0      0.0       0.0      0.0      6\n",
       "  18 │     18      0.0        0.0       0.0      0.0       1.0      0.0      0 ⋯\n",
       "  19 │     19      0.0        0.0       0.0      0.0       0.0      0.0      5\n",
       "  20 │     20      0.0        0.0       0.0      0.0       0.0      0.0     11\n",
       "\u001b[36m                                                     1 column and 5 rows omitted\u001b[0m"
      ]
     },
     "metadata": {},
     "output_type": "display_data"
    }
   ],
   "source": [
    "for w in 1:W\n",
    "    display(calendar_week(X, w))\n",
    "end"
   ]
  },
  {
   "cell_type": "code",
   "execution_count": 38,
   "metadata": {},
   "outputs": [],
   "source": [
    "# for i = 1:20\n",
    "#     for j = 1:20\n",
    "#         for w = 1:W\n",
    "#             for d = 1:7\n",
    "#                 if X[i, j, w, d] == 1.0\n",
    "#                     println(\"Team \", i, \" plays team \", j, \" on day \", d, \" of week \", w)\n",
    "#                 end\n",
    "#             end\n",
    "#         end\n",
    "#     end\n",
    "# end"
   ]
  },
  {
   "cell_type": "code",
   "execution_count": 40,
   "metadata": {},
   "outputs": [],
   "source": [
    "# y"
   ]
  }
 ],
 "metadata": {
  "kernelspec": {
   "display_name": "Julia 1.8.0",
   "language": "julia",
   "name": "julia-1.8"
  },
  "language_info": {
   "file_extension": ".jl",
   "mimetype": "application/julia",
   "name": "julia",
   "version": "1.8.0"
  },
  "orig_nbformat": 4,
  "vscode": {
   "interpreter": {
    "hash": "06afd10951fdd4fed0e6da45c5305413c17e961fcd92f272d77ba5ed1e4178f9"
   }
  }
 },
 "nbformat": 4,
 "nbformat_minor": 2
}
