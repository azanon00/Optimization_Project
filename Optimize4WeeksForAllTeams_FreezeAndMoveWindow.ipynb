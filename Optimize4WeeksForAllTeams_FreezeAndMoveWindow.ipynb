{
 "cells": [
  {
   "cell_type": "code",
   "execution_count": 3,
   "metadata": {},
   "outputs": [],
   "source": [
    "using DataFrames\n",
    "using JuMP, Gurobi"
   ]
  },
  {
   "cell_type": "code",
   "execution_count": 4,
   "metadata": {},
   "outputs": [],
   "source": [
    "# number of teams\n",
    "N = 20\n",
    "# number of weeks\n",
    "W = N-1\n",
    "# number of days per weeks\n",
    "D = 7;"
   ]
  },
  {
   "cell_type": "code",
   "execution_count": 5,
   "metadata": {},
   "outputs": [
    {
     "data": {
      "text/plain": [
       "GetC (generic function with 1 method)"
      ]
     },
     "metadata": {},
     "output_type": "display_data"
    }
   ],
   "source": [
    "function GetC()\n",
    "    C = zeros((D*W, D*W))\n",
    "\n",
    "    for t in 1:(W*D)\n",
    "        for t_ in 1:(W*D)\n",
    "            if t < t_\n",
    "                C[t, t_] = (t_ - t)^(-1)\n",
    "            end\n",
    "        end\n",
    "    end\n",
    "\n",
    "    return C\n",
    "end"
   ]
  },
  {
   "cell_type": "code",
   "execution_count": 6,
   "metadata": {},
   "outputs": [
    {
     "ename": "ErrorException",
     "evalue": "syntax: incomplete: \"function\" at /Users/andreazanon/Optimization_Project/Optimize4WeeksForAllTeams_FreezeAndMoveWindow.ipynb:1 requires end",
     "output_type": "error",
     "traceback": [
      "syntax: incomplete: \"function\" at /Users/andreazanon/Optimization_Project/Optimize4WeeksForAllTeams_FreezeAndMoveWindow.ipynb:1 requires end\n",
      "\n",
      "Stacktrace:\n",
      " [1] top-level scope\n",
      "   @ ~/Optimization_Project/Optimize4WeeksForAllTeams_FreezeAndMoveWindow.ipynb:1"
     ]
    }
   ],
   "source": [
    "function Optimize4WeeksAndFreeze(X_old, Y_old)\n",
    "\n",
    "    # first time, X_old and Y_old initialized to empty\n",
    "    X_old = Array{Float64}(undef, 0, 0)\n",
    "    Y_old = Array{Float64}(undef, 0, 0)\n",
    "\n",
    "    # create model\n",
    "    model = Model(Gurobi.Optimizer)\n",
    "\n",
    "    # set time limit\n",
    "    set_model_attribute(model, \"TimeLimit\", 30)\n",
    "\n",
    "    # PARAMETERS\n",
    "    C = GetC()\n",
    "    N = 20 # teams\n",
    "    W = 4 # weeks\n",
    "    D = 7 # days\n",
    "\n",
    "    # VARIABLES\n",
    "    @variable(model, x[i = 1:N, j = 1:N, w = 1:W, d = 1:D], Bin) # 1 if team i plays team j on day d of week w, 0 otherwise\n",
    "    @variable(model, a[i = 1:N, j = 1:N, k = 1:N, w = 1:W, d = 1:D, d_ = 1:D] >= 0) # will be pushed to be binary\n",
    "    @variable(model, y[i = 1:N, j = 1:N], Bin) # 1 if team i played team j on w, 0 otherwise\n",
    "\n",
    "    # OBJECTIVE FUNCTION\n",
    "    @objective(model, Min, sum(C[7 * w + d, 7 * (w+1) + d_] * a[i, j, k, w, d, d_] for i in 1:N, \n",
    "        j in 1:N, k in 1:N, w in 1:W-1, d in 1:D, d_ in 1:D))\n",
    "\n",
    "    # CONSTRAINTS\n",
    "    # linearize objective function\n",
    "    @constraint(model, [i = 1:N, j = 1:N, k = 1:N, w = 1:W-1, d = 1:D, d_ = 1:D], a[i, j, k, w, d, d_] <= x[i, j, w, d])\n",
    "    @constraint(model, [i = 1:N, j = 1:N, k = 1:N, w = 1:W-1, d = 1:D, d_ = 1:D], a[i, j, k, w, d, d_] <= x[i, k, w+1, d])\n",
    "    @constraint(model, [i = 1:N, j = 1:N, k = 1:N, w = 1:W-1, d = 1:D, d_ = 1:D], a[i, j, k, w, d, d_] >= x[i, j, w, d] + x[i, k, w+1, d] - 1)\n",
    "    # teams can never play against themselves\n",
    "    @constraint(model, [i = 1:N, w = 1:W, d = 1:D], x[i, i, w, d] == 0)\n",
    "    # if A plays against B, then B plays against A\n",
    "    @constraint(model, [i = 1:N, j = 1:N, w = 1:W, d = 1:D], x[i, j, w, d] == x[j, i, w, d])\n",
    "    # each team can only play one game per week\n",
    "    @constraint(model, [i = 1:N, w = 1:W], sum(x[i, j, w, d] for j in 1:N, d in 1:D) <= 1)\n",
    "    # each team plays Wend - Win + 1 games in total\n",
    "    @constraint(model, [i = 1:N], sum(x[i, j, w, d] for j in 1:N, w in 1:W, d in 1:D) == W)\n",
    "    # each game is against a different team, team play against each other team at most once\n",
    "    @constraint(model, [i = 1:N, j = 1:N], sum(x[i, j, w, d] for w in 1:W, d in 1:D) <= 1)\n",
    "    # if team i plays team j, update Y\n",
    "    @constraint(model, [i = 1:N, j = 1:N, w = 1:W], y[i, j] >= sum(x[i, j, w, d] for d in 1:D, w = 1:W))\n",
    "    # if team i played team j in the past, then they can't play again now\n",
    "    @constraint(model, [i = 1:N, j = 1:N], sum(x[i,j,w,d] for w in 1:W, d in 1:D) <= 1 - Y_old[i, j])\n",
    "    \n",
    "\n",
    "\n",
    "    # OPTIMIZE\n",
    "\n",
    "\n",
    "    # update old X, Y before returning them\n",
    "\n",
    "\n",
    "end\n"
   ]
  }
 ],
 "metadata": {
  "kernelspec": {
   "display_name": "Julia 1.8.0",
   "language": "julia",
   "name": "julia-1.8"
  },
  "language_info": {
   "file_extension": ".jl",
   "mimetype": "application/julia",
   "name": "julia",
   "version": "1.8.0"
  },
  "orig_nbformat": 4,
  "vscode": {
   "interpreter": {
    "hash": "06afd10951fdd4fed0e6da45c5305413c17e961fcd92f272d77ba5ed1e4178f9"
   }
  }
 },
 "nbformat": 4,
 "nbformat_minor": 2
}
