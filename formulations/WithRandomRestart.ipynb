{
 "cells": [
  {
   "cell_type": "code",
   "execution_count": 1,
   "metadata": {},
   "outputs": [],
   "source": [
    "using DataFrames\n",
    "using JuMP, Gurobi"
   ]
  },
  {
   "cell_type": "code",
   "execution_count": 2,
   "metadata": {},
   "outputs": [],
   "source": [
    "# number of teams\n",
    "N = 20\n",
    "# number of weeks\n",
    "W = N-1\n",
    "# number of days per weeks\n",
    "D = 7;"
   ]
  },
  {
   "cell_type": "markdown",
   "metadata": {},
   "source": [
    "# Define functions"
   ]
  },
  {
   "cell_type": "code",
   "execution_count": 3,
   "metadata": {},
   "outputs": [
    {
     "data": {
      "text/plain": [
       "GetC (generic function with 1 method)"
      ]
     },
     "execution_count": 3,
     "metadata": {},
     "output_type": "execute_result"
    }
   ],
   "source": [
    "function GetC()\n",
    "\n",
    "    W_ = 19\n",
    "\n",
    "    C = zeros((D*(W_+1), D*(W_+1)))\n",
    "\n",
    "    for t in 1:(W_*D)\n",
    "        for t_ in 1:(W_*D)\n",
    "            if t < t_\n",
    "                C[t, t_] = (t_ - t)^(-1)\n",
    "            end\n",
    "        end\n",
    "    end\n",
    "\n",
    "    return C\n",
    "end"
   ]
  },
  {
   "cell_type": "code",
   "execution_count": 4,
   "metadata": {},
   "outputs": [
    {
     "data": {
      "text/plain": [
       "calendar_week (generic function with 1 method)"
      ]
     },
     "execution_count": 4,
     "metadata": {},
     "output_type": "execute_result"
    }
   ],
   "source": [
    "function calendar_week(x,week)\n",
    "    df = DataFrame(Player=1:N, Tuesday=0.0, Wednesday=0.0, Thursday=0.0, Friday=0.0, Saturday=0.0, Sunday=0.0, Monday=0.0)\n",
    "    for i=1:N\n",
    "        for j=1:N\n",
    "            for d=1:D\n",
    "                if x[i,j,week,d] == 1.0\n",
    "                        df[i, 1+d] = j\n",
    "                end\n",
    "            end\n",
    "        end\n",
    "    end\n",
    "    return df\n",
    "end"
   ]
  },
  {
   "cell_type": "code",
   "execution_count": 72,
   "metadata": {},
   "outputs": [
    {
     "data": {
      "text/plain": [
       "ComputeObjectiveValue (generic function with 1 method)"
      ]
     },
     "execution_count": 72,
     "metadata": {},
     "output_type": "execute_result"
    }
   ],
   "source": [
    "# compute the value of the objective function based on the calendar\n",
    "function ComputeObjectiveValue(calendar, W)\n",
    "\n",
    "    # define empty matrix to concatenate all the other weeks\n",
    "    m = Array{Float64}(undef, 20, 0)\n",
    "    \n",
    "    # build complete calendar\n",
    "    for w in 1:W\n",
    "        week = Matrix(calendar[w])\n",
    "        m = [m week]\n",
    "    end\n",
    "\n",
    "    return ComputeObjectiveValueMatrix(m, W)\n",
    "end"
   ]
  },
  {
   "cell_type": "code",
   "execution_count": 73,
   "metadata": {},
   "outputs": [
    {
     "data": {
      "text/plain": [
       "ComputeObjectiveValueMatrix (generic function with 1 method)"
      ]
     },
     "execution_count": 73,
     "metadata": {},
     "output_type": "execute_result"
    }
   ],
   "source": [
    "# compute the value of the objective function based on the calendar\n",
    "function ComputeObjectiveValueMatrix(m, W)\n",
    "\n",
    "    # define total cost for each team\n",
    "    team_total_cost = []\n",
    "\n",
    "    # for each team \n",
    "    for i = 1:N\n",
    "        # find index of nonzer elements, they correspond to the days in which the team plays\n",
    "        team_plays = findall(x -> x != 0, m[i, :])\n",
    "\n",
    "        # we will find W non-zero elements, since each team plays against all the other teams\n",
    "        # for i = 1:W, return GetC()[team_plays[i], team_plays[i+1]] and sum\n",
    "        append!(team_total_cost, sum([GetC()[team_plays[i], team_plays[i+1]] for i = 1:W-1]))\n",
    "    end\n",
    "\n",
    "    # total cost of the calendar\n",
    "    return sum(team_total_cost)\n",
    "end"
   ]
  },
  {
   "cell_type": "code",
   "execution_count": 74,
   "metadata": {},
   "outputs": [
    {
     "data": {
      "text/plain": [
       "GetCalendarMatrix (generic function with 1 method)"
      ]
     },
     "execution_count": 74,
     "metadata": {},
     "output_type": "execute_result"
    }
   ],
   "source": [
    "function GetCalendarMatrix(calendar, W)\n",
    "\n",
    "    # define empty matrix to concatenate all the other weeks\n",
    "    m = Array{Float64}(undef, 20, 0)\n",
    "    \n",
    "    # build complete calendar\n",
    "    for w in 1:W\n",
    "        week = Matrix(calendar[w])[:, 2:end] # first column is the index\n",
    "        m = [m week]\n",
    "    end\n",
    "\n",
    "    return m\n",
    "end"
   ]
  },
  {
   "cell_type": "markdown",
   "metadata": {},
   "source": [
    "# Model itself"
   ]
  },
  {
   "cell_type": "code",
   "execution_count": 75,
   "metadata": {},
   "outputs": [
    {
     "data": {
      "text/plain": [
       "Optimize4WeeksAndFreeze (generic function with 1 method)"
      ]
     },
     "execution_count": 75,
     "metadata": {},
     "output_type": "execute_result"
    }
   ],
   "source": [
    "function Optimize4WeeksAndFreeze(Y_old, Win, Wend)\n",
    "\n",
    "    # create model\n",
    "    model = Model(Gurobi.Optimizer)\n",
    "\n",
    "    # set time limit\n",
    "    set_optimizer_attribute(model, \"TimeLimit\", 600)\n",
    "\n",
    "    # dont print output\n",
    "    set_silent(model)\n",
    "\n",
    "    # PARAMETERS\n",
    "    C = GetC()\n",
    "    N = 20 # teams\n",
    "    D = 7 # days\n",
    "\n",
    "    # VARIABLES\n",
    "    @variable(model, x[i = 1:N, j = 1:N, w = Win:Wend, d = 1:D], Bin) # 1 if team i plays team j on day d of week w, 0 otherwise\n",
    "    @variable(model, a[i = 1:N, j = 1:N, k = 1:N, w = Win:Wend, d = 1:D, d_ = 1:D] >= 0) # will be pushed to be binary\n",
    "    @variable(model, y[i = 1:N, j = 1:N], Bin) # 1 if team i played team j on w, 0 otherwise\n",
    "\n",
    "    # OBJECTIVE FUNCTION\n",
    "    # put penalty on having y[i,j] = 1, otherwise formulation put all of them to 1\n",
    "    @objective(model, Min, sum(C[7 * w + d, 7 * (w+1) + d_] * a[i, j, k, w, d, d_] for i in 1:N, \n",
    "        j in 1:N, k in 1:N, w in Win:Wend-1, d in 1:D, d_ in 1:D) + sum(y[i, j] for i = 1:N, j = 1:N))\n",
    "\n",
    "    # CONSTRAINTS\n",
    "    # linearize objective function\n",
    "    @constraint(model, [i = 1:N, j = 1:N, k = 1:N, w = Win:Wend-1, d = 1:D, d_ = 1:D], a[i, j, k, w, d, d_] <= x[i, j, w, d])\n",
    "    @constraint(model, [i = 1:N, j = 1:N, k = 1:N, w = Win:Wend-1, d = 1:D, d_ = 1:D], a[i, j, k, w, d, d_] <= x[i, k, w+1, d])\n",
    "    @constraint(model, [i = 1:N, j = 1:N, k = 1:N, w = Win:Wend-1, d = 1:D, d_ = 1:D], a[i, j, k, w, d, d_] >= x[i, j, w, d] + x[i, k, w+1, d] - 1)\n",
    "\n",
    "    # teams can never play against themselves\n",
    "    @constraint(model, [i = 1:N, w = Win:Wend, d = 1:D], x[i, i, w, d] == 0)\n",
    "\n",
    "    # if A plays against B, then B plays against A\n",
    "    @constraint(model, [i = 1:N, j = 1:N, w = Win:Wend, d = 1:D], x[i, j, w, d] == x[j, i, w, d])\n",
    "\n",
    "    # each team can only play at most one game per week\n",
    "    @constraint(model, [i = 1:N, w = Win:Wend], sum(x[i, j, w, d] for j in 1:N, d in 1:D) <= 1)\n",
    "\n",
    "    # each team plays Wend - Win + 1 games in total\n",
    "    @constraint(model, [i = 1:N], sum(x[i, j, w, d] for j in 1:N, w in Win:Wend, d in 1:D) == Wend - Win + 1)\n",
    "\n",
    "    # each game is against a different team, team play against each other team at most once\n",
    "    @constraint(model, [i = 1:N, j = 1:N], sum(x[i, j, w, d] for w in Win:Wend, d in 1:D) <= 1)\n",
    "\n",
    "    # if team i plays team j, update Y\n",
    "    @constraint(model, [i = 1:N, j = 1:N], y[i, j] >= sum(x[i, j, w, d] for d in 1:D, w = Win:Wend))\n",
    "\n",
    "    # if team i played team j, team j played team i\n",
    "    @constraint(model, [i = 1:N, j = 1:N], y[i, j] == y[j, i])\n",
    "    \n",
    "    # if team i played team j in the past, then they can't play again now\n",
    "    @constraint(model, [i = 1:N, j = 1:N], sum(x[i,j,w,d] for w in Win:Wend, d in 1:D) <= 1 - Y_old[i, j])\n",
    "\n",
    "    # cannot plays on days 1,2,3\n",
    "    @constraint(model, [i = 1:N, j = 1:N, w = Win:Wend, d = 1:3], x[i, j, w, d] == 0)\n",
    "\n",
    "    # OPTIMIZE\n",
    "    optimize!(model)\n",
    "\n",
    "    # update old X, Y before returning them\n",
    "    Y_old = Y_old .+ value.(y)\n",
    "\n",
    "    return value.(x), Y_old\n",
    "\n",
    "end\n"
   ]
  },
  {
   "cell_type": "markdown",
   "metadata": {},
   "source": [
    "# Call model"
   ]
  },
  {
   "cell_type": "code",
   "execution_count": 50,
   "metadata": {},
   "outputs": [],
   "source": [
    "Win_list = [1, 5, 9, 13, 17]\n",
    "Wend_list = [4, 8, 12, 16, 19]\n",
    "\n",
    "# first time, Y_old initialized to empty\n",
    "Y_old = zeros(20, 20)   # teams never played against each other before\n",
    "\n",
    "# define calendar list, each time append the calendar week to \n",
    "calendar = []\n",
    ";"
   ]
  },
  {
   "cell_type": "code",
   "execution_count": null,
   "metadata": {},
   "outputs": [],
   "source": [
    "for (Win, Wend) in zip(Win_list, Wend_list)\n",
    "\n",
    "    println(\"Initial week: \", Win, \", end week: \", Wend)\n",
    "    println(\"#############################################\")\n",
    "\n",
    "    # get value of X and Y\n",
    "    X, Y_old = Optimize4WeeksAndFreeze(Y_old, Win, Wend)\n",
    "\n",
    "    for w in Win:Wend\n",
    "        push!(calendar, calendar_week(X, w))\n",
    "    end\n",
    "\n",
    "end"
   ]
  },
  {
   "cell_type": "code",
   "execution_count": 76,
   "metadata": {},
   "outputs": [
    {
     "name": "stdout",
     "output_type": "stream",
     "text": [
      "0.0\n",
      "0.0\n"
     ]
    }
   ],
   "source": [
    "# in this matrix all elements except the diagonal should be 1, in the diagonal they should all be 0\n",
    "println(sum([Y_old[i,i] for i in 1:20]))\n",
    "\n",
    "# all other elements should be 1 (400 elements in total, diagonal = 20 element is 0, sum should be 380)\n",
    "println(sum(Y_old))"
   ]
  },
  {
   "cell_type": "code",
   "execution_count": 78,
   "metadata": {},
   "outputs": [
    {
     "data": {
      "text/plain": [
       "13.619047619047615"
      ]
     },
     "execution_count": 78,
     "metadata": {},
     "output_type": "execute_result"
    }
   ],
   "source": [
    "obj_calendar = ComputeObjectiveValue(calendar, W)"
   ]
  },
  {
   "cell_type": "code",
   "execution_count": null,
   "metadata": {},
   "outputs": [],
   "source": [
    "for w in 1:19\n",
    "    display(calendar[w])\n",
    "end"
   ]
  },
  {
   "cell_type": "markdown",
   "metadata": {},
   "source": [
    "# Random restart"
   ]
  },
  {
   "cell_type": "markdown",
   "metadata": {},
   "source": [
    "Idea is simple, take the current solution, pick randomly either 2, 3 or 4 consecutive weeks and re-optimize just them. If the objective function improves, keep it, otherwise discard it. Repeat for a certain number of iterations."
   ]
  },
  {
   "cell_type": "code",
   "execution_count": null,
   "metadata": {},
   "outputs": [],
   "source": [
    "function random_restart(calendar_matrix, obj_calendar, Y_old)\n",
    "    \n",
    "    # randomly pick a number of weeks to reoptimize (in addition to initial week)\n",
    "    n = rand(1:4)\n",
    "\n",
    "    # randomly choose initial week\n",
    "    Win_ = rand(1:19-n)\n",
    "    Wend_ = Win_ + n\n",
    "\n",
    "    # get portion of the calendar matrix corresponding the the weeks to reoptimize\n",
    "    calendar_reoptimize = calendar_matrix[:, 7 * (Win_-1) + 1 : 7 * Wend_]\n",
    "\n",
    "    # for each team, get the list of opponents in these weeks\n",
    "    for i in 1:20\n",
    "        plays_against = [Int(element) for element in calendar_reoptimize[i, :] if element != 0]\n",
    "        # modify Y_old accordingly, putting it to 0 so that the teams can be made play again\n",
    "        for element in plays_against\n",
    "            Y_old[i, element] = 0\n",
    "        end\n",
    "    end\n",
    "\n",
    "    # call the model\n",
    "    X_, Y_old = Optimize4WeeksAndFreeze(Y_old, Win_, Wend_)\n",
    "\n",
    "    # get new calendar\n",
    "    calendar_reoptimize = []\n",
    "\n",
    "    for w in Win_:Wend_\n",
    "        push!(calendar_reoptimize, calendar_week(X_, w))\n",
    "    end\n",
    "\n",
    "    calendar_reoptimize = GetCalendarMatrix(calendar_reoptimize, Wend_ - Win_ + 1)\n",
    "\n",
    "    # update calendar\n",
    "    calendar_new = calendar_matrix\n",
    "    calendar_new[:, 7 * (Win_-1) + 1 : 7 * Wend_] = calendar_reoptimize\n",
    "\n",
    "    # find objective value corresponding to new calendar\n",
    "    obj_calendar_new = ComputeObjectiveValueMatrix(calendar_new, W)\n",
    "\n",
    "    println(\"Objective value of new calendar: \", obj_calendar_new)\n",
    "\n",
    "    # if new calendar is better, update the calendar\n",
    "    if obj_calendar_new < obj_calendar\n",
    "        calendar_matrix = calendar_new\n",
    "        obj_calendar = obj_calendar_new\n",
    "    end\n",
    "\n",
    "    return calendar_matrix, obj_calendar, Y_old\n",
    "end"
   ]
  },
  {
   "cell_type": "code",
   "execution_count": 65,
   "metadata": {},
   "outputs": [
    {
     "name": "stdout",
     "output_type": "stream",
     "text": [
      "Set parameter Username\n",
      "Academic license - for non-commercial use only - expires 2023-08-17\n",
      "Set parameter TimeLimit to value 600\n",
      "1234567899.51011121314### size: (20, 20, 3, 7)### len: 8\n",
      "### len: 21\n",
      "67"
     ]
    },
    {
     "ename": "LoadError",
     "evalue": "MethodError: no method matching ComputeObjectiveValueMatrix(::Matrix{Float64})\n\u001b[0mClosest candidates are:\n\u001b[0m  ComputeObjectiveValueMatrix(::Any, \u001b[91m::Any\u001b[39m) at In[64]:2",
     "output_type": "error",
     "traceback": [
      "MethodError: no method matching ComputeObjectiveValueMatrix(::Matrix{Float64})\n\u001b[0mClosest candidates are:\n\u001b[0m  ComputeObjectiveValueMatrix(::Any, \u001b[91m::Any\u001b[39m) at In[64]:2",
      "",
      "Stacktrace:",
      " [1] top-level scope",
      "   @ In[65]:51",
      " [2] eval",
      "   @ ./boot.jl:368 [inlined]",
      " [3] include_string(mapexpr::typeof(REPL.softscope), mod::Module, code::String, filename::String)",
      "   @ Base ./loading.jl:1428"
     ]
    }
   ],
   "source": [
    "calendar_matrix = GetCalendarMatrix(calendar, W)\n",
    "\n",
    "# how many times to repeat this random restart process\n",
    "repeat = 2 \n",
    "for count in 1:repeat\n",
    "\n",
    "    calendar_matrix, obj_calendar, Y_old = random_restart(calendar_matrix, obj_calendar, Y_old)\n",
    "    \n",
    "end"
   ]
  }
 ],
 "metadata": {
  "kernelspec": {
   "display_name": "Julia 1.8.0",
   "language": "julia",
   "name": "julia-1.8"
  },
  "language_info": {
   "file_extension": ".jl",
   "mimetype": "application/julia",
   "name": "julia",
   "version": "1.8.0"
  },
  "orig_nbformat": 4,
  "vscode": {
   "interpreter": {
    "hash": "06afd10951fdd4fed0e6da45c5305413c17e961fcd92f272d77ba5ed1e4178f9"
   }
  }
 },
 "nbformat": 4,
 "nbformat_minor": 2
}
